{
  "nbformat": 4,
  "nbformat_minor": 0,
  "metadata": {
    "colab": {
      "name": "Programm1_12.ipynb",
      "provenance": [],
      "collapsed_sections": []
    },
    "kernelspec": {
      "name": "python3",
      "display_name": "Python 3"
    }
  },
  "cells": [
    {
      "cell_type": "code",
      "metadata": {
        "colab": {
          "base_uri": "https://localhost:8080/"
        },
        "id": "bfABxh8pxKby",
        "outputId": "2b132b66-14cc-4ac3-e427-3da93e8c0e23"
      },
      "source": [
        "import pandas as pd\r\n",
        "\r\n",
        "from google.colab import drive\r\n",
        "drive.mount('/content/gdrive')"
      ],
      "execution_count": 59,
      "outputs": [
        {
          "output_type": "stream",
          "text": [
            "Drive already mounted at /content/gdrive; to attempt to forcibly remount, call drive.mount(\"/content/gdrive\", force_remount=True).\n"
          ],
          "name": "stdout"
        }
      ]
    },
    {
      "cell_type": "markdown",
      "metadata": {
        "id": "45Hk4GPWrYap"
      },
      "source": [
        "Q1.Create a file “Person.txt” with the following data: \r\n",
        "![image.png](data:image/png;base64,iVBORw0KGgoAAAANSUhEUgAAAiwAAADXCAYAAAA5vQoaAAAgAElEQVR4Ae2dTawt2VXfz/gJiVGQMgFsYWSw+RAzPGKAhBIpfUa+YsAIBokQEwZBDKIwITkgXcEAEBMjFDK46E0QEohBLEhiOZc7IJawZCYmTrfB7xlD3G13u5vudu9of6xd/71rV506Vbvq1Dr7/6Tbpz72x9r/31qrVlWde/tg+I8KUAEqQAWoABWgAjtX4LBz+2geFaACVIAKUAEqQAUMCxY6ARWgAlSAClABKrB7BViw7B4RDaQCVIAKUAEqQAVYsNAHqAAVoAJUgApQgd0rwIJl94hoIBWgAlSAClABKuAKlsPhYPhDDegD9AH6AH2APkAf2JsPSKkWCxY5wM/9KmCdiP/2rwA57Z+RtZCcyEmHAm1biXHKgkWRLyA4RWY3Zyo56UBOTuSkQ4G2rcQ4ZcGiyBcQnCKzmzOVnHQgJydy0qFA21ZinLJgUeQLCE6R2c2ZSk46kJMTOelQoG0rMU5ZsCjyBQSnyOzmTCUnHcjJiZx0KNC2lRinLFgU+QKCU2R2c6aSkw7k5EROOhRo20qMUxYsinwBwSkyuzlTyUkHcnIiJx0KtG0lxikLFkW+gOAUmd2cqeSkAzk5kZMOBdq2EuOUBYsiX0BwisxuzlRy0oGcnMhJhwJtW4lxyoJFkS8gOEVmN2cqOelATk7kpEOBtq3EOGXBosgXEJwis5szlZx0ICcnctKhQNtWYpxuVLC8NA/HZ+ZweGaODy/bVn/B6hHcgmHYdWUF6nEKcXN6Wmbxi+fmeLgzDy+mD/N4emYOx+dmtIsdd6lt002q3rIepzOmzdLpyZzO6X9m2ls5vRmnWxFs0Tp8zll8nX68N4fDvXlcZIvvjPy3KViC8SebBBUnuAraLxoCwS0aiJ1XVaAepydzOjwzpxpRf9GKpySta9l20UJGG9fjNDbNHJ2m6D82522d24bTbWl27dVMuuGZaCTy36Bg8QFrK7aai5i41ptqhuBuamE3tphqnGY8Gakj5YSL7NVsq7NCO0o1TmMmzdJpgv5jc97YuU043Zhm111OpSfDYRHIf/WC5cXDXXw0hNupoD5A7SujQ3h07domj0SDCK6NbVfncVNqx773ENwiS90TL/+Kzmnee+qVau3u8AuP+FwBGnmUXjmc4yqJuZtPHkWeHdvZk83pLg7yRKI/tvjWIu0mdK7FqYuXTp+S349rFfoiY+TvYsy3Ee0NaNuN3Wnt7er8Z/snQBMgTGhSi1OnUZe/7PSDOgU/9fkue/WGbPAVOjCJS0v83U5oX/11XG7laXYtTl6fzo9Fxy7OwpEhBtLBGH/zDVqnMdDFU/SNEH9x3/XNbAGeXbtwnUO2yXWxwD0/79Zzbx7jGHbefn608d/TwmDusb5VuO6iXm5uP3bMJ6DbnE3kv3LBkhkuwiVWZ22cqHfmaL/zEpOsb4Pv1B3QHEwy7u3tILjZq3MMMFAy/cVBE+0Dj6i3OHHnvH1Hz8YtcY3H0J4wdpxLEj+2CcegjdMD/SsJTq+WTwKdzbM1PNOxCidJisc7+P5J0Caymc4hJtSMv+Pm5pBCr9PbxqD0y+PN7Uc7zgiy09M1OOW65HHQ0yn4pehqevFW9m3PKftOUcHfu3Gz+Nspgylm1eDk5/GadBrZo6lOnl/n91IEYp+cORb43Tw+Z471y33Fj3Nv7FcnfD+JbyxqszVM9idrD/hPMfeGQizGtZ9r9Lqb5RO7huPpHnLWFMLjbZD/qgVLD0gQCb/81wtouDMR2K5NXtn1QI0v+hbOIrh56/EBkFe+yGA4MXZfmPZc0wIiD3wcU2z1/SQY7RXZfjEL9iP7vKjI7Q6BHAPLz+DmlKAsjC02il+JXbU/l3OyFkmySrXANU7hkN5VZsnOLbw/j5sj+5Kun0tsyXnUVnCb8ZZzKumAGvfPD8aF+K0UqolvB0bJsXBxkX5YvAT5HDM5v42kq8yynJOY1eeR+HW4phTzo+hYuIb18kpxnP7ceT8fd5gPA3eZ2y3D+5fYONmf8utnMT+mNnp7JOaDhsl1N7XFtwg25/MJghmfyH/FgqW0GAzm7lFW7wLixJQLYmkcu+psrBlCaOuC4OrZHhzMJcMBrRMnxfZoBTh70h7aJFzlTh4DAsaAbnYzDcwS+7RvOVmX+mUTVditw6nEArXHbTQ61UHu2uz3dpPkDF2ctjEplsdN22yjI5i4ymYNTj6pd8V8aug0nVJtM35uwNI4WbsQc8VH9qlR6vZqcJJFO61j4ZfqOhQf5VwiIxauY1mek5bjvlKKO2+fFCdunKHcKpNIrjwTz+W1oh6Fud0c0MatE/O3NyL1ZzBs5ibyX61gGRMkAhgAi0lW7sLj+154b5jfnc/UQ003BDfP6BAUmYZWR8dkKBjc8VBAxsQI78phPDfOFK4SWDF5FAI/LjIL5tL4ie1ZMo/jQLDFY/U3lnMSLaRoDzbiGqdwEI1D8hpKJGNJ3M+cJS83d2ZbfRlXH7EKJ9E4xEDMbdb6gk5y0erlsxgHBR896+9BqsQn+heS1QVdaYJanBwS+53KEA9pITKcGx0rKQASjTEHdvGQjpuKgvwTXyndgBe4++tqNxeOl/jUmD+Jz8Y2wUacz23j+tJt+5DBzS26wDLd8XxsOH/pJvJfp2AZhBoWLYtxovQDKxFioM2li76F9ghuznoSXWWAwMo95XLbXTDEJvDF6VISlnbxc4BZOn8hMQ/ML0/TJMDTccKsyZzZBVYMc23665PTtT6XcnJ2JOsJlqH9g1rhKtJCz+kmsRebZVqVxnXH4FF1ybY4np6NKpxguU5fKf7t8UynSTdxBf3P+zsYYTcDr1t52lKVk2XiLrJ5/hm6yUFts1gJp1KuU8YJF/uer6S5KR3XT4a+UDqf58rcB/0o+dr90WS8zHfDUpOPSfkk6TFvB/mvUrD4wO0XItZcFLx88fNixi/cFgI4vt/vJd95gmjpheAut7kcSImTlqp8+S5FrKTLzl6Ha3ns1MbSOvwxuXOShC0FjmhVDjA5W+9zGSdvR6JnMC3VoaxV2i9t4/pHjmFQl5i6YiSdA9t0yTSdI7RR+LGMk9e26GNB41wnt5/nLKd/p21f//P+3u/TFS291+3NccoW7K4n9+YBnrRIi7N8Jl2L0pjzY5/3lVJs5v4j1z3xubP2WjcorLN83c1eu09Ya98+KdK7fCLaLvnEOK1fsLiFDr3Tzd+jhwtNDOKwj5WnXDBjG6lOywXREmH23hfBzbG152DhYoV3Ynkbt28fd+f6w4XPJ8wu6UpgdX0KXAcq+Hx+eSXYJd48+IfHPp06Hykm9TkiTuizlFNfPz9prk2+3+OQJ50Qm1HLsI+/7p2PaWfOtXNtwB8mSLLLJss4id91Ppbf3eY65TpKYY36uzYQW/mY0TcwR4Y4lgtZidkuAUw0ahmnfBKfP+zrkxgH0iQrHoVPp2uee+RaBPkxjzk39jlfCeeTmOrPJfaI3VP8KfdBZ04x93oburX2bXJj4Zdpg9+JPWIf+rNIu+QT+VcuWEpgMlNzpwh39f792515eCz9GXEZN7xSSgI6G/+GdxHcvGV2wRrfy/acN9X69Oj7RKcME3vnlfeamLTFMpyrz7WfmKUfJAH3vQAshGRy/9tFQz7TjY02lGzs5qy5VYtTqrnn0iUUb/Eohx7b7g5I+D8md2Ajc0Ay9YnSst9O05p8ZKzlnNJYsZoin75OeXv52xjg4+EikCT9eMxq3o8lt56kjX42wsh+LueEowUGQ9eQTMc0BrP4CbyTosD1L8VFzh59xecp9B25+Cfz98bOx8z9yZ9PxpUbkN76S3k+G7/XR25mwnXAnu/ZiNrP20b+lQuWeQZhLx/kJeDYqs1tBLeZAs4BIaHOnHg7riHI4AI70+TZ3a7CaZa119dqltmVOunhVGnBSoepyil/yqhUk5bMRv5XLViSytQRKFSaLZE5s1YEd6Zp//QHH5h//tznzNuf+Yz54P33jSnsv3b/r8zhE//RvHjvPdf/3S/8T/NfPvHMHP7T/wr7XzBv/emfGhPOv/e3f1vcf/xV/4j0vS9/2bz5R39kzLufdf9PnFd++3+H/XfdeO9/9avmm3/4h+aDd94p7n/79dfNN//gD+L50v43PvUp88Hbb7v+337jDfONT/0H85/D416//ynz7bfeiuff+J3fifvu4Ar/WcRpBXv8kIU7qErF6GomrzzwPjmtvGiFw1fhFPLdf/+3Np89JvlP8tm7X/iC+danPx3zW75fync+v/l81uW7SvnN5bM8vw3nM5vvXH57801H+YNvftO8/hu/Yb4N+1//tV8zH8j+m28a3LftbHvbz/7r7b/1lh//jTf8+Wzf5mGbj60d9p/kZbez4D/I/6oFi7yf9Y/2/WOl/PHVgnXeXFcEd+ni3vnsZ81rP/iD5rUf+AHz1h//sSnuf/yj5re/Izzek19V/hcfMm8+PLhi57WPf9y89v3fb77xe7/n9r/8Qz9U3H/jt/69+VXpHz7/zenT5ss//MPm1Y98xLzxW7/l+//Ij5jXPvIR8/Vf//Xy/o/+qHnt+77P/L9f+RV/vrD/6oc/bP7pl37Jnf+7T3zCvPrd/9L868PHzH/9b58zbv/DHzb/+Au/4M5/5Sd/0rz6oQ+5/Uv1u6T9Ek6XzHNxW1egIN/lT84utmFHHXbLaUca7cGUGpz+x78Lfv8d323+T5b/kvz20Y+m+e6jHx3Nd0k+q5zfJH8l+W0gn9mbUclv//CzP+vy3YtXXjGvfu/3mmT/e77HfPWnf9qdt5+vwr5tZ9vbfna8fN/mUZs/7Tz2fL5v7bT52Nptz9v9Gv+Q/5ULlhrLaWcMBHfpqv/vd32X+ebDg3nrz/7MFQGl/W/8/u+bb/3FX5jXPvYx86Xv/E5T2n/78dH83Y/9mDv/xu/+rint//2P/7g7//pv/qZ553OfM0P7Xz+dzD//zd+Yv/+Jn3Dt831bqLz7pS+Zr/zUT7nzpf33XrwwL195xZ3/p1/+ZVPc/+Qn3fl//MVfNO9//evm5Sc/eal8F7Vfwumiidh4kQLktEi+zTrX4FTKdzEfjuQ7mw/H8t2a+e2SfGbzteS3r/7Mz7h897Wf/3nz7bffNrhvof3Dz/2cO28/cd+2s+1tPztevm/zps2fdh57vrf/yisu/1q73flXXqniI8ifBUsVSbcZBMFdOuObf/Inscu3/vzPzej+Zz7jX92EHt/K9t/+y79Mzuf77/zVXyXnz+7/9V+n7bN9W9S4R6/Bnnz/3S9+0Z3/4F3/KLa3/+qr7ry8Gnr31VejFmtsLOG0hj0cs6wAOZV12dvRGpyumu+yfPZOtp/nM9m/JJ/Z/Cj57b2vfMXlu/dff92hzPff/9rX/Pmvfc2dl33bzv6z/ex4+b7kTTuPPd/b/+IXXX9rtzsf9t3BBf9B/ixYFgi5dVcEt/XcnG+6AuQ0XatrtiSna6o/fW5ymq7VLbZE/ixYFBFGcIrMbs5UctKBnJzISYcCbVuJccqCRZEvIDhFZjdnKjnpQE5O5KRDgbatxDhlwaLIFxCcIrObM5WcdCAnJ3LSoUDbVmKcsmBR5AsITpHZzZlKTjqQkxM56VCgbSsxTmPBYg/yhxrQB+gD9AH6AH2APrAnH5CSLRYscoCf+1XAOhD/7V8Bcto/I2shOZGTDgXathLjlAWLIl9AcIrMbs5UctKBnJzISYcCbVuJccqCRZEvIDhFZjdnKjnpQE5O5KRDgbatxDhlwaLIFxCcIrObM5WcdCAnJ3LSoUDbVmKcsmBR5AsITpHZzZlKTjqQkxM56VCgbSsxTlmwKPIFBKfI7OZMJScdyMmJnHQo0LaVGKcsWBT5AoJTZHZzppKTDuTkRE46FGjbSoxTFiyKfAHBKTK7OVPJSQdyciInHQq0bSXGKQsWRb6A4BSZ3Zyp5KQDOTmRkw4F2rYS45QFiyJfQHCKzG7OVHLSgZycyEmHAm1biXHKgkWRLyA4RWY3Zyo56UBOTuSkQ4G2rcQ4XblgeTKnwzNzkJ/jc/NiTPvHe3M4PY21aPocgtteiJfm4fjMHB9eTp/a8jzcm8fY48mczvlAbKt3ozqnF8/NUWLo8MycOkGHRUr63JmH0cAbHuaWz1TnVBRrRtwUx0kPPp6eNZMrt+Fk9bWsGCupp11/D/mvV7BIwowFiA/cw9AFK7S/6IJ4fS03tQDBbTqxnSzwmXSxDMa5pBp5r5O4N9dhwoRVObmiD4oUt38mqeZtHLszfSas69aaVOW0qTj+RrCVXLkVJ5evkhusTaFysgEFkP9qBUt6sQqWDCXOcDG0T2IuuSAOrO9mDyO4zReZXwTPGhAK1Fiw+iTbAt96nEoXpnOF35w+Z2HeZIN6nDaWZ8bNw8YWVp1uC06+WHlmBm+oq66Ig12iAPJfrWAx5smc4sUqmFcItBcPd90rI1a3oxwR3GjDcyfDXXt8VZdzco9Gu1d5tsjwnOD1TqmASfjChTOb79bvDGtx6ml+jqt9EObiCTiFPi4h9zhPGPCGm9TiFC927rVd+iQr5+H27VNHuEnrXSQxXtwTyqxILcTemA3aEdbiVNbB5ynJhbeem8oa7Pso8l+xYOmLUAzeUKTEQO5345GgAIKbLUov2UFh4QbNn4zY/Xtzyt6ZF3m5scPF0iXkLnkX289exL47VuEkRePpufvukCTU8e945ew6nViwdFrIVg1OTtf42rNfMOa6x8Ii9sniL4tPHzd37jtM8nQyjaXAHG723HnYl/Vq/azBqbx21N5vi8bl9jx6DQWQ/3YFiwvE4S9t5oF9DWH2PieCm2erT275XQRqX0x2PXblC6MbRxIxFi/GGJxjnu16ei3nZNfqE2jymjTclef8ojLJE654NHyZcDj2sGVL28s5leIJL3z5+cA0edKFbbCvkAixBgUIxpKP1+7GwPfy4wz6iQyt5HM5pwkLzW6wJvRgk40UQP7bFCy9C16+0tsKsHx1tfYRXK0x/Tfj5TcOMHnCDL0L4XBilSSZFC/haYGcg5FvcrMKp4HiJL27zuRzcZZfvGybEq+sb4O7NTg5Pz8MFYOZ7qWLInAu3ixIsS83AoGlj6VQzCQFkAU5EMdKGdfgdG7pQ9qf68fz6yuA/FcvWLwjDAV0WGwpkNfXQd0MCG6e8XK31n0/RV41uAQYkmfvsWjOp3RhTPrmiTRL3POMV9NrOSd7lbK/Et4vPkYTq+vT//7K0FhqBF3J0CqcpKAIv3aeFOUZwyI7aJMW+d2i8YlK8tt6IeYkhvPPxJZuOHVbtTiNLTzReKwhz22uAPJftWCRu4/eBTBf8lCizds1vo/g5khRTIhYaOSFSZgkT7TFcRKGWYEyMO6cNWjos5STWyNcyHDNjkW828YzUuT0C5Yir6xri7tVOIFwku+kUCjGTfY0BNu4/tl5eTomY/ris/w9MTDlpjaXcerfpEUto0q39UQqLutGNpD/agWLBO/ZYkXuUIaS8I2IXmMZCO7y8cpBiQkzuXuLE4SAj3xK42RtsgIlmSOOe7sbyzgFXTIN/VFfCPYT7kgfNw7/XEDJ25ZxKrPA4jAtQErtQ9yEIsXFSYyzYLErXDt+aZvsxkC62C/I5+OUBFBybBmnCYtkjEwQ6XpNkP86BUsIssHEmqw9DdrkFHcSBRBccmLiDiZT1yVw6v4abVZ4SDFpH3fHO7888YY++B7fjdvd6adJdqKxipst5SRLT3mJzp2u0q77zGPJs+rYdS25ZcwyTiUeGBv+fMyBIwVovKnLL5xhH18NpkVQ+DI7FCf+5qD/KlEz72WcJqzc5avb0mzCqtU0Qf6rFCwuqOBPiXfvVktOUb5LUKPmhoYiuHnThguYsLGJLisu5BG0MDs9ZonXThwLHftdmDvz8Gj/dHzHNr3QYvuuzTz7dfRazqlbZxJLcGESTvGCGLvIhdR/T6l/PjZsfmM5p1RrGzOd3mle84VEVmyWLpQYW8fn5tH+XZ3IHQuiDl/iI/DbRF0L3VvLOY2vv7UbqnE19ncW+a9SsOxvybdhEYK7jRXd5irISQfX/XMKBVF8uqlD19pW7p9T7RVzPFQA+bNgQWV2vo3gdm5q0+aRkw78++KUPpFxCpaewOiQtqqV++JUdWkcbIICyJ8FywTB9tIEwe3FJtrRV4Cc+prs8cjuOOHrIPfato1XqOd8Y3eczhnM81UVQP4sWKpKu+5gCG7dmTj6EgXIaYl62/Ulp+20XjITOS1RT39f5M+CRRFPBKfI7OZMJScdyMmJnHQo0LaVGKcsWBT5AoJTZHZzppKTDuTkRE46FGjbSoxTFiyKfAHBKTK7OVPJSQdyciInHQq0bSXGKQsWRb6A4BSZ3Zyp5KQDOTmRkw4F2rYS45QFiyJfQHCKzG7OVHLSgZycyEmHAm1biXHKgkWRLyA4RWY3Zyo56UBOTuSkQ4G2rcQ4jQWLPcgfakAfoA/QB+gD9AH6wJ58QEq2WLDIAX7uVwHrQPy3fwXIaf+MrIXkRE46FGjbSoxTFiyKfAHBKTK7OVPJSQdyciInHQq0bSXGKQsWRb6A4BSZ3Zyp5KQDOTmRkw4F2rYS45QFiyJfQHCKzG7OVHLSgZycyEmHAm1biXHKgkWRLyA4RWY3Zyo56UBOTuSkQ4G2rcQ4ZcGiyBcQnCKzmzOVnHQgJydy0qFA21ZinLJgUeQLCE6R2c2ZSk46kJMTOelQoG0rMU5ZsCjyBQSnyOzmTCUnHcjJiZx0KNC2lRinLFgU+QKCU2R2c6aSkw7k5EROOhRo20qMUxYsinwBwSkyuzlTyUkHcnIiJx0KtG0lxikLFkW+gOAUmd2cqeSkAzk5kZMOBdq2EuN05YLlyZwOz8xBfo7PzYu2tV+0egS3aKDRzi/Nw/GZOZyehlu9eG6OhzvzEGA+ns60N8a8eLgzh0b41+MUWEj8HO7N4zAVnrlQgXqcLpx4jeZZTM6e4vHeHHbmZ1U5ufXJNYnxNNtPNuyI/NcrWFwA4YUsJN9GLlpr8ERwa4zvx/RF5mnyldG3Pz68HDFpQhE00lvbqTqc+pq5wnBnFxNtbNDeOpxwRP3bzsd2lqNrcXI3TRg/OyzO9HtQ/RUg/9UKlqLj17oLqK+JihER3GoGX8ooFKbjBc6Uoma1FW0+cBVOpWR6KZvNV65rwiqcdC35jLX9IvlMh01OV+FUzFOX3pxtslxOkimA/FcrWIx5Mqf8tULRaTLruDuoAIIbbDThhL/TkMeizwwWG91dSEhe7nUEPjrNkpq7sHavh+z0yfjWBxrjXotTDyULlp4kSw5U4wT+7Z+C2dgKMRPOudfi+ZMLPGfjLDvv4sgei68x7Jhyke3i8/jw+f5r3HzsPBdb4eK4Mvc+byxqcCreQBuv4fjT4SUexr41FED+KxYsfVO7i2H/HI+cVwDBnW9dbtFjkBUcPrDv4DsqWYESE6YfPybVMF0+vt0/nfb3XrysTp2jNTj1Lck59FvwyGUKVOPkYujenE5S/HfFRFeESKERbIQixx/p87WxeDzepd8nc/3u3HH5Dpm7OTzI3F0h0l2IC4VIFve2eDme7iHuL9NyzdbLORXW7wz2mnc6rbkKjj1XAeS/XcESqnk6x1xsxiC4WaOEZNclOjsKBq0kWnyiYkxyd5KN4c7J3VsvCdvxfbLoEvcsy1V1WswJVxs0tXfojB0UZvl2LU4uBrBgCDGV+nx60UziJiwlLf5DLGZPXeSpCD4V9U8w5SlniDeJSRxbnvqEmEz9qRz7y1VePsJiTnlxFk3yWiVaxnPc2IsCyH+bgoXFShX2CG7OgGlCLI2QJlXfIiQySYCOpRQ0afvy+Fn/0rQ3dmwpp6IcIYaYXIvqzDpYh1PJv9O4cMYVi/nU7OTGoFhUyOtWib/QH2PSbUvxAuP32mRj2Acz9rf98gIJhrjW5lJOLi/FYg1Wkd18wRlu7kgB5L96weKdhXeHNfgjuMvHKyXWbJRSAGeJNklqybmh8f3x9G4um/fGdpdxGhJjSN+h9jx+ToE6nAp36YWiwefBrpBwcRR/Xb37Pln8cwKlWJSiQm4ewgIxJgfHhe+iYXvUyB3Pxsbz19peyql8IzVQ/F1rkZx3UAHkv2rBIsHDu8JBFhedQHAXdXSNJxQOeBcmEyTJN7toJu0Hxk+KGhn0tj+XcRrWZq8XlGGL932mCqckPvx6S3f0WCSUzsurUynsyxfZQnEkr59CoTHFR8ptCk+FdoJvKaeyllku28laaUZfAeS/WsHigiJ5r9s3hEcuUwDBXdbTti4HKCYvt509Ek6Ta5ow00RQHt/37+4sL7dbX481OMkFjcV/PX9YxsnbkcaAP9aPo7SYx5iLq8kKn2Kb4lOXsZgMo2c3DX37ui/q7tG/FnNKbqyCJpnekQM3dqcA8l+nYHHOwNdAtckjuDljp8WHPBKVYqJccCTJLUuYeVLtFSfBD+KveM4xWmGfpZz8FyuFixUgsMmKSYXS7MrkxZyES/IapfCkIisY8jiUX/s/xL8enRY4UbTShTeLSRmrKzy8PfFVkx0sxGVsE+zr5o8z7mJjOaeMSVivPM3axSJpxKACyH+VgsVdyErvZ2NADtrGEyMKILiRZqOnfLKUd+b4xbv0Ts0PkiXOJGFmSSDMmrA/PTX1J/lF+Bqc5KIS/7cWyUVRZuLnEgWWcyrEQFacOPuSuLFHQgEac+S9eUwKj1IshhuMvGjtjW3/EJL9X2dIjJdvHJM8YMcsjbNE3Ip9l3OyxnhNJZ5isVbRTg61jgLIf5WCZR2zOSqCoxr7VYCc9ssGLSMnVGO/2+S0XzZbWIb8WbBsoXilORBcpSE5zAoKkNMKoq4wJDmtIOoKQ5LTCqIqGhL5s2BRCk6R2c2ZigHW3OIVLZicdMAiJx2c1rIS+bNgWUvlFcZFcCsMzyErKUBOlYRceRhyWlngSsOTUyUhlQ6D/FmwKIKI4BSZ3Zyp5KQDOR/yn/kAABt8SURBVDmRkw4F2rYS45QFiyJfQHCKzG7OVHLSgZycyEmHAm1biXHKgkWRLyA4RWY3Zyo56UBOTuSkQ4G2rcQ4ZcGiyBcQnCKzmzOVnHQgJydy0qFA21ZinLJgUeQLCE6R2c2ZSk46kJMTOelQoG0rMU5ZsCjyBQSnyOzmTCUnHcjJiZx0KNC2lRinsWCxB/lDDegD9AH6AH2APkAf2JMPSMkWCxY5wM/9KmAdiP/2rwA57Z+RtZCcyEmHAm1biXHKgkWRLyA4RWY3Zyo56UBOTuSkQ4G2rcQ4ZcGiyBcQnCKzmzOVnHQgJydy0qFA21ZinLJgUeQLCE6R2c2ZSk46kJMTOelQoG0rMU5ZsCjyBQSnyOzmTCUnHcjJiZx0KNC2lRinLFgU+QKCU2R2c6aSkw7k5EROOhRo20qMUxYsinwBwSkyuzlTyUkHcnIiJx0KtG0lxikLFkW+gOAUmd2cqeSkAzk5kZMOBdq2EuOUBYsiX0BwisxuzlRy0oGcnMhJhwJtW4lxyoJFkS8gOEVmN2cqOelATk7kpEOBtq3EOGXBosgXEJwis5szlZx0ICcnctKhQNtWYpxuXLA8mdPh3jz29LfHn5mD/Byfmxe9NjyA4LZX46V5OD4zx4eX06d+vDeHhPeTOTXAtiqnF8/NUeICPk/9IPJcnOYQS9AnZTEd4622rMrp2iI5P7kzD0sTZy9mr72wmv8LhWnXmccTxM/p6foCNG4BxumGBYu/4B3yC1ZIyHghdA6Tt2scml0+gttcjsBp8EJZMCjlOKPgKYyp4VBNTi8e7kwvZi4VIRQxl7C7dAqN7Wty0rj+ks1pzJZabH+sCicp/GMBUroehWOxjTFOD9jffvWcEflvVLAER7B3exn8YoDUulu4MdYIbvOluYveJXdwefD7u5sWLpr1OHkNsZi/nLvXfdkYl8+qoUc9ThpWO8XGPGan9Fm/TQ1OU64z7uYgeSJsjNnhE6f1Fd/XDMh//YJFKtvwaDq/YBUr2IsvjvsSeC1rENyiOcIdd3wFlxWRxkCBeXhmLLNeMJcYJU9h4EKZzXfrF89qnBYX7vu8AC3y3Yqd63LyceLymct14dU35r/8qTGes32y8/HpWowfO6YU/l2MHh8+717XJjeD+di9GJeLcXj94eaGmK2o89Kh6nB6Mqdcg6CRvyYNrN21ueRGbelq2T9XAPmvW7CgQwyB7134vOMkwZevoNF9BDdbggG9uyIiv8jZ/Xtzsu91IeBjMkVD3NiYqLtAL7bHvje0XYWT1cPqebxLv8OSXdRGZeuxHm3d3MmqnA4+RvzFrysmuiJECo0gM+ZGdyiPO/864ni8S+LOhDxqj3ffV8nGdtzx+2aFi3HuG4/35ni6N8cDjrsPl6jGKVtOchOW6yFth65bcp6fqyuA/NctWHApziFKX7iF4B54CoPDtLyN4Obp4LXuihM/Cj7lSoJYJuklwH5ytU2Tx64Zb5xDhr3Vz+WcvDL+bh1j5pJivsz6VjWfs666nPwTFm9HiI+kuEyLhlI8pEV9aYzuqUjypDq5qJZ9JI3r1JbE5vyVyBxhK/epxSkxK8tpSe7Chlkew1Pc3kYB5L9ZwVJ2iBBcGNjBkZKA3EaX3c+C4OoZi8XHwEWudzfouaWM0r4p7/RcPdv3OdI6nMJaXXxMuAtmoj3rHHU4YfzIlIWCoBdD0rb7TGOmMIYpvJq13ZH1kH/02mAh7G1I5+/suvZWHU6wCqcFPoEqMfTt0yISxuDmZgog/40KlvIFK636Zf3DziMtWv1EcPM0CNqGJ1nxOyyHELxDSTW5g5MEmV00k745w1KBM28FGnot5zSyypxFsWmuf7FR8wfrcCr4dqFo8LmuixlXHBTiML52HeDs+sGrWQsRC43Bcd1cvkjB9ugEpbHx/LW263Dy1nsOWKzY4z5e8ifPcjwyuZYAjc+L/DcqWApBLYGWBR+dZNg7Edxwq+EzxUSFhcZAkswLy+I4eAcXvxgYbBkYd9hS3WeWchpbfc6i2LYxvYsaTDhYhdNgcZI+wcCYKTNMn6i4Nvjk2a2nlEfT4nRK0VFuk84/Qb7NmlThJNeb8EsEqfEDBQvmxrQD9zZUAPlvU7AUgtqutxg4dJJBV0Bwg40GT5SDMkmeRe1DQozJszRO1ia7YCZzDNp3OyeWcfI6lC9YQedekZ9qV+6btuFenb9rVNIaixOvcxozxbyX5chimyyu/NhpEVOyx39Rt/uOTd8+m4ztH3ns2uzJP2rEk1vzyPpKehd12pMwjdiC/DcpWFwQlb7M1QuSaQm5EU69ZSK43skJB3oBGPTv/gJqVnhIUWkfJ8eLZH4nFvrIayVrhxu3u8MsJtEJ9mptspSTW3coHrvH1KJzp2tZH8ZQWZf+0eWcSlrn8WG/eOL/WrF856uXD8P5Q/wNHT9uxz7YnsWVO5oXMdlcJjzt7OJX4hOKk978fa2ueWQxp5Dnenriolyb7pWdZ9TtY1Nub6sA8t+kYClVr3HJwZni9ynihTG24EZQAMHNE8Un06i1fWrSS4Jpm9NjIXkmzO7Mw6NNyF1wDxdGXZt59uvotZxTWGe8kODfyhANChdGd8ofl4ujtOZnX4HlnAoMegWDFAhYaIZCJ36H5d48un4SH2WGxcK/F79dgSRxXrpQ+wsy+FVpnL5kVzmylJPLR1Fr+LP7kLPcwpK8hryusmxOGhRA/psULFS+jgIIrs6IHGUNBchpDVXrj0lO9TVdY0RyWkNVPWMifxYserhd9/8lpEina5uKAXZtWzj/sALkNKzNns6Q055obG8L8mfBsr3+s2dEcLMHYcfVFSCn1SWuMgE5VZFx9UHIaXWJdz0B8mfBsmtUqXEILj3DvT0pQE57ojFsCzkNa7OnM+S0Jxrb24L8WbBsr//sGRHc7EHYcXUFyGl1iatMQE5VZFx9EHJaXeJdT4D8WbDsGlVqHIJLz3BvTwqQ055oDNtCTsPa7OkMOe2Jxva2IH8WLNvrP3tGBDd7EHZcXQFyWl3iKhOQUxUZVx+EnFaXeNcTIH8WLLtGlRqH4NIz3NuTAuS0JxrDtpDTsDZ7OkNOe6KxvS3InwXL9vrPnhHBzR6EHVdXgJxWl7jKBORURcbVByGn1SXe9QTInwXLrlGlxiG49Az39qQAOe2JxrAt5DSszZ7OkNOeaGxvC/KPBYs9yB9qQB+gD9AH6AP0AfrAnnxAyqRYsMgBfu5XAetA/Ld/Bchp/4ysheRETjoUaNtKjFMWLIp8AcEpMrs5U8lJB3JyIicdCrRtJcYpCxZFvoDgFJndnKnkpAM5OZGTDgXathLjlAWLIl9AcIrMbs5UctKBnJzISYcCbVuJccqCRZEvIDhFZjdnKjnpQE5O5KRDgbatxDhlwaLIFxCcIrObM5WcdCAnJ3LSoUDbVmKcsmBR5AsITpHZzZlKTjqQkxM56VCgbSsxTlmwKPIFBKfI7OZMJScdyMmJnHQo0LaVGKcsWBT5AoJTZHZzppKTDuTkRE46FGjbSoxTFiyKfAHBKTK7OVPJSQdyciInHQq0bSXGKQsWRb6A4BSZ3Zyp5KQDOTmRkw4F2rYS43TlguXJnA7PzEF+js/Ni1z7x/vu/OGZOT68zFuk+7b96Sk91sgeglt1yS+em+Phzjz0YMGsjtu9eYRDszZrjTNr8nU6VeXkWEAMhVg6LRZ+nbVrGrUqp6kLn+DvLx7uzKGUK6fOsVa7CbavMXU9ThOuR2ssgGMuUgD5r1ewSKKNxcVL83B8lgSiC8zDMxOTb+gzWLScO79Ilv13RnBrWuu5jBcjj6eU5Vx7ao0zd/41+tXktNuL1xrCbTxmTU71TA95MubNeiMvHelasVqF04Tr0VJ92H8dBZD/agVL0bmd08idu6928+JkMEGLw2GBs44+ux0Vwa1pZJFdMmGtpFprnMS4q+/U4+T1yWPk6gu8EQPqcaopSDkv1pxh3ljXi9UanIo5LbkezVOFvdZXAPmvVrAY82RO+V1CKDriE5XH++7pSlh36e7eH5PH4uN3/uvLd70ZENwiK9yjXdEzfw1XSEzY3j2qLiRVKCjdK8CcvTxOju1s4QrjDCSPkj8sWvsGnatxGtBkgyU0McVSTn3fDLFzwByFRSf4e1A4yW02ZkJ8xBxp22H8Ja/NC7Eq8YXxl/uRtJFX9dhWyOOcQzEvbVf+XMrJmzfherTyOjj8PAWQ/4oFS9+4foDnbfoBiH3c9h7f7ebLWGkfwc2dQhJkTIi9BOmTajzvEpc8FfPJ83i6T7/jEpJb9yRgIDEf78wR+SWJNJvXLbA/ztx1b9mvBidnr9XVaiYXFvuJ+m25qBucazEn5/dQnFh/dryyY1LAJP5uDOY2K6/dP53sd/q6/r4NxF+IV4k19+QACg7b3tqA3/NzY0ibCbHqCySY8/He9GJ+Q39YzGnAVq9tp/VAMx6+sgLIf7uCpRcofRVc8I182TMPzv4It30Ewc1aaZbsZIzkcWmSVEsFQ34X6dtggrTj5snAs82SQ5Lw8U7UW5aPIfbu/XMxp7DAvmZlrfeux17tW8wpiZVQcDxaRp2f94uFcC7EYrwxcCIFvlKUFtuE2Apt3PjS3tgYujePNq6kQHHH5HuCZf9J48y3kYLIs8tjfluiizmVzJ1wPSp147HtFUD+2xQsE5zDJ2eo6nu6lAKp1+imDyC4OQtNE1M3Aia9pE1SUHTtkwLHtSlwS/qGhBeTqB8rGcc+vLFf5I1tPO80oXc27HlrKafRtQ3pPdqJJ0sKLOaUFCyhWLCvwuNNF26PFRpiXRonGJfSwn1CbCVtrD02fux5KWLy7WgbjAjj+acrXcElrfJYleNbfC7mlBvp1pu/Cs8bcX8vCiD/1QsWfwEccw6p3gsXPVQsSQ54op1tBHf5qkXn7rsr8dfN4VUDJibcxvmwsHDb+Moi2ZbEVyo+0uRsx8fki9s4t4btZZzOrJBxcEag6aeXcwK/thdBV2xDkYLFQnjS4dv0fd9b7Y/7pxtDbUKcyFMcKDZsLLoCH+a1x+RpyZRYdW2k2AEp3fF4MwEnNthczqkz8vz1qGvLrX0ogPxXLVgkQIbvkn3A4zvbQYkgMAfb3PgJBHf5UjEZDvVO25STlGeWJMFziazIDpK9mBMTbeGctFHwuYzT+AJ9wpVCcLwtz44rsJyTjxeb32ys+Dxnj/mbr+6YtQPjJo2zaKUrRnGcrtiIbeRJpBQVro/1Bzt+8At7zJ2HY9LvTKxOiXm0ZYvt5Zy8lW5tDf+W6Ras1pgD+a9WsJx3Dh/Ak4oVCTYJ0jVUUTAmgptjbjEZuWJCnm55JlJguva55q69JNX0qUi0KUm8Y21k3tAzJN+Hvf7hrLjA8Y2lnOzo5SdM/kLXvTYbt4NnxxVYzkkKlidzinESjj1I0RBscL4t/l7m6ItRaZO/IsVxuvjzv1Xkv7ciNxFyzMZRPDbkU1msTon5cVXrn13OKWjJYqU+nA1GRP7rFCzhoobBkq/LFzRdcObn0/1ygKdtbn8Pwc1abVKc2Axm/6It3MUlSdVWif6vEEsBI+0P+B48S3hyJ4kX1eFCKX9SIEUsJORZC71up8WcrPk5G3mlIHfR113iTcxeg5P1bfebQfEvdPtclR6TWOr8PS9OJNaSG7g8XsNTGowtH2/+N4PiX6YOcWxtiMfAp2I8l8abEvMb01/MKaxp7Hq08ZI43QUKIP9VChZfjJS+KyEB1F2Yku9RwHcp0vWkd/7puXb2ENzsVYfgFd275JW9Gw8T+MQaWNq7SNe/S7yuWbi4yphpYggJPCZ0P7DzkXhXKqsJhWnvuJzX8VmFk11qpmv8IqUOGXZvZQ1OPtdJXrNLDj6cFZalJ2ZJnjw9lZ+qZfGaxpadL+RSjBnxm9LrHzkXvmvWH0/ywJmY35DuUk6Jzsl37JDbhgviVBcpgPxXKVgusoaNJyuA4CZ30tQwJFMsojSZL7bePCdZqPJPctIBkJx0cFrLSuTPgmUtlVcYF8GtMPzVh3R3QqW7wqtbdpkBt87pMjX225qc9ssGLSMnVKO9beTPgkURfwSnyOyzpsZHtvhY+2yv/Ta4VU77VXyeZeQ0T7ete5HT1orvaz7kz4JlX2xGrUFwow158qoKkNNV5Z88OTlNluqqDcnpqvJffXLkz4Ll6jimG4Dgpvdiy60VIKetFZ83HznN023rXuS0teL7mg/5s2DZF5tRaxDcaEOevKoC5HRV+SdPTk6TpbpqQ3K6qvxXnxz5s2C5Oo7pBiC46b3YcmsFyGlrxefNR07zdNu6Fzltrfi+5kP+LFj2xWbUGgQ32pAnr6oAOV1V/smTk9Nkqa7akJyuKv/VJ0f+LFiujmO6AQhuei+23FoBctpa8XnzkdM83bbuRU5bK76v+ZA/C5Z9sRm1BsGNNuTJqypATleVf/Lk5DRZqqs2JKeryn/1yZF/LFjsQf5QA/oAfYA+QB+gD9AH9uQDUjXFgkUO8HO/ClgH4r/9K0BO+2dkLSQnctKhQNtWYpyyYFHkCwhOkdnNmUpOOpCTEznpUKBtKzFOWbAo8gUEp8js5kwlJx3IyYmcdCjQtpUYpyxYFPkCglNkdnOmkpMO5ORETjoUaNtKjFMWLIp8AcEpMrs5U8lJB3JyIicdCrRtJcYpCxZFvoDgFJndnKnkpAM5OZGTDgXathLjlAWLIl9AcIrMbs5UctKBnJzISYcCbVuJccqCRZEvIDhFZjdnKjnpQE5O5KRDgbatxDhlwaLIFxCcIrObM5WcdCAnJ3LSoUDbVmKcsmBR5AsITpHZzZlKTjqQkxM56VCgbSsxTlmwKPIFBKfI7OZMJScdyMmJnHQo0LaVGKcrFywvzcPxmTkc5OfePI5q/2ROtu3pabRVqycR3HoaBGZjDF48N8fDnXl44a14PJ1n9uLhzhyOz03osp75Oxh5NU6P9xBLElPyeS62diDMzkxYjdM11pnF5GwTnI/ty5fqcbr0ejRbRXasqADyX7Fg6V/43IXtMBQMnTMdH15WXO7tDIXg1luVLxpP45UlTO/bjzPr+wIMcHOb23AKsoUiZjqvm5N79oI25TTbym07uhy9sxuLOpz6OWj8erSt7pxtWAHkv17BUqrUR+4C3B24exLT3bkPL6HNMwhuNQVGGBXndO2fmfEL5pSipji6yoObcHLKtKVrbWfYjlNty9car39RX2umS8atwunC69El9rHtugog//UKltIahi6G4kzyWerLY9X+77JdcehfJ2Cx4c/Zp2DdE69D8lQsS2qOWVpkJuPbV0uTiprbAYwBtt6qMg7rTXSzI1fjBP7t79ptXIUnyeGcey2eP7nAc/ZmLTvv4sgeczEmY8oT0C4+jw+f96/e8TVuPjaeE6JxXJl7nwVwNU6ybvl0GqW5S07xcz8KIP8NC5aBBAtOs8fHkfvBZqoULF1BElaWFRyewR18RyXnJgnT949JNQyXj2/3Tyf73YuhV4F7UriOLRhgdUYsjJJxK7TgoTMKVOPkWNyb00meNHbFRFeEpHHTL+LzODPGxuLxeJd+py/kS3tcvkNmTDZ2KES617SFQiT3n8d7czzdQ9yfEW/D09U4JTb39U5Oc2c3CiD/9QsWqPS7ABItMJDoQKLK0CeCG2ozehyKw66d192zCQyy4iIpJLMx3Dm5ewus8YmNJNMucXcz3+rWYk5nhUFmZxuzwYACtTi5GDhIsWInC3GUPDHBXOeLkfyXC9LivzSGMSYUI0mMJTHp5ymOHeM6tcXLU479Aek2PVyLkzM65Cj7xKt/Pdp0WZxsogLIf/2CRYzqBVoIELnY5XcJ0o+fUQEEFw9esJEmxFLHkUQmnBxHeVqSti+Pn3MuzXtbx5ZyOqtGwuBsazYYUKAOp5J/p3Hhpi8W86lhyY1ByIf5RdXFWCw8Qn/0B7eNT1+G2kgMdzak83fHr71Vh1O2CqcTFpnZee7uRgHkv13BIncd4cLXC47kLmE3Wu3KEAR3uWGlxJqNUmKQJdqEW3JuaHx/PE+82cw3tbuM0zkphnQ+14/ncwXqcPLFSfLEo1A0+EKjKyRcHMU/9yC/mg5/HqAUi/YBS+FPCGBMDo7r5vJFCrZHTUpj4/lrbdfhlFvPOMoV2es+8t+wYMFg80He/X0WCFg+qhv0GwQ32GjwxITCAe/UZJwk+WZBnrQfGD8pamTQ2/6swQljIyn2Bi5kt63oOqtbxinYlMSHP1Z6CoJFQum8vDoV1q5N8krJjl0ojko3gvI0dEC2cmFSeCo00H/rw1U4FYwu61BoyENXVQD5r1CwZBe1uNRSsMWT/s6hF6DdeW4t/dJtmQsGLSZV0TtNrinDNKmWx/f9uztLGfeWPzHAaq8z1bz26G2NV4NTiUc/jtJiHmMuKp4VPsU2xWJ1LCbD6NlNQ9++ge/GROOuu7GMUzkvlYu/666Ts5cVQP4rFCzi/HiRCk4zWJCkAV02m0cR3Bw1fPHQvbtOi4lyYCfJLUuYeVJNxxM/kF/HnGOxzj5LOQ2vusxouD3PjCmwnFOJR+FJRVYw5HEovzF0iH89eiAfJk80w8qymJSxuldU3p7kS7huHPj+RrCvm39Mte3PLeaUFYPlL0Vvvy7OOE0B5L9OwWLtCEERH22PPabMAnraMtprheDmrt4nS3kF1xUv5TuOLHEmCbOQmC12+45d3s2fnoybb7BQnbuKfferwam8wvRuutyGR6cqsJxTIQZKuSyJG2tdKHQkTuyXaJPCo8y5GEu9sU38u0cSh/KaCXVJ8oCNz9I42OGK28s5XXg9uuJaOXVfAeS/XsHSn5dHFiqA4BYOxe4rKkBOK4pbcWhyqijmikOR04riKhga+bNgUQBMTERwcoyf+1OAnPbHpGQROZVU2d8xctofky0tQv4sWLZUfuFcCG7hUOy+ogLktKK4FYcmp4pirjgUOa0oroKhkT8LFgXAxEQEJ8f4uT8FyGl/TEoWkVNJlf0dI6f9MdnSIuTPgmVL5RfOheAWDsXuKypATiuKW3Focqoo5opDkdOK4ioYGvmzYFEATExEcHKMn/tTgJz2x6RkETmVVNnfMXLaH5MtLUL+LFi2VH7hXAhu4VDsvqIC5LSiuBWHJqeKYq44FDmtKK6CoZE/CxYFwMREBCfH+Lk/Bchpf0xKFpFTSZX9HSOn/THZ0iLkz4JlS+UXzoXgFg7F7isqQE4riltxaHKqKOaKQ5HTiuIqGBr5s2BRAExMRHByjJ/7U4Cc9sekZBE5lVTZ3zFy2h+TLS1C/rFgsQf5Qw3oA/QB+gB9gD5AH9iTD0iB5AoW2eEnFaACVIAKUAEqQAX2qAALlj1SoU1UgApQASpABahAogALlkQO7lABKkAFqAAVoAJ7VIAFyx6p0CYqQAWoABWgAlQgUeD/AxbvMLC51OA1AAAAAElFTkSuQmCC)\r\n",
        "\r\n"
      ]
    },
    {
      "cell_type": "markdown",
      "metadata": {
        "id": "clo2Sq6r2S2h"
      },
      "source": [
        "i) Read the data from the file “Person.txt”.  \r\n"
      ]
    },
    {
      "cell_type": "code",
      "metadata": {
        "colab": {
          "base_uri": "https://localhost:8080/"
        },
        "id": "NFUciAJyrV5g",
        "outputId": "e921de52-8683-4ace-89ad-5f576f931641"
      },
      "source": [
        "data=pd.read_table(\"/content/gdrive/MyDrive/people.txt\",delim_whitespace=True)\r\n",
        "print(data)"
      ],
      "execution_count": 60,
      "outputs": [
        {
          "output_type": "stream",
          "text": [
            "   Age agegroup  height   status  yearsmarried\n",
            "0   21    adult     6.0   single            -1\n",
            "1    2    child     3.0  married             0\n",
            "2   18    adult     5.7  married            20\n",
            "3  221  elderly     5.0  widowed             2\n",
            "4   34    child     7.0  married             3\n"
          ],
          "name": "stdout"
        }
      ]
    },
    {
      "cell_type": "markdown",
      "metadata": {
        "id": "e3RHMGh22enX"
      },
      "source": [
        "ii) Create a rule set E that contain rules to check for the following conditions : "
      ]
    },
    {
      "cell_type": "markdown",
      "metadata": {
        "id": "0xWeRPwO2zeN"
      },
      "source": [
        "1. The age should be in the range 0-150. "
      ]
    },
    {
      "cell_type": "code",
      "metadata": {
        "id": "iM79cDI02heX"
      },
      "source": [
        "def check_age_range(data):\r\n",
        "  age_range = lambda r: r in range(151) #r>=0 and r<=150\r\n",
        "  return data['Age'].apply(age_range).rename('Check Age Range')"
      ],
      "execution_count": 61,
      "outputs": []
    },
    {
      "cell_type": "markdown",
      "metadata": {
        "id": "bMIrGQSR2hz-"
      },
      "source": [
        "2. The age should be greater than years married. "
      ]
    },
    {
      "cell_type": "code",
      "metadata": {
        "id": "hJIPMO-u2h-2"
      },
      "source": [
        "def check_age(data):\r\n",
        "  age_limit = lambda r: r[0] > r[4]\r\n",
        "  return data.apply(age_limit,axis=1).rename(\"Check Age\")"
      ],
      "execution_count": 62,
      "outputs": []
    },
    {
      "cell_type": "markdown",
      "metadata": {
        "id": "pu8pveMF2iKS"
      },
      "source": [
        "3. The status should be married or single or widowed. \r\n"
      ]
    },
    {
      "cell_type": "code",
      "metadata": {
        "id": "sTYsJozm2iUQ"
      },
      "source": [
        "def check_status(data):\r\n",
        "  status_value= lambda r: r in data[\"status\"].values\r\n",
        "  return data['status'].apply(status_value).rename(\"Check status\")"
      ],
      "execution_count": 63,
      "outputs": []
    },
    {
      "cell_type": "markdown",
      "metadata": {
        "id": "ipfMAbFf27Q1"
      },
      "source": [
        "4. If age is less than 18 the age group should be child, if age is between 18 and 65 the age group should be adult, if age is more than 65 the age group should be elderly. "
      ]
    },
    {
      "cell_type": "code",
      "metadata": {
        "id": "PbqfVfr927am"
      },
      "source": [
        "def check_age_group(data):\r\n",
        "  age_group = lambda x: (x[0] in range(18) and x[1]==\"child\") or (x[0] in range(18,66) and x[1]==\"adult\") or (x[0]>65 and x[1]==\"elderly\")\r\n",
        "  return data[['Age', 'agegroup']].apply(age_group, axis =1).rename(\"Check age group\")"
      ],
      "execution_count": 80,
      "outputs": []
    },
    {
      "cell_type": "code",
      "metadata": {
        "id": "eiYY6f7B8xYw"
      },
      "source": [
        "E={\"check_age_range\":check_age_range, \"check_age_limit\":check_age, \"check_status_value\":check_status, \"check_age_group\":check_age_group}\r\n",
        "result=list()\r\n",
        "for i in E.keys():\r\n",
        " #print(E[i](data))\r\n",
        "  result.append(E[i](data))"
      ],
      "execution_count": 81,
      "outputs": []
    },
    {
      "cell_type": "markdown",
      "metadata": {
        "id": "7nGUNgvI2-mP"
      },
      "source": [
        "iii) Check whether rule set E is violated by the data in the file people.txt."
      ]
    },
    {
      "cell_type": "code",
      "metadata": {
        "id": "ROL4t9sz3GYW",
        "colab": {
          "base_uri": "https://localhost:8080/",
          "height": 298
        },
        "outputId": "639c2343-4d52-426d-aa6a-1f226957c611"
      },
      "source": [
        "print(result)\r\n",
        "for i in result:\r\n",
        "  print(logical_and(result[i]))"
      ],
      "execution_count": 94,
      "outputs": [
        {
          "output_type": "stream",
          "text": [
            "                    0     1      2      3      4\n",
            "Check Age Range  True  True   True  False   True\n",
            "Check Age        True  True  False   True   True\n",
            "Check status     True  True   True   True   True\n",
            "Check age group  True  True   True   True  False\n"
          ],
          "name": "stdout"
        },
        {
          "output_type": "error",
          "ename": "NameError",
          "evalue": "ignored",
          "traceback": [
            "\u001b[0;31m---------------------------------------------------------------------------\u001b[0m",
            "\u001b[0;31mNameError\u001b[0m                                 Traceback (most recent call last)",
            "\u001b[0;32m<ipython-input-94-3fe304d8b15e>\u001b[0m in \u001b[0;36m<module>\u001b[0;34m()\u001b[0m\n\u001b[1;32m      1\u001b[0m \u001b[0mprint\u001b[0m\u001b[0;34m(\u001b[0m\u001b[0mresult\u001b[0m\u001b[0;34m)\u001b[0m\u001b[0;34m\u001b[0m\u001b[0;34m\u001b[0m\u001b[0m\n\u001b[1;32m      2\u001b[0m \u001b[0;32mfor\u001b[0m \u001b[0mi\u001b[0m \u001b[0;32min\u001b[0m \u001b[0mresult\u001b[0m\u001b[0;34m:\u001b[0m\u001b[0;34m\u001b[0m\u001b[0;34m\u001b[0m\u001b[0m\n\u001b[0;32m----> 3\u001b[0;31m   \u001b[0mprint\u001b[0m\u001b[0;34m(\u001b[0m\u001b[0mlogical_and\u001b[0m\u001b[0;34m(\u001b[0m\u001b[0mresult\u001b[0m\u001b[0;34m[\u001b[0m\u001b[0mi\u001b[0m\u001b[0;34m]\u001b[0m\u001b[0;34m)\u001b[0m\u001b[0;34m)\u001b[0m\u001b[0;34m\u001b[0m\u001b[0;34m\u001b[0m\u001b[0m\n\u001b[0m",
            "\u001b[0;31mNameError\u001b[0m: name 'logical_and' is not defined"
          ]
        }
      ]
    },
    {
      "cell_type": "markdown",
      "metadata": {
        "id": "nolQ6BBt3GqY"
      },
      "source": [
        "iv) Summarize the results obtained in part(iii) "
      ]
    },
    {
      "cell_type": "code",
      "metadata": {
        "id": "P558e4zf3J7v",
        "colab": {
          "base_uri": "https://localhost:8080/"
        },
        "outputId": "0ee1ac74-2b07-4fa8-939f-9a50998e0bd8"
      },
      "source": [
        "result=pd.DataFrame(result)\r\n",
        "#print(result)\r\n",
        "print(result.describe())"
      ],
      "execution_count": 93,
      "outputs": [
        {
          "output_type": "stream",
          "text": [
            "           0     1     2     3     4\n",
            "count      4     4     4     4     4\n",
            "unique     1     1     2     2     2\n",
            "top     True  True  True  True  True\n",
            "freq       4     4     3     3     3\n"
          ],
          "name": "stdout"
        }
      ]
    },
    {
      "cell_type": "markdown",
      "metadata": {
        "id": "xk8meT7S3KK9"
      },
      "source": [
        "v) Visualize the results obtained in part(iii)"
      ]
    },
    {
      "cell_type": "code",
      "metadata": {
        "id": "hON2avQb3KaV",
        "colab": {
          "base_uri": "https://localhost:8080/",
          "height": 391
        },
        "outputId": "2862c46a-ea85-487f-9ea1-771502cfb927"
      },
      "source": [
        "import matplotlib.pyplot as plt\r\n",
        "result.astype(int).plot(kind='bar')\r\n",
        "plt.title(\"Visualization\")\r\n",
        "plt.xlabel('Rules')\r\n",
        "plt.ylabel('True/False')\r\n",
        "plt.legend(['Person1','Person2','Person3','Person4','Person5'])"
      ],
      "execution_count": 88,
      "outputs": [
        {
          "output_type": "execute_result",
          "data": {
            "text/plain": [
              "<matplotlib.legend.Legend at 0x7f194f344518>"
            ]
          },
          "metadata": {
            "tags": []
          },
          "execution_count": 88
        },
        {
          "output_type": "display_data",
          "data": {
            "image/png": "[encoded data removed]",
            "text/plain": [
              "<Figure size 432x288 with 1 Axes>"
            ]
          },
          "metadata": {
            "tags": [],
            "needs_background": "light"
          }
        }
      ]
    }
  ]
}