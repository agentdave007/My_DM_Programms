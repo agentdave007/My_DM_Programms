{
 "cells": [
  {
   "cell_type": "markdown",
   "metadata": {
    "id": "pddCnbsZKcly"
   },
   "source": [
    "Write a Python program and submit the IPython Notebook and corresponding pdf version. Please use modular programming approach (use functions).\r\n",
    "\r\n"
   ]
  },
  {
   "cell_type": "markdown",
   "metadata": {
    "id": "wTcKKyEoKvMC"
   },
   "source": [
    "1. Sum of digits of a number"
   ]
  },
  {
   "cell_type": "code",
   "execution_count": 23,
   "metadata": {
    "colab": {
     "base_uri": "https://localhost:8080/",
     "height": 0
    },
    "executionInfo": {
     "elapsed": 1135,
     "status": "ok",
     "timestamp": 1609947872380,
     "user": {
      "displayName": "Rakshit singh",
      "photoUrl": "https://lh3.googleusercontent.com/a-/AOh14GjC-NxQmledWNqBI1pDskrX3ob9O1ltaUNKbexpaA=s64",
      "userId": "10030276419449668715"
     },
     "user_tz": -330
    },
    "id": "ITEXJeSBKwDw",
    "outputId": "5dd7f64e-fba0-4f82-a7fa-dc0a349cc1e1"
   },
   "outputs": [
    {
     "name": "stdout",
     "output_type": "stream",
     "text": [
      "15\n"
     ]
    }
   ],
   "source": [
    "def digitsum(num):\r\n",
    "  sum=0\r\n",
    "  while (num>0):\r\n",
    "    sum+=num%10\r\n",
    "    num//=10\r\n",
    "  print(sum)\r\n",
    "\r\n",
    "digitsum(78)"
   ]
  },
  {
   "cell_type": "markdown",
   "metadata": {
    "id": "X1iV6_bCYC0x"
   },
   "source": [
    "2. Print the following patterns"
   ]
  },
  {
   "cell_type": "markdown",
   "metadata": {
    "id": "7xx9LcfUY_x5"
   },
   "source": [
    "1   2   3   4   5  \r\n",
    "1   2   3   4  \r\n",
    "1   2   3  \r\n",
    "1   2   \r\n",
    "1  "
   ]
  },
  {
   "cell_type": "code",
   "execution_count": 112,
   "metadata": {
    "colab": {
     "base_uri": "https://localhost:8080/",
     "height": 0
    },
    "executionInfo": {
     "elapsed": 1408,
     "status": "ok",
     "timestamp": 1609957667987,
     "user": {
      "displayName": "Rakshit singh",
      "photoUrl": "https://lh3.googleusercontent.com/a-/AOh14GjC-NxQmledWNqBI1pDskrX3ob9O1ltaUNKbexpaA=s64",
      "userId": "10030276419449668715"
     },
     "user_tz": -330
    },
    "id": "VcMz7tU6YH9r",
    "outputId": "41c888f2-7ad2-4c64-884c-d4c306c91623"
   },
   "outputs": [
    {
     "name": "stdout",
     "output_type": "stream",
     "text": [
      "1 2 3 4 5 \n",
      "1 2 3 4 \n",
      "1 2 3 \n",
      "1 2 \n",
      "1 \n"
     ]
    }
   ],
   "source": [
    "def pattern(num):\r\n",
    "  x=''\r\n",
    "  for i in range(num,0,-1):\r\n",
    "   for j in range(1,i+1):\r\n",
    "     x+=str(j)\r\n",
    "     x+=' '\r\n",
    "   print(x)\r\n",
    "   x=''\r\n",
    "\r\n",
    "pattern(5)"
   ]
  },
  {
   "cell_type": "markdown",
   "metadata": {
    "id": "XuKtDd0hdbBY"
   },
   "source": [
    "5  \r\n",
    "5   4  \r\n",
    "5   4   3  \r\n",
    "5   4   3   2  \r\n",
    "5   4   3   2   1"
   ]
  },
  {
   "cell_type": "code",
   "execution_count": 113,
   "metadata": {
    "colab": {
     "base_uri": "https://localhost:8080/",
     "height": 0
    },
    "executionInfo": {
     "elapsed": 1144,
     "status": "ok",
     "timestamp": 1609957708179,
     "user": {
      "displayName": "Rakshit singh",
      "photoUrl": "https://lh3.googleusercontent.com/a-/AOh14GjC-NxQmledWNqBI1pDskrX3ob9O1ltaUNKbexpaA=s64",
      "userId": "10030276419449668715"
     },
     "user_tz": -330
    },
    "id": "tg2pPDQcdZ5F",
    "outputId": "ed0dbb83-5400-4b44-e070-a25713d9c2a1"
   },
   "outputs": [
    {
     "name": "stdout",
     "output_type": "stream",
     "text": [
      "5 \n",
      "5 4 \n",
      "5 4 3 \n",
      "5 4 3 2 \n",
      "5 4 3 2 1 \n"
     ]
    }
   ],
   "source": [
    "def pattern(num):\r\n",
    "  x=''\r\n",
    "  for i in range(5,0,-1):\r\n",
    "   x+=str(i)\r\n",
    "   x+=' '\r\n",
    "   print(x)\r\n",
    "pattern(5)"
   ]
  },
  {
   "cell_type": "markdown",
   "metadata": {
    "id": "756hikaGf7Ou"
   },
   "source": [
    "            1       \r\n",
    "        2   1   2   \r\n",
    "    3   2   1   2   3"
   ]
  },
  {
   "cell_type": "code",
   "execution_count": 109,
   "metadata": {
    "colab": {
     "base_uri": "https://localhost:8080/",
     "height": 0
    },
    "executionInfo": {
     "elapsed": 1400,
     "status": "ok",
     "timestamp": 1609957362470,
     "user": {
      "displayName": "Rakshit singh",
      "photoUrl": "https://lh3.googleusercontent.com/a-/AOh14GjC-NxQmledWNqBI1pDskrX3ob9O1ltaUNKbexpaA=s64",
      "userId": "10030276419449668715"
     },
     "user_tz": -330
    },
    "id": "U00Un54GgICu",
    "outputId": "9abff3a0-08a1-45c1-f4ca-1dec6a79d2ba"
   },
   "outputs": [
    {
     "name": "stdout",
     "output_type": "stream",
     "text": [
      "    1\n",
      "  2 1 2\n",
      "3 2 1 2 3\n"
     ]
    }
   ],
   "source": [
    "def pattern(num):\r\n",
    "  x=''\r\n",
    "  for i in range(1,num+1):\r\n",
    "    if i==1:\r\n",
    "      x+=str(i)\r\n",
    "    else:\r\n",
    "      x=str(i)+' '+x+' '+str(i)\r\n",
    "    y=' '*(2*(num-i))+x\r\n",
    "    print(y)\r\n",
    "\r\n",
    "pattern(3)"
   ]
  }
 ],
 "metadata": {
  "colab": {
   "authorship_tag": "ABX9TyMFn8vYL8YJG2ytKNx2hEn/",
   "collapsed_sections": [],
   "name": "Untitled0.ipynb",
   "provenance": []
  },
  "kernelspec": {
   "display_name": "Python 3",
   "language": "python",
   "name": "python3"
  },
  "language_info": {
   "codemirror_mode": {
    "name": "ipython",
    "version": 3
   },
   "file_extension": ".py",
   "mimetype": "text/x-python",
   "name": "python",
   "nbconvert_exporter": "python",
   "pygments_lexer": "ipython3",
   "version": "3.8.2"
  }
 },
 "nbformat": 4,
 "nbformat_minor": 4
}
