{
  "nbformat": 4,
  "nbformat_minor": 0,
  "metadata": {
    "colab": {
      "name": "Programm3_12.ipynb",
      "provenance": [],
      "collapsed_sections": []
    },
    "kernelspec": {
      "name": "python3",
      "display_name": "Python 3"
    }
  },
  "cells": [
    {
      "cell_type": "code",
      "metadata": {
        "colab": {
          "base_uri": "https://localhost:8080/"
        },
        "id": "NZTffm2ljI5g",
        "outputId": "d29ab98d-0cb0-4ee1-9a4e-922cdeb07c2f"
      },
      "source": [
        "import pandas as pd\r\n",
        "\r\n",
        "from google.colab import drive\r\n",
        "drive.mount('/content/gdrive')"
      ],
      "execution_count": 1,
      "outputs": [
        {
          "output_type": "stream",
          "text": [
            "Drive already mounted at /content/gdrive; to attempt to forcibly remount, call drive.mount(\"/content/gdrive\", force_remount=True).\n"
          ],
          "name": "stdout"
        }
      ]
    },
    {
      "cell_type": "markdown",
      "metadata": {
        "id": "WDvmptUphcT4"
      },
      "source": [
        "Load the data from wine dataset."
      ]
    },
    {
      "cell_type": "code",
      "metadata": {
        "colab": {
          "base_uri": "https://localhost:8080/"
        },
        "id": "hOgnCPN7gpkL",
        "outputId": "976bb313-38ee-400f-d147-5bb2e33b6ab8"
      },
      "source": [
        "wine_data=pd.read_csv('/content/gdrive/MyDrive/wine.csv')\r\n",
        "print(wine_data)\r\n"
      ],
      "execution_count": 2,
      "outputs": [
        {
          "output_type": "stream",
          "text": [
            "     Wine  Alcohol  Malic.acid   Ash  ...  Color.int   Hue    OD  Proline\n",
            "0       1    14.23        1.71  2.43  ...       5.64  1.04  3.92     1065\n",
            "1       1    13.20        1.78  2.14  ...       4.38  1.05  3.40     1050\n",
            "2       1    13.16        2.36  2.67  ...       5.68  1.03  3.17     1185\n",
            "3       1    14.37        1.95  2.50  ...       7.80  0.86  3.45     1480\n",
            "4       1    13.24        2.59  2.87  ...       4.32  1.04  2.93      735\n",
            "..    ...      ...         ...   ...  ...        ...   ...   ...      ...\n",
            "173     3    13.71        5.65  2.45  ...       7.70  0.64  1.74      740\n",
            "174     3    13.40        3.91  2.48  ...       7.30  0.70  1.56      750\n",
            "175     3    13.27        4.28  2.26  ...      10.20  0.59  1.56      835\n",
            "176     3    13.17        2.59  2.37  ...       9.30  0.60  1.62      840\n",
            "177     3    14.13        4.10  2.74  ...       9.20  0.61  1.60      560\n",
            "\n",
            "[178 rows x 14 columns]\n"
          ],
          "name": "stdout"
        }
      ]
    },
    {
      "cell_type": "markdown",
      "metadata": {
        "id": "q2RgwQp8j6XU"
      },
      "source": [
        "Check whether all attributes are standardized or not (mean is 0 and standard deviation is 1). If not, standardize the attributes."
      ]
    },
    {
      "cell_type": "code",
      "metadata": {
        "colab": {
          "base_uri": "https://localhost:8080/"
        },
        "id": "xoIu2YEFj7xj",
        "outputId": "6e5ec6ec-e575-49d5-badc-07e392dc3f7b"
      },
      "source": [
        "Mean_result=list()\r\n",
        "for i in range(1,wine_data.shape[1]):\r\n",
        "  column=wine_data.columns[i]\r\n",
        "  Mean_result.append(wine_data[column].mean())\r\n",
        "print(Mean_result)\r\n",
        "print(len(Mean_result))"
      ],
      "execution_count": 3,
      "outputs": [
        {
          "output_type": "stream",
          "text": [
            "[13.000617977528083, 2.336348314606741, 2.3665168539325854, 19.49494382022472, 99.74157303370787, 2.295112359550562, 2.0292696629213474, 0.36185393258426973, 1.5908988764044953, 5.058089882022473, 0.9574494382022468, 2.6116853932584254, 746.8932584269663]\n",
            "13\n"
          ],
          "name": "stdout"
        }
      ]
    },
    {
      "cell_type": "code",
      "metadata": {
        "colab": {
          "base_uri": "https://localhost:8080/"
        },
        "id": "-0phcrdqn7Jp",
        "outputId": "0ed635e2-394e-4a1c-c086-f52b045ba4e5"
      },
      "source": [
        "SD_result=list()\r\n",
        "for i in range(1,wine_data.shape[1]):\r\n",
        "  column=wine_data.columns[i]\r\n",
        "  SD_result.append(wine_data[column].std())\r\n",
        "print(SD_result)"
      ],
      "execution_count": 4,
      "outputs": [
        {
          "output_type": "stream",
          "text": [
            "[0.8118265380058577, 1.1171460976144627, 0.2743440090608148, 3.3395637671735052, 14.282483515295668, 0.6258510488339891, 0.9988586850169465, 0.12445334029667939, 0.5723588626747611, 2.318285871822413, 0.22857156582982338, 0.7099904287650505, 314.9074742768489]\n"
          ],
          "name": "stdout"
        }
      ]
    },
    {
      "cell_type": "code",
      "metadata": {
        "id": "Sz_yXbJeGppZ"
      },
      "source": [
        "from matplotlib import pyplot as plt\r\n",
        "plt.figure(figsize = [20, 100]) \r\n",
        "for i in range(1,wine_data.shape[1]):\r\n",
        "  column=wine_data.columns[i]\r\n",
        "  plt.subplot(13, 1, i)\r\n",
        "  plt.title(column)\r\n",
        "  plt.hist(wine_data[column])"
      ],
      "execution_count": null,
      "outputs": []
    },
    {
      "cell_type": "code",
      "metadata": {
        "id": "oJ755ew5e9fP"
      },
      "source": [
        "import numpy as np\r\n",
        "\r\n",
        "from bokeh.plotting import figure\r\n",
        "from bokeh.io import output_notebook, show, output_file\r\n",
        "from bokeh.models import ColumnDataSource, HoverTool, Panel\r\n",
        "from bokeh.models.widgets import Tabs\r\n",
        "from bokeh.io import output_notebook\r\n",
        "\r\n",
        "def plot_hist(data,column):\r\n",
        "  hist,bins = np.histogram(data[column])\r\n",
        "\r\n",
        "  hist_info = pd.DataFrame({column: hist,\r\n",
        "                          \"left\": bins[:-1],\r\n",
        "                          \"right\": bins[1:]})\r\n",
        "\r\n",
        "  hist_info['tofrom'] = [f'{left} to {right}' for left,right in zip(hist_info['left'],hist_info['right'])]\r\n",
        "\r\n",
        "  src = ColumnDataSource(hist_info) #Creating a column data source for bokeh plotting\r\n",
        "\r\n",
        "\r\n",
        "  plot = figure(plot_height = 400, plot_width = 400,title=column)\r\n",
        "\r\n",
        "\r\n",
        "  plot.quad(bottom = 0, top = column,left = \"left\", right = \"right\", source = src, fill_color = 'red', \r\n",
        "    line_color = \"black\", fill_alpha = 0.7,\r\n",
        "    hover_fill_alpha = 1.0, hover_fill_color = 'blue')\r\n",
        "\r\n",
        "\r\n",
        "  hover = HoverTool(tooltips = [('Interval', '@tofrom'),\r\n",
        "                          ('Count', str(\"@\" + column))])\r\n",
        "  plot.add_tools(hover)\r\n",
        "\r\n",
        "  show(plot)\r\n",
        "  output_notebook()"
      ],
      "execution_count": 6,
      "outputs": []
    },
    {
      "cell_type": "code",
      "metadata": {
        "colab": {
          "base_uri": "https://localhost:8080/",
          "height": 1000
        },
        "id": "vff1U9XefilQ",
        "outputId": "9172b94b-e953-4492-9d4f-c403ab604fee"
      },
      "source": [
        "for i in wine_data.columns:\r\n",
        "  plot_hist(wine_data,i)"
      ],
      "execution_count": 7,
      "outputs": [
        {
          "output_type": "display_data",
          "data": {
            "application/javascript": [
              "\n",
              "(function(root) {\n",
              "  function now() {\n",
              "    return new Date();\n",
              "  }\n",
              "\n",
              "  var force = true;\n",
              "\n",
              "  if (typeof root._bokeh_onload_callbacks === \"undefined\" || force === true) {\n",
              "    root._bokeh_onload_callbacks = [];\n",
              "    root._bokeh_is_loading = undefined;\n",
              "  }\n",
              "\n",
              "  var JS_MIME_TYPE = 'application/javascript';\n",
              "  var HTML_MIME_TYPE = 'text/html';\n",
              "  var EXEC_MIME_TYPE = 'application/vnd.bokehjs_exec.v0+json';\n",
              "  var CLASS_NAME = 'output_bokeh rendered_html';\n",
              "\n",
              "  /**\n",
              "   * Render data to the DOM node\n",
              "   */\n",
              "  function render(props, node) {\n",
              "    var script = document.createElement(\"script\");\n",
              "    node.appendChild(script);\n",
              "  }\n",
              "\n",
              "  /**\n",
              "   * Handle when an output is cleared or removed\n",
              "   */\n",
              "  function handleClearOutput(event, handle) {\n",
              "    var cell = handle.cell;\n",
              "\n",
              "    var id = cell.output_area._bokeh_element_id;\n",
              "    var server_id = cell.output_area._bokeh_server_id;\n",
              "    // Clean up Bokeh references\n",
              "    if (id != null && id in Bokeh.index) {\n",
              "      Bokeh.index[id].model.document.clear();\n",
              "      delete Bokeh.index[id];\n",
              "    }\n",
              "\n",
              "    if (server_id !== undefined) {\n",
              "      // Clean up Bokeh references\n",
              "      var cmd = \"from bokeh.io.state import curstate; print(curstate().uuid_to_server['\" + server_id + \"'].get_sessions()[0].document.roots[0]._id)\";\n",
              "      cell.notebook.kernel.execute(cmd, {\n",
              "        iopub: {\n",
              "          output: function(msg) {\n",
              "            var id = msg.content.text.trim();\n",
              "            if (id in Bokeh.index) {\n",
              "              Bokeh.index[id].model.document.clear();\n",
              "              delete Bokeh.index[id];\n",
              "            }\n",
              "          }\n",
              "        }\n",
              "      });\n",
              "      // Destroy server and session\n",
              "      var cmd = \"import bokeh.io.notebook as ion; ion.destroy_server('\" + server_id + \"')\";\n",
              "      cell.notebook.kernel.execute(cmd);\n",
              "    }\n",
              "  }\n",
              "\n",
              "  /**\n",
              "   * Handle when a new output is added\n",
              "   */\n",
              "  function handleAddOutput(event, handle) {\n",
              "    var output_area = handle.output_area;\n",
              "    var output = handle.output;\n",
              "\n",
              "    // limit handleAddOutput to display_data with EXEC_MIME_TYPE content only\n",
              "    if ((output.output_type != \"display_data\") || (!output.data.hasOwnProperty(EXEC_MIME_TYPE))) {\n",
              "      return\n",
              "    }\n",
              "\n",
              "    var toinsert = output_area.element.find(\".\" + CLASS_NAME.split(' ')[0]);\n",
              "\n",
              "    if (output.metadata[EXEC_MIME_TYPE][\"id\"] !== undefined) {\n",
              "      toinsert[toinsert.length - 1].firstChild.textContent = output.data[JS_MIME_TYPE];\n",
              "      // store reference to embed id on output_area\n",
              "      output_area._bokeh_element_id = output.metadata[EXEC_MIME_TYPE][\"id\"];\n",
              "    }\n",
              "    if (output.metadata[EXEC_MIME_TYPE][\"server_id\"] !== undefined) {\n",
              "      var bk_div = document.createElement(\"div\");\n",
              "      bk_div.innerHTML = output.data[HTML_MIME_TYPE];\n",
              "      var script_attrs = bk_div.children[0].attributes;\n",
              "      for (var i = 0; i < script_attrs.length; i++) {\n",
              "        toinsert[toinsert.length - 1].firstChild.setAttribute(script_attrs[i].name, script_attrs[i].value);\n",
              "        toinsert[toinsert.length - 1].firstChild.textContent = bk_div.children[0].textContent\n",
              "      }\n",
              "      // store reference to server id on output_area\n",
              "      output_area._bokeh_server_id = output.metadata[EXEC_MIME_TYPE][\"server_id\"];\n",
              "    }\n",
              "  }\n",
              "\n",
              "  function register_renderer(events, OutputArea) {\n",
              "\n",
              "    function append_mime(data, metadata, element) {\n",
              "      // create a DOM node to render to\n",
              "      var toinsert = this.create_output_subarea(\n",
              "        metadata,\n",
              "        CLASS_NAME,\n",
              "        EXEC_MIME_TYPE\n",
              "      );\n",
              "      this.keyboard_manager.register_events(toinsert);\n",
              "      // Render to node\n",
              "      var props = {data: data, metadata: metadata[EXEC_MIME_TYPE]};\n",
              "      render(props, toinsert[toinsert.length - 1]);\n",
              "      element.append(toinsert);\n",
              "      return toinsert\n",
              "    }\n",
              "\n",
              "    /* Handle when an output is cleared or removed */\n",
              "    events.on('clear_output.CodeCell', handleClearOutput);\n",
              "    events.on('delete.Cell', handleClearOutput);\n",
              "\n",
              "    /* Handle when a new output is added */\n",
              "    events.on('output_added.OutputArea', handleAddOutput);\n",
              "\n",
              "    /**\n",
              "     * Register the mime type and append_mime function with output_area\n",
              "     */\n",
              "    OutputArea.prototype.register_mime_type(EXEC_MIME_TYPE, append_mime, {\n",
              "      /* Is output safe? */\n",
              "      safe: true,\n",
              "      /* Index of renderer in `output_area.display_order` */\n",
              "      index: 0\n",
              "    });\n",
              "  }\n",
              "\n",
              "  // register the mime type if in Jupyter Notebook environment and previously unregistered\n",
              "  if (root.Jupyter !== undefined) {\n",
              "    var events = require('base/js/events');\n",
              "    var OutputArea = require('notebook/js/outputarea').OutputArea;\n",
              "\n",
              "    if (OutputArea.prototype.mime_types().indexOf(EXEC_MIME_TYPE) == -1) {\n",
              "      register_renderer(events, OutputArea);\n",
              "    }\n",
              "  }\n",
              "\n",
              "  \n",
              "  if (typeof (root._bokeh_timeout) === \"undefined\" || force === true) {\n",
              "    root._bokeh_timeout = Date.now() + 5000;\n",
              "    root._bokeh_failed_load = false;\n",
              "  }\n",
              "\n",
              "  var NB_LOAD_WARNING = {'data': {'text/html':\n",
              "     \"<div style='background-color: #fdd'>\\n\"+\n",
              "     \"<p>\\n\"+\n",
              "     \"BokehJS does not appear to have successfully loaded. If loading BokehJS from CDN, this \\n\"+\n",
              "     \"may be due to a slow or bad network connection. Possible fixes:\\n\"+\n",
              "     \"</p>\\n\"+\n",
              "     \"<ul>\\n\"+\n",
              "     \"<li>re-rerun `output_notebook()` to attempt to load from CDN again, or</li>\\n\"+\n",
              "     \"<li>use INLINE resources instead, as so:</li>\\n\"+\n",
              "     \"</ul>\\n\"+\n",
              "     \"<code>\\n\"+\n",
              "     \"from bokeh.resources import INLINE\\n\"+\n",
              "     \"output_notebook(resources=INLINE)\\n\"+\n",
              "     \"</code>\\n\"+\n",
              "     \"</div>\"}};\n",
              "\n",
              "  function display_loaded() {\n",
              "    var el = document.getElementById(null);\n",
              "    if (el != null) {\n",
              "      el.textContent = \"BokehJS is loading...\";\n",
              "    }\n",
              "    if (root.Bokeh !== undefined) {\n",
              "      if (el != null) {\n",
              "        el.textContent = \"BokehJS \" + root.Bokeh.version + \" successfully loaded.\";\n",
              "      }\n",
              "    } else if (Date.now() < root._bokeh_timeout) {\n",
              "      setTimeout(display_loaded, 100)\n",
              "    }\n",
              "  }\n",
              "\n",
              "\n",
              "  function run_callbacks() {\n",
              "    try {\n",
              "      root._bokeh_onload_callbacks.forEach(function(callback) {\n",
              "        if (callback != null)\n",
              "          callback();\n",
              "      });\n",
              "    } finally {\n",
              "      delete root._bokeh_onload_callbacks\n",
              "    }\n",
              "    console.debug(\"Bokeh: all callbacks have finished\");\n",
              "  }\n",
              "\n",
              "  function load_libs(css_urls, js_urls, callback) {\n",
              "    if (css_urls == null) css_urls = [];\n",
              "    if (js_urls == null) js_urls = [];\n",
              "\n",
              "    root._bokeh_onload_callbacks.push(callback);\n",
              "    if (root._bokeh_is_loading > 0) {\n",
              "      console.debug(\"Bokeh: BokehJS is being loaded, scheduling callback at\", now());\n",
              "      return null;\n",
              "    }\n",
              "    if (js_urls == null || js_urls.length === 0) {\n",
              "      run_callbacks();\n",
              "      return null;\n",
              "    }\n",
              "    console.debug(\"Bokeh: BokehJS not loaded, scheduling load and callback at\", now());\n",
              "    root._bokeh_is_loading = css_urls.length + js_urls.length;\n",
              "\n",
              "    function on_load() {\n",
              "      root._bokeh_is_loading--;\n",
              "      if (root._bokeh_is_loading === 0) {\n",
              "        console.debug(\"Bokeh: all BokehJS libraries/stylesheets loaded\");\n",
              "        run_callbacks()\n",
              "      }\n",
              "    }\n",
              "\n",
              "    function on_error() {\n",
              "      console.error(\"failed to load \" + url);\n",
              "    }\n",
              "\n",
              "    for (var i = 0; i < css_urls.length; i++) {\n",
              "      var url = css_urls[i];\n",
              "      const element = document.createElement(\"link\");\n",
              "      element.onload = on_load;\n",
              "      element.onerror = on_error;\n",
              "      element.rel = \"stylesheet\";\n",
              "      element.type = \"text/css\";\n",
              "      element.href = url;\n",
              "      console.debug(\"Bokeh: injecting link tag for BokehJS stylesheet: \", url);\n",
              "      document.body.appendChild(element);\n",
              "    }\n",
              "\n",
              "    const hashes = {\"https://cdn.bokeh.org/bokeh/release/bokeh-2.1.1.min.js\": \"kLr4fYcqcSpbuI95brIH3vnnYCquzzSxHPU6XGQCIkQRGJwhg0StNbj1eegrHs12\", \"https://cdn.bokeh.org/bokeh/release/bokeh-widgets-2.1.1.min.js\": \"xIGPmVtaOm+z0BqfSOMn4lOR6ciex448GIKG4eE61LsAvmGj48XcMQZtKcE/UXZe\", \"https://cdn.bokeh.org/bokeh/release/bokeh-tables-2.1.1.min.js\": \"Dc9u1wF/0zApGIWoBbH77iWEHtdmkuYWG839Uzmv8y8yBLXebjO9ZnERsde5Ln/P\", \"https://cdn.bokeh.org/bokeh/release/bokeh-gl-2.1.1.min.js\": \"cT9JaBz7GiRXdENrJLZNSC6eMNF3nh3fa5fTF51Svp+ukxPdwcU5kGXGPBgDCa2j\"};\n",
              "\n",
              "    for (var i = 0; i < js_urls.length; i++) {\n",
              "      var url = js_urls[i];\n",
              "      var element = document.createElement('script');\n",
              "      element.onload = on_load;\n",
              "      element.onerror = on_error;\n",
              "      element.async = false;\n",
              "      element.src = url;\n",
              "      if (url in hashes) {\n",
              "        element.crossOrigin = \"anonymous\";\n",
              "        element.integrity = \"sha384-\" + hashes[url];\n",
              "      }\n",
              "      console.debug(\"Bokeh: injecting script tag for BokehJS library: \", url);\n",
              "      document.head.appendChild(element);\n",
              "    }\n",
              "  };\n",
              "\n",
              "  function inject_raw_css(css) {\n",
              "    const element = document.createElement(\"style\");\n",
              "    element.appendChild(document.createTextNode(css));\n",
              "    document.body.appendChild(element);\n",
              "  }\n",
              "\n",
              "  \n",
              "  var js_urls = [\"https://cdn.bokeh.org/bokeh/release/bokeh-2.1.1.min.js\", \"https://cdn.bokeh.org/bokeh/release/bokeh-widgets-2.1.1.min.js\", \"https://cdn.bokeh.org/bokeh/release/bokeh-tables-2.1.1.min.js\", \"https://cdn.bokeh.org/bokeh/release/bokeh-gl-2.1.1.min.js\"];\n",
              "  var css_urls = [];\n",
              "  \n",
              "\n",
              "  var inline_js = [\n",
              "    function(Bokeh) {\n",
              "      Bokeh.set_log_level(\"info\");\n",
              "    },\n",
              "    function(Bokeh) {\n",
              "    \n",
              "    \n",
              "    }\n",
              "  ];\n",
              "\n",
              "  function run_inline_js() {\n",
              "    \n",
              "    if (root.Bokeh !== undefined || force === true) {\n",
              "      \n",
              "    for (var i = 0; i < inline_js.length; i++) {\n",
              "      inline_js[i].call(root, root.Bokeh);\n",
              "    }\n",
              "    } else if (Date.now() < root._bokeh_timeout) {\n",
              "      setTimeout(run_inline_js, 100);\n",
              "    } else if (!root._bokeh_failed_load) {\n",
              "      console.log(\"Bokeh: BokehJS failed to load within specified timeout.\");\n",
              "      root._bokeh_failed_load = true;\n",
              "    } else if (force !== true) {\n",
              "      var cell = $(document.getElementById(null)).parents('.cell').data().cell;\n",
              "      cell.output_area.append_execute_result(NB_LOAD_WARNING)\n",
              "    }\n",
              "\n",
              "  }\n",
              "\n",
              "  if (root._bokeh_is_loading === 0) {\n",
              "    console.debug(\"Bokeh: BokehJS loaded, going straight to plotting\");\n",
              "    run_inline_js();\n",
              "  } else {\n",
              "    load_libs(css_urls, js_urls, function() {\n",
              "      console.debug(\"Bokeh: BokehJS plotting callback run at\", now());\n",
              "      run_inline_js();\n",
              "    });\n",
              "  }\n",
              "}(window));"
            ],
            "application/vnd.bokehjs_load.v0+json": "\n(function(root) {\n  function now() {\n    return new Date();\n  }\n\n  var force = true;\n\n  if (typeof root._bokeh_onload_callbacks === \"undefined\" || force === true) {\n    root._bokeh_onload_callbacks = [];\n    root._bokeh_is_loading = undefined;\n  }\n\n  \n\n  \n  if (typeof (root._bokeh_timeout) === \"undefined\" || force === true) {\n    root._bokeh_timeout = Date.now() + 5000;\n    root._bokeh_failed_load = false;\n  }\n\n  var NB_LOAD_WARNING = {'data': {'text/html':\n     \"<div style='background-color: #fdd'>\\n\"+\n     \"<p>\\n\"+\n     \"BokehJS does not appear to have successfully loaded. If loading BokehJS from CDN, this \\n\"+\n     \"may be due to a slow or bad network connection. Possible fixes:\\n\"+\n     \"</p>\\n\"+\n     \"<ul>\\n\"+\n     \"<li>re-rerun `output_notebook()` to attempt to load from CDN again, or</li>\\n\"+\n     \"<li>use INLINE resources instead, as so:</li>\\n\"+\n     \"</ul>\\n\"+\n     \"<code>\\n\"+\n     \"from bokeh.resources import INLINE\\n\"+\n     \"output_notebook(resources=INLINE)\\n\"+\n     \"</code>\\n\"+\n     \"</div>\"}};\n\n  function display_loaded() {\n    var el = document.getElementById(null);\n    if (el != null) {\n      el.textContent = \"BokehJS is loading...\";\n    }\n    if (root.Bokeh !== undefined) {\n      if (el != null) {\n        el.textContent = \"BokehJS \" + root.Bokeh.version + \" successfully loaded.\";\n      }\n    } else if (Date.now() < root._bokeh_timeout) {\n      setTimeout(display_loaded, 100)\n    }\n  }\n\n\n  function run_callbacks() {\n    try {\n      root._bokeh_onload_callbacks.forEach(function(callback) {\n        if (callback != null)\n          callback();\n      });\n    } finally {\n      delete root._bokeh_onload_callbacks\n    }\n    console.debug(\"Bokeh: all callbacks have finished\");\n  }\n\n  function load_libs(css_urls, js_urls, callback) {\n    if (css_urls == null) css_urls = [];\n    if (js_urls == null) js_urls = [];\n\n    root._bokeh_onload_callbacks.push(callback);\n    if (root._bokeh_is_loading > 0) {\n      console.debug(\"Bokeh: BokehJS is being loaded, scheduling callback at\", now());\n      return null;\n    }\n    if (js_urls == null || js_urls.length === 0) {\n      run_callbacks();\n      return null;\n    }\n    console.debug(\"Bokeh: BokehJS not loaded, scheduling load and callback at\", now());\n    root._bokeh_is_loading = css_urls.length + js_urls.length;\n\n    function on_load() {\n      root._bokeh_is_loading--;\n      if (root._bokeh_is_loading === 0) {\n        console.debug(\"Bokeh: all BokehJS libraries/stylesheets loaded\");\n        run_callbacks()\n      }\n    }\n\n    function on_error() {\n      console.error(\"failed to load \" + url);\n    }\n\n    for (var i = 0; i < css_urls.length; i++) {\n      var url = css_urls[i];\n      const element = document.createElement(\"link\");\n      element.onload = on_load;\n      element.onerror = on_error;\n      element.rel = \"stylesheet\";\n      element.type = \"text/css\";\n      element.href = url;\n      console.debug(\"Bokeh: injecting link tag for BokehJS stylesheet: \", url);\n      document.body.appendChild(element);\n    }\n\n    const hashes = {\"https://cdn.bokeh.org/bokeh/release/bokeh-2.1.1.min.js\": \"kLr4fYcqcSpbuI95brIH3vnnYCquzzSxHPU6XGQCIkQRGJwhg0StNbj1eegrHs12\", \"https://cdn.bokeh.org/bokeh/release/bokeh-widgets-2.1.1.min.js\": \"xIGPmVtaOm+z0BqfSOMn4lOR6ciex448GIKG4eE61LsAvmGj48XcMQZtKcE/UXZe\", \"https://cdn.bokeh.org/bokeh/release/bokeh-tables-2.1.1.min.js\": \"Dc9u1wF/0zApGIWoBbH77iWEHtdmkuYWG839Uzmv8y8yBLXebjO9ZnERsde5Ln/P\", \"https://cdn.bokeh.org/bokeh/release/bokeh-gl-2.1.1.min.js\": \"cT9JaBz7GiRXdENrJLZNSC6eMNF3nh3fa5fTF51Svp+ukxPdwcU5kGXGPBgDCa2j\"};\n\n    for (var i = 0; i < js_urls.length; i++) {\n      var url = js_urls[i];\n      var element = document.createElement('script');\n      element.onload = on_load;\n      element.onerror = on_error;\n      element.async = false;\n      element.src = url;\n      if (url in hashes) {\n        element.crossOrigin = \"anonymous\";\n        element.integrity = \"sha384-\" + hashes[url];\n      }\n      console.debug(\"Bokeh: injecting script tag for BokehJS library: \", url);\n      document.head.appendChild(element);\n    }\n  };\n\n  function inject_raw_css(css) {\n    const element = document.createElement(\"style\");\n    element.appendChild(document.createTextNode(css));\n    document.body.appendChild(element);\n  }\n\n  \n  var js_urls = [\"https://cdn.bokeh.org/bokeh/release/bokeh-2.1.1.min.js\", \"https://cdn.bokeh.org/bokeh/release/bokeh-widgets-2.1.1.min.js\", \"https://cdn.bokeh.org/bokeh/release/bokeh-tables-2.1.1.min.js\", \"https://cdn.bokeh.org/bokeh/release/bokeh-gl-2.1.1.min.js\"];\n  var css_urls = [];\n  \n\n  var inline_js = [\n    function(Bokeh) {\n      Bokeh.set_log_level(\"info\");\n    },\n    function(Bokeh) {\n    \n    \n    }\n  ];\n\n  function run_inline_js() {\n    \n    if (root.Bokeh !== undefined || force === true) {\n      \n    for (var i = 0; i < inline_js.length; i++) {\n      inline_js[i].call(root, root.Bokeh);\n    }\n    } else if (Date.now() < root._bokeh_timeout) {\n      setTimeout(run_inline_js, 100);\n    } else if (!root._bokeh_failed_load) {\n      console.log(\"Bokeh: BokehJS failed to load within specified timeout.\");\n      root._bokeh_failed_load = true;\n    } else if (force !== true) {\n      var cell = $(document.getElementById(null)).parents('.cell').data().cell;\n      cell.output_area.append_execute_result(NB_LOAD_WARNING)\n    }\n\n  }\n\n  if (root._bokeh_is_loading === 0) {\n    console.debug(\"Bokeh: BokehJS loaded, going straight to plotting\");\n    run_inline_js();\n  } else {\n    load_libs(css_urls, js_urls, function() {\n      console.debug(\"Bokeh: BokehJS plotting callback run at\", now());\n      run_inline_js();\n    });\n  }\n}(window));"
          },
          "metadata": {
            "tags": []
          }
        },
        {
          "output_type": "display_data",
          "data": {
            "text/html": [
              "\n",
              "\n",
              "\n",
              "\n",
              "\n",
              "\n",
              "  <div class=\"bk-root\" id=\"fbd7c2e4-db90-4b5e-858e-28616a5b62b2\" data-root-id=\"1141\"></div>\n"
            ]
          },
          "metadata": {
            "tags": []
          }
        },
        {
          "output_type": "display_data",
          "data": {
            "application/javascript": [
              "(function(root) {\n",
              "  function embed_document(root) {\n",
              "    \n",
              "  var docs_json = {\"ef1811a7-8313-4ca9-b699-961490a61879\":{\"roots\":{\"references\":[{\"attributes\":{\"below\":[{\"id\":\"1152\"}],\"center\":[{\"id\":\"1155\"},{\"id\":\"1159\"}],\"left\":[{\"id\":\"1156\"}],\"plot_height\":400,\"plot_width\":400,\"renderers\":[{\"id\":\"1178\"}],\"title\":{\"id\":\"1142\"},\"toolbar\":{\"id\":\"1167\"},\"x_range\":{\"id\":\"1144\"},\"x_scale\":{\"id\":\"1148\"},\"y_range\":{\"id\":\"1146\"},\"y_scale\":{\"id\":\"1150\"}},\"id\":\"1141\",\"subtype\":\"Figure\",\"type\":\"Plot\"},{\"attributes\":{},\"id\":\"1163\",\"type\":\"SaveTool\"},{\"attributes\":{\"active_drag\":\"auto\",\"active_inspect\":\"auto\",\"active_multi\":null,\"active_scroll\":\"auto\",\"active_tap\":\"auto\",\"tools\":[{\"id\":\"1160\"},{\"id\":\"1161\"},{\"id\":\"1162\"},{\"id\":\"1163\"},{\"id\":\"1164\"},{\"id\":\"1165\"},{\"id\":\"1180\"}]},\"id\":\"1167\",\"type\":\"Toolbar\"},{\"attributes\":{\"text\":\"Alcohol\"},\"id\":\"1142\",\"type\":\"Title\"},{\"attributes\":{\"data\":{\"Alcohol\":[1,10,19,31,21,27,25,25,17,2],\"index\":[0,1,2,3,4,5,6,7,8,9],\"left\":{\"__ndarray__\":\"j8L1KFwPJkBSuB6F69EmQBSuR+F6lCdA16NwPQpXKECZmZmZmRkpQFyPwvUo3ClAHoXrUbieKkDhehSuR2ErQKRwPQrXIyxAZmZmZmbmLEA=\",\"dtype\":\"float64\",\"order\":\"little\",\"shape\":[10]},\"right\":{\"__ndarray__\":\"UrgehevRJkAUrkfhepQnQNejcD0KVyhAmZmZmZkZKUBcj8L1KNwpQB6F61G4nipA4XoUrkdhK0CkcD0K1yMsQGZmZmZm5ixAKVyPwvWoLUA=\",\"dtype\":\"float64\",\"order\":\"little\",\"shape\":[10]},\"tofrom\":[\"11.03 to 11.41\",\"11.41 to 11.79\",\"11.79 to 12.17\",\"12.17 to 12.549999999999999\",\"12.549999999999999 to 12.93\",\"12.93 to 13.309999999999999\",\"13.309999999999999 to 13.69\",\"13.69 to 14.07\",\"14.07 to 14.45\",\"14.45 to 14.83\"]},\"selected\":{\"id\":\"1188\"},\"selection_policy\":{\"id\":\"1187\"}},\"id\":\"1140\",\"type\":\"ColumnDataSource\"},{\"attributes\":{\"bottom\":{\"value\":0},\"fill_alpha\":{\"value\":0.7},\"fill_color\":{\"value\":\"red\"},\"left\":{\"field\":\"left\"},\"right\":{\"field\":\"right\"},\"top\":{\"field\":\"Alcohol\"}},\"id\":\"1175\",\"type\":\"Quad\"},{\"attributes\":{\"callback\":null,\"tooltips\":[[\"Interval\",\"@tofrom\"],[\"Count\",\"@Alcohol\"]]},\"id\":\"1180\",\"type\":\"HoverTool\"},{\"attributes\":{\"source\":{\"id\":\"1140\"}},\"id\":\"1179\",\"type\":\"CDSView\"},{\"attributes\":{},\"id\":\"1164\",\"type\":\"ResetTool\"},{\"attributes\":{\"bottom\":{\"value\":0},\"fill_alpha\":{\"value\":0.1},\"fill_color\":{\"value\":\"red\"},\"left\":{\"field\":\"left\"},\"line_alpha\":{\"value\":0.1},\"right\":{\"field\":\"right\"},\"top\":{\"field\":\"Alcohol\"}},\"id\":\"1176\",\"type\":\"Quad\"},{\"attributes\":{},\"id\":\"1185\",\"type\":\"BasicTickFormatter\"},{\"attributes\":{},\"id\":\"1183\",\"type\":\"BasicTickFormatter\"},{\"attributes\":{},\"id\":\"1146\",\"type\":\"DataRange1d\"},{\"attributes\":{\"axis\":{\"id\":\"1156\"},\"dimension\":1,\"ticker\":null},\"id\":\"1159\",\"type\":\"Grid\"},{\"attributes\":{},\"id\":\"1148\",\"type\":\"LinearScale\"},{\"attributes\":{\"bottom_units\":\"screen\",\"fill_alpha\":0.5,\"fill_color\":\"lightgrey\",\"left_units\":\"screen\",\"level\":\"overlay\",\"line_alpha\":1.0,\"line_color\":\"black\",\"line_dash\":[4,4],\"line_width\":2,\"right_units\":\"screen\",\"top_units\":\"screen\"},\"id\":\"1166\",\"type\":\"BoxAnnotation\"},{\"attributes\":{\"axis\":{\"id\":\"1152\"},\"ticker\":null},\"id\":\"1155\",\"type\":\"Grid\"},{\"attributes\":{},\"id\":\"1157\",\"type\":\"BasicTicker\"},{\"attributes\":{\"formatter\":{\"id\":\"1185\"},\"ticker\":{\"id\":\"1153\"}},\"id\":\"1152\",\"type\":\"LinearAxis\"},{\"attributes\":{},\"id\":\"1161\",\"type\":\"WheelZoomTool\"},{\"attributes\":{\"bottom\":{\"value\":0},\"fill_color\":{\"value\":\"blue\"},\"left\":{\"field\":\"left\"},\"right\":{\"field\":\"right\"},\"top\":{\"field\":\"Alcohol\"}},\"id\":\"1177\",\"type\":\"Quad\"},{\"attributes\":{},\"id\":\"1160\",\"type\":\"PanTool\"},{\"attributes\":{},\"id\":\"1144\",\"type\":\"DataRange1d\"},{\"attributes\":{\"overlay\":{\"id\":\"1166\"}},\"id\":\"1162\",\"type\":\"BoxZoomTool\"},{\"attributes\":{},\"id\":\"1150\",\"type\":\"LinearScale\"},{\"attributes\":{\"formatter\":{\"id\":\"1183\"},\"ticker\":{\"id\":\"1157\"}},\"id\":\"1156\",\"type\":\"LinearAxis\"},{\"attributes\":{},\"id\":\"1153\",\"type\":\"BasicTicker\"},{\"attributes\":{},\"id\":\"1188\",\"type\":\"Selection\"},{\"attributes\":{},\"id\":\"1165\",\"type\":\"HelpTool\"},{\"attributes\":{},\"id\":\"1187\",\"type\":\"UnionRenderers\"},{\"attributes\":{\"data_source\":{\"id\":\"1140\"},\"glyph\":{\"id\":\"1175\"},\"hover_glyph\":{\"id\":\"1177\"},\"muted_glyph\":null,\"nonselection_glyph\":{\"id\":\"1176\"},\"selection_glyph\":null,\"view\":{\"id\":\"1179\"}},\"id\":\"1178\",\"type\":\"GlyphRenderer\"}],\"root_ids\":[\"1141\"]},\"title\":\"Bokeh Application\",\"version\":\"2.1.1\"}};\n",
              "  var render_items = [{\"docid\":\"ef1811a7-8313-4ca9-b699-961490a61879\",\"root_ids\":[\"1141\"],\"roots\":{\"1141\":\"fbd7c2e4-db90-4b5e-858e-28616a5b62b2\"}}];\n",
              "  root.Bokeh.embed.embed_items_notebook(docs_json, render_items);\n",
              "\n",
              "  }\n",
              "  if (root.Bokeh !== undefined) {\n",
              "    embed_document(root);\n",
              "  } else {\n",
              "    var attempts = 0;\n",
              "    var timer = setInterval(function(root) {\n",
              "      if (root.Bokeh !== undefined) {\n",
              "        clearInterval(timer);\n",
              "        embed_document(root);\n",
              "      } else {\n",
              "        attempts++;\n",
              "        if (attempts > 100) {\n",
              "          clearInterval(timer);\n",
              "          console.log(\"Bokeh: ERROR: Unable to run BokehJS code because BokehJS library is missing\");\n",
              "        }\n",
              "      }\n",
              "    }, 10, root)\n",
              "  }\n",
              "})(window);"
            ],
            "application/vnd.bokehjs_exec.v0+json": ""
          },
          "metadata": {
            "tags": [],
            "application/vnd.bokehjs_exec.v0+json": {
              "id": "1141"
            }
          }
        },
        {
          "output_type": "display_data",
          "data": {
            "text/html": [
              "\n",
              "\n",
              "\n",
              "\n",
              "\n",
              "\n",
              "  <div class=\"bk-root\" id=\"e5791ebc-b822-47d5-9fc5-02dcb575aef4\" data-root-id=\"1239\"></div>\n"
            ]
          },
          "metadata": {
            "tags": []
          }
        },
        {
          "output_type": "display_data",
          "data": {
            "application/javascript": [
              "(function(root) {\n",
              "  function embed_document(root) {\n",
              "    \n",
              "  var docs_json = {\"07a2304f-a332-42dc-9f0f-46a6ebff5023\":{\"roots\":{\"references\":[{\"attributes\":{\"below\":[{\"id\":\"1250\"}],\"center\":[{\"id\":\"1253\"},{\"id\":\"1257\"}],\"left\":[{\"id\":\"1254\"}],\"plot_height\":400,\"plot_width\":400,\"renderers\":[{\"id\":\"1276\"}],\"title\":{\"id\":\"1240\"},\"toolbar\":{\"id\":\"1265\"},\"x_range\":{\"id\":\"1242\"},\"x_scale\":{\"id\":\"1246\"},\"y_range\":{\"id\":\"1244\"},\"y_scale\":{\"id\":\"1248\"}},\"id\":\"1239\",\"subtype\":\"Figure\",\"type\":\"Plot\"},{\"attributes\":{},\"id\":\"1251\",\"type\":\"BasicTicker\"},{\"attributes\":{},\"id\":\"1255\",\"type\":\"BasicTicker\"},{\"attributes\":{},\"id\":\"1293\",\"type\":\"UnionRenderers\"},{\"attributes\":{},\"id\":\"1244\",\"type\":\"DataRange1d\"},{\"attributes\":{},\"id\":\"1263\",\"type\":\"HelpTool\"},{\"attributes\":{\"callback\":null,\"tooltips\":[[\"Interval\",\"@tofrom\"],[\"Count\",\"@Malic.acid\"]]},\"id\":\"1278\",\"type\":\"HoverTool\"},{\"attributes\":{\"axis\":{\"id\":\"1250\"},\"ticker\":null},\"id\":\"1253\",\"type\":\"Grid\"},{\"attributes\":{},\"id\":\"1246\",\"type\":\"LinearScale\"},{\"attributes\":{\"bottom\":{\"value\":0},\"fill_alpha\":{\"value\":0.7},\"fill_color\":{\"value\":\"red\"},\"left\":{\"field\":\"left\"},\"right\":{\"field\":\"right\"},\"top\":{\"field\":\"Malic.acid\"}},\"id\":\"1273\",\"type\":\"Quad\"},{\"attributes\":{},\"id\":\"1242\",\"type\":\"DataRange1d\"},{\"attributes\":{},\"id\":\"1248\",\"type\":\"LinearScale\"},{\"attributes\":{\"text\":\"Malic.acid\"},\"id\":\"1240\",\"type\":\"Title\"},{\"attributes\":{},\"id\":\"1262\",\"type\":\"ResetTool\"},{\"attributes\":{},\"id\":\"1258\",\"type\":\"PanTool\"},{\"attributes\":{},\"id\":\"1289\",\"type\":\"BasicTickFormatter\"},{\"attributes\":{\"bottom\":{\"value\":0},\"fill_alpha\":{\"value\":0.1},\"fill_color\":{\"value\":\"red\"},\"left\":{\"field\":\"left\"},\"line_alpha\":{\"value\":0.1},\"right\":{\"field\":\"right\"},\"top\":{\"field\":\"Malic.acid\"}},\"id\":\"1274\",\"type\":\"Quad\"},{\"attributes\":{\"axis\":{\"id\":\"1254\"},\"dimension\":1,\"ticker\":null},\"id\":\"1257\",\"type\":\"Grid\"},{\"attributes\":{\"data\":{\"Malic.acid\":[18,59,33,16,14,11,14,7,3,3],\"index\":[0,1,2,3,4,5,6,7,8,9],\"left\":{\"__ndarray__\":\"rkfhehSu5z9WDi2yne/zP9V46SYxCPw/qvHSTWIQAkDqJjEIrBwGQCpcj8L1KApAaJHtfD81DkBU46WbxCARQPT91HjpJhNAlBgEVg4tFUA=\",\"dtype\":\"float64\",\"order\":\"little\",\"shape\":[10]},\"right\":{\"__ndarray__\":\"Vg4tsp3v8z/VeOkmMQj8P6rx0k1iEAJA6iYxCKwcBkAqXI/C9SgKQGiR7Xw/NQ5AVOOlm8QgEUD0/dR46SYTQJQYBFYOLRVAMzMzMzMzF0A=\",\"dtype\":\"float64\",\"order\":\"little\",\"shape\":[10]},\"tofrom\":[\"0.74 to 1.246\",\"1.246 to 1.752\",\"1.752 to 2.258\",\"2.258 to 2.7640000000000002\",\"2.7640000000000002 to 3.2700000000000005\",\"3.2700000000000005 to 3.776\",\"3.776 to 4.282\",\"4.282 to 4.788\",\"4.788 to 5.2940000000000005\",\"5.2940000000000005 to 5.8\"]},\"selected\":{\"id\":\"1294\"},\"selection_policy\":{\"id\":\"1293\"}},\"id\":\"1238\",\"type\":\"ColumnDataSource\"},{\"attributes\":{\"bottom_units\":\"screen\",\"fill_alpha\":0.5,\"fill_color\":\"lightgrey\",\"left_units\":\"screen\",\"level\":\"overlay\",\"line_alpha\":1.0,\"line_color\":\"black\",\"line_dash\":[4,4],\"line_width\":2,\"right_units\":\"screen\",\"top_units\":\"screen\"},\"id\":\"1264\",\"type\":\"BoxAnnotation\"},{\"attributes\":{\"formatter\":{\"id\":\"1289\"},\"ticker\":{\"id\":\"1255\"}},\"id\":\"1254\",\"type\":\"LinearAxis\"},{\"attributes\":{},\"id\":\"1261\",\"type\":\"SaveTool\"},{\"attributes\":{\"source\":{\"id\":\"1238\"}},\"id\":\"1277\",\"type\":\"CDSView\"},{\"attributes\":{\"overlay\":{\"id\":\"1264\"}},\"id\":\"1260\",\"type\":\"BoxZoomTool\"},{\"attributes\":{},\"id\":\"1291\",\"type\":\"BasicTickFormatter\"},{\"attributes\":{\"bottom\":{\"value\":0},\"fill_color\":{\"value\":\"blue\"},\"left\":{\"field\":\"left\"},\"right\":{\"field\":\"right\"},\"top\":{\"field\":\"Malic.acid\"}},\"id\":\"1275\",\"type\":\"Quad\"},{\"attributes\":{},\"id\":\"1294\",\"type\":\"Selection\"},{\"attributes\":{},\"id\":\"1259\",\"type\":\"WheelZoomTool\"},{\"attributes\":{\"data_source\":{\"id\":\"1238\"},\"glyph\":{\"id\":\"1273\"},\"hover_glyph\":{\"id\":\"1275\"},\"muted_glyph\":null,\"nonselection_glyph\":{\"id\":\"1274\"},\"selection_glyph\":null,\"view\":{\"id\":\"1277\"}},\"id\":\"1276\",\"type\":\"GlyphRenderer\"},{\"attributes\":{\"active_drag\":\"auto\",\"active_inspect\":\"auto\",\"active_multi\":null,\"active_scroll\":\"auto\",\"active_tap\":\"auto\",\"tools\":[{\"id\":\"1258\"},{\"id\":\"1259\"},{\"id\":\"1260\"},{\"id\":\"1261\"},{\"id\":\"1262\"},{\"id\":\"1263\"},{\"id\":\"1278\"}]},\"id\":\"1265\",\"type\":\"Toolbar\"},{\"attributes\":{\"formatter\":{\"id\":\"1291\"},\"ticker\":{\"id\":\"1251\"}},\"id\":\"1250\",\"type\":\"LinearAxis\"}],\"root_ids\":[\"1239\"]},\"title\":\"Bokeh Application\",\"version\":\"2.1.1\"}};\n",
              "  var render_items = [{\"docid\":\"07a2304f-a332-42dc-9f0f-46a6ebff5023\",\"root_ids\":[\"1239\"],\"roots\":{\"1239\":\"e5791ebc-b822-47d5-9fc5-02dcb575aef4\"}}];\n",
              "  root.Bokeh.embed.embed_items_notebook(docs_json, render_items);\n",
              "\n",
              "  }\n",
              "  if (root.Bokeh !== undefined) {\n",
              "    embed_document(root);\n",
              "  } else {\n",
              "    var attempts = 0;\n",
              "    var timer = setInterval(function(root) {\n",
              "      if (root.Bokeh !== undefined) {\n",
              "        clearInterval(timer);\n",
              "        embed_document(root);\n",
              "      } else {\n",
              "        attempts++;\n",
              "        if (attempts > 100) {\n",
              "          clearInterval(timer);\n",
              "          console.log(\"Bokeh: ERROR: Unable to run BokehJS code because BokehJS library is missing\");\n",
              "        }\n",
              "      }\n",
              "    }, 10, root)\n",
              "  }\n",
              "})(window);"
            ],
            "application/vnd.bokehjs_exec.v0+json": ""
          },
          "metadata": {
            "tags": [],
            "application/vnd.bokehjs_exec.v0+json": {
              "id": "1239"
            }
          }
        },
        {
          "output_type": "display_data",
          "data": {
            "text/html": [
              "\n",
              "\n",
              "\n",
              "\n",
              "\n",
              "\n",
              "  <div class=\"bk-root\" id=\"762da0c6-f4c0-4424-b26d-4ac3f807a877\" data-root-id=\"1345\"></div>\n"
            ]
          },
          "metadata": {
            "tags": []
          }
        },
        {
          "output_type": "display_data",
          "data": {
            "application/javascript": [
              "(function(root) {\n",
              "  function embed_document(root) {\n",
              "    \n",
              "  var docs_json = {\"0d5bf446-622b-4d57-8f6b-9530a056d1a5\":{\"roots\":{\"references\":[{\"attributes\":{\"below\":[{\"id\":\"1356\"}],\"center\":[{\"id\":\"1359\"},{\"id\":\"1363\"}],\"left\":[{\"id\":\"1360\"}],\"plot_height\":400,\"plot_width\":400,\"renderers\":[{\"id\":\"1382\"}],\"title\":{\"id\":\"1346\"},\"toolbar\":{\"id\":\"1371\"},\"x_range\":{\"id\":\"1348\"},\"x_scale\":{\"id\":\"1352\"},\"y_range\":{\"id\":\"1350\"},\"y_scale\":{\"id\":\"1354\"}},\"id\":\"1345\",\"subtype\":\"Figure\",\"type\":\"Plot\"},{\"attributes\":{\"formatter\":{\"id\":\"1403\"},\"ticker\":{\"id\":\"1361\"}},\"id\":\"1360\",\"type\":\"LinearAxis\"},{\"attributes\":{\"bottom_units\":\"screen\",\"fill_alpha\":0.5,\"fill_color\":\"lightgrey\",\"left_units\":\"screen\",\"level\":\"overlay\",\"line_alpha\":1.0,\"line_color\":\"black\",\"line_dash\":[4,4],\"line_width\":2,\"right_units\":\"screen\",\"top_units\":\"screen\"},\"id\":\"1370\",\"type\":\"BoxAnnotation\"},{\"attributes\":{\"formatter\":{\"id\":\"1405\"},\"ticker\":{\"id\":\"1357\"}},\"id\":\"1356\",\"type\":\"LinearAxis\"},{\"attributes\":{},\"id\":\"1348\",\"type\":\"DataRange1d\"},{\"attributes\":{\"callback\":null,\"tooltips\":[[\"Interval\",\"@tofrom\"],[\"Count\",\"@Ash\"]]},\"id\":\"1384\",\"type\":\"HoverTool\"},{\"attributes\":{},\"id\":\"1368\",\"type\":\"ResetTool\"},{\"attributes\":{},\"id\":\"1354\",\"type\":\"LinearScale\"},{\"attributes\":{},\"id\":\"1361\",\"type\":\"BasicTicker\"},{\"attributes\":{\"source\":{\"id\":\"1344\"}},\"id\":\"1383\",\"type\":\"CDSView\"},{\"attributes\":{},\"id\":\"1367\",\"type\":\"SaveTool\"},{\"attributes\":{\"axis\":{\"id\":\"1356\"},\"ticker\":null},\"id\":\"1359\",\"type\":\"Grid\"},{\"attributes\":{\"data_source\":{\"id\":\"1344\"},\"glyph\":{\"id\":\"1379\"},\"hover_glyph\":{\"id\":\"1381\"},\"muted_glyph\":null,\"nonselection_glyph\":{\"id\":\"1380\"},\"selection_glyph\":null,\"view\":{\"id\":\"1383\"}},\"id\":\"1382\",\"type\":\"GlyphRenderer\"},{\"attributes\":{},\"id\":\"1403\",\"type\":\"BasicTickFormatter\"},{\"attributes\":{\"overlay\":{\"id\":\"1370\"}},\"id\":\"1366\",\"type\":\"BoxZoomTool\"},{\"attributes\":{},\"id\":\"1408\",\"type\":\"Selection\"},{\"attributes\":{},\"id\":\"1369\",\"type\":\"HelpTool\"},{\"attributes\":{},\"id\":\"1407\",\"type\":\"UnionRenderers\"},{\"attributes\":{},\"id\":\"1350\",\"type\":\"DataRange1d\"},{\"attributes\":{},\"id\":\"1365\",\"type\":\"WheelZoomTool\"},{\"attributes\":{},\"id\":\"1352\",\"type\":\"LinearScale\"},{\"attributes\":{\"bottom\":{\"value\":0},\"fill_alpha\":{\"value\":0.7},\"fill_color\":{\"value\":\"red\"},\"left\":{\"field\":\"left\"},\"right\":{\"field\":\"right\"},\"top\":{\"field\":\"Ash\"}},\"id\":\"1379\",\"type\":\"Quad\"},{\"attributes\":{\"data\":{\"Ash\":[1,3,7,14,43,54,31,20,3,2],\"index\":[0,1,2,3,4,5,6,7,8,9],\"left\":{\"__ndarray__\":\"w/UoXI/C9T+Ol24Sg8D4P1g5tMh2vvs/I9v5fmq8/j93vp8aL90AQFyPwvUoXAJAQmDl0CLbA0AnMQisHFoFQAwCK4cW2QZA8tJNYhBYCEA=\",\"dtype\":\"float64\",\"order\":\"little\",\"shape\":[10]},\"right\":{\"__ndarray__\":\"jpduEoPA+D9YObTIdr77PyPb+X5qvP4/d76fGi/dAEBcj8L1KFwCQEJg5dAi2wNAJzEIrBxaBUAMAiuHFtkGQPLSTWIQWAhA16NwPQrXCUA=\",\"dtype\":\"float64\",\"order\":\"little\",\"shape\":[10]},\"tofrom\":[\"1.36 to 1.5470000000000002\",\"1.5470000000000002 to 1.734\",\"1.734 to 1.921\",\"1.921 to 2.108\",\"2.108 to 2.295\",\"2.295 to 2.482\",\"2.482 to 2.669\",\"2.669 to 2.856\",\"2.856 to 3.043\",\"3.043 to 3.23\"]},\"selected\":{\"id\":\"1408\"},\"selection_policy\":{\"id\":\"1407\"}},\"id\":\"1344\",\"type\":\"ColumnDataSource\"},{\"attributes\":{\"text\":\"Ash\"},\"id\":\"1346\",\"type\":\"Title\"},{\"attributes\":{},\"id\":\"1405\",\"type\":\"BasicTickFormatter\"},{\"attributes\":{},\"id\":\"1357\",\"type\":\"BasicTicker\"},{\"attributes\":{},\"id\":\"1364\",\"type\":\"PanTool\"},{\"attributes\":{\"active_drag\":\"auto\",\"active_inspect\":\"auto\",\"active_multi\":null,\"active_scroll\":\"auto\",\"active_tap\":\"auto\",\"tools\":[{\"id\":\"1364\"},{\"id\":\"1365\"},{\"id\":\"1366\"},{\"id\":\"1367\"},{\"id\":\"1368\"},{\"id\":\"1369\"},{\"id\":\"1384\"}]},\"id\":\"1371\",\"type\":\"Toolbar\"},{\"attributes\":{\"bottom\":{\"value\":0},\"fill_color\":{\"value\":\"blue\"},\"left\":{\"field\":\"left\"},\"right\":{\"field\":\"right\"},\"top\":{\"field\":\"Ash\"}},\"id\":\"1381\",\"type\":\"Quad\"},{\"attributes\":{\"bottom\":{\"value\":0},\"fill_alpha\":{\"value\":0.1},\"fill_color\":{\"value\":\"red\"},\"left\":{\"field\":\"left\"},\"line_alpha\":{\"value\":0.1},\"right\":{\"field\":\"right\"},\"top\":{\"field\":\"Ash\"}},\"id\":\"1380\",\"type\":\"Quad\"},{\"attributes\":{\"axis\":{\"id\":\"1360\"},\"dimension\":1,\"ticker\":null},\"id\":\"1363\",\"type\":\"Grid\"}],\"root_ids\":[\"1345\"]},\"title\":\"Bokeh Application\",\"version\":\"2.1.1\"}};\n",
              "  var render_items = [{\"docid\":\"0d5bf446-622b-4d57-8f6b-9530a056d1a5\",\"root_ids\":[\"1345\"],\"roots\":{\"1345\":\"762da0c6-f4c0-4424-b26d-4ac3f807a877\"}}];\n",
              "  root.Bokeh.embed.embed_items_notebook(docs_json, render_items);\n",
              "\n",
              "  }\n",
              "  if (root.Bokeh !== undefined) {\n",
              "    embed_document(root);\n",
              "  } else {\n",
              "    var attempts = 0;\n",
              "    var timer = setInterval(function(root) {\n",
              "      if (root.Bokeh !== undefined) {\n",
              "        clearInterval(timer);\n",
              "        embed_document(root);\n",
              "      } else {\n",
              "        attempts++;\n",
              "        if (attempts > 100) {\n",
              "          clearInterval(timer);\n",
              "          console.log(\"Bokeh: ERROR: Unable to run BokehJS code because BokehJS library is missing\");\n",
              "        }\n",
              "      }\n",
              "    }, 10, root)\n",
              "  }\n",
              "})(window);"
            ],
            "application/vnd.bokehjs_exec.v0+json": ""
          },
          "metadata": {
            "tags": [],
            "application/vnd.bokehjs_exec.v0+json": {
              "id": "1345"
            }
          }
        },
        {
          "output_type": "display_data",
          "data": {
            "text/html": [
              "\n",
              "\n",
              "\n",
              "\n",
              "\n",
              "\n",
              "  <div class=\"bk-root\" id=\"e5e83f8c-fe8a-48f0-9361-f1e9b045ea35\" data-root-id=\"1459\"></div>\n"
            ]
          },
          "metadata": {
            "tags": []
          }
        },
        {
          "output_type": "display_data",
          "data": {
            "application/javascript": [
              "(function(root) {\n",
              "  function embed_document(root) {\n",
              "    \n",
              "  var docs_json = {\"aca2abb2-b091-4a7b-9800-710c5d8f6a26\":{\"roots\":{\"references\":[{\"attributes\":{\"below\":[{\"id\":\"1470\"}],\"center\":[{\"id\":\"1473\"},{\"id\":\"1477\"}],\"left\":[{\"id\":\"1474\"}],\"plot_height\":400,\"plot_width\":400,\"renderers\":[{\"id\":\"1496\"}],\"title\":{\"id\":\"1460\"},\"toolbar\":{\"id\":\"1485\"},\"x_range\":{\"id\":\"1462\"},\"x_scale\":{\"id\":\"1466\"},\"y_range\":{\"id\":\"1464\"},\"y_scale\":{\"id\":\"1468\"}},\"id\":\"1459\",\"subtype\":\"Figure\",\"type\":\"Plot\"},{\"attributes\":{},\"id\":\"1468\",\"type\":\"LinearScale\"},{\"attributes\":{\"bottom_units\":\"screen\",\"fill_alpha\":0.5,\"fill_color\":\"lightgrey\",\"left_units\":\"screen\",\"level\":\"overlay\",\"line_alpha\":1.0,\"line_color\":\"black\",\"line_dash\":[4,4],\"line_width\":2,\"right_units\":\"screen\",\"top_units\":\"screen\"},\"id\":\"1484\",\"type\":\"BoxAnnotation\"},{\"attributes\":{\"active_drag\":\"auto\",\"active_inspect\":\"auto\",\"active_multi\":null,\"active_scroll\":\"auto\",\"active_tap\":\"auto\",\"tools\":[{\"id\":\"1478\"},{\"id\":\"1479\"},{\"id\":\"1480\"},{\"id\":\"1481\"},{\"id\":\"1482\"},{\"id\":\"1483\"},{\"id\":\"1498\"}]},\"id\":\"1485\",\"type\":\"Toolbar\"},{\"attributes\":{},\"id\":\"1464\",\"type\":\"DataRange1d\"},{\"attributes\":{},\"id\":\"1466\",\"type\":\"LinearScale\"},{\"attributes\":{\"bottom\":{\"value\":0},\"fill_alpha\":{\"value\":0.1},\"fill_color\":{\"value\":\"red\"},\"left\":{\"field\":\"left\"},\"line_alpha\":{\"value\":0.1},\"right\":{\"field\":\"right\"},\"top\":{\"field\":\"Acl\"}},\"id\":\"1494\",\"type\":\"Quad\"},{\"attributes\":{},\"id\":\"1462\",\"type\":\"DataRange1d\"},{\"attributes\":{},\"id\":\"1525\",\"type\":\"BasicTickFormatter\"},{\"attributes\":{},\"id\":\"1471\",\"type\":\"BasicTicker\"},{\"attributes\":{},\"id\":\"1529\",\"type\":\"UnionRenderers\"},{\"attributes\":{\"data_source\":{\"id\":\"1458\"},\"glyph\":{\"id\":\"1493\"},\"hover_glyph\":{\"id\":\"1495\"},\"muted_glyph\":null,\"nonselection_glyph\":{\"id\":\"1494\"},\"selection_glyph\":null,\"view\":{\"id\":\"1497\"}},\"id\":\"1496\",\"type\":\"GlyphRenderer\"},{\"attributes\":{},\"id\":\"1475\",\"type\":\"BasicTicker\"},{\"attributes\":{},\"id\":\"1527\",\"type\":\"BasicTickFormatter\"},{\"attributes\":{\"axis\":{\"id\":\"1470\"},\"ticker\":null},\"id\":\"1473\",\"type\":\"Grid\"},{\"attributes\":{},\"id\":\"1478\",\"type\":\"PanTool\"},{\"attributes\":{},\"id\":\"1530\",\"type\":\"Selection\"},{\"attributes\":{\"axis\":{\"id\":\"1474\"},\"dimension\":1,\"ticker\":null},\"id\":\"1477\",\"type\":\"Grid\"},{\"attributes\":{},\"id\":\"1483\",\"type\":\"HelpTool\"},{\"attributes\":{},\"id\":\"1479\",\"type\":\"WheelZoomTool\"},{\"attributes\":{\"bottom\":{\"value\":0},\"fill_alpha\":{\"value\":0.7},\"fill_color\":{\"value\":\"red\"},\"left\":{\"field\":\"left\"},\"right\":{\"field\":\"right\"},\"top\":{\"field\":\"Acl\"}},\"id\":\"1493\",\"type\":\"Quad\"},{\"attributes\":{\"source\":{\"id\":\"1458\"}},\"id\":\"1497\",\"type\":\"CDSView\"},{\"attributes\":{\"text\":\"Acl\"},\"id\":\"1460\",\"type\":\"Title\"},{\"attributes\":{\"overlay\":{\"id\":\"1484\"}},\"id\":\"1480\",\"type\":\"BoxZoomTool\"},{\"attributes\":{},\"id\":\"1481\",\"type\":\"SaveTool\"},{\"attributes\":{\"formatter\":{\"id\":\"1527\"},\"ticker\":{\"id\":\"1471\"}},\"id\":\"1470\",\"type\":\"LinearAxis\"},{\"attributes\":{\"formatter\":{\"id\":\"1525\"},\"ticker\":{\"id\":\"1475\"}},\"id\":\"1474\",\"type\":\"LinearAxis\"},{\"attributes\":{\"data\":{\"Acl\":[5,3,24,32,47,34,18,10,2,3],\"index\":[0,1,2,3,4,5,6,7,8,9],\"left\":{\"__ndarray__\":\"MzMzMzMzJUAUrkfhehQpQPYoXI/C9SxA7FG4HoVrMEBcj8L1KFwyQMzMzMzMTDRAPgrXo3A9NkCuR+F6FC44QB6F61G4HjpAkML1KFwPPEA=\",\"dtype\":\"float64\",\"order\":\"little\",\"shape\":[10]},\"right\":{\"__ndarray__\":\"FK5H4XoUKUD2KFyPwvUsQOxRuB6FazBAXI/C9ShcMkDMzMzMzEw0QD4K16NwPTZArkfhehQuOEAehetRuB46QJDC9ShcDzxAAAAAAAAAPkA=\",\"dtype\":\"float64\",\"order\":\"little\",\"shape\":[10]},\"tofrom\":[\"10.6 to 12.54\",\"12.54 to 14.48\",\"14.48 to 16.42\",\"16.42 to 18.36\",\"18.36 to 20.299999999999997\",\"20.299999999999997 to 22.240000000000002\",\"22.240000000000002 to 24.18\",\"24.18 to 26.119999999999997\",\"26.119999999999997 to 28.060000000000002\",\"28.060000000000002 to 30.0\"]},\"selected\":{\"id\":\"1530\"},\"selection_policy\":{\"id\":\"1529\"}},\"id\":\"1458\",\"type\":\"ColumnDataSource\"},{\"attributes\":{},\"id\":\"1482\",\"type\":\"ResetTool\"},{\"attributes\":{\"callback\":null,\"tooltips\":[[\"Interval\",\"@tofrom\"],[\"Count\",\"@Acl\"]]},\"id\":\"1498\",\"type\":\"HoverTool\"},{\"attributes\":{\"bottom\":{\"value\":0},\"fill_color\":{\"value\":\"blue\"},\"left\":{\"field\":\"left\"},\"right\":{\"field\":\"right\"},\"top\":{\"field\":\"Acl\"}},\"id\":\"1495\",\"type\":\"Quad\"}],\"root_ids\":[\"1459\"]},\"title\":\"Bokeh Application\",\"version\":\"2.1.1\"}};\n",
              "  var render_items = [{\"docid\":\"aca2abb2-b091-4a7b-9800-710c5d8f6a26\",\"root_ids\":[\"1459\"],\"roots\":{\"1459\":\"e5e83f8c-fe8a-48f0-9361-f1e9b045ea35\"}}];\n",
              "  root.Bokeh.embed.embed_items_notebook(docs_json, render_items);\n",
              "\n",
              "  }\n",
              "  if (root.Bokeh !== undefined) {\n",
              "    embed_document(root);\n",
              "  } else {\n",
              "    var attempts = 0;\n",
              "    var timer = setInterval(function(root) {\n",
              "      if (root.Bokeh !== undefined) {\n",
              "        clearInterval(timer);\n",
              "        embed_document(root);\n",
              "      } else {\n",
              "        attempts++;\n",
              "        if (attempts > 100) {\n",
              "          clearInterval(timer);\n",
              "          console.log(\"Bokeh: ERROR: Unable to run BokehJS code because BokehJS library is missing\");\n",
              "        }\n",
              "      }\n",
              "    }, 10, root)\n",
              "  }\n",
              "})(window);"
            ],
            "application/vnd.bokehjs_exec.v0+json": ""
          },
          "metadata": {
            "tags": [],
            "application/vnd.bokehjs_exec.v0+json": {
              "id": "1459"
            }
          }
        },
        {
          "output_type": "display_data",
          "data": {
            "text/html": [
              "\n",
              "\n",
              "\n",
              "\n",
              "\n",
              "\n",
              "  <div class=\"bk-root\" id=\"6e7d2460-1cdc-43bf-95b4-61ec3bfe5043\" data-root-id=\"1581\"></div>\n"
            ]
          },
          "metadata": {
            "tags": []
          }
        },
        {
          "output_type": "display_data",
          "data": {
            "application/javascript": [
              "(function(root) {\n",
              "  function embed_document(root) {\n",
              "    \n",
              "  var docs_json = {\"a7ce9da2-2017-4f05-909f-b886e911fbea\":{\"roots\":{\"references\":[{\"attributes\":{\"below\":[{\"id\":\"1592\"}],\"center\":[{\"id\":\"1595\"},{\"id\":\"1599\"}],\"left\":[{\"id\":\"1596\"}],\"plot_height\":400,\"plot_width\":400,\"renderers\":[{\"id\":\"1618\"}],\"title\":{\"id\":\"1582\"},\"toolbar\":{\"id\":\"1607\"},\"x_range\":{\"id\":\"1584\"},\"x_scale\":{\"id\":\"1588\"},\"y_range\":{\"id\":\"1586\"},\"y_scale\":{\"id\":\"1590\"}},\"id\":\"1581\",\"subtype\":\"Figure\",\"type\":\"Plot\"},{\"attributes\":{\"bottom\":{\"value\":0},\"fill_alpha\":{\"value\":0.1},\"fill_color\":{\"value\":\"red\"},\"left\":{\"field\":\"left\"},\"line_alpha\":{\"value\":0.1},\"right\":{\"field\":\"right\"},\"top\":{\"field\":\"Mg\"}},\"id\":\"1616\",\"type\":\"Quad\"},{\"attributes\":{},\"id\":\"1605\",\"type\":\"HelpTool\"},{\"attributes\":{},\"id\":\"1655\",\"type\":\"BasicTickFormatter\"},{\"attributes\":{},\"id\":\"1597\",\"type\":\"BasicTicker\"},{\"attributes\":{},\"id\":\"1660\",\"type\":\"Selection\"},{\"attributes\":{},\"id\":\"1659\",\"type\":\"UnionRenderers\"},{\"attributes\":{\"axis\":{\"id\":\"1592\"},\"ticker\":null},\"id\":\"1595\",\"type\":\"Grid\"},{\"attributes\":{\"text\":\"Mg\"},\"id\":\"1582\",\"type\":\"Title\"},{\"attributes\":{},\"id\":\"1600\",\"type\":\"PanTool\"},{\"attributes\":{\"formatter\":{\"id\":\"1657\"},\"ticker\":{\"id\":\"1593\"}},\"id\":\"1592\",\"type\":\"LinearAxis\"},{\"attributes\":{},\"id\":\"1588\",\"type\":\"LinearScale\"},{\"attributes\":{\"data\":{\"Mg\":[4,43,40,43,24,15,5,2,1,1],\"index\":[0,1,2,3,4,5,6,7,8,9],\"left\":{\"__ndarray__\":\"AAAAAACAUUDNzMzMzMxTQJqZmZmZGVZAZmZmZmZmWEAzMzMzM7NaQAAAAAAAAF1AzMzMzMxMX0DMzMzMzMxgQDMzMzMz82FAmpmZmZkZY0A=\",\"dtype\":\"float64\",\"order\":\"little\",\"shape\":[10]},\"right\":{\"__ndarray__\":\"zczMzMzMU0CamZmZmRlWQGZmZmZmZlhAMzMzMzOzWkAAAAAAAABdQMzMzMzMTF9AzMzMzMzMYEAzMzMzM/NhQJqZmZmZGWNAAAAAAABAZEA=\",\"dtype\":\"float64\",\"order\":\"little\",\"shape\":[10]},\"tofrom\":[\"70.0 to 79.2\",\"79.2 to 88.4\",\"88.4 to 97.6\",\"97.6 to 106.8\",\"106.8 to 116.0\",\"116.0 to 125.19999999999999\",\"125.19999999999999 to 134.39999999999998\",\"134.39999999999998 to 143.6\",\"143.6 to 152.8\",\"152.8 to 162.0\"]},\"selected\":{\"id\":\"1660\"},\"selection_policy\":{\"id\":\"1659\"}},\"id\":\"1580\",\"type\":\"ColumnDataSource\"},{\"attributes\":{},\"id\":\"1593\",\"type\":\"BasicTicker\"},{\"attributes\":{\"bottom\":{\"value\":0},\"fill_color\":{\"value\":\"blue\"},\"left\":{\"field\":\"left\"},\"right\":{\"field\":\"right\"},\"top\":{\"field\":\"Mg\"}},\"id\":\"1617\",\"type\":\"Quad\"},{\"attributes\":{\"bottom_units\":\"screen\",\"fill_alpha\":0.5,\"fill_color\":\"lightgrey\",\"left_units\":\"screen\",\"level\":\"overlay\",\"line_alpha\":1.0,\"line_color\":\"black\",\"line_dash\":[4,4],\"line_width\":2,\"right_units\":\"screen\",\"top_units\":\"screen\"},\"id\":\"1606\",\"type\":\"BoxAnnotation\"},{\"attributes\":{\"data_source\":{\"id\":\"1580\"},\"glyph\":{\"id\":\"1615\"},\"hover_glyph\":{\"id\":\"1617\"},\"muted_glyph\":null,\"nonselection_glyph\":{\"id\":\"1616\"},\"selection_glyph\":null,\"view\":{\"id\":\"1619\"}},\"id\":\"1618\",\"type\":\"GlyphRenderer\"},{\"attributes\":{\"source\":{\"id\":\"1580\"}},\"id\":\"1619\",\"type\":\"CDSView\"},{\"attributes\":{},\"id\":\"1586\",\"type\":\"DataRange1d\"},{\"attributes\":{\"overlay\":{\"id\":\"1606\"}},\"id\":\"1602\",\"type\":\"BoxZoomTool\"},{\"attributes\":{},\"id\":\"1584\",\"type\":\"DataRange1d\"},{\"attributes\":{},\"id\":\"1601\",\"type\":\"WheelZoomTool\"},{\"attributes\":{\"callback\":null,\"tooltips\":[[\"Interval\",\"@tofrom\"],[\"Count\",\"@Mg\"]]},\"id\":\"1620\",\"type\":\"HoverTool\"},{\"attributes\":{\"axis\":{\"id\":\"1596\"},\"dimension\":1,\"ticker\":null},\"id\":\"1599\",\"type\":\"Grid\"},{\"attributes\":{},\"id\":\"1590\",\"type\":\"LinearScale\"},{\"attributes\":{\"bottom\":{\"value\":0},\"fill_alpha\":{\"value\":0.7},\"fill_color\":{\"value\":\"red\"},\"left\":{\"field\":\"left\"},\"right\":{\"field\":\"right\"},\"top\":{\"field\":\"Mg\"}},\"id\":\"1615\",\"type\":\"Quad\"},{\"attributes\":{},\"id\":\"1603\",\"type\":\"SaveTool\"},{\"attributes\":{\"formatter\":{\"id\":\"1655\"},\"ticker\":{\"id\":\"1597\"}},\"id\":\"1596\",\"type\":\"LinearAxis\"},{\"attributes\":{},\"id\":\"1604\",\"type\":\"ResetTool\"},{\"attributes\":{},\"id\":\"1657\",\"type\":\"BasicTickFormatter\"},{\"attributes\":{\"active_drag\":\"auto\",\"active_inspect\":\"auto\",\"active_multi\":null,\"active_scroll\":\"auto\",\"active_tap\":\"auto\",\"tools\":[{\"id\":\"1600\"},{\"id\":\"1601\"},{\"id\":\"1602\"},{\"id\":\"1603\"},{\"id\":\"1604\"},{\"id\":\"1605\"},{\"id\":\"1620\"}]},\"id\":\"1607\",\"type\":\"Toolbar\"}],\"root_ids\":[\"1581\"]},\"title\":\"Bokeh Application\",\"version\":\"2.1.1\"}};\n",
              "  var render_items = [{\"docid\":\"a7ce9da2-2017-4f05-909f-b886e911fbea\",\"root_ids\":[\"1581\"],\"roots\":{\"1581\":\"6e7d2460-1cdc-43bf-95b4-61ec3bfe5043\"}}];\n",
              "  root.Bokeh.embed.embed_items_notebook(docs_json, render_items);\n",
              "\n",
              "  }\n",
              "  if (root.Bokeh !== undefined) {\n",
              "    embed_document(root);\n",
              "  } else {\n",
              "    var attempts = 0;\n",
              "    var timer = setInterval(function(root) {\n",
              "      if (root.Bokeh !== undefined) {\n",
              "        clearInterval(timer);\n",
              "        embed_document(root);\n",
              "      } else {\n",
              "        attempts++;\n",
              "        if (attempts > 100) {\n",
              "          clearInterval(timer);\n",
              "          console.log(\"Bokeh: ERROR: Unable to run BokehJS code because BokehJS library is missing\");\n",
              "        }\n",
              "      }\n",
              "    }, 10, root)\n",
              "  }\n",
              "})(window);"
            ],
            "application/vnd.bokehjs_exec.v0+json": ""
          },
          "metadata": {
            "tags": [],
            "application/vnd.bokehjs_exec.v0+json": {
              "id": "1581"
            }
          }
        },
        {
          "output_type": "display_data",
          "data": {
            "text/html": [
              "\n",
              "\n",
              "\n",
              "\n",
              "\n",
              "\n",
              "  <div class=\"bk-root\" id=\"133e27f7-eb4e-442b-abe2-e769cf670671\" data-root-id=\"1711\"></div>\n"
            ]
          },
          "metadata": {
            "tags": []
          }
        },
        {
          "output_type": "display_data",
          "data": {
            "application/javascript": [
              "(function(root) {\n",
              "  function embed_document(root) {\n",
              "    \n",
              "  var docs_json = {\"9831b9ae-0a7e-4104-81f5-ddefcc859347\":{\"roots\":{\"references\":[{\"attributes\":{\"below\":[{\"id\":\"1722\"}],\"center\":[{\"id\":\"1725\"},{\"id\":\"1729\"}],\"left\":[{\"id\":\"1726\"}],\"plot_height\":400,\"plot_width\":400,\"renderers\":[{\"id\":\"1748\"}],\"title\":{\"id\":\"1712\"},\"toolbar\":{\"id\":\"1737\"},\"x_range\":{\"id\":\"1714\"},\"x_scale\":{\"id\":\"1718\"},\"y_range\":{\"id\":\"1716\"},\"y_scale\":{\"id\":\"1720\"}},\"id\":\"1711\",\"subtype\":\"Figure\",\"type\":\"Plot\"},{\"attributes\":{},\"id\":\"1714\",\"type\":\"DataRange1d\"},{\"attributes\":{},\"id\":\"1734\",\"type\":\"ResetTool\"},{\"attributes\":{},\"id\":\"1793\",\"type\":\"BasicTickFormatter\"},{\"attributes\":{},\"id\":\"1727\",\"type\":\"BasicTicker\"},{\"attributes\":{},\"id\":\"1716\",\"type\":\"DataRange1d\"},{\"attributes\":{\"callback\":null,\"tooltips\":[[\"Interval\",\"@tofrom\"],[\"Count\",\"@Phenols\"]]},\"id\":\"1750\",\"type\":\"HoverTool\"},{\"attributes\":{},\"id\":\"1735\",\"type\":\"HelpTool\"},{\"attributes\":{},\"id\":\"1720\",\"type\":\"LinearScale\"},{\"attributes\":{},\"id\":\"1795\",\"type\":\"BasicTickFormatter\"},{\"attributes\":{},\"id\":\"1798\",\"type\":\"Selection\"},{\"attributes\":{},\"id\":\"1718\",\"type\":\"LinearScale\"},{\"attributes\":{\"formatter\":{\"id\":\"1795\"},\"ticker\":{\"id\":\"1723\"}},\"id\":\"1722\",\"type\":\"LinearAxis\"},{\"attributes\":{\"bottom\":{\"value\":0},\"fill_alpha\":{\"value\":0.7},\"fill_color\":{\"value\":\"red\"},\"left\":{\"field\":\"left\"},\"right\":{\"field\":\"right\"},\"top\":{\"field\":\"Phenols\"}},\"id\":\"1745\",\"type\":\"Quad\"},{\"attributes\":{\"bottom\":{\"value\":0},\"fill_color\":{\"value\":\"blue\"},\"left\":{\"field\":\"left\"},\"right\":{\"field\":\"right\"},\"top\":{\"field\":\"Phenols\"}},\"id\":\"1747\",\"type\":\"Quad\"},{\"attributes\":{},\"id\":\"1797\",\"type\":\"UnionRenderers\"},{\"attributes\":{\"axis\":{\"id\":\"1722\"},\"ticker\":null},\"id\":\"1725\",\"type\":\"Grid\"},{\"attributes\":{\"overlay\":{\"id\":\"1736\"}},\"id\":\"1732\",\"type\":\"BoxZoomTool\"},{\"attributes\":{},\"id\":\"1733\",\"type\":\"SaveTool\"},{\"attributes\":{},\"id\":\"1723\",\"type\":\"BasicTicker\"},{\"attributes\":{},\"id\":\"1730\",\"type\":\"PanTool\"},{\"attributes\":{\"axis\":{\"id\":\"1726\"},\"dimension\":1,\"ticker\":null},\"id\":\"1729\",\"type\":\"Grid\"},{\"attributes\":{},\"id\":\"1731\",\"type\":\"WheelZoomTool\"},{\"attributes\":{\"bottom_units\":\"screen\",\"fill_alpha\":0.5,\"fill_color\":\"lightgrey\",\"left_units\":\"screen\",\"level\":\"overlay\",\"line_alpha\":1.0,\"line_color\":\"black\",\"line_dash\":[4,4],\"line_width\":2,\"right_units\":\"screen\",\"top_units\":\"screen\"},\"id\":\"1736\",\"type\":\"BoxAnnotation\"},{\"attributes\":{\"active_drag\":\"auto\",\"active_inspect\":\"auto\",\"active_multi\":null,\"active_scroll\":\"auto\",\"active_tap\":\"auto\",\"tools\":[{\"id\":\"1730\"},{\"id\":\"1731\"},{\"id\":\"1732\"},{\"id\":\"1733\"},{\"id\":\"1734\"},{\"id\":\"1735\"},{\"id\":\"1750\"}]},\"id\":\"1737\",\"type\":\"Toolbar\"},{\"attributes\":{\"data_source\":{\"id\":\"1710\"},\"glyph\":{\"id\":\"1745\"},\"hover_glyph\":{\"id\":\"1747\"},\"muted_glyph\":null,\"nonselection_glyph\":{\"id\":\"1746\"},\"selection_glyph\":null,\"view\":{\"id\":\"1749\"}},\"id\":\"1748\",\"type\":\"GlyphRenderer\"},{\"attributes\":{\"text\":\"Phenols\"},\"id\":\"1712\",\"type\":\"Title\"},{\"attributes\":{\"source\":{\"id\":\"1710\"}},\"id\":\"1749\",\"type\":\"CDSView\"},{\"attributes\":{\"bottom\":{\"value\":0},\"fill_alpha\":{\"value\":0.1},\"fill_color\":{\"value\":\"red\"},\"left\":{\"field\":\"left\"},\"line_alpha\":{\"value\":0.1},\"right\":{\"field\":\"right\"},\"top\":{\"field\":\"Phenols\"}},\"id\":\"1746\",\"type\":\"Quad\"},{\"attributes\":{\"data\":{\"Phenols\":[4,22,26,24,20,30,33,10,7,2],\"index\":[0,1,2,3,4,5,6,7,8,9],\"left\":{\"__ndarray__\":\"XI/C9Shc7z9SuB6F61H0P/YoXI/C9fg/mZmZmZmZ/T8ehetRuB4BQHA9CtejcANAwvUoXI/CBUAUrkfhehQIQGZmZmZmZgpAuB6F61G4DEA=\",\"dtype\":\"float64\",\"order\":\"little\",\"shape\":[10]},\"right\":{\"__ndarray__\":\"UrgehetR9D/2KFyPwvX4P5mZmZmZmf0/HoXrUbgeAUBwPQrXo3ADQML1KFyPwgVAFK5H4XoUCEBmZmZmZmYKQLgehetRuAxACtejcD0KD0A=\",\"dtype\":\"float64\",\"order\":\"little\",\"shape\":[10]},\"tofrom\":[\"0.98 to 1.27\",\"1.27 to 1.56\",\"1.56 to 1.8499999999999999\",\"1.8499999999999999 to 2.1399999999999997\",\"2.1399999999999997 to 2.4299999999999997\",\"2.4299999999999997 to 2.7199999999999998\",\"2.7199999999999998 to 3.01\",\"3.01 to 3.3\",\"3.3 to 3.59\",\"3.59 to 3.88\"]},\"selected\":{\"id\":\"1798\"},\"selection_policy\":{\"id\":\"1797\"}},\"id\":\"1710\",\"type\":\"ColumnDataSource\"},{\"attributes\":{\"formatter\":{\"id\":\"1793\"},\"ticker\":{\"id\":\"1727\"}},\"id\":\"1726\",\"type\":\"LinearAxis\"}],\"root_ids\":[\"1711\"]},\"title\":\"Bokeh Application\",\"version\":\"2.1.1\"}};\n",
              "  var render_items = [{\"docid\":\"9831b9ae-0a7e-4104-81f5-ddefcc859347\",\"root_ids\":[\"1711\"],\"roots\":{\"1711\":\"133e27f7-eb4e-442b-abe2-e769cf670671\"}}];\n",
              "  root.Bokeh.embed.embed_items_notebook(docs_json, render_items);\n",
              "\n",
              "  }\n",
              "  if (root.Bokeh !== undefined) {\n",
              "    embed_document(root);\n",
              "  } else {\n",
              "    var attempts = 0;\n",
              "    var timer = setInterval(function(root) {\n",
              "      if (root.Bokeh !== undefined) {\n",
              "        clearInterval(timer);\n",
              "        embed_document(root);\n",
              "      } else {\n",
              "        attempts++;\n",
              "        if (attempts > 100) {\n",
              "          clearInterval(timer);\n",
              "          console.log(\"Bokeh: ERROR: Unable to run BokehJS code because BokehJS library is missing\");\n",
              "        }\n",
              "      }\n",
              "    }, 10, root)\n",
              "  }\n",
              "})(window);"
            ],
            "application/vnd.bokehjs_exec.v0+json": ""
          },
          "metadata": {
            "tags": [],
            "application/vnd.bokehjs_exec.v0+json": {
              "id": "1711"
            }
          }
        },
        {
          "output_type": "display_data",
          "data": {
            "text/html": [
              "\n",
              "\n",
              "\n",
              "\n",
              "\n",
              "\n",
              "  <div class=\"bk-root\" id=\"fc984127-99a9-4728-b919-24247858cd07\" data-root-id=\"1849\"></div>\n"
            ]
          },
          "metadata": {
            "tags": []
          }
        },
        {
          "output_type": "display_data",
          "data": {
            "application/javascript": [
              "(function(root) {\n",
              "  function embed_document(root) {\n",
              "    \n",
              "  var docs_json = {\"a4e324b2-e575-4a3b-ac7a-97bc7fe6eb1c\":{\"roots\":{\"references\":[{\"attributes\":{\"below\":[{\"id\":\"1860\"}],\"center\":[{\"id\":\"1863\"},{\"id\":\"1867\"}],\"left\":[{\"id\":\"1864\"}],\"plot_height\":400,\"plot_width\":400,\"renderers\":[{\"id\":\"1886\"}],\"title\":{\"id\":\"1850\"},\"toolbar\":{\"id\":\"1875\"},\"x_range\":{\"id\":\"1852\"},\"x_scale\":{\"id\":\"1856\"},\"y_range\":{\"id\":\"1854\"},\"y_scale\":{\"id\":\"1858\"}},\"id\":\"1849\",\"subtype\":\"Figure\",\"type\":\"Plot\"},{\"attributes\":{\"data\":{\"Flavanoids\":[33,18,23,20,32,32,14,5,0,1],\"index\":[0,1,2,3,4,5,6,7,8,9],\"left\":{\"__ndarray__\":\"w/UoXI/C1T9ANV66SQzqP8/3U+Olm/Q//9R46SYx/D8X2c73U+MBQK5H4XoUrgVARrbz/dR4CUDdJAaBlUMNQLtJDAIrhxBABoGVQ4tsEkA=\",\"dtype\":\"float64\",\"order\":\"little\",\"shape\":[10]},\"right\":{\"__ndarray__\":\"QDVeukkM6j/P91PjpZv0P//UeOkmMfw/F9nO91PjAUCuR+F6FK4FQEa28/3UeAlA3SQGgZVDDUC7SQwCK4cQQAaBlUOLbBJAUrgehetRFEA=\",\"dtype\":\"float64\",\"order\":\"little\",\"shape\":[10]},\"tofrom\":[\"0.34 to 0.8140000000000001\",\"0.8140000000000001 to 1.288\",\"1.288 to 1.7620000000000002\",\"1.7620000000000002 to 2.236\",\"2.236 to 2.71\",\"2.71 to 3.184\",\"3.184 to 3.658\",\"3.658 to 4.132000000000001\",\"4.132000000000001 to 4.606\",\"4.606 to 5.08\"]},\"selected\":{\"id\":\"1944\"},\"selection_policy\":{\"id\":\"1943\"}},\"id\":\"1848\",\"type\":\"ColumnDataSource\"},{\"attributes\":{},\"id\":\"1868\",\"type\":\"PanTool\"},{\"attributes\":{\"source\":{\"id\":\"1848\"}},\"id\":\"1887\",\"type\":\"CDSView\"},{\"attributes\":{},\"id\":\"1869\",\"type\":\"WheelZoomTool\"},{\"attributes\":{\"overlay\":{\"id\":\"1874\"}},\"id\":\"1870\",\"type\":\"BoxZoomTool\"},{\"attributes\":{},\"id\":\"1871\",\"type\":\"SaveTool\"},{\"attributes\":{},\"id\":\"1865\",\"type\":\"BasicTicker\"},{\"attributes\":{\"formatter\":{\"id\":\"1939\"},\"ticker\":{\"id\":\"1865\"}},\"id\":\"1864\",\"type\":\"LinearAxis\"},{\"attributes\":{},\"id\":\"1872\",\"type\":\"ResetTool\"},{\"attributes\":{\"formatter\":{\"id\":\"1941\"},\"ticker\":{\"id\":\"1861\"}},\"id\":\"1860\",\"type\":\"LinearAxis\"},{\"attributes\":{},\"id\":\"1939\",\"type\":\"BasicTickFormatter\"},{\"attributes\":{\"callback\":null,\"tooltips\":[[\"Interval\",\"@tofrom\"],[\"Count\",\"@Flavanoids\"]]},\"id\":\"1888\",\"type\":\"HoverTool\"},{\"attributes\":{\"bottom\":{\"value\":0},\"fill_color\":{\"value\":\"blue\"},\"left\":{\"field\":\"left\"},\"right\":{\"field\":\"right\"},\"top\":{\"field\":\"Flavanoids\"}},\"id\":\"1885\",\"type\":\"Quad\"},{\"attributes\":{},\"id\":\"1873\",\"type\":\"HelpTool\"},{\"attributes\":{},\"id\":\"1941\",\"type\":\"BasicTickFormatter\"},{\"attributes\":{\"axis\":{\"id\":\"1860\"},\"ticker\":null},\"id\":\"1863\",\"type\":\"Grid\"},{\"attributes\":{\"bottom\":{\"value\":0},\"fill_alpha\":{\"value\":0.1},\"fill_color\":{\"value\":\"red\"},\"left\":{\"field\":\"left\"},\"line_alpha\":{\"value\":0.1},\"right\":{\"field\":\"right\"},\"top\":{\"field\":\"Flavanoids\"}},\"id\":\"1884\",\"type\":\"Quad\"},{\"attributes\":{},\"id\":\"1858\",\"type\":\"LinearScale\"},{\"attributes\":{},\"id\":\"1943\",\"type\":\"UnionRenderers\"},{\"attributes\":{\"data_source\":{\"id\":\"1848\"},\"glyph\":{\"id\":\"1883\"},\"hover_glyph\":{\"id\":\"1885\"},\"muted_glyph\":null,\"nonselection_glyph\":{\"id\":\"1884\"},\"selection_glyph\":null,\"view\":{\"id\":\"1887\"}},\"id\":\"1886\",\"type\":\"GlyphRenderer\"},{\"attributes\":{\"axis\":{\"id\":\"1864\"},\"dimension\":1,\"ticker\":null},\"id\":\"1867\",\"type\":\"Grid\"},{\"attributes\":{},\"id\":\"1944\",\"type\":\"Selection\"},{\"attributes\":{},\"id\":\"1861\",\"type\":\"BasicTicker\"},{\"attributes\":{},\"id\":\"1852\",\"type\":\"DataRange1d\"},{\"attributes\":{},\"id\":\"1854\",\"type\":\"DataRange1d\"},{\"attributes\":{},\"id\":\"1856\",\"type\":\"LinearScale\"},{\"attributes\":{\"text\":\"Flavanoids\"},\"id\":\"1850\",\"type\":\"Title\"},{\"attributes\":{\"bottom\":{\"value\":0},\"fill_alpha\":{\"value\":0.7},\"fill_color\":{\"value\":\"red\"},\"left\":{\"field\":\"left\"},\"right\":{\"field\":\"right\"},\"top\":{\"field\":\"Flavanoids\"}},\"id\":\"1883\",\"type\":\"Quad\"},{\"attributes\":{\"bottom_units\":\"screen\",\"fill_alpha\":0.5,\"fill_color\":\"lightgrey\",\"left_units\":\"screen\",\"level\":\"overlay\",\"line_alpha\":1.0,\"line_color\":\"black\",\"line_dash\":[4,4],\"line_width\":2,\"right_units\":\"screen\",\"top_units\":\"screen\"},\"id\":\"1874\",\"type\":\"BoxAnnotation\"},{\"attributes\":{\"active_drag\":\"auto\",\"active_inspect\":\"auto\",\"active_multi\":null,\"active_scroll\":\"auto\",\"active_tap\":\"auto\",\"tools\":[{\"id\":\"1868\"},{\"id\":\"1869\"},{\"id\":\"1870\"},{\"id\":\"1871\"},{\"id\":\"1872\"},{\"id\":\"1873\"},{\"id\":\"1888\"}]},\"id\":\"1875\",\"type\":\"Toolbar\"}],\"root_ids\":[\"1849\"]},\"title\":\"Bokeh Application\",\"version\":\"2.1.1\"}};\n",
              "  var render_items = [{\"docid\":\"a4e324b2-e575-4a3b-ac7a-97bc7fe6eb1c\",\"root_ids\":[\"1849\"],\"roots\":{\"1849\":\"fc984127-99a9-4728-b919-24247858cd07\"}}];\n",
              "  root.Bokeh.embed.embed_items_notebook(docs_json, render_items);\n",
              "\n",
              "  }\n",
              "  if (root.Bokeh !== undefined) {\n",
              "    embed_document(root);\n",
              "  } else {\n",
              "    var attempts = 0;\n",
              "    var timer = setInterval(function(root) {\n",
              "      if (root.Bokeh !== undefined) {\n",
              "        clearInterval(timer);\n",
              "        embed_document(root);\n",
              "      } else {\n",
              "        attempts++;\n",
              "        if (attempts > 100) {\n",
              "          clearInterval(timer);\n",
              "          console.log(\"Bokeh: ERROR: Unable to run BokehJS code because BokehJS library is missing\");\n",
              "        }\n",
              "      }\n",
              "    }, 10, root)\n",
              "  }\n",
              "})(window);"
            ],
            "application/vnd.bokehjs_exec.v0+json": ""
          },
          "metadata": {
            "tags": [],
            "application/vnd.bokehjs_exec.v0+json": {
              "id": "1849"
            }
          }
        },
        {
          "output_type": "display_data",
          "data": {
            "text/html": [
              "\n",
              "\n",
              "\n",
              "\n",
              "\n",
              "\n",
              "  <div class=\"bk-root\" id=\"c74e51f1-f925-4739-9ed6-5bb154ba7d37\" data-root-id=\"1995\"></div>\n"
            ]
          },
          "metadata": {
            "tags": []
          }
        },
        {
          "output_type": "display_data",
          "data": {
            "application/javascript": [
              "(function(root) {\n",
              "  function embed_document(root) {\n",
              "    \n",
              "  var docs_json = {\"8801198c-9039-4722-9ab7-4f9daa867842\":{\"roots\":{\"references\":[{\"attributes\":{\"below\":[{\"id\":\"2006\"}],\"center\":[{\"id\":\"2009\"},{\"id\":\"2013\"}],\"left\":[{\"id\":\"2010\"}],\"plot_height\":400,\"plot_width\":400,\"renderers\":[{\"id\":\"2032\"}],\"title\":{\"id\":\"1996\"},\"toolbar\":{\"id\":\"2021\"},\"x_range\":{\"id\":\"1998\"},\"x_scale\":{\"id\":\"2002\"},\"y_range\":{\"id\":\"2000\"},\"y_scale\":{\"id\":\"2004\"}},\"id\":\"1995\",\"subtype\":\"Figure\",\"type\":\"Plot\"},{\"attributes\":{},\"id\":\"2017\",\"type\":\"SaveTool\"},{\"attributes\":{\"callback\":null,\"tooltips\":[[\"Interval\",\"@tofrom\"],[\"Count\",\"@Nonflavanoid.phenols\"]]},\"id\":\"2034\",\"type\":\"HoverTool\"},{\"attributes\":{},\"id\":\"2002\",\"type\":\"LinearScale\"},{\"attributes\":{},\"id\":\"2004\",\"type\":\"LinearScale\"},{\"attributes\":{},\"id\":\"2011\",\"type\":\"BasicTicker\"},{\"attributes\":{\"formatter\":{\"id\":\"2095\"},\"ticker\":{\"id\":\"2007\"}},\"id\":\"2006\",\"type\":\"LinearAxis\"},{\"attributes\":{},\"id\":\"2015\",\"type\":\"WheelZoomTool\"},{\"attributes\":{\"data_source\":{\"id\":\"1994\"},\"glyph\":{\"id\":\"2029\"},\"hover_glyph\":{\"id\":\"2031\"},\"muted_glyph\":null,\"nonselection_glyph\":{\"id\":\"2030\"},\"selection_glyph\":null,\"view\":{\"id\":\"2033\"}},\"id\":\"2032\",\"type\":\"GlyphRenderer\"},{\"attributes\":{},\"id\":\"2018\",\"type\":\"ResetTool\"},{\"attributes\":{\"axis\":{\"id\":\"2006\"},\"ticker\":null},\"id\":\"2009\",\"type\":\"Grid\"},{\"attributes\":{\"active_drag\":\"auto\",\"active_inspect\":\"auto\",\"active_multi\":null,\"active_scroll\":\"auto\",\"active_tap\":\"auto\",\"tools\":[{\"id\":\"2014\"},{\"id\":\"2015\"},{\"id\":\"2016\"},{\"id\":\"2017\"},{\"id\":\"2018\"},{\"id\":\"2019\"},{\"id\":\"2034\"}]},\"id\":\"2021\",\"type\":\"Toolbar\"},{\"attributes\":{\"formatter\":{\"id\":\"2093\"},\"ticker\":{\"id\":\"2011\"}},\"id\":\"2010\",\"type\":\"LinearAxis\"},{\"attributes\":{\"overlay\":{\"id\":\"2020\"}},\"id\":\"2016\",\"type\":\"BoxZoomTool\"},{\"attributes\":{\"bottom\":{\"value\":0},\"fill_alpha\":{\"value\":0.7},\"fill_color\":{\"value\":\"red\"},\"left\":{\"field\":\"left\"},\"right\":{\"field\":\"right\"},\"top\":{\"field\":\"Nonflavanoid.phenols\"}},\"id\":\"2029\",\"type\":\"Quad\"},{\"attributes\":{\"data\":{\"Nonflavanoid.phenols\":[8,16,33,38,14,25,16,13,7,8],\"index\":[0,1,2,3,4,5,6,7,8,9],\"left\":{\"__ndarray__\":\"pHA9CtejwD8GgZVDi2zHP2mR7Xw/Nc4/5tAi2/l+0j8X2c73U+PVP0jhehSuR9k/eukmMQis3D/WeOkmMQjgP+58PzVeuuE/BoGVQ4ts4z8=\",\"dtype\":\"float64\",\"order\":\"little\",\"shape\":[10]},\"right\":{\"__ndarray__\":\"BoGVQ4tsxz9pke18PzXOP+bQItv5ftI/F9nO91Pj1T9I4XoUrkfZP3rpJjEIrNw/1njpJjEI4D/ufD81XrrhPwaBlUOLbOM/H4XrUbge5T8=\",\"dtype\":\"float64\",\"order\":\"little\",\"shape\":[10]},\"tofrom\":[\"0.13 to 0.183\",\"0.183 to 0.23600000000000002\",\"0.23600000000000002 to 0.28900000000000003\",\"0.28900000000000003 to 0.342\",\"0.342 to 0.395\",\"0.395 to 0.44800000000000006\",\"0.44800000000000006 to 0.5010000000000001\",\"0.5010000000000001 to 0.554\",\"0.554 to 0.607\",\"0.607 to 0.66\"]},\"selected\":{\"id\":\"2098\"},\"selection_policy\":{\"id\":\"2097\"}},\"id\":\"1994\",\"type\":\"ColumnDataSource\"},{\"attributes\":{\"bottom_units\":\"screen\",\"fill_alpha\":0.5,\"fill_color\":\"lightgrey\",\"left_units\":\"screen\",\"level\":\"overlay\",\"line_alpha\":1.0,\"line_color\":\"black\",\"line_dash\":[4,4],\"line_width\":2,\"right_units\":\"screen\",\"top_units\":\"screen\"},\"id\":\"2020\",\"type\":\"BoxAnnotation\"},{\"attributes\":{},\"id\":\"2000\",\"type\":\"DataRange1d\"},{\"attributes\":{\"source\":{\"id\":\"1994\"}},\"id\":\"2033\",\"type\":\"CDSView\"},{\"attributes\":{\"bottom\":{\"value\":0},\"fill_color\":{\"value\":\"blue\"},\"left\":{\"field\":\"left\"},\"right\":{\"field\":\"right\"},\"top\":{\"field\":\"Nonflavanoid.phenols\"}},\"id\":\"2031\",\"type\":\"Quad\"},{\"attributes\":{},\"id\":\"2014\",\"type\":\"PanTool\"},{\"attributes\":{},\"id\":\"2007\",\"type\":\"BasicTicker\"},{\"attributes\":{\"axis\":{\"id\":\"2010\"},\"dimension\":1,\"ticker\":null},\"id\":\"2013\",\"type\":\"Grid\"},{\"attributes\":{},\"id\":\"2098\",\"type\":\"Selection\"},{\"attributes\":{},\"id\":\"2019\",\"type\":\"HelpTool\"},{\"attributes\":{},\"id\":\"2095\",\"type\":\"BasicTickFormatter\"},{\"attributes\":{},\"id\":\"2093\",\"type\":\"BasicTickFormatter\"},{\"attributes\":{},\"id\":\"2097\",\"type\":\"UnionRenderers\"},{\"attributes\":{},\"id\":\"1998\",\"type\":\"DataRange1d\"},{\"attributes\":{\"text\":\"Nonflavanoid.phenols\"},\"id\":\"1996\",\"type\":\"Title\"},{\"attributes\":{\"bottom\":{\"value\":0},\"fill_alpha\":{\"value\":0.1},\"fill_color\":{\"value\":\"red\"},\"left\":{\"field\":\"left\"},\"line_alpha\":{\"value\":0.1},\"right\":{\"field\":\"right\"},\"top\":{\"field\":\"Nonflavanoid.phenols\"}},\"id\":\"2030\",\"type\":\"Quad\"}],\"root_ids\":[\"1995\"]},\"title\":\"Bokeh Application\",\"version\":\"2.1.1\"}};\n",
              "  var render_items = [{\"docid\":\"8801198c-9039-4722-9ab7-4f9daa867842\",\"root_ids\":[\"1995\"],\"roots\":{\"1995\":\"c74e51f1-f925-4739-9ed6-5bb154ba7d37\"}}];\n",
              "  root.Bokeh.embed.embed_items_notebook(docs_json, render_items);\n",
              "\n",
              "  }\n",
              "  if (root.Bokeh !== undefined) {\n",
              "    embed_document(root);\n",
              "  } else {\n",
              "    var attempts = 0;\n",
              "    var timer = setInterval(function(root) {\n",
              "      if (root.Bokeh !== undefined) {\n",
              "        clearInterval(timer);\n",
              "        embed_document(root);\n",
              "      } else {\n",
              "        attempts++;\n",
              "        if (attempts > 100) {\n",
              "          clearInterval(timer);\n",
              "          console.log(\"Bokeh: ERROR: Unable to run BokehJS code because BokehJS library is missing\");\n",
              "        }\n",
              "      }\n",
              "    }, 10, root)\n",
              "  }\n",
              "})(window);"
            ],
            "application/vnd.bokehjs_exec.v0+json": ""
          },
          "metadata": {
            "tags": [],
            "application/vnd.bokehjs_exec.v0+json": {
              "id": "1995"
            }
          }
        },
        {
          "output_type": "display_data",
          "data": {
            "text/html": [
              "\n",
              "\n",
              "\n",
              "\n",
              "\n",
              "\n",
              "  <div class=\"bk-root\" id=\"00305cd7-f569-4c50-810b-1a14c162b9e5\" data-root-id=\"2149\"></div>\n"
            ]
          },
          "metadata": {
            "tags": []
          }
        },
        {
          "output_type": "display_data",
          "data": {
            "application/javascript": [
              "(function(root) {\n",
              "  function embed_document(root) {\n",
              "    \n",
              "  var docs_json = {\"815e3a23-18aa-413a-8c6d-6e14fc562a2e\":{\"roots\":{\"references\":[{\"attributes\":{\"below\":[{\"id\":\"2160\"}],\"center\":[{\"id\":\"2163\"},{\"id\":\"2167\"}],\"left\":[{\"id\":\"2164\"}],\"plot_height\":400,\"plot_width\":400,\"renderers\":[{\"id\":\"2186\"}],\"title\":{\"id\":\"2150\"},\"toolbar\":{\"id\":\"2175\"},\"x_range\":{\"id\":\"2152\"},\"x_scale\":{\"id\":\"2156\"},\"y_range\":{\"id\":\"2154\"},\"y_scale\":{\"id\":\"2158\"}},\"id\":\"2149\",\"subtype\":\"Figure\",\"type\":\"Plot\"},{\"attributes\":{\"source\":{\"id\":\"2148\"}},\"id\":\"2187\",\"type\":\"CDSView\"},{\"attributes\":{\"overlay\":{\"id\":\"2174\"}},\"id\":\"2170\",\"type\":\"BoxZoomTool\"},{\"attributes\":{},\"id\":\"2154\",\"type\":\"DataRange1d\"},{\"attributes\":{},\"id\":\"2152\",\"type\":\"DataRange1d\"},{\"attributes\":{},\"id\":\"2171\",\"type\":\"SaveTool\"},{\"attributes\":{},\"id\":\"2173\",\"type\":\"HelpTool\"},{\"attributes\":{},\"id\":\"2161\",\"type\":\"BasicTicker\"},{\"attributes\":{\"data_source\":{\"id\":\"2148\"},\"glyph\":{\"id\":\"2183\"},\"hover_glyph\":{\"id\":\"2185\"},\"muted_glyph\":null,\"nonselection_glyph\":{\"id\":\"2184\"},\"selection_glyph\":null,\"view\":{\"id\":\"2187\"}},\"id\":\"2186\",\"type\":\"GlyphRenderer\"},{\"attributes\":{\"data\":{\"Proanth\":[8,25,31,43,36,17,8,7,1,2],\"index\":[0,1,2,3,4,5,6,7,8,9],\"left\":{\"__ndarray__\":\"PQrXo3A92j/dJAaBlUPnP05iEFg5tPA/LbKd76fG9T8MAiuHFtn6P+tRuB6F6/8/5tAi2/l+AkDVeOkmMQgFQMUgsHJokQdAtch2vp8aCkA=\",\"dtype\":\"float64\",\"order\":\"little\",\"shape\":[10]},\"right\":{\"__ndarray__\":\"3SQGgZVD5z9OYhBYObTwPy2yne+nxvU/DAIrhxbZ+j/rUbgehev/P+bQItv5fgJA1XjpJjEIBUDFILByaJEHQLXIdr6fGgpApHA9CtejDEA=\",\"dtype\":\"float64\",\"order\":\"little\",\"shape\":[10]},\"tofrom\":[\"0.41 to 0.727\",\"0.727 to 1.044\",\"1.044 to 1.361\",\"1.361 to 1.678\",\"1.678 to 1.9949999999999999\",\"1.9949999999999999 to 2.3120000000000003\",\"2.3120000000000003 to 2.629\",\"2.629 to 2.946\",\"2.946 to 3.2630000000000003\",\"3.2630000000000003 to 3.58\"]},\"selected\":{\"id\":\"2260\"},\"selection_policy\":{\"id\":\"2259\"}},\"id\":\"2148\",\"type\":\"ColumnDataSource\"},{\"attributes\":{\"formatter\":{\"id\":\"2257\"},\"ticker\":{\"id\":\"2161\"}},\"id\":\"2160\",\"type\":\"LinearAxis\"},{\"attributes\":{\"axis\":{\"id\":\"2160\"},\"ticker\":null},\"id\":\"2163\",\"type\":\"Grid\"},{\"attributes\":{},\"id\":\"2260\",\"type\":\"Selection\"},{\"attributes\":{\"bottom\":{\"value\":0},\"fill_alpha\":{\"value\":0.7},\"fill_color\":{\"value\":\"red\"},\"left\":{\"field\":\"left\"},\"right\":{\"field\":\"right\"},\"top\":{\"field\":\"Proanth\"}},\"id\":\"2183\",\"type\":\"Quad\"},{\"attributes\":{\"bottom\":{\"value\":0},\"fill_alpha\":{\"value\":0.1},\"fill_color\":{\"value\":\"red\"},\"left\":{\"field\":\"left\"},\"line_alpha\":{\"value\":0.1},\"right\":{\"field\":\"right\"},\"top\":{\"field\":\"Proanth\"}},\"id\":\"2184\",\"type\":\"Quad\"},{\"attributes\":{},\"id\":\"2172\",\"type\":\"ResetTool\"},{\"attributes\":{},\"id\":\"2165\",\"type\":\"BasicTicker\"},{\"attributes\":{\"axis\":{\"id\":\"2164\"},\"dimension\":1,\"ticker\":null},\"id\":\"2167\",\"type\":\"Grid\"},{\"attributes\":{},\"id\":\"2168\",\"type\":\"PanTool\"},{\"attributes\":{\"active_drag\":\"auto\",\"active_inspect\":\"auto\",\"active_multi\":null,\"active_scroll\":\"auto\",\"active_tap\":\"auto\",\"tools\":[{\"id\":\"2168\"},{\"id\":\"2169\"},{\"id\":\"2170\"},{\"id\":\"2171\"},{\"id\":\"2172\"},{\"id\":\"2173\"},{\"id\":\"2188\"}]},\"id\":\"2175\",\"type\":\"Toolbar\"},{\"attributes\":{\"bottom\":{\"value\":0},\"fill_color\":{\"value\":\"blue\"},\"left\":{\"field\":\"left\"},\"right\":{\"field\":\"right\"},\"top\":{\"field\":\"Proanth\"}},\"id\":\"2185\",\"type\":\"Quad\"},{\"attributes\":{},\"id\":\"2169\",\"type\":\"WheelZoomTool\"},{\"attributes\":{\"callback\":null,\"tooltips\":[[\"Interval\",\"@tofrom\"],[\"Count\",\"@Proanth\"]]},\"id\":\"2188\",\"type\":\"HoverTool\"},{\"attributes\":{},\"id\":\"2257\",\"type\":\"BasicTickFormatter\"},{\"attributes\":{},\"id\":\"2156\",\"type\":\"LinearScale\"},{\"attributes\":{},\"id\":\"2158\",\"type\":\"LinearScale\"},{\"attributes\":{\"bottom_units\":\"screen\",\"fill_alpha\":0.5,\"fill_color\":\"lightgrey\",\"left_units\":\"screen\",\"level\":\"overlay\",\"line_alpha\":1.0,\"line_color\":\"black\",\"line_dash\":[4,4],\"line_width\":2,\"right_units\":\"screen\",\"top_units\":\"screen\"},\"id\":\"2174\",\"type\":\"BoxAnnotation\"},{\"attributes\":{},\"id\":\"2259\",\"type\":\"UnionRenderers\"},{\"attributes\":{\"text\":\"Proanth\"},\"id\":\"2150\",\"type\":\"Title\"},{\"attributes\":{},\"id\":\"2255\",\"type\":\"BasicTickFormatter\"},{\"attributes\":{\"formatter\":{\"id\":\"2255\"},\"ticker\":{\"id\":\"2165\"}},\"id\":\"2164\",\"type\":\"LinearAxis\"}],\"root_ids\":[\"2149\"]},\"title\":\"Bokeh Application\",\"version\":\"2.1.1\"}};\n",
              "  var render_items = [{\"docid\":\"815e3a23-18aa-413a-8c6d-6e14fc562a2e\",\"root_ids\":[\"2149\"],\"roots\":{\"2149\":\"00305cd7-f569-4c50-810b-1a14c162b9e5\"}}];\n",
              "  root.Bokeh.embed.embed_items_notebook(docs_json, render_items);\n",
              "\n",
              "  }\n",
              "  if (root.Bokeh !== undefined) {\n",
              "    embed_document(root);\n",
              "  } else {\n",
              "    var attempts = 0;\n",
              "    var timer = setInterval(function(root) {\n",
              "      if (root.Bokeh !== undefined) {\n",
              "        clearInterval(timer);\n",
              "        embed_document(root);\n",
              "      } else {\n",
              "        attempts++;\n",
              "        if (attempts > 100) {\n",
              "          clearInterval(timer);\n",
              "          console.log(\"Bokeh: ERROR: Unable to run BokehJS code because BokehJS library is missing\");\n",
              "        }\n",
              "      }\n",
              "    }, 10, root)\n",
              "  }\n",
              "})(window);"
            ],
            "application/vnd.bokehjs_exec.v0+json": ""
          },
          "metadata": {
            "tags": [],
            "application/vnd.bokehjs_exec.v0+json": {
              "id": "2149"
            }
          }
        },
        {
          "output_type": "display_data",
          "data": {
            "text/html": [
              "\n",
              "\n",
              "\n",
              "\n",
              "\n",
              "\n",
              "  <div class=\"bk-root\" id=\"62fa7a3a-5c71-4584-9036-d9cc10ca6c31\" data-root-id=\"2311\"></div>\n"
            ]
          },
          "metadata": {
            "tags": []
          }
        },
        {
          "output_type": "display_data",
          "data": {
            "application/javascript": [
              "(function(root) {\n",
              "  function embed_document(root) {\n",
              "    \n",
              "  var docs_json = {\"519dfcda-7276-455c-b457-4c5b63dc50d7\":{\"roots\":{\"references\":[{\"attributes\":{\"below\":[{\"id\":\"2322\"}],\"center\":[{\"id\":\"2325\"},{\"id\":\"2329\"}],\"left\":[{\"id\":\"2326\"}],\"plot_height\":400,\"plot_width\":400,\"renderers\":[{\"id\":\"2348\"}],\"title\":{\"id\":\"2312\"},\"toolbar\":{\"id\":\"2337\"},\"x_range\":{\"id\":\"2314\"},\"x_scale\":{\"id\":\"2318\"},\"y_range\":{\"id\":\"2316\"},\"y_scale\":{\"id\":\"2320\"}},\"id\":\"2311\",\"subtype\":\"Figure\",\"type\":\"Plot\"},{\"attributes\":{\"overlay\":{\"id\":\"2336\"}},\"id\":\"2332\",\"type\":\"BoxZoomTool\"},{\"attributes\":{},\"id\":\"2318\",\"type\":\"LinearScale\"},{\"attributes\":{},\"id\":\"2314\",\"type\":\"DataRange1d\"},{\"attributes\":{\"formatter\":{\"id\":\"2425\"},\"ticker\":{\"id\":\"2327\"}},\"id\":\"2326\",\"type\":\"LinearAxis\"},{\"attributes\":{\"data\":{\"Color.int\":[16,42,32,38,17,13,10,6,3,1],\"index\":[0,1,2,3,4,5,6,7,8,9],\"left\":{\"__ndarray__\":\"exSuR+F69D8EVg4tsp0DQMyhRbbz/QxAyXa+nxovE0CtHFpkO98XQJHC9ShcjxxAOrTIdr6fIEArhxbZzvciQB1aZDvfTyVADy2yne+nJ0A=\",\"dtype\":\"float64\",\"order\":\"little\",\"shape\":[10]},\"right\":{\"__ndarray__\":\"BFYOLbKdA0DMoUW28/0MQMl2vp8aLxNArRxaZDvfF0CRwvUoXI8cQDq0yHa+nyBAK4cW2c73IkAdWmQ7308lQA8tsp3vpydAAAAAAAAAKkA=\",\"dtype\":\"float64\",\"order\":\"little\",\"shape\":[10]},\"tofrom\":[\"1.28 to 2.452\",\"2.452 to 3.6240000000000006\",\"3.6240000000000006 to 4.796\",\"4.796 to 5.968000000000001\",\"5.968000000000001 to 7.1400000000000015\",\"7.1400000000000015 to 8.312000000000001\",\"8.312000000000001 to 9.484\",\"9.484 to 10.656\",\"10.656 to 11.828000000000001\",\"11.828000000000001 to 13.0\"]},\"selected\":{\"id\":\"2430\"},\"selection_policy\":{\"id\":\"2429\"}},\"id\":\"2310\",\"type\":\"ColumnDataSource\"},{\"attributes\":{},\"id\":\"2316\",\"type\":\"DataRange1d\"},{\"attributes\":{},\"id\":\"2335\",\"type\":\"HelpTool\"},{\"attributes\":{\"axis\":{\"id\":\"2322\"},\"ticker\":null},\"id\":\"2325\",\"type\":\"Grid\"},{\"attributes\":{},\"id\":\"2333\",\"type\":\"SaveTool\"},{\"attributes\":{},\"id\":\"2429\",\"type\":\"UnionRenderers\"},{\"attributes\":{},\"id\":\"2334\",\"type\":\"ResetTool\"},{\"attributes\":{\"axis\":{\"id\":\"2326\"},\"dimension\":1,\"ticker\":null},\"id\":\"2329\",\"type\":\"Grid\"},{\"attributes\":{\"bottom\":{\"value\":0},\"fill_alpha\":{\"value\":0.7},\"fill_color\":{\"value\":\"red\"},\"left\":{\"field\":\"left\"},\"right\":{\"field\":\"right\"},\"top\":{\"field\":\"Color.int\"}},\"id\":\"2345\",\"type\":\"Quad\"},{\"attributes\":{\"formatter\":{\"id\":\"2427\"},\"ticker\":{\"id\":\"2323\"}},\"id\":\"2322\",\"type\":\"LinearAxis\"},{\"attributes\":{\"source\":{\"id\":\"2310\"}},\"id\":\"2349\",\"type\":\"CDSView\"},{\"attributes\":{},\"id\":\"2327\",\"type\":\"BasicTicker\"},{\"attributes\":{},\"id\":\"2320\",\"type\":\"LinearScale\"},{\"attributes\":{},\"id\":\"2323\",\"type\":\"BasicTicker\"},{\"attributes\":{\"text\":\"Color.int\"},\"id\":\"2312\",\"type\":\"Title\"},{\"attributes\":{\"active_drag\":\"auto\",\"active_inspect\":\"auto\",\"active_multi\":null,\"active_scroll\":\"auto\",\"active_tap\":\"auto\",\"tools\":[{\"id\":\"2330\"},{\"id\":\"2331\"},{\"id\":\"2332\"},{\"id\":\"2333\"},{\"id\":\"2334\"},{\"id\":\"2335\"},{\"id\":\"2350\"}]},\"id\":\"2337\",\"type\":\"Toolbar\"},{\"attributes\":{\"bottom\":{\"value\":0},\"fill_alpha\":{\"value\":0.1},\"fill_color\":{\"value\":\"red\"},\"left\":{\"field\":\"left\"},\"line_alpha\":{\"value\":0.1},\"right\":{\"field\":\"right\"},\"top\":{\"field\":\"Color.int\"}},\"id\":\"2346\",\"type\":\"Quad\"},{\"attributes\":{\"bottom\":{\"value\":0},\"fill_color\":{\"value\":\"blue\"},\"left\":{\"field\":\"left\"},\"right\":{\"field\":\"right\"},\"top\":{\"field\":\"Color.int\"}},\"id\":\"2347\",\"type\":\"Quad\"},{\"attributes\":{},\"id\":\"2427\",\"type\":\"BasicTickFormatter\"},{\"attributes\":{\"data_source\":{\"id\":\"2310\"},\"glyph\":{\"id\":\"2345\"},\"hover_glyph\":{\"id\":\"2347\"},\"muted_glyph\":null,\"nonselection_glyph\":{\"id\":\"2346\"},\"selection_glyph\":null,\"view\":{\"id\":\"2349\"}},\"id\":\"2348\",\"type\":\"GlyphRenderer\"},{\"attributes\":{},\"id\":\"2330\",\"type\":\"PanTool\"},{\"attributes\":{},\"id\":\"2425\",\"type\":\"BasicTickFormatter\"},{\"attributes\":{},\"id\":\"2430\",\"type\":\"Selection\"},{\"attributes\":{},\"id\":\"2331\",\"type\":\"WheelZoomTool\"},{\"attributes\":{\"callback\":null,\"tooltips\":[[\"Interval\",\"@tofrom\"],[\"Count\",\"@Color.int\"]]},\"id\":\"2350\",\"type\":\"HoverTool\"},{\"attributes\":{\"bottom_units\":\"screen\",\"fill_alpha\":0.5,\"fill_color\":\"lightgrey\",\"left_units\":\"screen\",\"level\":\"overlay\",\"line_alpha\":1.0,\"line_color\":\"black\",\"line_dash\":[4,4],\"line_width\":2,\"right_units\":\"screen\",\"top_units\":\"screen\"},\"id\":\"2336\",\"type\":\"BoxAnnotation\"}],\"root_ids\":[\"2311\"]},\"title\":\"Bokeh Application\",\"version\":\"2.1.1\"}};\n",
              "  var render_items = [{\"docid\":\"519dfcda-7276-455c-b457-4c5b63dc50d7\",\"root_ids\":[\"2311\"],\"roots\":{\"2311\":\"62fa7a3a-5c71-4584-9036-d9cc10ca6c31\"}}];\n",
              "  root.Bokeh.embed.embed_items_notebook(docs_json, render_items);\n",
              "\n",
              "  }\n",
              "  if (root.Bokeh !== undefined) {\n",
              "    embed_document(root);\n",
              "  } else {\n",
              "    var attempts = 0;\n",
              "    var timer = setInterval(function(root) {\n",
              "      if (root.Bokeh !== undefined) {\n",
              "        clearInterval(timer);\n",
              "        embed_document(root);\n",
              "      } else {\n",
              "        attempts++;\n",
              "        if (attempts > 100) {\n",
              "          clearInterval(timer);\n",
              "          console.log(\"Bokeh: ERROR: Unable to run BokehJS code because BokehJS library is missing\");\n",
              "        }\n",
              "      }\n",
              "    }, 10, root)\n",
              "  }\n",
              "})(window);"
            ],
            "application/vnd.bokehjs_exec.v0+json": ""
          },
          "metadata": {
            "tags": [],
            "application/vnd.bokehjs_exec.v0+json": {
              "id": "2311"
            }
          }
        },
        {
          "output_type": "display_data",
          "data": {
            "text/html": [
              "\n",
              "\n",
              "\n",
              "\n",
              "\n",
              "\n",
              "  <div class=\"bk-root\" id=\"a0277299-6852-4916-96ce-cfaeec24a8fb\" data-root-id=\"2481\"></div>\n"
            ]
          },
          "metadata": {
            "tags": []
          }
        },
        {
          "output_type": "display_data",
          "data": {
            "application/javascript": [
              "(function(root) {\n",
              "  function embed_document(root) {\n",
              "    \n",
              "  var docs_json = {\"c45df54d-a528-423e-9dff-f1b326154a99\":{\"roots\":{\"references\":[{\"attributes\":{\"below\":[{\"id\":\"2492\"}],\"center\":[{\"id\":\"2495\"},{\"id\":\"2499\"}],\"left\":[{\"id\":\"2496\"}],\"plot_height\":400,\"plot_width\":400,\"renderers\":[{\"id\":\"2518\"}],\"title\":{\"id\":\"2482\"},\"toolbar\":{\"id\":\"2507\"},\"x_range\":{\"id\":\"2484\"},\"x_scale\":{\"id\":\"2488\"},\"y_range\":{\"id\":\"2486\"},\"y_scale\":{\"id\":\"2490\"}},\"id\":\"2481\",\"subtype\":\"Figure\",\"type\":\"Plot\"},{\"attributes\":{\"formatter\":{\"id\":\"2603\"},\"ticker\":{\"id\":\"2497\"}},\"id\":\"2496\",\"type\":\"LinearAxis\"},{\"attributes\":{\"bottom\":{\"value\":0},\"fill_color\":{\"value\":\"blue\"},\"left\":{\"field\":\"left\"},\"right\":{\"field\":\"right\"},\"top\":{\"field\":\"Hue\"}},\"id\":\"2517\",\"type\":\"Quad\"},{\"attributes\":{\"formatter\":{\"id\":\"2605\"},\"ticker\":{\"id\":\"2493\"}},\"id\":\"2492\",\"type\":\"LinearAxis\"},{\"attributes\":{},\"id\":\"2490\",\"type\":\"LinearScale\"},{\"attributes\":{\"source\":{\"id\":\"2480\"}},\"id\":\"2519\",\"type\":\"CDSView\"},{\"attributes\":{\"axis\":{\"id\":\"2496\"},\"dimension\":1,\"ticker\":null},\"id\":\"2499\",\"type\":\"Grid\"},{\"attributes\":{\"overlay\":{\"id\":\"2506\"}},\"id\":\"2502\",\"type\":\"BoxZoomTool\"},{\"attributes\":{},\"id\":\"2484\",\"type\":\"DataRange1d\"},{\"attributes\":{},\"id\":\"2605\",\"type\":\"BasicTickFormatter\"},{\"attributes\":{},\"id\":\"2505\",\"type\":\"HelpTool\"},{\"attributes\":{\"callback\":null,\"tooltips\":[[\"Interval\",\"@tofrom\"],[\"Count\",\"@Hue\"]]},\"id\":\"2520\",\"type\":\"HoverTool\"},{\"attributes\":{},\"id\":\"2497\",\"type\":\"BasicTicker\"},{\"attributes\":{},\"id\":\"2500\",\"type\":\"PanTool\"},{\"attributes\":{},\"id\":\"2486\",\"type\":\"DataRange1d\"},{\"attributes\":{\"axis\":{\"id\":\"2492\"},\"ticker\":null},\"id\":\"2495\",\"type\":\"Grid\"},{\"attributes\":{},\"id\":\"2501\",\"type\":\"WheelZoomTool\"},{\"attributes\":{},\"id\":\"2493\",\"type\":\"BasicTicker\"},{\"attributes\":{},\"id\":\"2608\",\"type\":\"Selection\"},{\"attributes\":{},\"id\":\"2488\",\"type\":\"LinearScale\"},{\"attributes\":{\"bottom\":{\"value\":0},\"fill_alpha\":{\"value\":0.1},\"fill_color\":{\"value\":\"red\"},\"left\":{\"field\":\"left\"},\"line_alpha\":{\"value\":0.1},\"right\":{\"field\":\"right\"},\"top\":{\"field\":\"Hue\"}},\"id\":\"2516\",\"type\":\"Quad\"},{\"attributes\":{\"text\":\"Hue\"},\"id\":\"2482\",\"type\":\"Title\"},{\"attributes\":{},\"id\":\"2603\",\"type\":\"BasicTickFormatter\"},{\"attributes\":{},\"id\":\"2607\",\"type\":\"UnionRenderers\"},{\"attributes\":{\"data_source\":{\"id\":\"2480\"},\"glyph\":{\"id\":\"2515\"},\"hover_glyph\":{\"id\":\"2517\"},\"muted_glyph\":null,\"nonselection_glyph\":{\"id\":\"2516\"},\"selection_glyph\":null,\"view\":{\"id\":\"2519\"}},\"id\":\"2518\",\"type\":\"GlyphRenderer\"},{\"attributes\":{\"bottom\":{\"value\":0},\"fill_alpha\":{\"value\":0.7},\"fill_color\":{\"value\":\"red\"},\"left\":{\"field\":\"left\"},\"right\":{\"field\":\"right\"},\"top\":{\"field\":\"Hue\"}},\"id\":\"2515\",\"type\":\"Quad\"},{\"attributes\":{},\"id\":\"2503\",\"type\":\"SaveTool\"},{\"attributes\":{\"active_drag\":\"auto\",\"active_inspect\":\"auto\",\"active_multi\":null,\"active_scroll\":\"auto\",\"active_tap\":\"auto\",\"tools\":[{\"id\":\"2500\"},{\"id\":\"2501\"},{\"id\":\"2502\"},{\"id\":\"2503\"},{\"id\":\"2504\"},{\"id\":\"2505\"},{\"id\":\"2520\"}]},\"id\":\"2507\",\"type\":\"Toolbar\"},{\"attributes\":{\"bottom_units\":\"screen\",\"fill_alpha\":0.5,\"fill_color\":\"lightgrey\",\"left_units\":\"screen\",\"level\":\"overlay\",\"line_alpha\":1.0,\"line_color\":\"black\",\"line_dash\":[4,4],\"line_width\":2,\"right_units\":\"screen\",\"top_units\":\"screen\"},\"id\":\"2506\",\"type\":\"BoxAnnotation\"},{\"attributes\":{\"data\":{\"Hue\":[17,16,20,37,38,24,20,5,0,1],\"index\":[0,1,2,3,4,5,6,7,8,9],\"left\":{\"__ndarray__\":\"uB6F61G43j+yne+nxkvjPwisHFpkO+c/XrpJDAIr6z+0yHa+nxrvP4XrUbgehfE/sHJoke188z/b+X5qvHT1PwaBlUOLbPc/MQisHFpk+T8=\",\"dtype\":\"float64\",\"order\":\"little\",\"shape\":[10]},\"right\":{\"__ndarray__\":\"sp3vp8ZL4z8IrBxaZDvnP166SQwCK+s/tMh2vp8a7z+F61G4HoXxP7ByaJHtfPM/2/l+arx09T8GgZVDi2z3PzEIrBxaZPk/XI/C9Shc+z8=\",\"dtype\":\"float64\",\"order\":\"little\",\"shape\":[10]},\"tofrom\":[\"0.48 to 0.603\",\"0.603 to 0.726\",\"0.726 to 0.849\",\"0.849 to 0.972\",\"0.972 to 1.095\",\"1.095 to 1.218\",\"1.218 to 1.341\",\"1.341 to 1.464\",\"1.464 to 1.587\",\"1.587 to 1.71\"]},\"selected\":{\"id\":\"2608\"},\"selection_policy\":{\"id\":\"2607\"}},\"id\":\"2480\",\"type\":\"ColumnDataSource\"},{\"attributes\":{},\"id\":\"2504\",\"type\":\"ResetTool\"}],\"root_ids\":[\"2481\"]},\"title\":\"Bokeh Application\",\"version\":\"2.1.1\"}};\n",
              "  var render_items = [{\"docid\":\"c45df54d-a528-423e-9dff-f1b326154a99\",\"root_ids\":[\"2481\"],\"roots\":{\"2481\":\"a0277299-6852-4916-96ce-cfaeec24a8fb\"}}];\n",
              "  root.Bokeh.embed.embed_items_notebook(docs_json, render_items);\n",
              "\n",
              "  }\n",
              "  if (root.Bokeh !== undefined) {\n",
              "    embed_document(root);\n",
              "  } else {\n",
              "    var attempts = 0;\n",
              "    var timer = setInterval(function(root) {\n",
              "      if (root.Bokeh !== undefined) {\n",
              "        clearInterval(timer);\n",
              "        embed_document(root);\n",
              "      } else {\n",
              "        attempts++;\n",
              "        if (attempts > 100) {\n",
              "          clearInterval(timer);\n",
              "          console.log(\"Bokeh: ERROR: Unable to run BokehJS code because BokehJS library is missing\");\n",
              "        }\n",
              "      }\n",
              "    }, 10, root)\n",
              "  }\n",
              "})(window);"
            ],
            "application/vnd.bokehjs_exec.v0+json": ""
          },
          "metadata": {
            "tags": [],
            "application/vnd.bokehjs_exec.v0+json": {
              "id": "2481"
            }
          }
        },
        {
          "output_type": "display_data",
          "data": {
            "text/html": [
              "\n",
              "\n",
              "\n",
              "\n",
              "\n",
              "\n",
              "  <div class=\"bk-root\" id=\"c150b72a-b102-4452-9938-dbeebb93d4f6\" data-root-id=\"2659\"></div>\n"
            ]
          },
          "metadata": {
            "tags": []
          }
        },
        {
          "output_type": "display_data",
          "data": {
            "application/javascript": [
              "(function(root) {\n",
              "  function embed_document(root) {\n",
              "    \n",
              "  var docs_json = {\"aa654678-9628-459d-9ead-c0b9f2a1bfba\":{\"roots\":{\"references\":[{\"attributes\":{\"below\":[{\"id\":\"2670\"}],\"center\":[{\"id\":\"2673\"},{\"id\":\"2677\"}],\"left\":[{\"id\":\"2674\"}],\"plot_height\":400,\"plot_width\":400,\"renderers\":[{\"id\":\"2696\"}],\"title\":{\"id\":\"2660\"},\"toolbar\":{\"id\":\"2685\"},\"x_range\":{\"id\":\"2662\"},\"x_scale\":{\"id\":\"2666\"},\"y_range\":{\"id\":\"2664\"},\"y_scale\":{\"id\":\"2668\"}},\"id\":\"2659\",\"subtype\":\"Figure\",\"type\":\"Plot\"},{\"attributes\":{},\"id\":\"2681\",\"type\":\"SaveTool\"},{\"attributes\":{},\"id\":\"2794\",\"type\":\"Selection\"},{\"attributes\":{\"callback\":null,\"tooltips\":[[\"Interval\",\"@tofrom\"],[\"Count\",\"@OD\"]]},\"id\":\"2698\",\"type\":\"HoverTool\"},{\"attributes\":{},\"id\":\"2671\",\"type\":\"BasicTicker\"},{\"attributes\":{\"data_source\":{\"id\":\"2658\"},\"glyph\":{\"id\":\"2693\"},\"hover_glyph\":{\"id\":\"2695\"},\"muted_glyph\":null,\"nonselection_glyph\":{\"id\":\"2694\"},\"selection_glyph\":null,\"view\":{\"id\":\"2697\"}},\"id\":\"2696\",\"type\":\"GlyphRenderer\"},{\"attributes\":{\"bottom\":{\"value\":0},\"fill_alpha\":{\"value\":0.7},\"fill_color\":{\"value\":\"red\"},\"left\":{\"field\":\"left\"},\"right\":{\"field\":\"right\"},\"top\":{\"field\":\"OD\"}},\"id\":\"2693\",\"type\":\"Quad\"},{\"attributes\":{\"bottom\":{\"value\":0},\"fill_color\":{\"value\":\"blue\"},\"left\":{\"field\":\"left\"},\"right\":{\"field\":\"right\"},\"top\":{\"field\":\"OD\"}},\"id\":\"2695\",\"type\":\"Quad\"},{\"attributes\":{},\"id\":\"2791\",\"type\":\"BasicTickFormatter\"},{\"attributes\":{\"bottom_units\":\"screen\",\"fill_alpha\":0.5,\"fill_color\":\"lightgrey\",\"left_units\":\"screen\",\"level\":\"overlay\",\"line_alpha\":1.0,\"line_color\":\"black\",\"line_dash\":[4,4],\"line_width\":2,\"right_units\":\"screen\",\"top_units\":\"screen\"},\"id\":\"2684\",\"type\":\"BoxAnnotation\"},{\"attributes\":{\"overlay\":{\"id\":\"2684\"}},\"id\":\"2680\",\"type\":\"BoxZoomTool\"},{\"attributes\":{\"text\":\"OD\"},\"id\":\"2660\",\"type\":\"Title\"},{\"attributes\":{},\"id\":\"2683\",\"type\":\"HelpTool\"},{\"attributes\":{\"formatter\":{\"id\":\"2791\"},\"ticker\":{\"id\":\"2671\"}},\"id\":\"2670\",\"type\":\"LinearAxis\"},{\"attributes\":{\"source\":{\"id\":\"2658\"}},\"id\":\"2697\",\"type\":\"CDSView\"},{\"attributes\":{\"active_drag\":\"auto\",\"active_inspect\":\"auto\",\"active_multi\":null,\"active_scroll\":\"auto\",\"active_tap\":\"auto\",\"tools\":[{\"id\":\"2678\"},{\"id\":\"2679\"},{\"id\":\"2680\"},{\"id\":\"2681\"},{\"id\":\"2682\"},{\"id\":\"2683\"},{\"id\":\"2698\"}]},\"id\":\"2685\",\"type\":\"Toolbar\"},{\"attributes\":{\"data\":{\"OD\":[13,24,14,12,12,32,28,25,15,3],\"index\":[0,1,2,3,4,5,6,7,8,9],\"left\":{\"__ndarray__\":\"UrgehetR9D/kpZvEILD4P3WTGARWDv0/g8DKoUW2AEBMN4lBYOUCQBWuR+F6FAVA3iQGgZVDB0Cmm8QgsHIJQG8Sg8DKoQtAOIlBYOXQDUA=\",\"dtype\":\"float64\",\"order\":\"little\",\"shape\":[10]},\"right\":{\"__ndarray__\":\"5KWbxCCw+D91kxgEVg79P4PAyqFFtgBATDeJQWDlAkAVrkfhehQFQN4kBoGVQwdAppvEILByCUBvEoPAyqELQDiJQWDl0A1AAAAAAAAAEEA=\",\"dtype\":\"float64\",\"order\":\"little\",\"shape\":[10]},\"tofrom\":[\"1.27 to 1.5430000000000001\",\"1.5430000000000001 to 1.816\",\"1.816 to 2.089\",\"2.089 to 2.362\",\"2.362 to 2.6350000000000002\",\"2.6350000000000002 to 2.9080000000000004\",\"2.9080000000000004 to 3.181\",\"3.181 to 3.454\",\"3.454 to 3.7270000000000003\",\"3.7270000000000003 to 4.0\"]},\"selected\":{\"id\":\"2794\"},\"selection_policy\":{\"id\":\"2793\"}},\"id\":\"2658\",\"type\":\"ColumnDataSource\"},{\"attributes\":{},\"id\":\"2682\",\"type\":\"ResetTool\"},{\"attributes\":{},\"id\":\"2679\",\"type\":\"WheelZoomTool\"},{\"attributes\":{},\"id\":\"2668\",\"type\":\"LinearScale\"},{\"attributes\":{\"bottom\":{\"value\":0},\"fill_alpha\":{\"value\":0.1},\"fill_color\":{\"value\":\"red\"},\"left\":{\"field\":\"left\"},\"line_alpha\":{\"value\":0.1},\"right\":{\"field\":\"right\"},\"top\":{\"field\":\"OD\"}},\"id\":\"2694\",\"type\":\"Quad\"},{\"attributes\":{\"axis\":{\"id\":\"2674\"},\"dimension\":1,\"ticker\":null},\"id\":\"2677\",\"type\":\"Grid\"},{\"attributes\":{},\"id\":\"2789\",\"type\":\"BasicTickFormatter\"},{\"attributes\":{},\"id\":\"2678\",\"type\":\"PanTool\"},{\"attributes\":{\"formatter\":{\"id\":\"2789\"},\"ticker\":{\"id\":\"2675\"}},\"id\":\"2674\",\"type\":\"LinearAxis\"},{\"attributes\":{},\"id\":\"2666\",\"type\":\"LinearScale\"},{\"attributes\":{},\"id\":\"2793\",\"type\":\"UnionRenderers\"},{\"attributes\":{},\"id\":\"2675\",\"type\":\"BasicTicker\"},{\"attributes\":{},\"id\":\"2664\",\"type\":\"DataRange1d\"},{\"attributes\":{},\"id\":\"2662\",\"type\":\"DataRange1d\"},{\"attributes\":{\"axis\":{\"id\":\"2670\"},\"ticker\":null},\"id\":\"2673\",\"type\":\"Grid\"}],\"root_ids\":[\"2659\"]},\"title\":\"Bokeh Application\",\"version\":\"2.1.1\"}};\n",
              "  var render_items = [{\"docid\":\"aa654678-9628-459d-9ead-c0b9f2a1bfba\",\"root_ids\":[\"2659\"],\"roots\":{\"2659\":\"c150b72a-b102-4452-9938-dbeebb93d4f6\"}}];\n",
              "  root.Bokeh.embed.embed_items_notebook(docs_json, render_items);\n",
              "\n",
              "  }\n",
              "  if (root.Bokeh !== undefined) {\n",
              "    embed_document(root);\n",
              "  } else {\n",
              "    var attempts = 0;\n",
              "    var timer = setInterval(function(root) {\n",
              "      if (root.Bokeh !== undefined) {\n",
              "        clearInterval(timer);\n",
              "        embed_document(root);\n",
              "      } else {\n",
              "        attempts++;\n",
              "        if (attempts > 100) {\n",
              "          clearInterval(timer);\n",
              "          console.log(\"Bokeh: ERROR: Unable to run BokehJS code because BokehJS library is missing\");\n",
              "        }\n",
              "      }\n",
              "    }, 10, root)\n",
              "  }\n",
              "})(window);"
            ],
            "application/vnd.bokehjs_exec.v0+json": ""
          },
          "metadata": {
            "tags": [],
            "application/vnd.bokehjs_exec.v0+json": {
              "id": "2659"
            }
          }
        },
        {
          "output_type": "display_data",
          "data": {
            "text/html": [
              "\n",
              "\n",
              "\n",
              "\n",
              "\n",
              "\n",
              "  <div class=\"bk-root\" id=\"4cb6969e-c4cb-4936-9fd7-4ae365c1a279\" data-root-id=\"2845\"></div>\n"
            ]
          },
          "metadata": {
            "tags": []
          }
        },
        {
          "output_type": "display_data",
          "data": {
            "application/javascript": [
              "(function(root) {\n",
              "  function embed_document(root) {\n",
              "    \n",
              "  var docs_json = {\"4c9c7259-39d3-406b-ba03-5908648cb32d\":{\"roots\":{\"references\":[{\"attributes\":{\"below\":[{\"id\":\"2856\"}],\"center\":[{\"id\":\"2859\"},{\"id\":\"2863\"}],\"left\":[{\"id\":\"2860\"}],\"plot_height\":400,\"plot_width\":400,\"renderers\":[{\"id\":\"2882\"}],\"title\":{\"id\":\"2846\"},\"toolbar\":{\"id\":\"2871\"},\"x_range\":{\"id\":\"2848\"},\"x_scale\":{\"id\":\"2852\"},\"y_range\":{\"id\":\"2850\"},\"y_scale\":{\"id\":\"2854\"}},\"id\":\"2845\",\"subtype\":\"Figure\",\"type\":\"Plot\"},{\"attributes\":{},\"id\":\"2857\",\"type\":\"BasicTicker\"},{\"attributes\":{\"axis\":{\"id\":\"2856\"},\"ticker\":null},\"id\":\"2859\",\"type\":\"Grid\"},{\"attributes\":{},\"id\":\"2852\",\"type\":\"LinearScale\"},{\"attributes\":{\"data_source\":{\"id\":\"2844\"},\"glyph\":{\"id\":\"2879\"},\"hover_glyph\":{\"id\":\"2881\"},\"muted_glyph\":null,\"nonselection_glyph\":{\"id\":\"2880\"},\"selection_glyph\":null,\"view\":{\"id\":\"2883\"}},\"id\":\"2882\",\"type\":\"GlyphRenderer\"},{\"attributes\":{\"active_drag\":\"auto\",\"active_inspect\":\"auto\",\"active_multi\":null,\"active_scroll\":\"auto\",\"active_tap\":\"auto\",\"tools\":[{\"id\":\"2864\"},{\"id\":\"2865\"},{\"id\":\"2866\"},{\"id\":\"2867\"},{\"id\":\"2868\"},{\"id\":\"2869\"},{\"id\":\"2884\"}]},\"id\":\"2871\",\"type\":\"Toolbar\"},{\"attributes\":{\"bottom\":{\"value\":0},\"fill_color\":{\"value\":\"blue\"},\"left\":{\"field\":\"left\"},\"right\":{\"field\":\"right\"},\"top\":{\"field\":\"Proline\"}},\"id\":\"2881\",\"type\":\"Quad\"},{\"attributes\":{\"axis\":{\"id\":\"2860\"},\"dimension\":1,\"ticker\":null},\"id\":\"2863\",\"type\":\"Grid\"},{\"attributes\":{},\"id\":\"2988\",\"type\":\"Selection\"},{\"attributes\":{},\"id\":\"2865\",\"type\":\"WheelZoomTool\"},{\"attributes\":{},\"id\":\"2987\",\"type\":\"UnionRenderers\"},{\"attributes\":{},\"id\":\"2864\",\"type\":\"PanTool\"},{\"attributes\":{},\"id\":\"2985\",\"type\":\"BasicTickFormatter\"},{\"attributes\":{},\"id\":\"2869\",\"type\":\"HelpTool\"},{\"attributes\":{\"source\":{\"id\":\"2844\"}},\"id\":\"2883\",\"type\":\"CDSView\"},{\"attributes\":{},\"id\":\"2867\",\"type\":\"SaveTool\"},{\"attributes\":{\"callback\":null,\"tooltips\":[[\"Interval\",\"@tofrom\"],[\"Count\",\"@Proline\"]]},\"id\":\"2884\",\"type\":\"HoverTool\"},{\"attributes\":{\"bottom\":{\"value\":0},\"fill_alpha\":{\"value\":0.1},\"fill_color\":{\"value\":\"red\"},\"left\":{\"field\":\"left\"},\"line_alpha\":{\"value\":0.1},\"right\":{\"field\":\"right\"},\"top\":{\"field\":\"Proline\"}},\"id\":\"2880\",\"type\":\"Quad\"},{\"attributes\":{},\"id\":\"2983\",\"type\":\"BasicTickFormatter\"},{\"attributes\":{\"bottom_units\":\"screen\",\"fill_alpha\":0.5,\"fill_color\":\"lightgrey\",\"left_units\":\"screen\",\"level\":\"overlay\",\"line_alpha\":1.0,\"line_color\":\"black\",\"line_dash\":[4,4],\"line_width\":2,\"right_units\":\"screen\",\"top_units\":\"screen\"},\"id\":\"2870\",\"type\":\"BoxAnnotation\"},{\"attributes\":{\"text\":\"Proline\"},\"id\":\"2846\",\"type\":\"Title\"},{\"attributes\":{\"bottom\":{\"value\":0},\"fill_alpha\":{\"value\":0.7},\"fill_color\":{\"value\":\"red\"},\"left\":{\"field\":\"left\"},\"right\":{\"field\":\"right\"},\"top\":{\"field\":\"Proline\"}},\"id\":\"2879\",\"type\":\"Quad\"},{\"attributes\":{},\"id\":\"2850\",\"type\":\"DataRange1d\"},{\"attributes\":{},\"id\":\"2868\",\"type\":\"ResetTool\"},{\"attributes\":{},\"id\":\"2848\",\"type\":\"DataRange1d\"},{\"attributes\":{\"formatter\":{\"id\":\"2985\"},\"ticker\":{\"id\":\"2857\"}},\"id\":\"2856\",\"type\":\"LinearAxis\"},{\"attributes\":{\"overlay\":{\"id\":\"2870\"}},\"id\":\"2866\",\"type\":\"BoxZoomTool\"},{\"attributes\":{\"data\":{\"Proline\":[22,37,41,19,13,19,8,13,4,2],\"index\":[0,1,2,3,4,5,6,7,8,9],\"left\":{\"__ndarray__\":\"AAAAAABgcUAzMzMzMyN6QDMzMzMzc4FAzMzMzMzUhUBmZmZmZjaKQAAAAAAAmI5AzMzMzMx8kUCZmZmZma2TQGZmZmZm3pVAMzMzMzMPmEA=\",\"dtype\":\"float64\",\"order\":\"little\",\"shape\":[10]},\"right\":{\"__ndarray__\":\"MzMzMzMjekAzMzMzM3OBQMzMzMzM1IVAZmZmZmY2ikAAAAAAAJiOQMzMzMzMfJFAmZmZmZmtk0BmZmZmZt6VQDMzMzMzD5hAAAAAAABAmkA=\",\"dtype\":\"float64\",\"order\":\"little\",\"shape\":[10]},\"tofrom\":[\"278.0 to 418.2\",\"418.2 to 558.4\",\"558.4 to 698.5999999999999\",\"698.5999999999999 to 838.8\",\"838.8 to 979.0\",\"979.0 to 1119.1999999999998\",\"1119.1999999999998 to 1259.3999999999999\",\"1259.3999999999999 to 1399.6\",\"1399.6 to 1539.8\",\"1539.8 to 1680.0\"]},\"selected\":{\"id\":\"2988\"},\"selection_policy\":{\"id\":\"2987\"}},\"id\":\"2844\",\"type\":\"ColumnDataSource\"},{\"attributes\":{\"formatter\":{\"id\":\"2983\"},\"ticker\":{\"id\":\"2861\"}},\"id\":\"2860\",\"type\":\"LinearAxis\"},{\"attributes\":{},\"id\":\"2854\",\"type\":\"LinearScale\"},{\"attributes\":{},\"id\":\"2861\",\"type\":\"BasicTicker\"}],\"root_ids\":[\"2845\"]},\"title\":\"Bokeh Application\",\"version\":\"2.1.1\"}};\n",
              "  var render_items = [{\"docid\":\"4c9c7259-39d3-406b-ba03-5908648cb32d\",\"root_ids\":[\"2845\"],\"roots\":{\"2845\":\"4cb6969e-c4cb-4936-9fd7-4ae365c1a279\"}}];\n",
              "  root.Bokeh.embed.embed_items_notebook(docs_json, render_items);\n",
              "\n",
              "  }\n",
              "  if (root.Bokeh !== undefined) {\n",
              "    embed_document(root);\n",
              "  } else {\n",
              "    var attempts = 0;\n",
              "    var timer = setInterval(function(root) {\n",
              "      if (root.Bokeh !== undefined) {\n",
              "        clearInterval(timer);\n",
              "        embed_document(root);\n",
              "      } else {\n",
              "        attempts++;\n",
              "        if (attempts > 100) {\n",
              "          clearInterval(timer);\n",
              "          console.log(\"Bokeh: ERROR: Unable to run BokehJS code because BokehJS library is missing\");\n",
              "        }\n",
              "      }\n",
              "    }, 10, root)\n",
              "  }\n",
              "})(window);"
            ],
            "application/vnd.bokehjs_exec.v0+json": ""
          },
          "metadata": {
            "tags": [],
            "application/vnd.bokehjs_exec.v0+json": {
              "id": "2845"
            }
          }
        }
      ]
    },
    {
      "cell_type": "code",
      "metadata": {
        "colab": {
          "base_uri": "https://localhost:8080/",
          "height": 406
        },
        "id": "86OzsvebgHYO",
        "outputId": "35f42b4b-c6a6-4798-f9c4-70442492e87e"
      },
      "source": [
        "swine_data=wine_data\r\n",
        "from sklearn import preprocessing\r\n",
        "#for i in range(1,wine_data.shape[1]):\r\n",
        "#  column=wine_data.columns[i]\r\n",
        "#  print(preprocessing.scale(wine_data[column]))\r\n",
        "for i in range(1,swine_data.shape[1]):\r\n",
        "  column=wine_data.columns[i]\r\n",
        "  swine_data[column]=preprocessing.scale(wine_data[column])\r\n",
        "swine_data"
      ],
      "execution_count": 8,
      "outputs": [
        {
          "output_type": "execute_result",
          "data": {
            "text/html": [
              "<div>\n",
              "<style scoped>\n",
              "    .dataframe tbody tr th:only-of-type {\n",
              "        vertical-align: middle;\n",
              "    }\n",
              "\n",
              "    .dataframe tbody tr th {\n",
              "        vertical-align: top;\n",
              "    }\n",
              "\n",
              "    .dataframe thead th {\n",
              "        text-align: right;\n",
              "    }\n",
              "</style>\n",
              "<table border=\"1\" class=\"dataframe\">\n",
              "  <thead>\n",
              "    <tr style=\"text-align: right;\">\n",
              "      <th></th>\n",
              "      <th>Wine</th>\n",
              "      <th>Alcohol</th>\n",
              "      <th>Malic.acid</th>\n",
              "      <th>Ash</th>\n",
              "      <th>Acl</th>\n",
              "      <th>Mg</th>\n",
              "      <th>Phenols</th>\n",
              "      <th>Flavanoids</th>\n",
              "      <th>Nonflavanoid.phenols</th>\n",
              "      <th>Proanth</th>\n",
              "      <th>Color.int</th>\n",
              "      <th>Hue</th>\n",
              "      <th>OD</th>\n",
              "      <th>Proline</th>\n",
              "    </tr>\n",
              "  </thead>\n",
              "  <tbody>\n",
              "    <tr>\n",
              "      <th>0</th>\n",
              "      <td>1</td>\n",
              "      <td>1.518613</td>\n",
              "      <td>-0.562250</td>\n",
              "      <td>0.232053</td>\n",
              "      <td>-1.169593</td>\n",
              "      <td>1.913905</td>\n",
              "      <td>0.808997</td>\n",
              "      <td>1.034819</td>\n",
              "      <td>-0.659563</td>\n",
              "      <td>1.224884</td>\n",
              "      <td>0.251717</td>\n",
              "      <td>0.362177</td>\n",
              "      <td>1.847920</td>\n",
              "      <td>1.013009</td>\n",
              "    </tr>\n",
              "    <tr>\n",
              "      <th>1</th>\n",
              "      <td>1</td>\n",
              "      <td>0.246290</td>\n",
              "      <td>-0.499413</td>\n",
              "      <td>-0.827996</td>\n",
              "      <td>-2.490847</td>\n",
              "      <td>0.018145</td>\n",
              "      <td>0.568648</td>\n",
              "      <td>0.733629</td>\n",
              "      <td>-0.820719</td>\n",
              "      <td>-0.544721</td>\n",
              "      <td>-0.293321</td>\n",
              "      <td>0.406051</td>\n",
              "      <td>1.113449</td>\n",
              "      <td>0.965242</td>\n",
              "    </tr>\n",
              "    <tr>\n",
              "      <th>2</th>\n",
              "      <td>1</td>\n",
              "      <td>0.196879</td>\n",
              "      <td>0.021231</td>\n",
              "      <td>1.109334</td>\n",
              "      <td>-0.268738</td>\n",
              "      <td>0.088358</td>\n",
              "      <td>0.808997</td>\n",
              "      <td>1.215533</td>\n",
              "      <td>-0.498407</td>\n",
              "      <td>2.135968</td>\n",
              "      <td>0.269020</td>\n",
              "      <td>0.318304</td>\n",
              "      <td>0.788587</td>\n",
              "      <td>1.395148</td>\n",
              "    </tr>\n",
              "    <tr>\n",
              "      <th>3</th>\n",
              "      <td>1</td>\n",
              "      <td>1.691550</td>\n",
              "      <td>-0.346811</td>\n",
              "      <td>0.487926</td>\n",
              "      <td>-0.809251</td>\n",
              "      <td>0.930918</td>\n",
              "      <td>2.491446</td>\n",
              "      <td>1.466525</td>\n",
              "      <td>-0.981875</td>\n",
              "      <td>1.032155</td>\n",
              "      <td>1.186068</td>\n",
              "      <td>-0.427544</td>\n",
              "      <td>1.184071</td>\n",
              "      <td>2.334574</td>\n",
              "    </tr>\n",
              "    <tr>\n",
              "      <th>4</th>\n",
              "      <td>1</td>\n",
              "      <td>0.295700</td>\n",
              "      <td>0.227694</td>\n",
              "      <td>1.840403</td>\n",
              "      <td>0.451946</td>\n",
              "      <td>1.281985</td>\n",
              "      <td>0.808997</td>\n",
              "      <td>0.663351</td>\n",
              "      <td>0.226796</td>\n",
              "      <td>0.401404</td>\n",
              "      <td>-0.319276</td>\n",
              "      <td>0.362177</td>\n",
              "      <td>0.449601</td>\n",
              "      <td>-0.037874</td>\n",
              "    </tr>\n",
              "    <tr>\n",
              "      <th>...</th>\n",
              "      <td>...</td>\n",
              "      <td>...</td>\n",
              "      <td>...</td>\n",
              "      <td>...</td>\n",
              "      <td>...</td>\n",
              "      <td>...</td>\n",
              "      <td>...</td>\n",
              "      <td>...</td>\n",
              "      <td>...</td>\n",
              "      <td>...</td>\n",
              "      <td>...</td>\n",
              "      <td>...</td>\n",
              "      <td>...</td>\n",
              "      <td>...</td>\n",
              "    </tr>\n",
              "    <tr>\n",
              "      <th>173</th>\n",
              "      <td>3</td>\n",
              "      <td>0.876275</td>\n",
              "      <td>2.974543</td>\n",
              "      <td>0.305159</td>\n",
              "      <td>0.301803</td>\n",
              "      <td>-0.332922</td>\n",
              "      <td>-0.985614</td>\n",
              "      <td>-1.424900</td>\n",
              "      <td>1.274310</td>\n",
              "      <td>-0.930179</td>\n",
              "      <td>1.142811</td>\n",
              "      <td>-1.392758</td>\n",
              "      <td>-1.231206</td>\n",
              "      <td>-0.021952</td>\n",
              "    </tr>\n",
              "    <tr>\n",
              "      <th>174</th>\n",
              "      <td>3</td>\n",
              "      <td>0.493343</td>\n",
              "      <td>1.412609</td>\n",
              "      <td>0.414820</td>\n",
              "      <td>1.052516</td>\n",
              "      <td>0.158572</td>\n",
              "      <td>-0.793334</td>\n",
              "      <td>-1.284344</td>\n",
              "      <td>0.549108</td>\n",
              "      <td>-0.316950</td>\n",
              "      <td>0.969783</td>\n",
              "      <td>-1.129518</td>\n",
              "      <td>-1.485445</td>\n",
              "      <td>0.009893</td>\n",
              "    </tr>\n",
              "    <tr>\n",
              "      <th>175</th>\n",
              "      <td>3</td>\n",
              "      <td>0.332758</td>\n",
              "      <td>1.744744</td>\n",
              "      <td>-0.389355</td>\n",
              "      <td>0.151661</td>\n",
              "      <td>1.422412</td>\n",
              "      <td>-1.129824</td>\n",
              "      <td>-1.344582</td>\n",
              "      <td>0.549108</td>\n",
              "      <td>-0.422075</td>\n",
              "      <td>2.224236</td>\n",
              "      <td>-1.612125</td>\n",
              "      <td>-1.485445</td>\n",
              "      <td>0.280575</td>\n",
              "    </tr>\n",
              "    <tr>\n",
              "      <th>176</th>\n",
              "      <td>3</td>\n",
              "      <td>0.209232</td>\n",
              "      <td>0.227694</td>\n",
              "      <td>0.012732</td>\n",
              "      <td>0.151661</td>\n",
              "      <td>1.422412</td>\n",
              "      <td>-1.033684</td>\n",
              "      <td>-1.354622</td>\n",
              "      <td>1.354888</td>\n",
              "      <td>-0.229346</td>\n",
              "      <td>1.834923</td>\n",
              "      <td>-1.568252</td>\n",
              "      <td>-1.400699</td>\n",
              "      <td>0.296498</td>\n",
              "    </tr>\n",
              "    <tr>\n",
              "      <th>177</th>\n",
              "      <td>3</td>\n",
              "      <td>1.395086</td>\n",
              "      <td>1.583165</td>\n",
              "      <td>1.365208</td>\n",
              "      <td>1.502943</td>\n",
              "      <td>-0.262708</td>\n",
              "      <td>-0.392751</td>\n",
              "      <td>-1.274305</td>\n",
              "      <td>1.596623</td>\n",
              "      <td>-0.422075</td>\n",
              "      <td>1.791666</td>\n",
              "      <td>-1.524378</td>\n",
              "      <td>-1.428948</td>\n",
              "      <td>-0.595160</td>\n",
              "    </tr>\n",
              "  </tbody>\n",
              "</table>\n",
              "<p>178 rows × 14 columns</p>\n",
              "</div>"
            ],
            "text/plain": [
              "     Wine   Alcohol  Malic.acid  ...       Hue        OD   Proline\n",
              "0       1  1.518613   -0.562250  ...  0.362177  1.847920  1.013009\n",
              "1       1  0.246290   -0.499413  ...  0.406051  1.113449  0.965242\n",
              "2       1  0.196879    0.021231  ...  0.318304  0.788587  1.395148\n",
              "3       1  1.691550   -0.346811  ... -0.427544  1.184071  2.334574\n",
              "4       1  0.295700    0.227694  ...  0.362177  0.449601 -0.037874\n",
              "..    ...       ...         ...  ...       ...       ...       ...\n",
              "173     3  0.876275    2.974543  ... -1.392758 -1.231206 -0.021952\n",
              "174     3  0.493343    1.412609  ... -1.129518 -1.485445  0.009893\n",
              "175     3  0.332758    1.744744  ... -1.612125 -1.485445  0.280575\n",
              "176     3  0.209232    0.227694  ... -1.568252 -1.400699  0.296498\n",
              "177     3  1.395086    1.583165  ... -1.524378 -1.428948 -0.595160\n",
              "\n",
              "[178 rows x 14 columns]"
            ]
          },
          "metadata": {
            "tags": []
          },
          "execution_count": 8
        }
      ]
    },
    {
      "cell_type": "code",
      "metadata": {
        "colab": {
          "base_uri": "https://localhost:8080/"
        },
        "id": "PiqobgrXieEz",
        "outputId": "375579e7-2354-4c20-b4f2-c79eba89b08e"
      },
      "source": [
        "SMean_result=list()\r\n",
        "from sklearn import preprocessing\r\n",
        "for i in range(1,swine_data.shape[1]):\r\n",
        "  column=swine_data.columns[i]\r\n",
        "  SMean_result.append(round(swine_data[column].mean()))\r\n",
        "print(SMean_result)"
      ],
      "execution_count": 9,
      "outputs": [
        {
          "output_type": "stream",
          "text": [
            "[0, 0, 0, 0, 0, 0, 0, 0, 0, 0, 0, 0, 0]\n"
          ],
          "name": "stdout"
        }
      ]
    },
    {
      "cell_type": "code",
      "metadata": {
        "colab": {
          "base_uri": "https://localhost:8080/"
        },
        "id": "1FGq_ovTumbp",
        "outputId": "a984647e-b176-425a-8ad5-c1f69f036076"
      },
      "source": [
        "SSD_result=list()\r\n",
        "from sklearn import preprocessing\r\n",
        "for i in range(1,swine_data.shape[1]):\r\n",
        "  column=swine_data.columns[i]\r\n",
        "  SSD_result.append(round(swine_data[column].std()))\r\n",
        "print(SSD_result)"
      ],
      "execution_count": 10,
      "outputs": [
        {
          "output_type": "stream",
          "text": [
            "[1, 1, 1, 1, 1, 1, 1, 1, 1, 1, 1, 1, 1]\n"
          ],
          "name": "stdout"
        }
      ]
    },
    {
      "cell_type": "code",
      "metadata": {
        "id": "sg8AifpZjH08",
        "colab": {
          "base_uri": "https://localhost:8080/",
          "height": 1000
        },
        "outputId": "eb991a2a-49d7-441f-a18c-82e4e8208bf1"
      },
      "source": [
        "plt.figure(figsize = [20, 100]) \r\n",
        "for i in range(1,swine_data.shape[1]):\r\n",
        "  column=swine_data.columns[i]\r\n",
        "  plt.subplot(13, 1, i)\r\n",
        "  plt.title(column)\r\n",
        "  plt.hist(swine_data[column])"
      ],
      "execution_count": 26,
      "outputs": [
        {
          "output_type": "display_data",
          "data": {
            "image/png": "[encoded data removed]",
            "text/plain": [
              "<Figure size 1440x7200 with 13 Axes>"
            ]
          },
          "metadata": {
            "tags": [],
            "needs_background": "light"
          }
        }
      ]
    },
    {
      "cell_type": "code",
      "metadata": {
        "colab": {
          "base_uri": "https://localhost:8080/",
          "height": 1000
        },
        "id": "BSdUGWfEf-FH",
        "outputId": "b30e7558-ad42-4198-8438-c7d7ca2f9939"
      },
      "source": [
        "for i in swine_data.columns:\r\n",
        "  plot_hist(swine_data,i)"
      ],
      "execution_count": 12,
      "outputs": [
        {
          "output_type": "display_data",
          "data": {
            "application/javascript": [
              "\n",
              "(function(root) {\n",
              "  function now() {\n",
              "    return new Date();\n",
              "  }\n",
              "\n",
              "  var force = true;\n",
              "\n",
              "  if (typeof root._bokeh_onload_callbacks === \"undefined\" || force === true) {\n",
              "    root._bokeh_onload_callbacks = [];\n",
              "    root._bokeh_is_loading = undefined;\n",
              "  }\n",
              "\n",
              "  var JS_MIME_TYPE = 'application/javascript';\n",
              "  var HTML_MIME_TYPE = 'text/html';\n",
              "  var EXEC_MIME_TYPE = 'application/vnd.bokehjs_exec.v0+json';\n",
              "  var CLASS_NAME = 'output_bokeh rendered_html';\n",
              "\n",
              "  /**\n",
              "   * Render data to the DOM node\n",
              "   */\n",
              "  function render(props, node) {\n",
              "    var script = document.createElement(\"script\");\n",
              "    node.appendChild(script);\n",
              "  }\n",
              "\n",
              "  /**\n",
              "   * Handle when an output is cleared or removed\n",
              "   */\n",
              "  function handleClearOutput(event, handle) {\n",
              "    var cell = handle.cell;\n",
              "\n",
              "    var id = cell.output_area._bokeh_element_id;\n",
              "    var server_id = cell.output_area._bokeh_server_id;\n",
              "    // Clean up Bokeh references\n",
              "    if (id != null && id in Bokeh.index) {\n",
              "      Bokeh.index[id].model.document.clear();\n",
              "      delete Bokeh.index[id];\n",
              "    }\n",
              "\n",
              "    if (server_id !== undefined) {\n",
              "      // Clean up Bokeh references\n",
              "      var cmd = \"from bokeh.io.state import curstate; print(curstate().uuid_to_server['\" + server_id + \"'].get_sessions()[0].document.roots[0]._id)\";\n",
              "      cell.notebook.kernel.execute(cmd, {\n",
              "        iopub: {\n",
              "          output: function(msg) {\n",
              "            var id = msg.content.text.trim();\n",
              "            if (id in Bokeh.index) {\n",
              "              Bokeh.index[id].model.document.clear();\n",
              "              delete Bokeh.index[id];\n",
              "            }\n",
              "          }\n",
              "        }\n",
              "      });\n",
              "      // Destroy server and session\n",
              "      var cmd = \"import bokeh.io.notebook as ion; ion.destroy_server('\" + server_id + \"')\";\n",
              "      cell.notebook.kernel.execute(cmd);\n",
              "    }\n",
              "  }\n",
              "\n",
              "  /**\n",
              "   * Handle when a new output is added\n",
              "   */\n",
              "  function handleAddOutput(event, handle) {\n",
              "    var output_area = handle.output_area;\n",
              "    var output = handle.output;\n",
              "\n",
              "    // limit handleAddOutput to display_data with EXEC_MIME_TYPE content only\n",
              "    if ((output.output_type != \"display_data\") || (!output.data.hasOwnProperty(EXEC_MIME_TYPE))) {\n",
              "      return\n",
              "    }\n",
              "\n",
              "    var toinsert = output_area.element.find(\".\" + CLASS_NAME.split(' ')[0]);\n",
              "\n",
              "    if (output.metadata[EXEC_MIME_TYPE][\"id\"] !== undefined) {\n",
              "      toinsert[toinsert.length - 1].firstChild.textContent = output.data[JS_MIME_TYPE];\n",
              "      // store reference to embed id on output_area\n",
              "      output_area._bokeh_element_id = output.metadata[EXEC_MIME_TYPE][\"id\"];\n",
              "    }\n",
              "    if (output.metadata[EXEC_MIME_TYPE][\"server_id\"] !== undefined) {\n",
              "      var bk_div = document.createElement(\"div\");\n",
              "      bk_div.innerHTML = output.data[HTML_MIME_TYPE];\n",
              "      var script_attrs = bk_div.children[0].attributes;\n",
              "      for (var i = 0; i < script_attrs.length; i++) {\n",
              "        toinsert[toinsert.length - 1].firstChild.setAttribute(script_attrs[i].name, script_attrs[i].value);\n",
              "        toinsert[toinsert.length - 1].firstChild.textContent = bk_div.children[0].textContent\n",
              "      }\n",
              "      // store reference to server id on output_area\n",
              "      output_area._bokeh_server_id = output.metadata[EXEC_MIME_TYPE][\"server_id\"];\n",
              "    }\n",
              "  }\n",
              "\n",
              "  function register_renderer(events, OutputArea) {\n",
              "\n",
              "    function append_mime(data, metadata, element) {\n",
              "      // create a DOM node to render to\n",
              "      var toinsert = this.create_output_subarea(\n",
              "        metadata,\n",
              "        CLASS_NAME,\n",
              "        EXEC_MIME_TYPE\n",
              "      );\n",
              "      this.keyboard_manager.register_events(toinsert);\n",
              "      // Render to node\n",
              "      var props = {data: data, metadata: metadata[EXEC_MIME_TYPE]};\n",
              "      render(props, toinsert[toinsert.length - 1]);\n",
              "      element.append(toinsert);\n",
              "      return toinsert\n",
              "    }\n",
              "\n",
              "    /* Handle when an output is cleared or removed */\n",
              "    events.on('clear_output.CodeCell', handleClearOutput);\n",
              "    events.on('delete.Cell', handleClearOutput);\n",
              "\n",
              "    /* Handle when a new output is added */\n",
              "    events.on('output_added.OutputArea', handleAddOutput);\n",
              "\n",
              "    /**\n",
              "     * Register the mime type and append_mime function with output_area\n",
              "     */\n",
              "    OutputArea.prototype.register_mime_type(EXEC_MIME_TYPE, append_mime, {\n",
              "      /* Is output safe? */\n",
              "      safe: true,\n",
              "      /* Index of renderer in `output_area.display_order` */\n",
              "      index: 0\n",
              "    });\n",
              "  }\n",
              "\n",
              "  // register the mime type if in Jupyter Notebook environment and previously unregistered\n",
              "  if (root.Jupyter !== undefined) {\n",
              "    var events = require('base/js/events');\n",
              "    var OutputArea = require('notebook/js/outputarea').OutputArea;\n",
              "\n",
              "    if (OutputArea.prototype.mime_types().indexOf(EXEC_MIME_TYPE) == -1) {\n",
              "      register_renderer(events, OutputArea);\n",
              "    }\n",
              "  }\n",
              "\n",
              "  \n",
              "  if (typeof (root._bokeh_timeout) === \"undefined\" || force === true) {\n",
              "    root._bokeh_timeout = Date.now() + 5000;\n",
              "    root._bokeh_failed_load = false;\n",
              "  }\n",
              "\n",
              "  var NB_LOAD_WARNING = {'data': {'text/html':\n",
              "     \"<div style='background-color: #fdd'>\\n\"+\n",
              "     \"<p>\\n\"+\n",
              "     \"BokehJS does not appear to have successfully loaded. If loading BokehJS from CDN, this \\n\"+\n",
              "     \"may be due to a slow or bad network connection. Possible fixes:\\n\"+\n",
              "     \"</p>\\n\"+\n",
              "     \"<ul>\\n\"+\n",
              "     \"<li>re-rerun `output_notebook()` to attempt to load from CDN again, or</li>\\n\"+\n",
              "     \"<li>use INLINE resources instead, as so:</li>\\n\"+\n",
              "     \"</ul>\\n\"+\n",
              "     \"<code>\\n\"+\n",
              "     \"from bokeh.resources import INLINE\\n\"+\n",
              "     \"output_notebook(resources=INLINE)\\n\"+\n",
              "     \"</code>\\n\"+\n",
              "     \"</div>\"}};\n",
              "\n",
              "  function display_loaded() {\n",
              "    var el = document.getElementById(null);\n",
              "    if (el != null) {\n",
              "      el.textContent = \"BokehJS is loading...\";\n",
              "    }\n",
              "    if (root.Bokeh !== undefined) {\n",
              "      if (el != null) {\n",
              "        el.textContent = \"BokehJS \" + root.Bokeh.version + \" successfully loaded.\";\n",
              "      }\n",
              "    } else if (Date.now() < root._bokeh_timeout) {\n",
              "      setTimeout(display_loaded, 100)\n",
              "    }\n",
              "  }\n",
              "\n",
              "\n",
              "  function run_callbacks() {\n",
              "    try {\n",
              "      root._bokeh_onload_callbacks.forEach(function(callback) {\n",
              "        if (callback != null)\n",
              "          callback();\n",
              "      });\n",
              "    } finally {\n",
              "      delete root._bokeh_onload_callbacks\n",
              "    }\n",
              "    console.debug(\"Bokeh: all callbacks have finished\");\n",
              "  }\n",
              "\n",
              "  function load_libs(css_urls, js_urls, callback) {\n",
              "    if (css_urls == null) css_urls = [];\n",
              "    if (js_urls == null) js_urls = [];\n",
              "\n",
              "    root._bokeh_onload_callbacks.push(callback);\n",
              "    if (root._bokeh_is_loading > 0) {\n",
              "      console.debug(\"Bokeh: BokehJS is being loaded, scheduling callback at\", now());\n",
              "      return null;\n",
              "    }\n",
              "    if (js_urls == null || js_urls.length === 0) {\n",
              "      run_callbacks();\n",
              "      return null;\n",
              "    }\n",
              "    console.debug(\"Bokeh: BokehJS not loaded, scheduling load and callback at\", now());\n",
              "    root._bokeh_is_loading = css_urls.length + js_urls.length;\n",
              "\n",
              "    function on_load() {\n",
              "      root._bokeh_is_loading--;\n",
              "      if (root._bokeh_is_loading === 0) {\n",
              "        console.debug(\"Bokeh: all BokehJS libraries/stylesheets loaded\");\n",
              "        run_callbacks()\n",
              "      }\n",
              "    }\n",
              "\n",
              "    function on_error() {\n",
              "      console.error(\"failed to load \" + url);\n",
              "    }\n",
              "\n",
              "    for (var i = 0; i < css_urls.length; i++) {\n",
              "      var url = css_urls[i];\n",
              "      const element = document.createElement(\"link\");\n",
              "      element.onload = on_load;\n",
              "      element.onerror = on_error;\n",
              "      element.rel = \"stylesheet\";\n",
              "      element.type = \"text/css\";\n",
              "      element.href = url;\n",
              "      console.debug(\"Bokeh: injecting link tag for BokehJS stylesheet: \", url);\n",
              "      document.body.appendChild(element);\n",
              "    }\n",
              "\n",
              "    const hashes = {\"https://cdn.bokeh.org/bokeh/release/bokeh-2.1.1.min.js\": \"kLr4fYcqcSpbuI95brIH3vnnYCquzzSxHPU6XGQCIkQRGJwhg0StNbj1eegrHs12\", \"https://cdn.bokeh.org/bokeh/release/bokeh-widgets-2.1.1.min.js\": \"xIGPmVtaOm+z0BqfSOMn4lOR6ciex448GIKG4eE61LsAvmGj48XcMQZtKcE/UXZe\", \"https://cdn.bokeh.org/bokeh/release/bokeh-tables-2.1.1.min.js\": \"Dc9u1wF/0zApGIWoBbH77iWEHtdmkuYWG839Uzmv8y8yBLXebjO9ZnERsde5Ln/P\", \"https://cdn.bokeh.org/bokeh/release/bokeh-gl-2.1.1.min.js\": \"cT9JaBz7GiRXdENrJLZNSC6eMNF3nh3fa5fTF51Svp+ukxPdwcU5kGXGPBgDCa2j\"};\n",
              "\n",
              "    for (var i = 0; i < js_urls.length; i++) {\n",
              "      var url = js_urls[i];\n",
              "      var element = document.createElement('script');\n",
              "      element.onload = on_load;\n",
              "      element.onerror = on_error;\n",
              "      element.async = false;\n",
              "      element.src = url;\n",
              "      if (url in hashes) {\n",
              "        element.crossOrigin = \"anonymous\";\n",
              "        element.integrity = \"sha384-\" + hashes[url];\n",
              "      }\n",
              "      console.debug(\"Bokeh: injecting script tag for BokehJS library: \", url);\n",
              "      document.head.appendChild(element);\n",
              "    }\n",
              "  };\n",
              "\n",
              "  function inject_raw_css(css) {\n",
              "    const element = document.createElement(\"style\");\n",
              "    element.appendChild(document.createTextNode(css));\n",
              "    document.body.appendChild(element);\n",
              "  }\n",
              "\n",
              "  \n",
              "  var js_urls = [\"https://cdn.bokeh.org/bokeh/release/bokeh-2.1.1.min.js\", \"https://cdn.bokeh.org/bokeh/release/bokeh-widgets-2.1.1.min.js\", \"https://cdn.bokeh.org/bokeh/release/bokeh-tables-2.1.1.min.js\", \"https://cdn.bokeh.org/bokeh/release/bokeh-gl-2.1.1.min.js\"];\n",
              "  var css_urls = [];\n",
              "  \n",
              "\n",
              "  var inline_js = [\n",
              "    function(Bokeh) {\n",
              "      Bokeh.set_log_level(\"info\");\n",
              "    },\n",
              "    function(Bokeh) {\n",
              "    \n",
              "    \n",
              "    }\n",
              "  ];\n",
              "\n",
              "  function run_inline_js() {\n",
              "    \n",
              "    if (root.Bokeh !== undefined || force === true) {\n",
              "      \n",
              "    for (var i = 0; i < inline_js.length; i++) {\n",
              "      inline_js[i].call(root, root.Bokeh);\n",
              "    }\n",
              "    } else if (Date.now() < root._bokeh_timeout) {\n",
              "      setTimeout(run_inline_js, 100);\n",
              "    } else if (!root._bokeh_failed_load) {\n",
              "      console.log(\"Bokeh: BokehJS failed to load within specified timeout.\");\n",
              "      root._bokeh_failed_load = true;\n",
              "    } else if (force !== true) {\n",
              "      var cell = $(document.getElementById(null)).parents('.cell').data().cell;\n",
              "      cell.output_area.append_execute_result(NB_LOAD_WARNING)\n",
              "    }\n",
              "\n",
              "  }\n",
              "\n",
              "  if (root._bokeh_is_loading === 0) {\n",
              "    console.debug(\"Bokeh: BokehJS loaded, going straight to plotting\");\n",
              "    run_inline_js();\n",
              "  } else {\n",
              "    load_libs(css_urls, js_urls, function() {\n",
              "      console.debug(\"Bokeh: BokehJS plotting callback run at\", now());\n",
              "      run_inline_js();\n",
              "    });\n",
              "  }\n",
              "}(window));"
            ],
            "application/vnd.bokehjs_load.v0+json": "\n(function(root) {\n  function now() {\n    return new Date();\n  }\n\n  var force = true;\n\n  if (typeof root._bokeh_onload_callbacks === \"undefined\" || force === true) {\n    root._bokeh_onload_callbacks = [];\n    root._bokeh_is_loading = undefined;\n  }\n\n  \n\n  \n  if (typeof (root._bokeh_timeout) === \"undefined\" || force === true) {\n    root._bokeh_timeout = Date.now() + 5000;\n    root._bokeh_failed_load = false;\n  }\n\n  var NB_LOAD_WARNING = {'data': {'text/html':\n     \"<div style='background-color: #fdd'>\\n\"+\n     \"<p>\\n\"+\n     \"BokehJS does not appear to have successfully loaded. If loading BokehJS from CDN, this \\n\"+\n     \"may be due to a slow or bad network connection. Possible fixes:\\n\"+\n     \"</p>\\n\"+\n     \"<ul>\\n\"+\n     \"<li>re-rerun `output_notebook()` to attempt to load from CDN again, or</li>\\n\"+\n     \"<li>use INLINE resources instead, as so:</li>\\n\"+\n     \"</ul>\\n\"+\n     \"<code>\\n\"+\n     \"from bokeh.resources import INLINE\\n\"+\n     \"output_notebook(resources=INLINE)\\n\"+\n     \"</code>\\n\"+\n     \"</div>\"}};\n\n  function display_loaded() {\n    var el = document.getElementById(null);\n    if (el != null) {\n      el.textContent = \"BokehJS is loading...\";\n    }\n    if (root.Bokeh !== undefined) {\n      if (el != null) {\n        el.textContent = \"BokehJS \" + root.Bokeh.version + \" successfully loaded.\";\n      }\n    } else if (Date.now() < root._bokeh_timeout) {\n      setTimeout(display_loaded, 100)\n    }\n  }\n\n\n  function run_callbacks() {\n    try {\n      root._bokeh_onload_callbacks.forEach(function(callback) {\n        if (callback != null)\n          callback();\n      });\n    } finally {\n      delete root._bokeh_onload_callbacks\n    }\n    console.debug(\"Bokeh: all callbacks have finished\");\n  }\n\n  function load_libs(css_urls, js_urls, callback) {\n    if (css_urls == null) css_urls = [];\n    if (js_urls == null) js_urls = [];\n\n    root._bokeh_onload_callbacks.push(callback);\n    if (root._bokeh_is_loading > 0) {\n      console.debug(\"Bokeh: BokehJS is being loaded, scheduling callback at\", now());\n      return null;\n    }\n    if (js_urls == null || js_urls.length === 0) {\n      run_callbacks();\n      return null;\n    }\n    console.debug(\"Bokeh: BokehJS not loaded, scheduling load and callback at\", now());\n    root._bokeh_is_loading = css_urls.length + js_urls.length;\n\n    function on_load() {\n      root._bokeh_is_loading--;\n      if (root._bokeh_is_loading === 0) {\n        console.debug(\"Bokeh: all BokehJS libraries/stylesheets loaded\");\n        run_callbacks()\n      }\n    }\n\n    function on_error() {\n      console.error(\"failed to load \" + url);\n    }\n\n    for (var i = 0; i < css_urls.length; i++) {\n      var url = css_urls[i];\n      const element = document.createElement(\"link\");\n      element.onload = on_load;\n      element.onerror = on_error;\n      element.rel = \"stylesheet\";\n      element.type = \"text/css\";\n      element.href = url;\n      console.debug(\"Bokeh: injecting link tag for BokehJS stylesheet: \", url);\n      document.body.appendChild(element);\n    }\n\n    const hashes = {\"https://cdn.bokeh.org/bokeh/release/bokeh-2.1.1.min.js\": \"kLr4fYcqcSpbuI95brIH3vnnYCquzzSxHPU6XGQCIkQRGJwhg0StNbj1eegrHs12\", \"https://cdn.bokeh.org/bokeh/release/bokeh-widgets-2.1.1.min.js\": \"xIGPmVtaOm+z0BqfSOMn4lOR6ciex448GIKG4eE61LsAvmGj48XcMQZtKcE/UXZe\", \"https://cdn.bokeh.org/bokeh/release/bokeh-tables-2.1.1.min.js\": \"Dc9u1wF/0zApGIWoBbH77iWEHtdmkuYWG839Uzmv8y8yBLXebjO9ZnERsde5Ln/P\", \"https://cdn.bokeh.org/bokeh/release/bokeh-gl-2.1.1.min.js\": \"cT9JaBz7GiRXdENrJLZNSC6eMNF3nh3fa5fTF51Svp+ukxPdwcU5kGXGPBgDCa2j\"};\n\n    for (var i = 0; i < js_urls.length; i++) {\n      var url = js_urls[i];\n      var element = document.createElement('script');\n      element.onload = on_load;\n      element.onerror = on_error;\n      element.async = false;\n      element.src = url;\n      if (url in hashes) {\n        element.crossOrigin = \"anonymous\";\n        element.integrity = \"sha384-\" + hashes[url];\n      }\n      console.debug(\"Bokeh: injecting script tag for BokehJS library: \", url);\n      document.head.appendChild(element);\n    }\n  };\n\n  function inject_raw_css(css) {\n    const element = document.createElement(\"style\");\n    element.appendChild(document.createTextNode(css));\n    document.body.appendChild(element);\n  }\n\n  \n  var js_urls = [\"https://cdn.bokeh.org/bokeh/release/bokeh-2.1.1.min.js\", \"https://cdn.bokeh.org/bokeh/release/bokeh-widgets-2.1.1.min.js\", \"https://cdn.bokeh.org/bokeh/release/bokeh-tables-2.1.1.min.js\", \"https://cdn.bokeh.org/bokeh/release/bokeh-gl-2.1.1.min.js\"];\n  var css_urls = [];\n  \n\n  var inline_js = [\n    function(Bokeh) {\n      Bokeh.set_log_level(\"info\");\n    },\n    function(Bokeh) {\n    \n    \n    }\n  ];\n\n  function run_inline_js() {\n    \n    if (root.Bokeh !== undefined || force === true) {\n      \n    for (var i = 0; i < inline_js.length; i++) {\n      inline_js[i].call(root, root.Bokeh);\n    }\n    } else if (Date.now() < root._bokeh_timeout) {\n      setTimeout(run_inline_js, 100);\n    } else if (!root._bokeh_failed_load) {\n      console.log(\"Bokeh: BokehJS failed to load within specified timeout.\");\n      root._bokeh_failed_load = true;\n    } else if (force !== true) {\n      var cell = $(document.getElementById(null)).parents('.cell').data().cell;\n      cell.output_area.append_execute_result(NB_LOAD_WARNING)\n    }\n\n  }\n\n  if (root._bokeh_is_loading === 0) {\n    console.debug(\"Bokeh: BokehJS loaded, going straight to plotting\");\n    run_inline_js();\n  } else {\n    load_libs(css_urls, js_urls, function() {\n      console.debug(\"Bokeh: BokehJS plotting callback run at\", now());\n      run_inline_js();\n    });\n  }\n}(window));"
          },
          "metadata": {
            "tags": []
          }
        },
        {
          "output_type": "display_data",
          "data": {
            "text/html": [
              "\n",
              "\n",
              "\n",
              "\n",
              "\n",
              "\n",
              "  <div class=\"bk-root\" id=\"7384cdef-0bff-467d-8270-3c84abba33c4\" data-root-id=\"3039\"></div>\n"
            ]
          },
          "metadata": {
            "tags": []
          }
        },
        {
          "output_type": "display_data",
          "data": {
            "application/javascript": [
              "(function(root) {\n",
              "  function embed_document(root) {\n",
              "    \n",
              "  var docs_json = {\"fac5f7c2-68e5-424d-9bd6-c3db60213be0\":{\"roots\":{\"references\":[{\"attributes\":{\"below\":[{\"id\":\"3050\"}],\"center\":[{\"id\":\"3053\"},{\"id\":\"3057\"}],\"left\":[{\"id\":\"3054\"}],\"plot_height\":400,\"plot_width\":400,\"renderers\":[{\"id\":\"3076\"}],\"title\":{\"id\":\"3040\"},\"toolbar\":{\"id\":\"3065\"},\"x_range\":{\"id\":\"3042\"},\"x_scale\":{\"id\":\"3046\"},\"y_range\":{\"id\":\"3044\"},\"y_scale\":{\"id\":\"3048\"}},\"id\":\"3039\",\"subtype\":\"Figure\",\"type\":\"Plot\"},{\"attributes\":{\"axis\":{\"id\":\"3054\"},\"dimension\":1,\"ticker\":null},\"id\":\"3057\",\"type\":\"Grid\"},{\"attributes\":{},\"id\":\"3051\",\"type\":\"BasicTicker\"},{\"attributes\":{},\"id\":\"3190\",\"type\":\"Selection\"},{\"attributes\":{},\"id\":\"3044\",\"type\":\"DataRange1d\"},{\"attributes\":{},\"id\":\"3185\",\"type\":\"BasicTickFormatter\"},{\"attributes\":{},\"id\":\"3042\",\"type\":\"DataRange1d\"},{\"attributes\":{},\"id\":\"3048\",\"type\":\"LinearScale\"},{\"attributes\":{\"bottom\":{\"value\":0},\"fill_color\":{\"value\":\"blue\"},\"left\":{\"field\":\"left\"},\"right\":{\"field\":\"right\"},\"top\":{\"field\":\"Wine\"}},\"id\":\"3075\",\"type\":\"Quad\"},{\"attributes\":{\"bottom\":{\"value\":0},\"fill_alpha\":{\"value\":0.1},\"fill_color\":{\"value\":\"red\"},\"left\":{\"field\":\"left\"},\"line_alpha\":{\"value\":0.1},\"right\":{\"field\":\"right\"},\"top\":{\"field\":\"Wine\"}},\"id\":\"3074\",\"type\":\"Quad\"},{\"attributes\":{\"bottom\":{\"value\":0},\"fill_alpha\":{\"value\":0.7},\"fill_color\":{\"value\":\"red\"},\"left\":{\"field\":\"left\"},\"right\":{\"field\":\"right\"},\"top\":{\"field\":\"Wine\"}},\"id\":\"3073\",\"type\":\"Quad\"},{\"attributes\":{\"active_drag\":\"auto\",\"active_inspect\":\"auto\",\"active_multi\":null,\"active_scroll\":\"auto\",\"active_tap\":\"auto\",\"tools\":[{\"id\":\"3058\"},{\"id\":\"3059\"},{\"id\":\"3060\"},{\"id\":\"3061\"},{\"id\":\"3062\"},{\"id\":\"3063\"},{\"id\":\"3078\"}]},\"id\":\"3065\",\"type\":\"Toolbar\"},{\"attributes\":{\"formatter\":{\"id\":\"3187\"},\"ticker\":{\"id\":\"3051\"}},\"id\":\"3050\",\"type\":\"LinearAxis\"},{\"attributes\":{\"axis\":{\"id\":\"3050\"},\"ticker\":null},\"id\":\"3053\",\"type\":\"Grid\"},{\"attributes\":{},\"id\":\"3058\",\"type\":\"PanTool\"},{\"attributes\":{},\"id\":\"3061\",\"type\":\"SaveTool\"},{\"attributes\":{},\"id\":\"3063\",\"type\":\"HelpTool\"},{\"attributes\":{\"callback\":null,\"tooltips\":[[\"Interval\",\"@tofrom\"],[\"Count\",\"@Wine\"]]},\"id\":\"3078\",\"type\":\"HoverTool\"},{\"attributes\":{\"data\":{\"Wine\":[59,0,0,0,0,71,0,0,0,48],\"index\":[0,1,2,3,4,5,6,7,8,9],\"left\":{\"__ndarray__\":\"AAAAAAAA8D8zMzMzMzPzP2ZmZmZmZvY/mpmZmZmZ+T/NzMzMzMz8PwAAAAAAAABAmpmZmZmZAUA0MzMzMzMDQM3MzMzMzARAZmZmZmZmBkA=\",\"dtype\":\"float64\",\"order\":\"little\",\"shape\":[10]},\"right\":{\"__ndarray__\":\"MzMzMzMz8z9mZmZmZmb2P5qZmZmZmfk/zczMzMzM/D8AAAAAAAAAQJqZmZmZmQFANDMzMzMzA0DNzMzMzMwEQGZmZmZmZgZAAAAAAAAACEA=\",\"dtype\":\"float64\",\"order\":\"little\",\"shape\":[10]},\"tofrom\":[\"1.0 to 1.2\",\"1.2 to 1.4\",\"1.4 to 1.6\",\"1.6 to 1.8\",\"1.8 to 2.0\",\"2.0 to 2.2\",\"2.2 to 2.4000000000000004\",\"2.4000000000000004 to 2.6\",\"2.6 to 2.8\",\"2.8 to 3.0\"]},\"selected\":{\"id\":\"3190\"},\"selection_policy\":{\"id\":\"3189\"}},\"id\":\"3038\",\"type\":\"ColumnDataSource\"},{\"attributes\":{\"bottom_units\":\"screen\",\"fill_alpha\":0.5,\"fill_color\":\"lightgrey\",\"left_units\":\"screen\",\"level\":\"overlay\",\"line_alpha\":1.0,\"line_color\":\"black\",\"line_dash\":[4,4],\"line_width\":2,\"right_units\":\"screen\",\"top_units\":\"screen\"},\"id\":\"3064\",\"type\":\"BoxAnnotation\"},{\"attributes\":{\"data_source\":{\"id\":\"3038\"},\"glyph\":{\"id\":\"3073\"},\"hover_glyph\":{\"id\":\"3075\"},\"muted_glyph\":null,\"nonselection_glyph\":{\"id\":\"3074\"},\"selection_glyph\":null,\"view\":{\"id\":\"3077\"}},\"id\":\"3076\",\"type\":\"GlyphRenderer\"},{\"attributes\":{\"formatter\":{\"id\":\"3185\"},\"ticker\":{\"id\":\"3055\"}},\"id\":\"3054\",\"type\":\"LinearAxis\"},{\"attributes\":{},\"id\":\"3055\",\"type\":\"BasicTicker\"},{\"attributes\":{\"source\":{\"id\":\"3038\"}},\"id\":\"3077\",\"type\":\"CDSView\"},{\"attributes\":{\"overlay\":{\"id\":\"3064\"}},\"id\":\"3060\",\"type\":\"BoxZoomTool\"},{\"attributes\":{},\"id\":\"3189\",\"type\":\"UnionRenderers\"},{\"attributes\":{},\"id\":\"3046\",\"type\":\"LinearScale\"},{\"attributes\":{},\"id\":\"3187\",\"type\":\"BasicTickFormatter\"},{\"attributes\":{\"text\":\"Wine\"},\"id\":\"3040\",\"type\":\"Title\"},{\"attributes\":{},\"id\":\"3059\",\"type\":\"WheelZoomTool\"},{\"attributes\":{},\"id\":\"3062\",\"type\":\"ResetTool\"}],\"root_ids\":[\"3039\"]},\"title\":\"Bokeh Application\",\"version\":\"2.1.1\"}};\n",
              "  var render_items = [{\"docid\":\"fac5f7c2-68e5-424d-9bd6-c3db60213be0\",\"root_ids\":[\"3039\"],\"roots\":{\"3039\":\"7384cdef-0bff-467d-8270-3c84abba33c4\"}}];\n",
              "  root.Bokeh.embed.embed_items_notebook(docs_json, render_items);\n",
              "\n",
              "  }\n",
              "  if (root.Bokeh !== undefined) {\n",
              "    embed_document(root);\n",
              "  } else {\n",
              "    var attempts = 0;\n",
              "    var timer = setInterval(function(root) {\n",
              "      if (root.Bokeh !== undefined) {\n",
              "        clearInterval(timer);\n",
              "        embed_document(root);\n",
              "      } else {\n",
              "        attempts++;\n",
              "        if (attempts > 100) {\n",
              "          clearInterval(timer);\n",
              "          console.log(\"Bokeh: ERROR: Unable to run BokehJS code because BokehJS library is missing\");\n",
              "        }\n",
              "      }\n",
              "    }, 10, root)\n",
              "  }\n",
              "})(window);"
            ],
            "application/vnd.bokehjs_exec.v0+json": ""
          },
          "metadata": {
            "tags": [],
            "application/vnd.bokehjs_exec.v0+json": {
              "id": "3039"
            }
          }
        },
        {
          "output_type": "display_data",
          "data": {
            "text/html": [
              "\n",
              "\n",
              "\n",
              "\n",
              "\n",
              "\n",
              "  <div class=\"bk-root\" id=\"edd9bd6f-38ce-428b-904e-407fe338283d\" data-root-id=\"3241\"></div>\n"
            ]
          },
          "metadata": {
            "tags": []
          }
        },
        {
          "output_type": "display_data",
          "data": {
            "application/javascript": [
              "(function(root) {\n",
              "  function embed_document(root) {\n",
              "    \n",
              "  var docs_json = {\"d3a81c3c-5000-452d-9a54-43e065a9225c\":{\"roots\":{\"references\":[{\"attributes\":{\"below\":[{\"id\":\"3252\"}],\"center\":[{\"id\":\"3255\"},{\"id\":\"3259\"}],\"left\":[{\"id\":\"3256\"}],\"plot_height\":400,\"plot_width\":400,\"renderers\":[{\"id\":\"3278\"}],\"title\":{\"id\":\"3242\"},\"toolbar\":{\"id\":\"3267\"},\"x_range\":{\"id\":\"3244\"},\"x_scale\":{\"id\":\"3248\"},\"y_range\":{\"id\":\"3246\"},\"y_scale\":{\"id\":\"3250\"}},\"id\":\"3241\",\"subtype\":\"Figure\",\"type\":\"Plot\"},{\"attributes\":{\"axis\":{\"id\":\"3256\"},\"dimension\":1,\"ticker\":null},\"id\":\"3259\",\"type\":\"Grid\"},{\"attributes\":{\"overlay\":{\"id\":\"3266\"}},\"id\":\"3262\",\"type\":\"BoxZoomTool\"},{\"attributes\":{\"bottom\":{\"value\":0},\"fill_color\":{\"value\":\"blue\"},\"left\":{\"field\":\"left\"},\"right\":{\"field\":\"right\"},\"top\":{\"field\":\"Alcohol\"}},\"id\":\"3277\",\"type\":\"Quad\"},{\"attributes\":{},\"id\":\"3261\",\"type\":\"WheelZoomTool\"},{\"attributes\":{\"bottom\":{\"value\":0},\"fill_alpha\":{\"value\":0.7},\"fill_color\":{\"value\":\"red\"},\"left\":{\"field\":\"left\"},\"right\":{\"field\":\"right\"},\"top\":{\"field\":\"Alcohol\"}},\"id\":\"3275\",\"type\":\"Quad\"},{\"attributes\":{},\"id\":\"3246\",\"type\":\"DataRange1d\"},{\"attributes\":{},\"id\":\"3265\",\"type\":\"HelpTool\"},{\"attributes\":{},\"id\":\"3250\",\"type\":\"LinearScale\"},{\"attributes\":{},\"id\":\"3395\",\"type\":\"BasicTickFormatter\"},{\"attributes\":{\"formatter\":{\"id\":\"3395\"},\"ticker\":{\"id\":\"3257\"}},\"id\":\"3256\",\"type\":\"LinearAxis\"},{\"attributes\":{\"source\":{\"id\":\"3240\"}},\"id\":\"3279\",\"type\":\"CDSView\"},{\"attributes\":{\"callback\":null,\"tooltips\":[[\"Interval\",\"@tofrom\"],[\"Count\",\"@Alcohol\"]]},\"id\":\"3280\",\"type\":\"HoverTool\"},{\"attributes\":{},\"id\":\"3260\",\"type\":\"PanTool\"},{\"attributes\":{\"bottom\":{\"value\":0},\"fill_alpha\":{\"value\":0.1},\"fill_color\":{\"value\":\"red\"},\"left\":{\"field\":\"left\"},\"line_alpha\":{\"value\":0.1},\"right\":{\"field\":\"right\"},\"top\":{\"field\":\"Alcohol\"}},\"id\":\"3276\",\"type\":\"Quad\"},{\"attributes\":{},\"id\":\"3399\",\"type\":\"UnionRenderers\"},{\"attributes\":{\"data\":{\"Alcohol\":[1,11,18,31,21,27,26,24,17,2],\"index\":[0,1,2,3,4,5,6,7,8,9],\"left\":{\"__ndarray__\":\"kwC0YVB5A8DF2QV49m//v2SyoyxM7fe/AotB4aFq8L9Cx74r78/hvwDE06fUVLa/iKyTA3R12D8EJY6YDkDrP+Q5qZexIvU/RmEL41ul/D8=\",\"dtype\":\"float64\",\"order\":\"little\",\"shape\":[10]},\"right\":{\"__ndarray__\":\"xdkFePZv/79ksqMsTO33vwKLQeGhavC/Qse+K+/P4b8AxNOn1FS2v4iskwN0ddg/BCWOmA5A6z/kOamXsSL1P0ZhC+Nbpfw/U8Q2FwMUAkA=\",\"dtype\":\"float64\",\"order\":\"little\",\"shape\":[10]},\"tofrom\":[\"-2.4342353470856977 to -1.96483466037681\",\"-1.96483466037681 to -1.4954339736679225\",\"-1.4954339736679225 to -1.0260332869590347\",\"-1.0260332869590347 to -0.5566326002501472\",\"-0.5566326002501472 to -0.08723191354125959\",\"-0.08723191354125959 to 0.3821687731676282\",\"0.3821687731676282 to 0.8515694598765156\",\"0.8515694598765156 to 1.3209701465854033\",\"1.3209701465854033 to 1.7903708332942911\",\"1.7903708332942911 to 2.2597715200031785\"]},\"selected\":{\"id\":\"3400\"},\"selection_policy\":{\"id\":\"3399\"}},\"id\":\"3240\",\"type\":\"ColumnDataSource\"},{\"attributes\":{\"axis\":{\"id\":\"3252\"},\"ticker\":null},\"id\":\"3255\",\"type\":\"Grid\"},{\"attributes\":{\"bottom_units\":\"screen\",\"fill_alpha\":0.5,\"fill_color\":\"lightgrey\",\"left_units\":\"screen\",\"level\":\"overlay\",\"line_alpha\":1.0,\"line_color\":\"black\",\"line_dash\":[4,4],\"line_width\":2,\"right_units\":\"screen\",\"top_units\":\"screen\"},\"id\":\"3266\",\"type\":\"BoxAnnotation\"},{\"attributes\":{\"formatter\":{\"id\":\"3397\"},\"ticker\":{\"id\":\"3253\"}},\"id\":\"3252\",\"type\":\"LinearAxis\"},{\"attributes\":{},\"id\":\"3263\",\"type\":\"SaveTool\"},{\"attributes\":{\"data_source\":{\"id\":\"3240\"},\"glyph\":{\"id\":\"3275\"},\"hover_glyph\":{\"id\":\"3277\"},\"muted_glyph\":null,\"nonselection_glyph\":{\"id\":\"3276\"},\"selection_glyph\":null,\"view\":{\"id\":\"3279\"}},\"id\":\"3278\",\"type\":\"GlyphRenderer\"},{\"attributes\":{},\"id\":\"3253\",\"type\":\"BasicTicker\"},{\"attributes\":{},\"id\":\"3257\",\"type\":\"BasicTicker\"},{\"attributes\":{},\"id\":\"3397\",\"type\":\"BasicTickFormatter\"},{\"attributes\":{\"text\":\"Alcohol\"},\"id\":\"3242\",\"type\":\"Title\"},{\"attributes\":{},\"id\":\"3248\",\"type\":\"LinearScale\"},{\"attributes\":{\"active_drag\":\"auto\",\"active_inspect\":\"auto\",\"active_multi\":null,\"active_scroll\":\"auto\",\"active_tap\":\"auto\",\"tools\":[{\"id\":\"3260\"},{\"id\":\"3261\"},{\"id\":\"3262\"},{\"id\":\"3263\"},{\"id\":\"3264\"},{\"id\":\"3265\"},{\"id\":\"3280\"}]},\"id\":\"3267\",\"type\":\"Toolbar\"},{\"attributes\":{},\"id\":\"3400\",\"type\":\"Selection\"},{\"attributes\":{},\"id\":\"3264\",\"type\":\"ResetTool\"},{\"attributes\":{},\"id\":\"3244\",\"type\":\"DataRange1d\"}],\"root_ids\":[\"3241\"]},\"title\":\"Bokeh Application\",\"version\":\"2.1.1\"}};\n",
              "  var render_items = [{\"docid\":\"d3a81c3c-5000-452d-9a54-43e065a9225c\",\"root_ids\":[\"3241\"],\"roots\":{\"3241\":\"edd9bd6f-38ce-428b-904e-407fe338283d\"}}];\n",
              "  root.Bokeh.embed.embed_items_notebook(docs_json, render_items);\n",
              "\n",
              "  }\n",
              "  if (root.Bokeh !== undefined) {\n",
              "    embed_document(root);\n",
              "  } else {\n",
              "    var attempts = 0;\n",
              "    var timer = setInterval(function(root) {\n",
              "      if (root.Bokeh !== undefined) {\n",
              "        clearInterval(timer);\n",
              "        embed_document(root);\n",
              "      } else {\n",
              "        attempts++;\n",
              "        if (attempts > 100) {\n",
              "          clearInterval(timer);\n",
              "          console.log(\"Bokeh: ERROR: Unable to run BokehJS code because BokehJS library is missing\");\n",
              "        }\n",
              "      }\n",
              "    }, 10, root)\n",
              "  }\n",
              "})(window);"
            ],
            "application/vnd.bokehjs_exec.v0+json": ""
          },
          "metadata": {
            "tags": [],
            "application/vnd.bokehjs_exec.v0+json": {
              "id": "3241"
            }
          }
        },
        {
          "output_type": "display_data",
          "data": {
            "text/html": [
              "\n",
              "\n",
              "\n",
              "\n",
              "\n",
              "\n",
              "  <div class=\"bk-root\" id=\"208726d9-b39b-4e1c-9e14-c3214c4b5567\" data-root-id=\"3451\"></div>\n"
            ]
          },
          "metadata": {
            "tags": []
          }
        },
        {
          "output_type": "display_data",
          "data": {
            "application/javascript": [
              "(function(root) {\n",
              "  function embed_document(root) {\n",
              "    \n",
              "  var docs_json = {\"fc99427f-db90-4053-85be-a7b276d1535a\":{\"roots\":{\"references\":[{\"attributes\":{\"below\":[{\"id\":\"3462\"}],\"center\":[{\"id\":\"3465\"},{\"id\":\"3469\"}],\"left\":[{\"id\":\"3466\"}],\"plot_height\":400,\"plot_width\":400,\"renderers\":[{\"id\":\"3488\"}],\"title\":{\"id\":\"3452\"},\"toolbar\":{\"id\":\"3477\"},\"x_range\":{\"id\":\"3454\"},\"x_scale\":{\"id\":\"3458\"},\"y_range\":{\"id\":\"3456\"},\"y_scale\":{\"id\":\"3460\"}},\"id\":\"3451\",\"subtype\":\"Figure\",\"type\":\"Plot\"},{\"attributes\":{\"bottom\":{\"value\":0},\"fill_alpha\":{\"value\":0.1},\"fill_color\":{\"value\":\"red\"},\"left\":{\"field\":\"left\"},\"line_alpha\":{\"value\":0.1},\"right\":{\"field\":\"right\"},\"top\":{\"field\":\"Malic.acid\"}},\"id\":\"3486\",\"type\":\"Quad\"},{\"attributes\":{\"overlay\":{\"id\":\"3476\"}},\"id\":\"3472\",\"type\":\"BoxZoomTool\"},{\"attributes\":{},\"id\":\"3617\",\"type\":\"UnionRenderers\"},{\"attributes\":{\"formatter\":{\"id\":\"3613\"},\"ticker\":{\"id\":\"3467\"}},\"id\":\"3466\",\"type\":\"LinearAxis\"},{\"attributes\":{},\"id\":\"3473\",\"type\":\"SaveTool\"},{\"attributes\":{\"callback\":null,\"tooltips\":[[\"Interval\",\"@tofrom\"],[\"Count\",\"@Malic.acid\"]]},\"id\":\"3490\",\"type\":\"HoverTool\"},{\"attributes\":{\"text\":\"Malic.acid\"},\"id\":\"3452\",\"type\":\"Title\"},{\"attributes\":{\"active_drag\":\"auto\",\"active_inspect\":\"auto\",\"active_multi\":null,\"active_scroll\":\"auto\",\"active_tap\":\"auto\",\"tools\":[{\"id\":\"3470\"},{\"id\":\"3471\"},{\"id\":\"3472\"},{\"id\":\"3473\"},{\"id\":\"3474\"},{\"id\":\"3475\"},{\"id\":\"3490\"}]},\"id\":\"3477\",\"type\":\"Toolbar\"},{\"attributes\":{\"data\":{\"Malic.acid\":[18,59,33,16,13,12,14,7,3,3],\"index\":[0,1,2,3,4,5,6,7,8,9],\"left\":{\"__ndarray__\":\"WxhZon/t9r8y1nsFDFLvv657RcYYyeC/UAl5OCwBsr+0ck5wm5HYP96TXffA0eo/MfdJG1qt9D9zJOW60/H7P9ooQK0mmwFAer8NfWM9BUA=\",\"dtype\":\"float64\",\"order\":\"little\",\"shape\":[10]},\"right\":{\"__ndarray__\":\"MtZ7BQxS77+ue0XGGMngv1AJeTgsAbK/tHJOcJuR2D/ek133wNHqPzH3SRtarfQ/cyTlutPx+z/aKECtJpsBQHq/DX1jPQVAHFbbTKDfCEA=\",\"dtype\":\"float64\",\"order\":\"little\",\"shape\":[10]},\"tofrom\":[\"-1.4329830495567168 to -0.9787654978851548\",\"-0.9787654978851548 to -0.5245479462135927\",\"-0.5245479462135927 to -0.0703303945420306\",\"-0.0703303945420306 to 0.3838871571295315\",\"0.3838871571295315 to 0.8381047088010936\",\"0.8381047088010936 to 1.2923222604726556\",\"1.2923222604726556 to 1.7465398121442177\",\"1.7465398121442177 to 2.2007573638157796\",\"2.2007573638157796 to 2.654974915487341\",\"2.654974915487341 to 3.1091924671589037\"]},\"selected\":{\"id\":\"3618\"},\"selection_policy\":{\"id\":\"3617\"}},\"id\":\"3450\",\"type\":\"ColumnDataSource\"},{\"attributes\":{\"source\":{\"id\":\"3450\"}},\"id\":\"3489\",\"type\":\"CDSView\"},{\"attributes\":{},\"id\":\"3467\",\"type\":\"BasicTicker\"},{\"attributes\":{},\"id\":\"3615\",\"type\":\"BasicTickFormatter\"},{\"attributes\":{\"bottom\":{\"value\":0},\"fill_alpha\":{\"value\":0.7},\"fill_color\":{\"value\":\"red\"},\"left\":{\"field\":\"left\"},\"right\":{\"field\":\"right\"},\"top\":{\"field\":\"Malic.acid\"}},\"id\":\"3485\",\"type\":\"Quad\"},{\"attributes\":{\"formatter\":{\"id\":\"3615\"},\"ticker\":{\"id\":\"3463\"}},\"id\":\"3462\",\"type\":\"LinearAxis\"},{\"attributes\":{\"bottom\":{\"value\":0},\"fill_color\":{\"value\":\"blue\"},\"left\":{\"field\":\"left\"},\"right\":{\"field\":\"right\"},\"top\":{\"field\":\"Malic.acid\"}},\"id\":\"3487\",\"type\":\"Quad\"},{\"attributes\":{},\"id\":\"3471\",\"type\":\"WheelZoomTool\"},{\"attributes\":{},\"id\":\"3475\",\"type\":\"HelpTool\"},{\"attributes\":{\"bottom_units\":\"screen\",\"fill_alpha\":0.5,\"fill_color\":\"lightgrey\",\"left_units\":\"screen\",\"level\":\"overlay\",\"line_alpha\":1.0,\"line_color\":\"black\",\"line_dash\":[4,4],\"line_width\":2,\"right_units\":\"screen\",\"top_units\":\"screen\"},\"id\":\"3476\",\"type\":\"BoxAnnotation\"},{\"attributes\":{},\"id\":\"3470\",\"type\":\"PanTool\"},{\"attributes\":{},\"id\":\"3613\",\"type\":\"BasicTickFormatter\"},{\"attributes\":{},\"id\":\"3460\",\"type\":\"LinearScale\"},{\"attributes\":{},\"id\":\"3458\",\"type\":\"LinearScale\"},{\"attributes\":{\"axis\":{\"id\":\"3462\"},\"ticker\":null},\"id\":\"3465\",\"type\":\"Grid\"},{\"attributes\":{\"axis\":{\"id\":\"3466\"},\"dimension\":1,\"ticker\":null},\"id\":\"3469\",\"type\":\"Grid\"},{\"attributes\":{\"data_source\":{\"id\":\"3450\"},\"glyph\":{\"id\":\"3485\"},\"hover_glyph\":{\"id\":\"3487\"},\"muted_glyph\":null,\"nonselection_glyph\":{\"id\":\"3486\"},\"selection_glyph\":null,\"view\":{\"id\":\"3489\"}},\"id\":\"3488\",\"type\":\"GlyphRenderer\"},{\"attributes\":{},\"id\":\"3456\",\"type\":\"DataRange1d\"},{\"attributes\":{},\"id\":\"3454\",\"type\":\"DataRange1d\"},{\"attributes\":{},\"id\":\"3618\",\"type\":\"Selection\"},{\"attributes\":{},\"id\":\"3474\",\"type\":\"ResetTool\"},{\"attributes\":{},\"id\":\"3463\",\"type\":\"BasicTicker\"}],\"root_ids\":[\"3451\"]},\"title\":\"Bokeh Application\",\"version\":\"2.1.1\"}};\n",
              "  var render_items = [{\"docid\":\"fc99427f-db90-4053-85be-a7b276d1535a\",\"root_ids\":[\"3451\"],\"roots\":{\"3451\":\"208726d9-b39b-4e1c-9e14-c3214c4b5567\"}}];\n",
              "  root.Bokeh.embed.embed_items_notebook(docs_json, render_items);\n",
              "\n",
              "  }\n",
              "  if (root.Bokeh !== undefined) {\n",
              "    embed_document(root);\n",
              "  } else {\n",
              "    var attempts = 0;\n",
              "    var timer = setInterval(function(root) {\n",
              "      if (root.Bokeh !== undefined) {\n",
              "        clearInterval(timer);\n",
              "        embed_document(root);\n",
              "      } else {\n",
              "        attempts++;\n",
              "        if (attempts > 100) {\n",
              "          clearInterval(timer);\n",
              "          console.log(\"Bokeh: ERROR: Unable to run BokehJS code because BokehJS library is missing\");\n",
              "        }\n",
              "      }\n",
              "    }, 10, root)\n",
              "  }\n",
              "})(window);"
            ],
            "application/vnd.bokehjs_exec.v0+json": ""
          },
          "metadata": {
            "tags": [],
            "application/vnd.bokehjs_exec.v0+json": {
              "id": "3451"
            }
          }
        },
        {
          "output_type": "display_data",
          "data": {
            "text/html": [
              "\n",
              "\n",
              "\n",
              "\n",
              "\n",
              "\n",
              "  <div class=\"bk-root\" id=\"5facc1bb-08c7-4946-8887-de9904beedf6\" data-root-id=\"3669\"></div>\n"
            ]
          },
          "metadata": {
            "tags": []
          }
        },
        {
          "output_type": "display_data",
          "data": {
            "application/javascript": [
              "(function(root) {\n",
              "  function embed_document(root) {\n",
              "    \n",
              "  var docs_json = {\"f6f42f79-cca8-483d-9c5d-9a063abdea55\":{\"roots\":{\"references\":[{\"attributes\":{\"below\":[{\"id\":\"3680\"}],\"center\":[{\"id\":\"3683\"},{\"id\":\"3687\"}],\"left\":[{\"id\":\"3684\"}],\"plot_height\":400,\"plot_width\":400,\"renderers\":[{\"id\":\"3706\"}],\"title\":{\"id\":\"3670\"},\"toolbar\":{\"id\":\"3695\"},\"x_range\":{\"id\":\"3672\"},\"x_scale\":{\"id\":\"3676\"},\"y_range\":{\"id\":\"3674\"},\"y_scale\":{\"id\":\"3678\"}},\"id\":\"3669\",\"subtype\":\"Figure\",\"type\":\"Plot\"},{\"attributes\":{},\"id\":\"3688\",\"type\":\"PanTool\"},{\"attributes\":{},\"id\":\"3692\",\"type\":\"ResetTool\"},{\"attributes\":{},\"id\":\"3839\",\"type\":\"BasicTickFormatter\"},{\"attributes\":{\"bottom\":{\"value\":0},\"fill_alpha\":{\"value\":0.1},\"fill_color\":{\"value\":\"red\"},\"left\":{\"field\":\"left\"},\"line_alpha\":{\"value\":0.1},\"right\":{\"field\":\"right\"},\"top\":{\"field\":\"Ash\"}},\"id\":\"3704\",\"type\":\"Quad\"},{\"attributes\":{},\"id\":\"3674\",\"type\":\"DataRange1d\"},{\"attributes\":{},\"id\":\"3676\",\"type\":\"LinearScale\"},{\"attributes\":{},\"id\":\"3843\",\"type\":\"UnionRenderers\"},{\"attributes\":{},\"id\":\"3841\",\"type\":\"BasicTickFormatter\"},{\"attributes\":{},\"id\":\"3691\",\"type\":\"SaveTool\"},{\"attributes\":{},\"id\":\"3681\",\"type\":\"BasicTicker\"},{\"attributes\":{\"source\":{\"id\":\"3668\"}},\"id\":\"3707\",\"type\":\"CDSView\"},{\"attributes\":{\"overlay\":{\"id\":\"3694\"}},\"id\":\"3690\",\"type\":\"BoxZoomTool\"},{\"attributes\":{},\"id\":\"3685\",\"type\":\"BasicTicker\"},{\"attributes\":{},\"id\":\"3689\",\"type\":\"WheelZoomTool\"},{\"attributes\":{\"bottom\":{\"value\":0},\"fill_alpha\":{\"value\":0.7},\"fill_color\":{\"value\":\"red\"},\"left\":{\"field\":\"left\"},\"right\":{\"field\":\"right\"},\"top\":{\"field\":\"Ash\"}},\"id\":\"3703\",\"type\":\"Quad\"},{\"attributes\":{},\"id\":\"3693\",\"type\":\"HelpTool\"},{\"attributes\":{\"formatter\":{\"id\":\"3839\"},\"ticker\":{\"id\":\"3685\"}},\"id\":\"3684\",\"type\":\"LinearAxis\"},{\"attributes\":{},\"id\":\"3844\",\"type\":\"Selection\"},{\"attributes\":{},\"id\":\"3678\",\"type\":\"LinearScale\"},{\"attributes\":{\"formatter\":{\"id\":\"3841\"},\"ticker\":{\"id\":\"3681\"}},\"id\":\"3680\",\"type\":\"LinearAxis\"},{\"attributes\":{\"axis\":{\"id\":\"3684\"},\"dimension\":1,\"ticker\":null},\"id\":\"3687\",\"type\":\"Grid\"},{\"attributes\":{\"callback\":null,\"tooltips\":[[\"Interval\",\"@tofrom\"],[\"Count\",\"@Ash\"]]},\"id\":\"3708\",\"type\":\"HoverTool\"},{\"attributes\":{\"text\":\"Ash\"},\"id\":\"3670\",\"type\":\"Title\"},{\"attributes\":{\"bottom_units\":\"screen\",\"fill_alpha\":0.5,\"fill_color\":\"lightgrey\",\"left_units\":\"screen\",\"level\":\"overlay\",\"line_alpha\":1.0,\"line_color\":\"black\",\"line_dash\":[4,4],\"line_width\":2,\"right_units\":\"screen\",\"top_units\":\"screen\"},\"id\":\"3694\",\"type\":\"BoxAnnotation\"},{\"attributes\":{\"active_drag\":\"auto\",\"active_inspect\":\"auto\",\"active_multi\":null,\"active_scroll\":\"auto\",\"active_tap\":\"auto\",\"tools\":[{\"id\":\"3688\"},{\"id\":\"3689\"},{\"id\":\"3690\"},{\"id\":\"3691\"},{\"id\":\"3692\"},{\"id\":\"3693\"},{\"id\":\"3708\"}]},\"id\":\"3695\",\"type\":\"Toolbar\"},{\"attributes\":{\"data\":{\"Ash\":[1,3,7,14,43,54,31,20,3,2],\"index\":[0,1,2,3,4,5,6,7,8,9],\"left\":{\"__ndarray__\":\"JfD+m+xuDcCOU70zBPcHwPi2e8sbfwLAwjR0xmYO+r8o9+HrKz3uv5gJt5UUu9C/GNtVrC4E2z/2r5h73LDxPyLpG0ytoPw/J5FPDj/IA0A=\",\"dtype\":\"float64\",\"order\":\"little\",\"shape\":[10]},\"right\":{\"__ndarray__\":\"jlO9MwT3B8D4tnvLG38CwMI0dMZmDvq/KPfh6ys97r+YCbeVFLvQvxjbVawuBNs/9q+Ye9yw8T8i6RtMraD8PyeRTw4/yANAvi2RdidACUA=\",\"dtype\":\"float64\",\"order\":\"little\",\"shape\":[10]},\"tofrom\":[\"-3.6791622340370105 to -2.9956134836342647\",\"-2.9956134836342647 to -2.3120647332315194\",\"-2.3120647332315194 to -1.6285159828287736\",\"-1.6285159828287736 to -0.9449672324260279\",\"-0.9449672324260279 to -0.2614184820232821\",\"-0.2614184820232821 to 0.4221302683794632\",\"0.4221302683794632 to 1.1056790187822094\",\"1.1056790187822094 to 1.7892277691849547\",\"1.7892277691849547 to 2.4727765195877\",\"2.4727765195877 to 3.156325269990446\"]},\"selected\":{\"id\":\"3844\"},\"selection_policy\":{\"id\":\"3843\"}},\"id\":\"3668\",\"type\":\"ColumnDataSource\"},{\"attributes\":{},\"id\":\"3672\",\"type\":\"DataRange1d\"},{\"attributes\":{\"axis\":{\"id\":\"3680\"},\"ticker\":null},\"id\":\"3683\",\"type\":\"Grid\"},{\"attributes\":{\"data_source\":{\"id\":\"3668\"},\"glyph\":{\"id\":\"3703\"},\"hover_glyph\":{\"id\":\"3705\"},\"muted_glyph\":null,\"nonselection_glyph\":{\"id\":\"3704\"},\"selection_glyph\":null,\"view\":{\"id\":\"3707\"}},\"id\":\"3706\",\"type\":\"GlyphRenderer\"},{\"attributes\":{\"bottom\":{\"value\":0},\"fill_color\":{\"value\":\"blue\"},\"left\":{\"field\":\"left\"},\"right\":{\"field\":\"right\"},\"top\":{\"field\":\"Ash\"}},\"id\":\"3705\",\"type\":\"Quad\"}],\"root_ids\":[\"3669\"]},\"title\":\"Bokeh Application\",\"version\":\"2.1.1\"}};\n",
              "  var render_items = [{\"docid\":\"f6f42f79-cca8-483d-9c5d-9a063abdea55\",\"root_ids\":[\"3669\"],\"roots\":{\"3669\":\"5facc1bb-08c7-4946-8887-de9904beedf6\"}}];\n",
              "  root.Bokeh.embed.embed_items_notebook(docs_json, render_items);\n",
              "\n",
              "  }\n",
              "  if (root.Bokeh !== undefined) {\n",
              "    embed_document(root);\n",
              "  } else {\n",
              "    var attempts = 0;\n",
              "    var timer = setInterval(function(root) {\n",
              "      if (root.Bokeh !== undefined) {\n",
              "        clearInterval(timer);\n",
              "        embed_document(root);\n",
              "      } else {\n",
              "        attempts++;\n",
              "        if (attempts > 100) {\n",
              "          clearInterval(timer);\n",
              "          console.log(\"Bokeh: ERROR: Unable to run BokehJS code because BokehJS library is missing\");\n",
              "        }\n",
              "      }\n",
              "    }, 10, root)\n",
              "  }\n",
              "})(window);"
            ],
            "application/vnd.bokehjs_exec.v0+json": ""
          },
          "metadata": {
            "tags": [],
            "application/vnd.bokehjs_exec.v0+json": {
              "id": "3669"
            }
          }
        },
        {
          "output_type": "display_data",
          "data": {
            "text/html": [
              "\n",
              "\n",
              "\n",
              "\n",
              "\n",
              "\n",
              "  <div class=\"bk-root\" id=\"83f5aabb-5fbe-4b9e-876e-7edb1a942119\" data-root-id=\"3895\"></div>\n"
            ]
          },
          "metadata": {
            "tags": []
          }
        },
        {
          "output_type": "display_data",
          "data": {
            "application/javascript": [
              "(function(root) {\n",
              "  function embed_document(root) {\n",
              "    \n",
              "  var docs_json = {\"edd85573-4569-4b4a-a008-836bc16c0893\":{\"roots\":{\"references\":[{\"attributes\":{\"below\":[{\"id\":\"3906\"}],\"center\":[{\"id\":\"3909\"},{\"id\":\"3913\"}],\"left\":[{\"id\":\"3910\"}],\"plot_height\":400,\"plot_width\":400,\"renderers\":[{\"id\":\"3932\"}],\"title\":{\"id\":\"3896\"},\"toolbar\":{\"id\":\"3921\"},\"x_range\":{\"id\":\"3898\"},\"x_scale\":{\"id\":\"3902\"},\"y_range\":{\"id\":\"3900\"},\"y_scale\":{\"id\":\"3904\"}},\"id\":\"3895\",\"subtype\":\"Figure\",\"type\":\"Plot\"},{\"attributes\":{\"overlay\":{\"id\":\"3920\"}},\"id\":\"3916\",\"type\":\"BoxZoomTool\"},{\"attributes\":{},\"id\":\"3917\",\"type\":\"SaveTool\"},{\"attributes\":{},\"id\":\"3904\",\"type\":\"LinearScale\"},{\"attributes\":{\"bottom\":{\"value\":0},\"fill_alpha\":{\"value\":0.1},\"fill_color\":{\"value\":\"red\"},\"left\":{\"field\":\"left\"},\"line_alpha\":{\"value\":0.1},\"right\":{\"field\":\"right\"},\"top\":{\"field\":\"Acl\"}},\"id\":\"3930\",\"type\":\"Quad\"},{\"attributes\":{},\"id\":\"3918\",\"type\":\"ResetTool\"},{\"attributes\":{},\"id\":\"4073\",\"type\":\"BasicTickFormatter\"},{\"attributes\":{},\"id\":\"3911\",\"type\":\"BasicTicker\"},{\"attributes\":{\"bottom\":{\"value\":0},\"fill_alpha\":{\"value\":0.7},\"fill_color\":{\"value\":\"red\"},\"left\":{\"field\":\"left\"},\"right\":{\"field\":\"right\"},\"top\":{\"field\":\"Acl\"}},\"id\":\"3929\",\"type\":\"Quad\"},{\"attributes\":{\"callback\":null,\"tooltips\":[[\"Interval\",\"@tofrom\"],[\"Count\",\"@Acl\"]]},\"id\":\"3934\",\"type\":\"HoverTool\"},{\"attributes\":{},\"id\":\"3907\",\"type\":\"BasicTicker\"},{\"attributes\":{\"text\":\"Acl\"},\"id\":\"3896\",\"type\":\"Title\"},{\"attributes\":{},\"id\":\"3919\",\"type\":\"HelpTool\"},{\"attributes\":{},\"id\":\"4075\",\"type\":\"BasicTickFormatter\"},{\"attributes\":{\"axis\":{\"id\":\"3910\"},\"dimension\":1,\"ticker\":null},\"id\":\"3913\",\"type\":\"Grid\"},{\"attributes\":{},\"id\":\"4078\",\"type\":\"Selection\"},{\"attributes\":{\"data_source\":{\"id\":\"3894\"},\"glyph\":{\"id\":\"3929\"},\"hover_glyph\":{\"id\":\"3931\"},\"muted_glyph\":null,\"nonselection_glyph\":{\"id\":\"3930\"},\"selection_glyph\":null,\"view\":{\"id\":\"3933\"}},\"id\":\"3932\",\"type\":\"GlyphRenderer\"},{\"attributes\":{},\"id\":\"3900\",\"type\":\"DataRange1d\"},{\"attributes\":{\"data\":{\"Acl\":[5,3,24,32,47,34,18,10,2,3],\"index\":[0,1,2,3,4,5,6,7,8,9],\"left\":{\"__ndarray__\":\"gD+5wT5eBcButw1FLbUAwLpexJA3GPi/Lp3aLimM7b/Q+Vh4xs/Vv4CNBtqK8c4/pMMvqahg6j/08e5Nd4L2PxgCRkea1P8/HolOoF6TBEA=\",\"dtype\":\"float64\",\"order\":\"little\",\"shape\":[10]},\"right\":{\"__ndarray__\":\"brcNRS21AMC6XsSQNxj4vy6d2i4pjO2/0PlYeMbP1b+AjQbaivHOP6TDL6moYOo/9PHuTXeC9j8YAkZHmtT/Px6JTqBekwRAMBH6HHA8CUA=\",\"dtype\":\"float64\",\"order\":\"little\",\"shape\":[10]},\"tofrom\":[\"-2.6710181364687173 to -2.088465251427741\",\"-2.088465251427741 to -1.5059123663867653\",\"-1.5059123663867653 to -0.9233594813457893\",\"-0.9233594813457893 to -0.34080659630481325\",\"-0.34080659630481325 to 0.241746288736163\",\"0.241746288736163 to 0.8242991737771388\",\"0.8242991737771388 to 1.4068520588181146\",\"1.4068520588181146 to 1.9894049438590908\",\"1.9894049438590908 to 2.571957828900067\",\"2.571957828900067 to 3.1545107139410433\"]},\"selected\":{\"id\":\"4078\"},\"selection_policy\":{\"id\":\"4077\"}},\"id\":\"3894\",\"type\":\"ColumnDataSource\"},{\"attributes\":{},\"id\":\"4077\",\"type\":\"UnionRenderers\"},{\"attributes\":{\"formatter\":{\"id\":\"4073\"},\"ticker\":{\"id\":\"3911\"}},\"id\":\"3910\",\"type\":\"LinearAxis\"},{\"attributes\":{},\"id\":\"3914\",\"type\":\"PanTool\"},{\"attributes\":{},\"id\":\"3902\",\"type\":\"LinearScale\"},{\"attributes\":{},\"id\":\"3898\",\"type\":\"DataRange1d\"},{\"attributes\":{\"axis\":{\"id\":\"3906\"},\"ticker\":null},\"id\":\"3909\",\"type\":\"Grid\"},{\"attributes\":{\"formatter\":{\"id\":\"4075\"},\"ticker\":{\"id\":\"3907\"}},\"id\":\"3906\",\"type\":\"LinearAxis\"},{\"attributes\":{\"bottom_units\":\"screen\",\"fill_alpha\":0.5,\"fill_color\":\"lightgrey\",\"left_units\":\"screen\",\"level\":\"overlay\",\"line_alpha\":1.0,\"line_color\":\"black\",\"line_dash\":[4,4],\"line_width\":2,\"right_units\":\"screen\",\"top_units\":\"screen\"},\"id\":\"3920\",\"type\":\"BoxAnnotation\"},{\"attributes\":{\"active_drag\":\"auto\",\"active_inspect\":\"auto\",\"active_multi\":null,\"active_scroll\":\"auto\",\"active_tap\":\"auto\",\"tools\":[{\"id\":\"3914\"},{\"id\":\"3915\"},{\"id\":\"3916\"},{\"id\":\"3917\"},{\"id\":\"3918\"},{\"id\":\"3919\"},{\"id\":\"3934\"}]},\"id\":\"3921\",\"type\":\"Toolbar\"},{\"attributes\":{\"bottom\":{\"value\":0},\"fill_color\":{\"value\":\"blue\"},\"left\":{\"field\":\"left\"},\"right\":{\"field\":\"right\"},\"top\":{\"field\":\"Acl\"}},\"id\":\"3931\",\"type\":\"Quad\"},{\"attributes\":{},\"id\":\"3915\",\"type\":\"WheelZoomTool\"},{\"attributes\":{\"source\":{\"id\":\"3894\"}},\"id\":\"3933\",\"type\":\"CDSView\"}],\"root_ids\":[\"3895\"]},\"title\":\"Bokeh Application\",\"version\":\"2.1.1\"}};\n",
              "  var render_items = [{\"docid\":\"edd85573-4569-4b4a-a008-836bc16c0893\",\"root_ids\":[\"3895\"],\"roots\":{\"3895\":\"83f5aabb-5fbe-4b9e-876e-7edb1a942119\"}}];\n",
              "  root.Bokeh.embed.embed_items_notebook(docs_json, render_items);\n",
              "\n",
              "  }\n",
              "  if (root.Bokeh !== undefined) {\n",
              "    embed_document(root);\n",
              "  } else {\n",
              "    var attempts = 0;\n",
              "    var timer = setInterval(function(root) {\n",
              "      if (root.Bokeh !== undefined) {\n",
              "        clearInterval(timer);\n",
              "        embed_document(root);\n",
              "      } else {\n",
              "        attempts++;\n",
              "        if (attempts > 100) {\n",
              "          clearInterval(timer);\n",
              "          console.log(\"Bokeh: ERROR: Unable to run BokehJS code because BokehJS library is missing\");\n",
              "        }\n",
              "      }\n",
              "    }, 10, root)\n",
              "  }\n",
              "})(window);"
            ],
            "application/vnd.bokehjs_exec.v0+json": ""
          },
          "metadata": {
            "tags": [],
            "application/vnd.bokehjs_exec.v0+json": {
              "id": "3895"
            }
          }
        },
        {
          "output_type": "display_data",
          "data": {
            "text/html": [
              "\n",
              "\n",
              "\n",
              "\n",
              "\n",
              "\n",
              "  <div class=\"bk-root\" id=\"ff3a23e6-23c2-4ff2-a77b-6fae1e7bcb7f\" data-root-id=\"4129\"></div>\n"
            ]
          },
          "metadata": {
            "tags": []
          }
        },
        {
          "output_type": "display_data",
          "data": {
            "application/javascript": [
              "(function(root) {\n",
              "  function embed_document(root) {\n",
              "    \n",
              "  var docs_json = {\"71fff760-2b28-4e6d-8b46-1a1a9fac0230\":{\"roots\":{\"references\":[{\"attributes\":{\"below\":[{\"id\":\"4140\"}],\"center\":[{\"id\":\"4143\"},{\"id\":\"4147\"}],\"left\":[{\"id\":\"4144\"}],\"plot_height\":400,\"plot_width\":400,\"renderers\":[{\"id\":\"4166\"}],\"title\":{\"id\":\"4130\"},\"toolbar\":{\"id\":\"4155\"},\"x_range\":{\"id\":\"4132\"},\"x_scale\":{\"id\":\"4136\"},\"y_range\":{\"id\":\"4134\"},\"y_scale\":{\"id\":\"4138\"}},\"id\":\"4129\",\"subtype\":\"Figure\",\"type\":\"Plot\"},{\"attributes\":{\"overlay\":{\"id\":\"4154\"}},\"id\":\"4150\",\"type\":\"BoxZoomTool\"},{\"attributes\":{},\"id\":\"4149\",\"type\":\"WheelZoomTool\"},{\"attributes\":{},\"id\":\"4148\",\"type\":\"PanTool\"},{\"attributes\":{},\"id\":\"4320\",\"type\":\"Selection\"},{\"attributes\":{\"data_source\":{\"id\":\"4128\"},\"glyph\":{\"id\":\"4163\"},\"hover_glyph\":{\"id\":\"4165\"},\"muted_glyph\":null,\"nonselection_glyph\":{\"id\":\"4164\"},\"selection_glyph\":null,\"view\":{\"id\":\"4167\"}},\"id\":\"4166\",\"type\":\"GlyphRenderer\"},{\"attributes\":{\"callback\":null,\"tooltips\":[[\"Interval\",\"@tofrom\"],[\"Count\",\"@Mg\"]]},\"id\":\"4168\",\"type\":\"HoverTool\"},{\"attributes\":{},\"id\":\"4151\",\"type\":\"SaveTool\"},{\"attributes\":{\"axis\":{\"id\":\"4140\"},\"ticker\":null},\"id\":\"4143\",\"type\":\"Grid\"},{\"attributes\":{},\"id\":\"4153\",\"type\":\"HelpTool\"},{\"attributes\":{\"bottom\":{\"value\":0},\"fill_alpha\":{\"value\":0.7},\"fill_color\":{\"value\":\"red\"},\"left\":{\"field\":\"left\"},\"right\":{\"field\":\"right\"},\"top\":{\"field\":\"Mg\"}},\"id\":\"4163\",\"type\":\"Quad\"},{\"attributes\":{},\"id\":\"4315\",\"type\":\"BasicTickFormatter\"},{\"attributes\":{\"bottom\":{\"value\":0},\"fill_color\":{\"value\":\"blue\"},\"left\":{\"field\":\"left\"},\"right\":{\"field\":\"right\"},\"top\":{\"field\":\"Mg\"}},\"id\":\"4165\",\"type\":\"Quad\"},{\"attributes\":{},\"id\":\"4317\",\"type\":\"BasicTickFormatter\"},{\"attributes\":{\"formatter\":{\"id\":\"4315\"},\"ticker\":{\"id\":\"4145\"}},\"id\":\"4144\",\"type\":\"LinearAxis\"},{\"attributes\":{},\"id\":\"4152\",\"type\":\"ResetTool\"},{\"attributes\":{},\"id\":\"4136\",\"type\":\"LinearScale\"},{\"attributes\":{},\"id\":\"4319\",\"type\":\"UnionRenderers\"},{\"attributes\":{\"bottom\":{\"value\":0},\"fill_alpha\":{\"value\":0.1},\"fill_color\":{\"value\":\"red\"},\"left\":{\"field\":\"left\"},\"line_alpha\":{\"value\":0.1},\"right\":{\"field\":\"right\"},\"top\":{\"field\":\"Mg\"}},\"id\":\"4164\",\"type\":\"Quad\"},{\"attributes\":{\"active_drag\":\"auto\",\"active_inspect\":\"auto\",\"active_multi\":null,\"active_scroll\":\"auto\",\"active_tap\":\"auto\",\"tools\":[{\"id\":\"4148\"},{\"id\":\"4149\"},{\"id\":\"4150\"},{\"id\":\"4151\"},{\"id\":\"4152\"},{\"id\":\"4153\"},{\"id\":\"4168\"}]},\"id\":\"4155\",\"type\":\"Toolbar\"},{\"attributes\":{\"formatter\":{\"id\":\"4317\"},\"ticker\":{\"id\":\"4141\"}},\"id\":\"4140\",\"type\":\"LinearAxis\"},{\"attributes\":{\"axis\":{\"id\":\"4144\"},\"dimension\":1,\"ticker\":null},\"id\":\"4147\",\"type\":\"Grid\"},{\"attributes\":{},\"id\":\"4141\",\"type\":\"BasicTicker\"},{\"attributes\":{},\"id\":\"4145\",\"type\":\"BasicTicker\"},{\"attributes\":{\"bottom_units\":\"screen\",\"fill_alpha\":0.5,\"fill_color\":\"lightgrey\",\"left_units\":\"screen\",\"level\":\"overlay\",\"line_alpha\":1.0,\"line_color\":\"black\",\"line_dash\":[4,4],\"line_width\":2,\"right_units\":\"screen\",\"top_units\":\"screen\"},\"id\":\"4154\",\"type\":\"BoxAnnotation\"},{\"attributes\":{},\"id\":\"4134\",\"type\":\"DataRange1d\"},{\"attributes\":{},\"id\":\"4132\",\"type\":\"DataRange1d\"},{\"attributes\":{},\"id\":\"4138\",\"type\":\"LinearScale\"},{\"attributes\":{\"data\":{\"Mg\":[4,43,40,43,27,12,5,2,1,1],\"index\":[0,1,2,3,4,5,6,7,8,9],\"left\":{\"__ndarray__\":\"1towJL+0AMBGfGFDoRP3v8KFwnyIe+m/4EsIyzk/w7+ov3wu17ffP1Bpn9DSQ/I/tKKf1a+Z/D8O7k9txncDQMAK0O+0oghAcidQcqPNDUA=\",\"dtype\":\"float64\",\"order\":\"little\",\"shape\":[10]},\"right\":{\"__ndarray__\":\"RnxhQ6ET97/ChcJ8iHvpv+BLCMs5P8O/qL98Lte33z9QaZ/Q0kPyP7Sin9Wvmfw/Du5PbcZ3A0DACtDvtKIIQHInUHKjzQ1AEyJo+kh8EUA=\",\"dtype\":\"float64\",\"order\":\"little\",\"shape\":[10]},\"tofrom\":[\"-2.0882551982316313 to -1.4422924644529913\",\"-1.4422924644529913 to -0.7963297306743515\",\"-0.7963297306743515 to -0.15036699689571176\",\"-0.15036699689571176 to 0.49559573688292824\",\"0.49559573688292824 to 1.1415584706615682\",\"1.1415584706615682 to 1.7875212044402078\",\"1.7875212044402078 to 2.4334839382188482\",\"2.4334839382188482 to 3.079446671997488\",\"3.079446671997488 to 3.7254094057761273\",\"3.7254094057761273 to 4.371372139554768\"]},\"selected\":{\"id\":\"4320\"},\"selection_policy\":{\"id\":\"4319\"}},\"id\":\"4128\",\"type\":\"ColumnDataSource\"},{\"attributes\":{\"text\":\"Mg\"},\"id\":\"4130\",\"type\":\"Title\"},{\"attributes\":{\"source\":{\"id\":\"4128\"}},\"id\":\"4167\",\"type\":\"CDSView\"}],\"root_ids\":[\"4129\"]},\"title\":\"Bokeh Application\",\"version\":\"2.1.1\"}};\n",
              "  var render_items = [{\"docid\":\"71fff760-2b28-4e6d-8b46-1a1a9fac0230\",\"root_ids\":[\"4129\"],\"roots\":{\"4129\":\"ff3a23e6-23c2-4ff2-a77b-6fae1e7bcb7f\"}}];\n",
              "  root.Bokeh.embed.embed_items_notebook(docs_json, render_items);\n",
              "\n",
              "  }\n",
              "  if (root.Bokeh !== undefined) {\n",
              "    embed_document(root);\n",
              "  } else {\n",
              "    var attempts = 0;\n",
              "    var timer = setInterval(function(root) {\n",
              "      if (root.Bokeh !== undefined) {\n",
              "        clearInterval(timer);\n",
              "        embed_document(root);\n",
              "      } else {\n",
              "        attempts++;\n",
              "        if (attempts > 100) {\n",
              "          clearInterval(timer);\n",
              "          console.log(\"Bokeh: ERROR: Unable to run BokehJS code because BokehJS library is missing\");\n",
              "        }\n",
              "      }\n",
              "    }, 10, root)\n",
              "  }\n",
              "})(window);"
            ],
            "application/vnd.bokehjs_exec.v0+json": ""
          },
          "metadata": {
            "tags": [],
            "application/vnd.bokehjs_exec.v0+json": {
              "id": "4129"
            }
          }
        },
        {
          "output_type": "display_data",
          "data": {
            "text/html": [
              "\n",
              "\n",
              "\n",
              "\n",
              "\n",
              "\n",
              "  <div class=\"bk-root\" id=\"58873905-9cdb-4ea4-8f72-403fcdac7acc\" data-root-id=\"4371\"></div>\n"
            ]
          },
          "metadata": {
            "tags": []
          }
        },
        {
          "output_type": "display_data",
          "data": {
            "application/javascript": [
              "(function(root) {\n",
              "  function embed_document(root) {\n",
              "    \n",
              "  var docs_json = {\"512715f2-0ae7-41c2-978a-cab34e832f1b\":{\"roots\":{\"references\":[{\"attributes\":{\"below\":[{\"id\":\"4382\"}],\"center\":[{\"id\":\"4385\"},{\"id\":\"4389\"}],\"left\":[{\"id\":\"4386\"}],\"plot_height\":400,\"plot_width\":400,\"renderers\":[{\"id\":\"4408\"}],\"title\":{\"id\":\"4372\"},\"toolbar\":{\"id\":\"4397\"},\"x_range\":{\"id\":\"4374\"},\"x_scale\":{\"id\":\"4378\"},\"y_range\":{\"id\":\"4376\"},\"y_scale\":{\"id\":\"4380\"}},\"id\":\"4371\",\"subtype\":\"Figure\",\"type\":\"Plot\"},{\"attributes\":{\"axis\":{\"id\":\"4382\"},\"ticker\":null},\"id\":\"4385\",\"type\":\"Grid\"},{\"attributes\":{\"active_drag\":\"auto\",\"active_inspect\":\"auto\",\"active_multi\":null,\"active_scroll\":\"auto\",\"active_tap\":\"auto\",\"tools\":[{\"id\":\"4390\"},{\"id\":\"4391\"},{\"id\":\"4392\"},{\"id\":\"4393\"},{\"id\":\"4394\"},{\"id\":\"4395\"},{\"id\":\"4410\"}]},\"id\":\"4397\",\"type\":\"Toolbar\"},{\"attributes\":{\"formatter\":{\"id\":\"4565\"},\"ticker\":{\"id\":\"4387\"}},\"id\":\"4386\",\"type\":\"LinearAxis\"},{\"attributes\":{\"bottom\":{\"value\":0},\"fill_alpha\":{\"value\":0.7},\"fill_color\":{\"value\":\"red\"},\"left\":{\"field\":\"left\"},\"right\":{\"field\":\"right\"},\"top\":{\"field\":\"Phenols\"}},\"id\":\"4405\",\"type\":\"Quad\"},{\"attributes\":{\"data\":{\"Phenols\":[4,22,26,24,20,30,33,13,4,2],\"index\":[0,1,2,3,4,5,6,7,8,9],\"left\":{\"__ndarray__\":\"sdqTzaPbAMCbhDRZ90f6v9RTQRen2PK/GEacqq3S5r8okteaNNDPvxD0wXRNqss/lN4W4TPJ5T8QoH4y6lPyP9jQcXQ6w/k/z4AyW0WZAEA=\",\"dtype\":\"float64\",\"order\":\"little\",\"shape\":[10]},\"right\":{\"__ndarray__\":\"m4Q0WfdH+r/UU0EXp9jyvxhGnKqt0ua/KJLXmjTQz78Q9MF0TarLP5TeFuEzyeU/EKB+MupT8j/Y0HF0OsP5P8+AMltFmQBAMxksfO1QBEA=\",\"dtype\":\"float64\",\"order\":\"little\",\"shape\":[10]},\"tofrom\":[\"-2.107246023249296 to -1.6425698742462262\",\"-1.6425698742462262 to -1.1778937252431563\",\"-1.1778937252431563 to -0.7132175762400861\",\"-0.7132175762400861 to -0.2485414272370161\",\"-0.2485414272370161 to 0.21613472176605386\",\"0.21613472176605386 to 0.680810870769124\",\"0.680810870769124 to 1.1454870197721938\",\"1.1454870197721938 to 1.610163168775264\",\"1.610163168775264 to 2.0748393177783337\",\"2.0748393177783337 to 2.539515466781404\"]},\"selected\":{\"id\":\"4570\"},\"selection_policy\":{\"id\":\"4569\"}},\"id\":\"4370\",\"type\":\"ColumnDataSource\"},{\"attributes\":{},\"id\":\"4390\",\"type\":\"PanTool\"},{\"attributes\":{\"data_source\":{\"id\":\"4370\"},\"glyph\":{\"id\":\"4405\"},\"hover_glyph\":{\"id\":\"4407\"},\"muted_glyph\":null,\"nonselection_glyph\":{\"id\":\"4406\"},\"selection_glyph\":null,\"view\":{\"id\":\"4409\"}},\"id\":\"4408\",\"type\":\"GlyphRenderer\"},{\"attributes\":{\"axis\":{\"id\":\"4386\"},\"dimension\":1,\"ticker\":null},\"id\":\"4389\",\"type\":\"Grid\"},{\"attributes\":{\"source\":{\"id\":\"4370\"}},\"id\":\"4409\",\"type\":\"CDSView\"},{\"attributes\":{},\"id\":\"4391\",\"type\":\"WheelZoomTool\"},{\"attributes\":{\"bottom\":{\"value\":0},\"fill_color\":{\"value\":\"blue\"},\"left\":{\"field\":\"left\"},\"right\":{\"field\":\"right\"},\"top\":{\"field\":\"Phenols\"}},\"id\":\"4407\",\"type\":\"Quad\"},{\"attributes\":{\"overlay\":{\"id\":\"4396\"}},\"id\":\"4392\",\"type\":\"BoxZoomTool\"},{\"attributes\":{},\"id\":\"4387\",\"type\":\"BasicTicker\"},{\"attributes\":{},\"id\":\"4376\",\"type\":\"DataRange1d\"},{\"attributes\":{},\"id\":\"4393\",\"type\":\"SaveTool\"},{\"attributes\":{},\"id\":\"4383\",\"type\":\"BasicTicker\"},{\"attributes\":{},\"id\":\"4394\",\"type\":\"ResetTool\"},{\"attributes\":{},\"id\":\"4565\",\"type\":\"BasicTickFormatter\"},{\"attributes\":{\"callback\":null,\"tooltips\":[[\"Interval\",\"@tofrom\"],[\"Count\",\"@Phenols\"]]},\"id\":\"4410\",\"type\":\"HoverTool\"},{\"attributes\":{\"text\":\"Phenols\"},\"id\":\"4372\",\"type\":\"Title\"},{\"attributes\":{},\"id\":\"4395\",\"type\":\"HelpTool\"},{\"attributes\":{},\"id\":\"4567\",\"type\":\"BasicTickFormatter\"},{\"attributes\":{\"bottom\":{\"value\":0},\"fill_alpha\":{\"value\":0.1},\"fill_color\":{\"value\":\"red\"},\"left\":{\"field\":\"left\"},\"line_alpha\":{\"value\":0.1},\"right\":{\"field\":\"right\"},\"top\":{\"field\":\"Phenols\"}},\"id\":\"4406\",\"type\":\"Quad\"},{\"attributes\":{},\"id\":\"4570\",\"type\":\"Selection\"},{\"attributes\":{},\"id\":\"4569\",\"type\":\"UnionRenderers\"},{\"attributes\":{},\"id\":\"4374\",\"type\":\"DataRange1d\"},{\"attributes\":{},\"id\":\"4380\",\"type\":\"LinearScale\"},{\"attributes\":{},\"id\":\"4378\",\"type\":\"LinearScale\"},{\"attributes\":{\"formatter\":{\"id\":\"4567\"},\"ticker\":{\"id\":\"4383\"}},\"id\":\"4382\",\"type\":\"LinearAxis\"},{\"attributes\":{\"bottom_units\":\"screen\",\"fill_alpha\":0.5,\"fill_color\":\"lightgrey\",\"left_units\":\"screen\",\"level\":\"overlay\",\"line_alpha\":1.0,\"line_color\":\"black\",\"line_dash\":[4,4],\"line_width\":2,\"right_units\":\"screen\",\"top_units\":\"screen\"},\"id\":\"4396\",\"type\":\"BoxAnnotation\"}],\"root_ids\":[\"4371\"]},\"title\":\"Bokeh Application\",\"version\":\"2.1.1\"}};\n",
              "  var render_items = [{\"docid\":\"512715f2-0ae7-41c2-978a-cab34e832f1b\",\"root_ids\":[\"4371\"],\"roots\":{\"4371\":\"58873905-9cdb-4ea4-8f72-403fcdac7acc\"}}];\n",
              "  root.Bokeh.embed.embed_items_notebook(docs_json, render_items);\n",
              "\n",
              "  }\n",
              "  if (root.Bokeh !== undefined) {\n",
              "    embed_document(root);\n",
              "  } else {\n",
              "    var attempts = 0;\n",
              "    var timer = setInterval(function(root) {\n",
              "      if (root.Bokeh !== undefined) {\n",
              "        clearInterval(timer);\n",
              "        embed_document(root);\n",
              "      } else {\n",
              "        attempts++;\n",
              "        if (attempts > 100) {\n",
              "          clearInterval(timer);\n",
              "          console.log(\"Bokeh: ERROR: Unable to run BokehJS code because BokehJS library is missing\");\n",
              "        }\n",
              "      }\n",
              "    }, 10, root)\n",
              "  }\n",
              "})(window);"
            ],
            "application/vnd.bokehjs_exec.v0+json": ""
          },
          "metadata": {
            "tags": [],
            "application/vnd.bokehjs_exec.v0+json": {
              "id": "4371"
            }
          }
        },
        {
          "output_type": "display_data",
          "data": {
            "text/html": [
              "\n",
              "\n",
              "\n",
              "\n",
              "\n",
              "\n",
              "  <div class=\"bk-root\" id=\"4d4e7d57-a0c4-4561-8bf0-d2333c931930\" data-root-id=\"4621\"></div>\n"
            ]
          },
          "metadata": {
            "tags": []
          }
        },
        {
          "output_type": "display_data",
          "data": {
            "application/javascript": [
              "(function(root) {\n",
              "  function embed_document(root) {\n",
              "    \n",
              "  var docs_json = {\"46fe2228-5ad9-47b2-bdcc-1376dd2c2afd\":{\"roots\":{\"references\":[{\"attributes\":{\"below\":[{\"id\":\"4632\"}],\"center\":[{\"id\":\"4635\"},{\"id\":\"4639\"}],\"left\":[{\"id\":\"4636\"}],\"plot_height\":400,\"plot_width\":400,\"renderers\":[{\"id\":\"4658\"}],\"title\":{\"id\":\"4622\"},\"toolbar\":{\"id\":\"4647\"},\"x_range\":{\"id\":\"4624\"},\"x_scale\":{\"id\":\"4628\"},\"y_range\":{\"id\":\"4626\"},\"y_scale\":{\"id\":\"4630\"}},\"id\":\"4621\",\"subtype\":\"Figure\",\"type\":\"Plot\"},{\"attributes\":{\"overlay\":{\"id\":\"4646\"}},\"id\":\"4642\",\"type\":\"BoxZoomTool\"},{\"attributes\":{\"text\":\"Flavanoids\"},\"id\":\"4622\",\"type\":\"Title\"},{\"attributes\":{},\"id\":\"4641\",\"type\":\"WheelZoomTool\"},{\"attributes\":{},\"id\":\"4640\",\"type\":\"PanTool\"},{\"attributes\":{\"active_drag\":\"auto\",\"active_inspect\":\"auto\",\"active_multi\":null,\"active_scroll\":\"auto\",\"active_tap\":\"auto\",\"tools\":[{\"id\":\"4640\"},{\"id\":\"4641\"},{\"id\":\"4642\"},{\"id\":\"4643\"},{\"id\":\"4644\"},{\"id\":\"4645\"},{\"id\":\"4660\"}]},\"id\":\"4647\",\"type\":\"Toolbar\"},{\"attributes\":{},\"id\":\"4644\",\"type\":\"ResetTool\"},{\"attributes\":{\"callback\":null,\"tooltips\":[[\"Interval\",\"@tofrom\"],[\"Count\",\"@Flavanoids\"]]},\"id\":\"4660\",\"type\":\"HoverTool\"},{\"attributes\":{},\"id\":\"4643\",\"type\":\"SaveTool\"},{\"attributes\":{},\"id\":\"4645\",\"type\":\"HelpTool\"},{\"attributes\":{\"data_source\":{\"id\":\"4620\"},\"glyph\":{\"id\":\"4655\"},\"hover_glyph\":{\"id\":\"4657\"},\"muted_glyph\":null,\"nonselection_glyph\":{\"id\":\"4656\"},\"selection_glyph\":null,\"view\":{\"id\":\"4659\"}},\"id\":\"4658\",\"type\":\"GlyphRenderer\"},{\"attributes\":{\"bottom\":{\"value\":0},\"fill_color\":{\"value\":\"blue\"},\"left\":{\"field\":\"left\"},\"right\":{\"field\":\"right\"},\"top\":{\"field\":\"Flavanoids\"}},\"id\":\"4657\",\"type\":\"Quad\"},{\"attributes\":{\"bottom\":{\"value\":0},\"fill_alpha\":{\"value\":0.1},\"fill_color\":{\"value\":\"red\"},\"left\":{\"field\":\"left\"},\"line_alpha\":{\"value\":0.1},\"right\":{\"field\":\"right\"},\"top\":{\"field\":\"Flavanoids\"}},\"id\":\"4656\",\"type\":\"Quad\"},{\"attributes\":{\"axis\":{\"id\":\"4632\"},\"ticker\":null},\"id\":\"4635\",\"type\":\"Grid\"},{\"attributes\":{},\"id\":\"4823\",\"type\":\"BasicTickFormatter\"},{\"attributes\":{\"bottom_units\":\"screen\",\"fill_alpha\":0.5,\"fill_color\":\"lightgrey\",\"left_units\":\"screen\",\"level\":\"overlay\",\"line_alpha\":1.0,\"line_color\":\"black\",\"line_dash\":[4,4],\"line_width\":2,\"right_units\":\"screen\",\"top_units\":\"screen\"},\"id\":\"4646\",\"type\":\"BoxAnnotation\"},{\"attributes\":{},\"id\":\"4828\",\"type\":\"Selection\"},{\"attributes\":{\"source\":{\"id\":\"4620\"}},\"id\":\"4659\",\"type\":\"CDSView\"},{\"attributes\":{},\"id\":\"4825\",\"type\":\"BasicTickFormatter\"},{\"attributes\":{\"axis\":{\"id\":\"4636\"},\"dimension\":1,\"ticker\":null},\"id\":\"4639\",\"type\":\"Grid\"},{\"attributes\":{},\"id\":\"4633\",\"type\":\"BasicTicker\"},{\"attributes\":{},\"id\":\"4630\",\"type\":\"LinearScale\"},{\"attributes\":{\"formatter\":{\"id\":\"4823\"},\"ticker\":{\"id\":\"4637\"}},\"id\":\"4636\",\"type\":\"LinearAxis\"},{\"attributes\":{},\"id\":\"4624\",\"type\":\"DataRange1d\"},{\"attributes\":{\"bottom\":{\"value\":0},\"fill_alpha\":{\"value\":0.7},\"fill_color\":{\"value\":\"red\"},\"left\":{\"field\":\"left\"},\"right\":{\"field\":\"right\"},\"top\":{\"field\":\"Flavanoids\"}},\"id\":\"4655\",\"type\":\"Quad\"},{\"attributes\":{},\"id\":\"4827\",\"type\":\"UnionRenderers\"},{\"attributes\":{},\"id\":\"4637\",\"type\":\"BasicTicker\"},{\"attributes\":{\"formatter\":{\"id\":\"4825\"},\"ticker\":{\"id\":\"4633\"}},\"id\":\"4632\",\"type\":\"LinearAxis\"},{\"attributes\":{},\"id\":\"4626\",\"type\":\"DataRange1d\"},{\"attributes\":{},\"id\":\"4628\",\"type\":\"LinearScale\"},{\"attributes\":{\"data\":{\"Flavanoids\":[33,18,23,20,32,32,14,5,0,1],\"index\":[0,1,2,3,4,5,6,7,8,9],\"left\":{\"__ndarray__\":\"nIOt/bEi+78YHxtofYXzvyh1EaWR0Oe/QFjZ81As0b+gc+DEApHKP/DlXNyp3uU/fNfAg4mM8j8APFMZvin6P0LQcld54wBAhAI8ohOyBEA=\",\"dtype\":\"float64\",\"order\":\"little\",\"shape\":[10]},\"right\":{\"__ndarray__\":\"GB8baH2F878odRGlkdDnv0BY2fNQLNG/oHPgxAKRyj/w5Vzcqd7lP3zXwIOJjPI/ADxTGb4p+j9C0HJXeeMAQIQCPKITsgRAxTQF7a2ACEA=\",\"dtype\":\"float64\",\"order\":\"little\",\"shape\":[10]},\"tofrom\":[\"-1.6959705266274119 to -1.220090300239411\",\"-1.220090300239411 to -0.7442100738514101\",\"-0.7442100738514101 to -0.26832984746340927\",\"-0.26832984746340927 to 0.2075503789245916\",\"0.2075503789245916 to 0.6834306053125925\",\"0.6834306053125925 to 1.1593108317005933\",\"1.1593108317005933 to 1.6351910580885942\",\"1.6351910580885942 to 2.111071284476595\",\"2.111071284476595 to 2.586951510864596\",\"2.586951510864596 to 3.0628317372525964\"]},\"selected\":{\"id\":\"4828\"},\"selection_policy\":{\"id\":\"4827\"}},\"id\":\"4620\",\"type\":\"ColumnDataSource\"}],\"root_ids\":[\"4621\"]},\"title\":\"Bokeh Application\",\"version\":\"2.1.1\"}};\n",
              "  var render_items = [{\"docid\":\"46fe2228-5ad9-47b2-bdcc-1376dd2c2afd\",\"root_ids\":[\"4621\"],\"roots\":{\"4621\":\"4d4e7d57-a0c4-4561-8bf0-d2333c931930\"}}];\n",
              "  root.Bokeh.embed.embed_items_notebook(docs_json, render_items);\n",
              "\n",
              "  }\n",
              "  if (root.Bokeh !== undefined) {\n",
              "    embed_document(root);\n",
              "  } else {\n",
              "    var attempts = 0;\n",
              "    var timer = setInterval(function(root) {\n",
              "      if (root.Bokeh !== undefined) {\n",
              "        clearInterval(timer);\n",
              "        embed_document(root);\n",
              "      } else {\n",
              "        attempts++;\n",
              "        if (attempts > 100) {\n",
              "          clearInterval(timer);\n",
              "          console.log(\"Bokeh: ERROR: Unable to run BokehJS code because BokehJS library is missing\");\n",
              "        }\n",
              "      }\n",
              "    }, 10, root)\n",
              "  }\n",
              "})(window);"
            ],
            "application/vnd.bokehjs_exec.v0+json": ""
          },
          "metadata": {
            "tags": [],
            "application/vnd.bokehjs_exec.v0+json": {
              "id": "4621"
            }
          }
        },
        {
          "output_type": "display_data",
          "data": {
            "text/html": [
              "\n",
              "\n",
              "\n",
              "\n",
              "\n",
              "\n",
              "  <div class=\"bk-root\" id=\"93f7de62-5a41-4e77-8a17-100a4a513943\" data-root-id=\"4879\"></div>\n"
            ]
          },
          "metadata": {
            "tags": []
          }
        },
        {
          "output_type": "display_data",
          "data": {
            "application/javascript": [
              "(function(root) {\n",
              "  function embed_document(root) {\n",
              "    \n",
              "  var docs_json = {\"37c04bd1-de3a-46c6-ab3a-303fd16f25d5\":{\"roots\":{\"references\":[{\"attributes\":{\"below\":[{\"id\":\"4890\"}],\"center\":[{\"id\":\"4893\"},{\"id\":\"4897\"}],\"left\":[{\"id\":\"4894\"}],\"plot_height\":400,\"plot_width\":400,\"renderers\":[{\"id\":\"4916\"}],\"title\":{\"id\":\"4880\"},\"toolbar\":{\"id\":\"4905\"},\"x_range\":{\"id\":\"4882\"},\"x_scale\":{\"id\":\"4886\"},\"y_range\":{\"id\":\"4884\"},\"y_scale\":{\"id\":\"4888\"}},\"id\":\"4879\",\"subtype\":\"Figure\",\"type\":\"Plot\"},{\"attributes\":{},\"id\":\"4888\",\"type\":\"LinearScale\"},{\"attributes\":{},\"id\":\"4891\",\"type\":\"BasicTicker\"},{\"attributes\":{},\"id\":\"4895\",\"type\":\"BasicTicker\"},{\"attributes\":{},\"id\":\"4886\",\"type\":\"LinearScale\"},{\"attributes\":{\"formatter\":{\"id\":\"5091\"},\"ticker\":{\"id\":\"4891\"}},\"id\":\"4890\",\"type\":\"LinearAxis\"},{\"attributes\":{\"bottom_units\":\"screen\",\"fill_alpha\":0.5,\"fill_color\":\"lightgrey\",\"left_units\":\"screen\",\"level\":\"overlay\",\"line_alpha\":1.0,\"line_color\":\"black\",\"line_dash\":[4,4],\"line_width\":2,\"right_units\":\"screen\",\"top_units\":\"screen\"},\"id\":\"4904\",\"type\":\"BoxAnnotation\"},{\"attributes\":{\"active_drag\":\"auto\",\"active_inspect\":\"auto\",\"active_multi\":null,\"active_scroll\":\"auto\",\"active_tap\":\"auto\",\"tools\":[{\"id\":\"4898\"},{\"id\":\"4899\"},{\"id\":\"4900\"},{\"id\":\"4901\"},{\"id\":\"4902\"},{\"id\":\"4903\"},{\"id\":\"4918\"}]},\"id\":\"4905\",\"type\":\"Toolbar\"},{\"attributes\":{\"bottom\":{\"value\":0},\"fill_color\":{\"value\":\"blue\"},\"left\":{\"field\":\"left\"},\"right\":{\"field\":\"right\"},\"top\":{\"field\":\"Nonflavanoid.phenols\"}},\"id\":\"4915\",\"type\":\"Quad\"},{\"attributes\":{},\"id\":\"4898\",\"type\":\"PanTool\"},{\"attributes\":{\"source\":{\"id\":\"4878\"}},\"id\":\"4917\",\"type\":\"CDSView\"},{\"attributes\":{},\"id\":\"4899\",\"type\":\"WheelZoomTool\"},{\"attributes\":{\"data_source\":{\"id\":\"4878\"},\"glyph\":{\"id\":\"4913\"},\"hover_glyph\":{\"id\":\"4915\"},\"muted_glyph\":null,\"nonselection_glyph\":{\"id\":\"4914\"},\"selection_glyph\":null,\"view\":{\"id\":\"4917\"}},\"id\":\"4916\",\"type\":\"GlyphRenderer\"},{\"attributes\":{\"overlay\":{\"id\":\"4904\"}},\"id\":\"4900\",\"type\":\"BoxZoomTool\"},{\"attributes\":{\"callback\":null,\"tooltips\":[[\"Interval\",\"@tofrom\"],[\"Count\",\"@Nonflavanoid.phenols\"]]},\"id\":\"4918\",\"type\":\"HoverTool\"},{\"attributes\":{},\"id\":\"4901\",\"type\":\"SaveTool\"},{\"attributes\":{},\"id\":\"4902\",\"type\":\"ResetTool\"},{\"attributes\":{},\"id\":\"5089\",\"type\":\"BasicTickFormatter\"},{\"attributes\":{\"bottom\":{\"value\":0},\"fill_alpha\":{\"value\":0.1},\"fill_color\":{\"value\":\"red\"},\"left\":{\"field\":\"left\"},\"line_alpha\":{\"value\":0.1},\"right\":{\"field\":\"right\"},\"top\":{\"field\":\"Nonflavanoid.phenols\"}},\"id\":\"4914\",\"type\":\"Quad\"},{\"attributes\":{},\"id\":\"4903\",\"type\":\"HelpTool\"},{\"attributes\":{},\"id\":\"5091\",\"type\":\"BasicTickFormatter\"},{\"attributes\":{\"data\":{\"Nonflavanoid.phenols\":[8,16,33,38,14,25,16,13,7,8],\"index\":[0,1,2,3,4,5,6,7,8,9],\"left\":{\"__ndarray__\":\"0sYaXEnk/b9/VVGXCA/3vyzkh9LHOfC/sOV8Gw7J4r8oDKhHMnrEvzi/Ue/pF9E/RMI7gXY25j90UmcFfPDxP8jDMMq8xfg/HDX6jv2a/z8=\",\"dtype\":\"float64\",\"order\":\"little\",\"shape\":[10]},\"right\":{\"__ndarray__\":\"f1VRlwgP978s5IfSxznwv7DlfBsOyeK/KAyoRzJ6xL84v1Hv6RfRP0TCO4F2NuY/dFJnBXzw8T/IwzDKvMX4Pxw1+o79mv8/NtPhKR84A0A=\",\"dtype\":\"float64\",\"order\":\"little\",\"shape\":[10]},\"tofrom\":[\"-1.8682340238414565 to -1.4411703024719313\",\"-1.4411703024719313 to -1.0141065811024061\",\"-1.0141065811024061 to -0.5870428597328807\",\"-0.5870428597328807 to -0.15997913836335553\",\"-0.15997913836335553 to 0.26708458300616966\",\"0.26708458300616966 to 0.6941483043756951\",\"0.6941483043756951 to 1.12121202574522\",\"1.12121202574522 to 1.5482757471147455\",\"1.5482757471147455 to 1.9753394684842709\",\"1.9753394684842709 to 2.4024031898537954\"]},\"selected\":{\"id\":\"5094\"},\"selection_policy\":{\"id\":\"5093\"}},\"id\":\"4878\",\"type\":\"ColumnDataSource\"},{\"attributes\":{},\"id\":\"5094\",\"type\":\"Selection\"},{\"attributes\":{},\"id\":\"5093\",\"type\":\"UnionRenderers\"},{\"attributes\":{\"axis\":{\"id\":\"4894\"},\"dimension\":1,\"ticker\":null},\"id\":\"4897\",\"type\":\"Grid\"},{\"attributes\":{\"bottom\":{\"value\":0},\"fill_alpha\":{\"value\":0.7},\"fill_color\":{\"value\":\"red\"},\"left\":{\"field\":\"left\"},\"right\":{\"field\":\"right\"},\"top\":{\"field\":\"Nonflavanoid.phenols\"}},\"id\":\"4913\",\"type\":\"Quad\"},{\"attributes\":{\"formatter\":{\"id\":\"5089\"},\"ticker\":{\"id\":\"4895\"}},\"id\":\"4894\",\"type\":\"LinearAxis\"},{\"attributes\":{\"axis\":{\"id\":\"4890\"},\"ticker\":null},\"id\":\"4893\",\"type\":\"Grid\"},{\"attributes\":{\"text\":\"Nonflavanoid.phenols\"},\"id\":\"4880\",\"type\":\"Title\"},{\"attributes\":{},\"id\":\"4884\",\"type\":\"DataRange1d\"},{\"attributes\":{},\"id\":\"4882\",\"type\":\"DataRange1d\"}],\"root_ids\":[\"4879\"]},\"title\":\"Bokeh Application\",\"version\":\"2.1.1\"}};\n",
              "  var render_items = [{\"docid\":\"37c04bd1-de3a-46c6-ab3a-303fd16f25d5\",\"root_ids\":[\"4879\"],\"roots\":{\"4879\":\"93f7de62-5a41-4e77-8a17-100a4a513943\"}}];\n",
              "  root.Bokeh.embed.embed_items_notebook(docs_json, render_items);\n",
              "\n",
              "  }\n",
              "  if (root.Bokeh !== undefined) {\n",
              "    embed_document(root);\n",
              "  } else {\n",
              "    var attempts = 0;\n",
              "    var timer = setInterval(function(root) {\n",
              "      if (root.Bokeh !== undefined) {\n",
              "        clearInterval(timer);\n",
              "        embed_document(root);\n",
              "      } else {\n",
              "        attempts++;\n",
              "        if (attempts > 100) {\n",
              "          clearInterval(timer);\n",
              "          console.log(\"Bokeh: ERROR: Unable to run BokehJS code because BokehJS library is missing\");\n",
              "        }\n",
              "      }\n",
              "    }, 10, root)\n",
              "  }\n",
              "})(window);"
            ],
            "application/vnd.bokehjs_exec.v0+json": ""
          },
          "metadata": {
            "tags": [],
            "application/vnd.bokehjs_exec.v0+json": {
              "id": "4879"
            }
          }
        },
        {
          "output_type": "display_data",
          "data": {
            "text/html": [
              "\n",
              "\n",
              "\n",
              "\n",
              "\n",
              "\n",
              "  <div class=\"bk-root\" id=\"115dfad7-8d38-46d6-8eac-d5dabd0e8503\" data-root-id=\"5145\"></div>\n"
            ]
          },
          "metadata": {
            "tags": []
          }
        },
        {
          "output_type": "display_data",
          "data": {
            "application/javascript": [
              "(function(root) {\n",
              "  function embed_document(root) {\n",
              "    \n",
              "  var docs_json = {\"ba7069de-736e-48c4-9131-61902f84da42\":{\"roots\":{\"references\":[{\"attributes\":{\"below\":[{\"id\":\"5156\"}],\"center\":[{\"id\":\"5159\"},{\"id\":\"5163\"}],\"left\":[{\"id\":\"5160\"}],\"plot_height\":400,\"plot_width\":400,\"renderers\":[{\"id\":\"5182\"}],\"title\":{\"id\":\"5146\"},\"toolbar\":{\"id\":\"5171\"},\"x_range\":{\"id\":\"5148\"},\"x_scale\":{\"id\":\"5152\"},\"y_range\":{\"id\":\"5150\"},\"y_scale\":{\"id\":\"5154\"}},\"id\":\"5145\",\"subtype\":\"Figure\",\"type\":\"Plot\"},{\"attributes\":{},\"id\":\"5161\",\"type\":\"BasicTicker\"},{\"attributes\":{\"text\":\"Proanth\"},\"id\":\"5146\",\"type\":\"Title\"},{\"attributes\":{},\"id\":\"5152\",\"type\":\"LinearScale\"},{\"attributes\":{\"axis\":{\"id\":\"5160\"},\"dimension\":1,\"ticker\":null},\"id\":\"5163\",\"type\":\"Grid\"},{\"attributes\":{\"formatter\":{\"id\":\"5363\"},\"ticker\":{\"id\":\"5161\"}},\"id\":\"5160\",\"type\":\"LinearAxis\"},{\"attributes\":{\"formatter\":{\"id\":\"5365\"},\"ticker\":{\"id\":\"5157\"}},\"id\":\"5156\",\"type\":\"LinearAxis\"},{\"attributes\":{\"data\":{\"Proanth\":[8,25,31,43,36,17,8,7,1,2],\"index\":[0,1,2,3,4,5,6,7,8,9],\"left\":{\"__ndarray__\":\"QC/kymGNAMAaMYJJzTf4v2gHePqtqe6/OFnXw4LH2b/AuILarIjDP/wILc8XqOY/5LHcMwI39D9K3yKA+Bn9P1iGNGZ3/gJADJ1XjPJvB0A=\",\"dtype\":\"float64\",\"order\":\"little\",\"shape\":[10]},\"right\":{\"__ndarray__\":\"GjGCSc03+L9oB3j6ranuvzhZ18OCx9m/wLiC2qyIwz/8CC3PF6jmP+Sx3DMCN/Q/St8igPgZ/T9YhjRmd/4CQAydV4zybwdAvrN6sm3hC0A=\",\"dtype\":\"float64\",\"order\":\"little\",\"shape\":[10]},\"tofrom\":[\"-2.0690341807257084 to -1.5136235114505951\",\"-1.5136235114505951 to -0.9582128421754819\",\"-0.9582128421754819 to -0.40280217290036857\",\"-0.40280217290036857 to 0.15260849637474472\",\"0.15260849637474472 to 0.708019165649858\",\"0.708019165649858 to 1.2634298349249713\",\"1.2634298349249713 to 1.8188405042000846\",\"1.8188405042000846 to 2.374251173475198\",\"2.374251173475198 to 2.9296618427503116\",\"2.9296618427503116 to 3.4850725120254245\"]},\"selected\":{\"id\":\"5368\"},\"selection_policy\":{\"id\":\"5367\"}},\"id\":\"5144\",\"type\":\"ColumnDataSource\"},{\"attributes\":{\"bottom_units\":\"screen\",\"fill_alpha\":0.5,\"fill_color\":\"lightgrey\",\"left_units\":\"screen\",\"level\":\"overlay\",\"line_alpha\":1.0,\"line_color\":\"black\",\"line_dash\":[4,4],\"line_width\":2,\"right_units\":\"screen\",\"top_units\":\"screen\"},\"id\":\"5170\",\"type\":\"BoxAnnotation\"},{\"attributes\":{\"active_drag\":\"auto\",\"active_inspect\":\"auto\",\"active_multi\":null,\"active_scroll\":\"auto\",\"active_tap\":\"auto\",\"tools\":[{\"id\":\"5164\"},{\"id\":\"5165\"},{\"id\":\"5166\"},{\"id\":\"5167\"},{\"id\":\"5168\"},{\"id\":\"5169\"},{\"id\":\"5184\"}]},\"id\":\"5171\",\"type\":\"Toolbar\"},{\"attributes\":{\"bottom\":{\"value\":0},\"fill_color\":{\"value\":\"blue\"},\"left\":{\"field\":\"left\"},\"right\":{\"field\":\"right\"},\"top\":{\"field\":\"Proanth\"}},\"id\":\"5181\",\"type\":\"Quad\"},{\"attributes\":{},\"id\":\"5164\",\"type\":\"PanTool\"},{\"attributes\":{},\"id\":\"5157\",\"type\":\"BasicTicker\"},{\"attributes\":{},\"id\":\"5165\",\"type\":\"WheelZoomTool\"},{\"attributes\":{\"source\":{\"id\":\"5144\"}},\"id\":\"5183\",\"type\":\"CDSView\"},{\"attributes\":{\"data_source\":{\"id\":\"5144\"},\"glyph\":{\"id\":\"5179\"},\"hover_glyph\":{\"id\":\"5181\"},\"muted_glyph\":null,\"nonselection_glyph\":{\"id\":\"5180\"},\"selection_glyph\":null,\"view\":{\"id\":\"5183\"}},\"id\":\"5182\",\"type\":\"GlyphRenderer\"},{\"attributes\":{\"overlay\":{\"id\":\"5170\"}},\"id\":\"5166\",\"type\":\"BoxZoomTool\"},{\"attributes\":{\"callback\":null,\"tooltips\":[[\"Interval\",\"@tofrom\"],[\"Count\",\"@Proanth\"]]},\"id\":\"5184\",\"type\":\"HoverTool\"},{\"attributes\":{},\"id\":\"5167\",\"type\":\"SaveTool\"},{\"attributes\":{},\"id\":\"5365\",\"type\":\"BasicTickFormatter\"},{\"attributes\":{},\"id\":\"5148\",\"type\":\"DataRange1d\"},{\"attributes\":{},\"id\":\"5168\",\"type\":\"ResetTool\"},{\"attributes\":{\"bottom\":{\"value\":0},\"fill_alpha\":{\"value\":0.7},\"fill_color\":{\"value\":\"red\"},\"left\":{\"field\":\"left\"},\"right\":{\"field\":\"right\"},\"top\":{\"field\":\"Proanth\"}},\"id\":\"5179\",\"type\":\"Quad\"},{\"attributes\":{\"bottom\":{\"value\":0},\"fill_alpha\":{\"value\":0.1},\"fill_color\":{\"value\":\"red\"},\"left\":{\"field\":\"left\"},\"line_alpha\":{\"value\":0.1},\"right\":{\"field\":\"right\"},\"top\":{\"field\":\"Proanth\"}},\"id\":\"5180\",\"type\":\"Quad\"},{\"attributes\":{},\"id\":\"5363\",\"type\":\"BasicTickFormatter\"},{\"attributes\":{\"axis\":{\"id\":\"5156\"},\"ticker\":null},\"id\":\"5159\",\"type\":\"Grid\"},{\"attributes\":{},\"id\":\"5169\",\"type\":\"HelpTool\"},{\"attributes\":{},\"id\":\"5154\",\"type\":\"LinearScale\"},{\"attributes\":{},\"id\":\"5367\",\"type\":\"UnionRenderers\"},{\"attributes\":{},\"id\":\"5150\",\"type\":\"DataRange1d\"},{\"attributes\":{},\"id\":\"5368\",\"type\":\"Selection\"}],\"root_ids\":[\"5145\"]},\"title\":\"Bokeh Application\",\"version\":\"2.1.1\"}};\n",
              "  var render_items = [{\"docid\":\"ba7069de-736e-48c4-9131-61902f84da42\",\"root_ids\":[\"5145\"],\"roots\":{\"5145\":\"115dfad7-8d38-46d6-8eac-d5dabd0e8503\"}}];\n",
              "  root.Bokeh.embed.embed_items_notebook(docs_json, render_items);\n",
              "\n",
              "  }\n",
              "  if (root.Bokeh !== undefined) {\n",
              "    embed_document(root);\n",
              "  } else {\n",
              "    var attempts = 0;\n",
              "    var timer = setInterval(function(root) {\n",
              "      if (root.Bokeh !== undefined) {\n",
              "        clearInterval(timer);\n",
              "        embed_document(root);\n",
              "      } else {\n",
              "        attempts++;\n",
              "        if (attempts > 100) {\n",
              "          clearInterval(timer);\n",
              "          console.log(\"Bokeh: ERROR: Unable to run BokehJS code because BokehJS library is missing\");\n",
              "        }\n",
              "      }\n",
              "    }, 10, root)\n",
              "  }\n",
              "})(window);"
            ],
            "application/vnd.bokehjs_exec.v0+json": ""
          },
          "metadata": {
            "tags": [],
            "application/vnd.bokehjs_exec.v0+json": {
              "id": "5145"
            }
          }
        },
        {
          "output_type": "display_data",
          "data": {
            "text/html": [
              "\n",
              "\n",
              "\n",
              "\n",
              "\n",
              "\n",
              "  <div class=\"bk-root\" id=\"4c4f5f66-2082-46b3-8a96-b18d7aab4a1c\" data-root-id=\"5419\"></div>\n"
            ]
          },
          "metadata": {
            "tags": []
          }
        },
        {
          "output_type": "display_data",
          "data": {
            "application/javascript": [
              "(function(root) {\n",
              "  function embed_document(root) {\n",
              "    \n",
              "  var docs_json = {\"a12f5758-f567-493d-9a4f-bdc580b30bb5\":{\"roots\":{\"references\":[{\"attributes\":{\"below\":[{\"id\":\"5430\"}],\"center\":[{\"id\":\"5433\"},{\"id\":\"5437\"}],\"left\":[{\"id\":\"5434\"}],\"plot_height\":400,\"plot_width\":400,\"renderers\":[{\"id\":\"5456\"}],\"title\":{\"id\":\"5420\"},\"toolbar\":{\"id\":\"5445\"},\"x_range\":{\"id\":\"5422\"},\"x_scale\":{\"id\":\"5426\"},\"y_range\":{\"id\":\"5424\"},\"y_scale\":{\"id\":\"5428\"}},\"id\":\"5419\",\"subtype\":\"Figure\",\"type\":\"Plot\"},{\"attributes\":{\"formatter\":{\"id\":\"5647\"},\"ticker\":{\"id\":\"5431\"}},\"id\":\"5430\",\"type\":\"LinearAxis\"},{\"attributes\":{\"active_drag\":\"auto\",\"active_inspect\":\"auto\",\"active_multi\":null,\"active_scroll\":\"auto\",\"active_tap\":\"auto\",\"tools\":[{\"id\":\"5438\"},{\"id\":\"5439\"},{\"id\":\"5440\"},{\"id\":\"5441\"},{\"id\":\"5442\"},{\"id\":\"5443\"},{\"id\":\"5458\"}]},\"id\":\"5445\",\"type\":\"Toolbar\"},{\"attributes\":{},\"id\":\"5422\",\"type\":\"DataRange1d\"},{\"attributes\":{\"callback\":null,\"tooltips\":[[\"Interval\",\"@tofrom\"],[\"Count\",\"@Color.int\"]]},\"id\":\"5458\",\"type\":\"HoverTool\"},{\"attributes\":{\"text\":\"Color.int\"},\"id\":\"5420\",\"type\":\"Title\"},{\"attributes\":{\"formatter\":{\"id\":\"5645\"},\"ticker\":{\"id\":\"5435\"}},\"id\":\"5434\",\"type\":\"LinearAxis\"},{\"attributes\":{\"source\":{\"id\":\"5418\"}},\"id\":\"5457\",\"type\":\"CDSView\"},{\"attributes\":{\"axis\":{\"id\":\"5434\"},\"dimension\":1,\"ticker\":null},\"id\":\"5437\",\"type\":\"Grid\"},{\"attributes\":{\"data_source\":{\"id\":\"5418\"},\"glyph\":{\"id\":\"5453\"},\"hover_glyph\":{\"id\":\"5455\"},\"muted_glyph\":null,\"nonselection_glyph\":{\"id\":\"5454\"},\"selection_glyph\":null,\"view\":{\"id\":\"5457\"}},\"id\":\"5456\",\"type\":\"GlyphRenderer\"},{\"attributes\":{\"bottom\":{\"value\":0},\"fill_color\":{\"value\":\"blue\"},\"left\":{\"field\":\"left\"},\"right\":{\"field\":\"right\"},\"top\":{\"field\":\"Color.int\"}},\"id\":\"5455\",\"type\":\"Quad\"},{\"attributes\":{\"axis\":{\"id\":\"5430\"},\"ticker\":null},\"id\":\"5433\",\"type\":\"Grid\"},{\"attributes\":{\"bottom\":{\"value\":0},\"fill_alpha\":{\"value\":0.7},\"fill_color\":{\"value\":\"red\"},\"left\":{\"field\":\"left\"},\"right\":{\"field\":\"right\"},\"top\":{\"field\":\"Color.int\"}},\"id\":\"5453\",\"type\":\"Quad\"},{\"attributes\":{},\"id\":\"5647\",\"type\":\"BasicTickFormatter\"},{\"attributes\":{\"bottom_units\":\"screen\",\"fill_alpha\":0.5,\"fill_color\":\"lightgrey\",\"left_units\":\"screen\",\"level\":\"overlay\",\"line_alpha\":1.0,\"line_color\":\"black\",\"line_dash\":[4,4],\"line_width\":2,\"right_units\":\"screen\",\"top_units\":\"screen\"},\"id\":\"5444\",\"type\":\"BoxAnnotation\"},{\"attributes\":{},\"id\":\"5435\",\"type\":\"BasicTicker\"},{\"attributes\":{},\"id\":\"5439\",\"type\":\"WheelZoomTool\"},{\"attributes\":{},\"id\":\"5650\",\"type\":\"Selection\"},{\"attributes\":{},\"id\":\"5438\",\"type\":\"PanTool\"},{\"attributes\":{\"bottom\":{\"value\":0},\"fill_alpha\":{\"value\":0.1},\"fill_color\":{\"value\":\"red\"},\"left\":{\"field\":\"left\"},\"line_alpha\":{\"value\":0.1},\"right\":{\"field\":\"right\"},\"top\":{\"field\":\"Color.int\"}},\"id\":\"5454\",\"type\":\"Quad\"},{\"attributes\":{\"overlay\":{\"id\":\"5444\"}},\"id\":\"5440\",\"type\":\"BoxZoomTool\"},{\"attributes\":{},\"id\":\"5443\",\"type\":\"HelpTool\"},{\"attributes\":{},\"id\":\"5649\",\"type\":\"UnionRenderers\"},{\"attributes\":{},\"id\":\"5424\",\"type\":\"DataRange1d\"},{\"attributes\":{},\"id\":\"5426\",\"type\":\"LinearScale\"},{\"attributes\":{},\"id\":\"5442\",\"type\":\"ResetTool\"},{\"attributes\":{},\"id\":\"5431\",\"type\":\"BasicTicker\"},{\"attributes\":{},\"id\":\"5428\",\"type\":\"LinearScale\"},{\"attributes\":{},\"id\":\"5645\",\"type\":\"BasicTickFormatter\"},{\"attributes\":{},\"id\":\"5441\",\"type\":\"SaveTool\"},{\"attributes\":{\"data\":{\"Color.int\":[16,42,32,38,17,13,10,6,3,1],\"index\":[0,1,2,3,4,5,6,7,8,9],\"left\":{\"__ndarray__\":\"lkOTdgsm+r9C7DLFfAnyv9oppSfc2eO/gNkjJ/YFvb/wZrg7vTDZPyDinAB80ew/ZsiusUyF9j+6Hw9j26H+P4e7Nwo1XwNAMefnYnxtB0A=\",\"dtype\":\"float64\",\"order\":\"little\",\"shape\":[10]},\"right\":{\"__ndarray__\":\"QuwyxXwJ8r/aKaUn3Nnjv4DZIyf2Bb2/8Ga4O70w2T8g4pwAfNHsP2bIrrFMhfY/uh8PY9uh/j+HuzcKNV8DQDHn52J8bQdA2xKYu8N7C0A=\",\"dtype\":\"float64\",\"order\":\"little\",\"shape\":[10]},\"tofrom\":[\"-1.634288275894709 to -1.1273162558634486\",\"-1.1273162558634486 to -0.620344235832188\",\"-0.620344235832188 to -0.11337221580092738\",\"-0.11337221580092738 to 0.39359980423033303\",\"0.39359980423033303 to 0.9005718242615934\",\"0.9005718242615934 to 1.4075438442928543\",\"1.4075438442928543 to 1.9145158643241147\",\"1.9145158643241147 to 2.421487884355375\",\"2.421487884355375 to 2.9284599043866355\",\"2.9284599043866355 to 3.435431924417896\"]},\"selected\":{\"id\":\"5650\"},\"selection_policy\":{\"id\":\"5649\"}},\"id\":\"5418\",\"type\":\"ColumnDataSource\"}],\"root_ids\":[\"5419\"]},\"title\":\"Bokeh Application\",\"version\":\"2.1.1\"}};\n",
              "  var render_items = [{\"docid\":\"a12f5758-f567-493d-9a4f-bdc580b30bb5\",\"root_ids\":[\"5419\"],\"roots\":{\"5419\":\"4c4f5f66-2082-46b3-8a96-b18d7aab4a1c\"}}];\n",
              "  root.Bokeh.embed.embed_items_notebook(docs_json, render_items);\n",
              "\n",
              "  }\n",
              "  if (root.Bokeh !== undefined) {\n",
              "    embed_document(root);\n",
              "  } else {\n",
              "    var attempts = 0;\n",
              "    var timer = setInterval(function(root) {\n",
              "      if (root.Bokeh !== undefined) {\n",
              "        clearInterval(timer);\n",
              "        embed_document(root);\n",
              "      } else {\n",
              "        attempts++;\n",
              "        if (attempts > 100) {\n",
              "          clearInterval(timer);\n",
              "          console.log(\"Bokeh: ERROR: Unable to run BokehJS code because BokehJS library is missing\");\n",
              "        }\n",
              "      }\n",
              "    }, 10, root)\n",
              "  }\n",
              "})(window);"
            ],
            "application/vnd.bokehjs_exec.v0+json": ""
          },
          "metadata": {
            "tags": [],
            "application/vnd.bokehjs_exec.v0+json": {
              "id": "5419"
            }
          }
        },
        {
          "output_type": "display_data",
          "data": {
            "text/html": [
              "\n",
              "\n",
              "\n",
              "\n",
              "\n",
              "\n",
              "  <div class=\"bk-root\" id=\"d9786be5-bb7f-4fa4-89cb-c84974cd735e\" data-root-id=\"5701\"></div>\n"
            ]
          },
          "metadata": {
            "tags": []
          }
        },
        {
          "output_type": "display_data",
          "data": {
            "application/javascript": [
              "(function(root) {\n",
              "  function embed_document(root) {\n",
              "    \n",
              "  var docs_json = {\"2cfffcf7-7343-47ec-8a12-c159916a8b06\":{\"roots\":{\"references\":[{\"attributes\":{\"below\":[{\"id\":\"5712\"}],\"center\":[{\"id\":\"5715\"},{\"id\":\"5719\"}],\"left\":[{\"id\":\"5716\"}],\"plot_height\":400,\"plot_width\":400,\"renderers\":[{\"id\":\"5738\"}],\"title\":{\"id\":\"5702\"},\"toolbar\":{\"id\":\"5727\"},\"x_range\":{\"id\":\"5704\"},\"x_scale\":{\"id\":\"5708\"},\"y_range\":{\"id\":\"5706\"},\"y_scale\":{\"id\":\"5710\"}},\"id\":\"5701\",\"subtype\":\"Figure\",\"type\":\"Plot\"},{\"attributes\":{},\"id\":\"5706\",\"type\":\"DataRange1d\"},{\"attributes\":{\"data\":{\"Hue\":[17,16,20,37,38,24,20,5,0,1],\"index\":[0,1,2,3,4,5,6,7,8,9],\"left\":{\"__ndarray__\":\"wlsrEAPCAMA4dkfIpeH4v+w0OHBFP/C/gM6jYJRz3r/A2mT+s1ewP/Ad6y+3T+M/RNAE8DtK8j+QERRInOz6P26pEVB+xwFAFEoZfK4YBkA=\",\"dtype\":\"float64\",\"order\":\"little\",\"shape\":[10]},\"right\":{\"__ndarray__\":\"OHZHyKXh+L/sNDhwRT/wv4DOo2CUc96/wNpk/rNXsD/wHesvt0/jP0TQBPA7SvI/kBEUSJzs+j9uqRFQfscBQBRKGXyuGAZAuuogqN5pCkA=\",\"dtype\":\"float64\",\"order\":\"little\",\"shape\":[10]},\"tofrom\":[\"-2.0947324050170844 to -1.5550897429851727\",\"-1.5550897429851727 to -1.015447080953261\",\"-1.015447080953261 to -0.4758044189213493\",\"-0.4758044189213493 to 0.06383824311056241\",\"0.06383824311056241 to 0.6034809051424741\",\"0.6034809051424741 to 1.1431235671743858\",\"1.1431235671743858 to 1.6827662292062975\",\"1.6827662292062975 to 2.222408891238209\",\"2.222408891238209 to 2.762051553270121\",\"2.762051553270121 to 3.3016942153020326\"]},\"selected\":{\"id\":\"5940\"},\"selection_policy\":{\"id\":\"5939\"}},\"id\":\"5700\",\"type\":\"ColumnDataSource\"},{\"attributes\":{},\"id\":\"5939\",\"type\":\"UnionRenderers\"},{\"attributes\":{\"data_source\":{\"id\":\"5700\"},\"glyph\":{\"id\":\"5735\"},\"hover_glyph\":{\"id\":\"5737\"},\"muted_glyph\":null,\"nonselection_glyph\":{\"id\":\"5736\"},\"selection_glyph\":null,\"view\":{\"id\":\"5739\"}},\"id\":\"5738\",\"type\":\"GlyphRenderer\"},{\"attributes\":{},\"id\":\"5940\",\"type\":\"Selection\"},{\"attributes\":{\"formatter\":{\"id\":\"5935\"},\"ticker\":{\"id\":\"5717\"}},\"id\":\"5716\",\"type\":\"LinearAxis\"},{\"attributes\":{},\"id\":\"5717\",\"type\":\"BasicTicker\"},{\"attributes\":{\"active_drag\":\"auto\",\"active_inspect\":\"auto\",\"active_multi\":null,\"active_scroll\":\"auto\",\"active_tap\":\"auto\",\"tools\":[{\"id\":\"5720\"},{\"id\":\"5721\"},{\"id\":\"5722\"},{\"id\":\"5723\"},{\"id\":\"5724\"},{\"id\":\"5725\"},{\"id\":\"5740\"}]},\"id\":\"5727\",\"type\":\"Toolbar\"},{\"attributes\":{\"axis\":{\"id\":\"5716\"},\"dimension\":1,\"ticker\":null},\"id\":\"5719\",\"type\":\"Grid\"},{\"attributes\":{\"axis\":{\"id\":\"5712\"},\"ticker\":null},\"id\":\"5715\",\"type\":\"Grid\"},{\"attributes\":{\"bottom\":{\"value\":0},\"fill_color\":{\"value\":\"blue\"},\"left\":{\"field\":\"left\"},\"right\":{\"field\":\"right\"},\"top\":{\"field\":\"Hue\"}},\"id\":\"5737\",\"type\":\"Quad\"},{\"attributes\":{},\"id\":\"5713\",\"type\":\"BasicTicker\"},{\"attributes\":{\"text\":\"Hue\"},\"id\":\"5702\",\"type\":\"Title\"},{\"attributes\":{\"formatter\":{\"id\":\"5937\"},\"ticker\":{\"id\":\"5713\"}},\"id\":\"5712\",\"type\":\"LinearAxis\"},{\"attributes\":{},\"id\":\"5725\",\"type\":\"HelpTool\"},{\"attributes\":{},\"id\":\"5710\",\"type\":\"LinearScale\"},{\"attributes\":{\"bottom_units\":\"screen\",\"fill_alpha\":0.5,\"fill_color\":\"lightgrey\",\"left_units\":\"screen\",\"level\":\"overlay\",\"line_alpha\":1.0,\"line_color\":\"black\",\"line_dash\":[4,4],\"line_width\":2,\"right_units\":\"screen\",\"top_units\":\"screen\"},\"id\":\"5726\",\"type\":\"BoxAnnotation\"},{\"attributes\":{},\"id\":\"5724\",\"type\":\"ResetTool\"},{\"attributes\":{\"source\":{\"id\":\"5700\"}},\"id\":\"5739\",\"type\":\"CDSView\"},{\"attributes\":{},\"id\":\"5721\",\"type\":\"WheelZoomTool\"},{\"attributes\":{},\"id\":\"5708\",\"type\":\"LinearScale\"},{\"attributes\":{\"bottom\":{\"value\":0},\"fill_alpha\":{\"value\":0.1},\"fill_color\":{\"value\":\"red\"},\"left\":{\"field\":\"left\"},\"line_alpha\":{\"value\":0.1},\"right\":{\"field\":\"right\"},\"top\":{\"field\":\"Hue\"}},\"id\":\"5736\",\"type\":\"Quad\"},{\"attributes\":{\"overlay\":{\"id\":\"5726\"}},\"id\":\"5722\",\"type\":\"BoxZoomTool\"},{\"attributes\":{},\"id\":\"5720\",\"type\":\"PanTool\"},{\"attributes\":{},\"id\":\"5704\",\"type\":\"DataRange1d\"},{\"attributes\":{},\"id\":\"5723\",\"type\":\"SaveTool\"},{\"attributes\":{},\"id\":\"5935\",\"type\":\"BasicTickFormatter\"},{\"attributes\":{\"callback\":null,\"tooltips\":[[\"Interval\",\"@tofrom\"],[\"Count\",\"@Hue\"]]},\"id\":\"5740\",\"type\":\"HoverTool\"},{\"attributes\":{},\"id\":\"5937\",\"type\":\"BasicTickFormatter\"},{\"attributes\":{\"bottom\":{\"value\":0},\"fill_alpha\":{\"value\":0.7},\"fill_color\":{\"value\":\"red\"},\"left\":{\"field\":\"left\"},\"right\":{\"field\":\"right\"},\"top\":{\"field\":\"Hue\"}},\"id\":\"5735\",\"type\":\"Quad\"}],\"root_ids\":[\"5701\"]},\"title\":\"Bokeh Application\",\"version\":\"2.1.1\"}};\n",
              "  var render_items = [{\"docid\":\"2cfffcf7-7343-47ec-8a12-c159916a8b06\",\"root_ids\":[\"5701\"],\"roots\":{\"5701\":\"d9786be5-bb7f-4fa4-89cb-c84974cd735e\"}}];\n",
              "  root.Bokeh.embed.embed_items_notebook(docs_json, render_items);\n",
              "\n",
              "  }\n",
              "  if (root.Bokeh !== undefined) {\n",
              "    embed_document(root);\n",
              "  } else {\n",
              "    var attempts = 0;\n",
              "    var timer = setInterval(function(root) {\n",
              "      if (root.Bokeh !== undefined) {\n",
              "        clearInterval(timer);\n",
              "        embed_document(root);\n",
              "      } else {\n",
              "        attempts++;\n",
              "        if (attempts > 100) {\n",
              "          clearInterval(timer);\n",
              "          console.log(\"Bokeh: ERROR: Unable to run BokehJS code because BokehJS library is missing\");\n",
              "        }\n",
              "      }\n",
              "    }, 10, root)\n",
              "  }\n",
              "})(window);"
            ],
            "application/vnd.bokehjs_exec.v0+json": ""
          },
          "metadata": {
            "tags": [],
            "application/vnd.bokehjs_exec.v0+json": {
              "id": "5701"
            }
          }
        },
        {
          "output_type": "display_data",
          "data": {
            "text/html": [
              "\n",
              "\n",
              "\n",
              "\n",
              "\n",
              "\n",
              "  <div class=\"bk-root\" id=\"2bf39339-3695-42c4-a39a-0e2fb437f12f\" data-root-id=\"5991\"></div>\n"
            ]
          },
          "metadata": {
            "tags": []
          }
        },
        {
          "output_type": "display_data",
          "data": {
            "application/javascript": [
              "(function(root) {\n",
              "  function embed_document(root) {\n",
              "    \n",
              "  var docs_json = {\"c3c79ef2-ff46-47ad-8d7a-86639e66182a\":{\"roots\":{\"references\":[{\"attributes\":{\"below\":[{\"id\":\"6002\"}],\"center\":[{\"id\":\"6005\"},{\"id\":\"6009\"}],\"left\":[{\"id\":\"6006\"}],\"plot_height\":400,\"plot_width\":400,\"renderers\":[{\"id\":\"6028\"}],\"title\":{\"id\":\"5992\"},\"toolbar\":{\"id\":\"6017\"},\"x_range\":{\"id\":\"5994\"},\"x_scale\":{\"id\":\"5998\"},\"y_range\":{\"id\":\"5996\"},\"y_scale\":{\"id\":\"6000\"}},\"id\":\"5991\",\"subtype\":\"Figure\",\"type\":\"Plot\"},{\"attributes\":{\"formatter\":{\"id\":\"6235\"},\"ticker\":{\"id\":\"6003\"}},\"id\":\"6002\",\"type\":\"LinearAxis\"},{\"attributes\":{},\"id\":\"5996\",\"type\":\"DataRange1d\"},{\"attributes\":{},\"id\":\"5994\",\"type\":\"DataRange1d\"},{\"attributes\":{\"formatter\":{\"id\":\"6233\"},\"ticker\":{\"id\":\"6007\"}},\"id\":\"6006\",\"type\":\"LinearAxis\"},{\"attributes\":{},\"id\":\"6015\",\"type\":\"HelpTool\"},{\"attributes\":{\"bottom\":{\"value\":0},\"fill_alpha\":{\"value\":0.1},\"fill_color\":{\"value\":\"red\"},\"left\":{\"field\":\"left\"},\"line_alpha\":{\"value\":0.1},\"right\":{\"field\":\"right\"},\"top\":{\"field\":\"OD\"}},\"id\":\"6026\",\"type\":\"Quad\"},{\"attributes\":{},\"id\":\"6003\",\"type\":\"BasicTicker\"},{\"attributes\":{},\"id\":\"6011\",\"type\":\"WheelZoomTool\"},{\"attributes\":{\"axis\":{\"id\":\"6006\"},\"dimension\":1,\"ticker\":null},\"id\":\"6009\",\"type\":\"Grid\"},{\"attributes\":{},\"id\":\"6014\",\"type\":\"ResetTool\"},{\"attributes\":{\"data\":{\"OD\":[13,24,14,12,12,32,28,25,15,3],\"index\":[0,1,2,3,4,5,6,7,8,9],\"left\":{\"__ndarray__\":\"sIc5CCRS/r+XmZpjvCb4v36r+75U+/G/yHq5NNqf578sPffWFZLWv8DZI9xF3KA/oDMATifJ2j8A9j3wYrvpPxrpvRwZCfM/NNdcwYA0+T8=\",\"dtype\":\"float64\",\"order\":\"little\",\"shape\":[10]},\"right\":{\"__ndarray__\":\"l5maY7wm+L9+q/u+VPvxv8h6uTTan+e/LD331hWS1r/A2SPcRdygP6AzAE4nydo/APY98GK76T8a6b0cGQnzPzTXXMGANPk/S8X7Zehf/z8=\",\"dtype\":\"float64\",\"order\":\"little\",\"shape\":[10]},\"tofrom\":[\"-1.8950538941648851 to -1.5094570055749494\",\"-1.5094570055749494 to -1.1238601169850138\",\"-1.1238601169850138 to -0.7382632283950779\",\"-0.7382632283950779 to -0.35266633980514217\",\"-0.35266633980514217 to 0.03293054878479351\",\"0.03293054878479351 to 0.4185274373747294\",\"0.4185274373747294 to 0.8041243259646649\",\"0.8041243259646649 to 1.1897212145546008\",\"1.1897212145546008 to 1.5753181031445367\",\"1.5753181031445367 to 1.960914991734472\"]},\"selected\":{\"id\":\"6238\"},\"selection_policy\":{\"id\":\"6237\"}},\"id\":\"5990\",\"type\":\"ColumnDataSource\"},{\"attributes\":{},\"id\":\"6235\",\"type\":\"BasicTickFormatter\"},{\"attributes\":{\"axis\":{\"id\":\"6002\"},\"ticker\":null},\"id\":\"6005\",\"type\":\"Grid\"},{\"attributes\":{\"overlay\":{\"id\":\"6016\"}},\"id\":\"6012\",\"type\":\"BoxZoomTool\"},{\"attributes\":{\"bottom\":{\"value\":0},\"fill_alpha\":{\"value\":0.7},\"fill_color\":{\"value\":\"red\"},\"left\":{\"field\":\"left\"},\"right\":{\"field\":\"right\"},\"top\":{\"field\":\"OD\"}},\"id\":\"6025\",\"type\":\"Quad\"},{\"attributes\":{\"callback\":null,\"tooltips\":[[\"Interval\",\"@tofrom\"],[\"Count\",\"@OD\"]]},\"id\":\"6030\",\"type\":\"HoverTool\"},{\"attributes\":{},\"id\":\"5998\",\"type\":\"LinearScale\"},{\"attributes\":{\"active_drag\":\"auto\",\"active_inspect\":\"auto\",\"active_multi\":null,\"active_scroll\":\"auto\",\"active_tap\":\"auto\",\"tools\":[{\"id\":\"6010\"},{\"id\":\"6011\"},{\"id\":\"6012\"},{\"id\":\"6013\"},{\"id\":\"6014\"},{\"id\":\"6015\"},{\"id\":\"6030\"}]},\"id\":\"6017\",\"type\":\"Toolbar\"},{\"attributes\":{\"data_source\":{\"id\":\"5990\"},\"glyph\":{\"id\":\"6025\"},\"hover_glyph\":{\"id\":\"6027\"},\"muted_glyph\":null,\"nonselection_glyph\":{\"id\":\"6026\"},\"selection_glyph\":null,\"view\":{\"id\":\"6029\"}},\"id\":\"6028\",\"type\":\"GlyphRenderer\"},{\"attributes\":{\"source\":{\"id\":\"5990\"}},\"id\":\"6029\",\"type\":\"CDSView\"},{\"attributes\":{\"text\":\"OD\"},\"id\":\"5992\",\"type\":\"Title\"},{\"attributes\":{\"bottom\":{\"value\":0},\"fill_color\":{\"value\":\"blue\"},\"left\":{\"field\":\"left\"},\"right\":{\"field\":\"right\"},\"top\":{\"field\":\"OD\"}},\"id\":\"6027\",\"type\":\"Quad\"},{\"attributes\":{},\"id\":\"6010\",\"type\":\"PanTool\"},{\"attributes\":{},\"id\":\"6013\",\"type\":\"SaveTool\"},{\"attributes\":{\"bottom_units\":\"screen\",\"fill_alpha\":0.5,\"fill_color\":\"lightgrey\",\"left_units\":\"screen\",\"level\":\"overlay\",\"line_alpha\":1.0,\"line_color\":\"black\",\"line_dash\":[4,4],\"line_width\":2,\"right_units\":\"screen\",\"top_units\":\"screen\"},\"id\":\"6016\",\"type\":\"BoxAnnotation\"},{\"attributes\":{},\"id\":\"6233\",\"type\":\"BasicTickFormatter\"},{\"attributes\":{},\"id\":\"6007\",\"type\":\"BasicTicker\"},{\"attributes\":{},\"id\":\"6238\",\"type\":\"Selection\"},{\"attributes\":{},\"id\":\"6237\",\"type\":\"UnionRenderers\"},{\"attributes\":{},\"id\":\"6000\",\"type\":\"LinearScale\"}],\"root_ids\":[\"5991\"]},\"title\":\"Bokeh Application\",\"version\":\"2.1.1\"}};\n",
              "  var render_items = [{\"docid\":\"c3c79ef2-ff46-47ad-8d7a-86639e66182a\",\"root_ids\":[\"5991\"],\"roots\":{\"5991\":\"2bf39339-3695-42c4-a39a-0e2fb437f12f\"}}];\n",
              "  root.Bokeh.embed.embed_items_notebook(docs_json, render_items);\n",
              "\n",
              "  }\n",
              "  if (root.Bokeh !== undefined) {\n",
              "    embed_document(root);\n",
              "  } else {\n",
              "    var attempts = 0;\n",
              "    var timer = setInterval(function(root) {\n",
              "      if (root.Bokeh !== undefined) {\n",
              "        clearInterval(timer);\n",
              "        embed_document(root);\n",
              "      } else {\n",
              "        attempts++;\n",
              "        if (attempts > 100) {\n",
              "          clearInterval(timer);\n",
              "          console.log(\"Bokeh: ERROR: Unable to run BokehJS code because BokehJS library is missing\");\n",
              "        }\n",
              "      }\n",
              "    }, 10, root)\n",
              "  }\n",
              "})(window);"
            ],
            "application/vnd.bokehjs_exec.v0+json": ""
          },
          "metadata": {
            "tags": [],
            "application/vnd.bokehjs_exec.v0+json": {
              "id": "5991"
            }
          }
        },
        {
          "output_type": "display_data",
          "data": {
            "text/html": [
              "\n",
              "\n",
              "\n",
              "\n",
              "\n",
              "\n",
              "  <div class=\"bk-root\" id=\"34d80a0e-2a56-4120-90f8-a6e2cd43af55\" data-root-id=\"6289\"></div>\n"
            ]
          },
          "metadata": {
            "tags": []
          }
        },
        {
          "output_type": "display_data",
          "data": {
            "application/javascript": [
              "(function(root) {\n",
              "  function embed_document(root) {\n",
              "    \n",
              "  var docs_json = {\"54bc6e09-b03a-40fa-941c-ed71f087bf50\":{\"roots\":{\"references\":[{\"attributes\":{\"below\":[{\"id\":\"6300\"}],\"center\":[{\"id\":\"6303\"},{\"id\":\"6307\"}],\"left\":[{\"id\":\"6304\"}],\"plot_height\":400,\"plot_width\":400,\"renderers\":[{\"id\":\"6326\"}],\"title\":{\"id\":\"6290\"},\"toolbar\":{\"id\":\"6315\"},\"x_range\":{\"id\":\"6292\"},\"x_scale\":{\"id\":\"6296\"},\"y_range\":{\"id\":\"6294\"},\"y_scale\":{\"id\":\"6298\"}},\"id\":\"6289\",\"subtype\":\"Figure\",\"type\":\"Plot\"},{\"attributes\":{\"formatter\":{\"id\":\"6541\"},\"ticker\":{\"id\":\"6301\"}},\"id\":\"6300\",\"type\":\"LinearAxis\"},{\"attributes\":{\"callback\":null,\"tooltips\":[[\"Interval\",\"@tofrom\"],[\"Count\",\"@Proline\"]]},\"id\":\"6328\",\"type\":\"HoverTool\"},{\"attributes\":{\"bottom_units\":\"screen\",\"fill_alpha\":0.5,\"fill_color\":\"lightgrey\",\"left_units\":\"screen\",\"level\":\"overlay\",\"line_alpha\":1.0,\"line_color\":\"black\",\"line_dash\":[4,4],\"line_width\":2,\"right_units\":\"screen\",\"top_units\":\"screen\"},\"id\":\"6314\",\"type\":\"BoxAnnotation\"},{\"attributes\":{\"active_drag\":\"auto\",\"active_inspect\":\"auto\",\"active_multi\":null,\"active_scroll\":\"auto\",\"active_tap\":\"auto\",\"tools\":[{\"id\":\"6308\"},{\"id\":\"6309\"},{\"id\":\"6310\"},{\"id\":\"6311\"},{\"id\":\"6312\"},{\"id\":\"6313\"},{\"id\":\"6328\"}]},\"id\":\"6315\",\"type\":\"Toolbar\"},{\"attributes\":{},\"id\":\"6298\",\"type\":\"LinearScale\"},{\"attributes\":{},\"id\":\"6308\",\"type\":\"PanTool\"},{\"attributes\":{\"bottom\":{\"value\":0},\"fill_alpha\":{\"value\":0.7},\"fill_color\":{\"value\":\"red\"},\"left\":{\"field\":\"left\"},\"right\":{\"field\":\"right\"},\"top\":{\"field\":\"Proline\"}},\"id\":\"6323\",\"type\":\"Quad\"},{\"attributes\":{},\"id\":\"6309\",\"type\":\"WheelZoomTool\"},{\"attributes\":{\"data\":{\"Proline\":[22,37,41,19,13,19,8,13,4,2],\"index\":[0,1,2,3,4,5,6,7,8,9],\"left\":{\"__ndarray__\":\"odeFuhjk979bHUcsX7/wvyrGEDxLNeO/eEZNfmCvw7/cRdT5NbvSP3qXZxkOp+c/A4bymkD48j9JQDEp+hz6P0j9t9vZoABAbFrXojYzBEA=\",\"dtype\":\"float64\",\"order\":\"little\",\"shape\":[10]},\"right\":{\"__ndarray__\":\"Wx1HLF+/8L8qxhA8SzXjv3hGTX5gr8O/3EXU+TW70j96l2cZDqfnPwOG8ppA+PI/SUAxKfoc+j9I/bfb2aAAQGxa16I2MwRAjrf2aZPFB0A=\",\"dtype\":\"float64\",\"order\":\"little\",\"shape\":[10]},\"tofrom\":[\"-1.493187645535251 to -1.0467216233826864\",\"-1.0467216233826864 to -0.6002556012301217\",\"-0.6002556012301217 to -0.15378957907755697\",\"-0.15378957907755697 to 0.29267644307500773\",\"0.29267644307500773 to 0.7391424652275724\",\"0.7391424652275724 to 1.1856084873801371\",\"1.1856084873801371 to 1.6320745095327018\",\"1.6320745095327018 to 2.0785405316852668\",\"2.0785405316852668 to 2.525006553837832\",\"2.525006553837832 to 2.971472575990396\"]},\"selected\":{\"id\":\"6544\"},\"selection_policy\":{\"id\":\"6543\"}},\"id\":\"6288\",\"type\":\"ColumnDataSource\"},{\"attributes\":{\"source\":{\"id\":\"6288\"}},\"id\":\"6327\",\"type\":\"CDSView\"},{\"attributes\":{\"overlay\":{\"id\":\"6314\"}},\"id\":\"6310\",\"type\":\"BoxZoomTool\"},{\"attributes\":{\"bottom\":{\"value\":0},\"fill_color\":{\"value\":\"blue\"},\"left\":{\"field\":\"left\"},\"right\":{\"field\":\"right\"},\"top\":{\"field\":\"Proline\"}},\"id\":\"6325\",\"type\":\"Quad\"},{\"attributes\":{},\"id\":\"6311\",\"type\":\"SaveTool\"},{\"attributes\":{},\"id\":\"6312\",\"type\":\"ResetTool\"},{\"attributes\":{},\"id\":\"6539\",\"type\":\"BasicTickFormatter\"},{\"attributes\":{\"data_source\":{\"id\":\"6288\"},\"glyph\":{\"id\":\"6323\"},\"hover_glyph\":{\"id\":\"6325\"},\"muted_glyph\":null,\"nonselection_glyph\":{\"id\":\"6324\"},\"selection_glyph\":null,\"view\":{\"id\":\"6327\"}},\"id\":\"6326\",\"type\":\"GlyphRenderer\"},{\"attributes\":{\"axis\":{\"id\":\"6304\"},\"dimension\":1,\"ticker\":null},\"id\":\"6307\",\"type\":\"Grid\"},{\"attributes\":{},\"id\":\"6313\",\"type\":\"HelpTool\"},{\"attributes\":{},\"id\":\"6541\",\"type\":\"BasicTickFormatter\"},{\"attributes\":{},\"id\":\"6544\",\"type\":\"Selection\"},{\"attributes\":{},\"id\":\"6543\",\"type\":\"UnionRenderers\"},{\"attributes\":{},\"id\":\"6292\",\"type\":\"DataRange1d\"},{\"attributes\":{},\"id\":\"6296\",\"type\":\"LinearScale\"},{\"attributes\":{},\"id\":\"6301\",\"type\":\"BasicTicker\"},{\"attributes\":{},\"id\":\"6294\",\"type\":\"DataRange1d\"},{\"attributes\":{\"axis\":{\"id\":\"6300\"},\"ticker\":null},\"id\":\"6303\",\"type\":\"Grid\"},{\"attributes\":{\"formatter\":{\"id\":\"6539\"},\"ticker\":{\"id\":\"6305\"}},\"id\":\"6304\",\"type\":\"LinearAxis\"},{\"attributes\":{},\"id\":\"6305\",\"type\":\"BasicTicker\"},{\"attributes\":{\"bottom\":{\"value\":0},\"fill_alpha\":{\"value\":0.1},\"fill_color\":{\"value\":\"red\"},\"left\":{\"field\":\"left\"},\"line_alpha\":{\"value\":0.1},\"right\":{\"field\":\"right\"},\"top\":{\"field\":\"Proline\"}},\"id\":\"6324\",\"type\":\"Quad\"},{\"attributes\":{\"text\":\"Proline\"},\"id\":\"6290\",\"type\":\"Title\"}],\"root_ids\":[\"6289\"]},\"title\":\"Bokeh Application\",\"version\":\"2.1.1\"}};\n",
              "  var render_items = [{\"docid\":\"54bc6e09-b03a-40fa-941c-ed71f087bf50\",\"root_ids\":[\"6289\"],\"roots\":{\"6289\":\"34d80a0e-2a56-4120-90f8-a6e2cd43af55\"}}];\n",
              "  root.Bokeh.embed.embed_items_notebook(docs_json, render_items);\n",
              "\n",
              "  }\n",
              "  if (root.Bokeh !== undefined) {\n",
              "    embed_document(root);\n",
              "  } else {\n",
              "    var attempts = 0;\n",
              "    var timer = setInterval(function(root) {\n",
              "      if (root.Bokeh !== undefined) {\n",
              "        clearInterval(timer);\n",
              "        embed_document(root);\n",
              "      } else {\n",
              "        attempts++;\n",
              "        if (attempts > 100) {\n",
              "          clearInterval(timer);\n",
              "          console.log(\"Bokeh: ERROR: Unable to run BokehJS code because BokehJS library is missing\");\n",
              "        }\n",
              "      }\n",
              "    }, 10, root)\n",
              "  }\n",
              "})(window);"
            ],
            "application/vnd.bokehjs_exec.v0+json": ""
          },
          "metadata": {
            "tags": [],
            "application/vnd.bokehjs_exec.v0+json": {
              "id": "6289"
            }
          }
        }
      ]
    },
    {
      "cell_type": "markdown",
      "metadata": {
        "id": "2O0-byxQkqpY"
      },
      "source": [
        " Do the same with Iris dataset."
      ]
    },
    {
      "cell_type": "code",
      "metadata": {
        "colab": {
          "base_uri": "https://localhost:8080/"
        },
        "id": "_PVe4v7Yyt6F",
        "outputId": "b403d058-f9c8-46d3-a1ff-4c89db9be600"
      },
      "source": [
        "iris_data=pd.read_csv('/content/gdrive/MyDrive/iris.csv')\r\n",
        "print(iris_data)"
      ],
      "execution_count": 13,
      "outputs": [
        {
          "output_type": "stream",
          "text": [
            "     sepal_length  sepal_width  petal_length  petal_width    species\n",
            "0             5.1          3.5           1.4          0.2     setosa\n",
            "1             4.9          3.0           1.4          0.2     setosa\n",
            "2             4.7          3.2           1.3          0.2     setosa\n",
            "3             4.6          3.1           1.5          0.2     setosa\n",
            "4             5.0          3.6           1.4          0.2     setosa\n",
            "..            ...          ...           ...          ...        ...\n",
            "145           6.7          3.0           5.2          2.3  virginica\n",
            "146           6.3          2.5           5.0          1.9  virginica\n",
            "147           6.5          3.0           5.2          2.0  virginica\n",
            "148           6.2          3.4           5.4          2.3  virginica\n",
            "149           5.9          3.0           5.1          1.8  virginica\n",
            "\n",
            "[150 rows x 5 columns]\n"
          ],
          "name": "stdout"
        }
      ]
    },
    {
      "cell_type": "code",
      "metadata": {
        "colab": {
          "base_uri": "https://localhost:8080/"
        },
        "id": "-d8RBicZyuF9",
        "outputId": "eb71ad8c-166e-4493-c634-71d8d290d1d0"
      },
      "source": [
        "Mean_result1=list()\r\n",
        "for i in range(0,iris_data.shape[1]-1):\r\n",
        "  column=iris_data.columns[i]\r\n",
        "  Mean_result1.append(iris_data[column].mean())\r\n",
        "print(Mean_result1)\r\n"
      ],
      "execution_count": 14,
      "outputs": [
        {
          "output_type": "stream",
          "text": [
            "[5.843333333333335, 3.0540000000000007, 3.7586666666666693, 1.1986666666666672]\n"
          ],
          "name": "stdout"
        }
      ]
    },
    {
      "cell_type": "code",
      "metadata": {
        "colab": {
          "base_uri": "https://localhost:8080/"
        },
        "id": "b4-lShArlZhs",
        "outputId": "692f53fa-af2e-4888-fc8b-e9a4f88197ff"
      },
      "source": [
        "SD_result1=list()\r\n",
        "for i in range(0,iris_data.shape[1]-1):\r\n",
        "  column=iris_data.columns[i]\r\n",
        "  SD_result1.append(iris_data[column].std())\r\n",
        "print(SD_result1)"
      ],
      "execution_count": 15,
      "outputs": [
        {
          "output_type": "stream",
          "text": [
            "[0.8280661279778629, 0.4335943113621737, 1.7644204199522617, 0.7631607417008414]\n"
          ],
          "name": "stdout"
        }
      ]
    },
    {
      "cell_type": "code",
      "metadata": {
        "id": "79Qr4qaFlZht",
        "colab": {
          "base_uri": "https://localhost:8080/",
          "height": 1000
        },
        "outputId": "f04aad28-d8f0-42b9-a2d6-cb920e3a6beb"
      },
      "source": [
        "from matplotlib import pyplot as plt\r\n",
        "plt.figure(figsize = [20, 20]) \r\n",
        "for i in range(0,iris_data.shape[1]-1):\r\n",
        "  column=iris_data.columns[i]\r\n",
        "  plt.subplot(4, 1, i+1)\r\n",
        "  plt.title(column)\r\n",
        "  plt.hist(iris_data[column])"
      ],
      "execution_count": 27,
      "outputs": [
        {
          "output_type": "display_data",
          "data": {
            "image/png": "[encoded data removed]",
            "text/plain": [
              "<Figure size 1440x1440 with 4 Axes>"
            ]
          },
          "metadata": {
            "tags": [],
            "needs_background": "light"
          }
        }
      ]
    },
    {
      "cell_type": "code",
      "metadata": {
        "colab": {
          "base_uri": "https://localhost:8080/",
          "height": 1000
        },
        "id": "YAp7f3sxf23J",
        "outputId": "d9beddfb-1fad-4b11-e4ba-798ef0d6e668"
      },
      "source": [
        "for i in range(0,iris_data.shape[1]-1):\r\n",
        "  column=iris_data.columns[i]\r\n",
        "  plot_hist(iris_data,column)"
      ],
      "execution_count": 17,
      "outputs": [
        {
          "output_type": "display_data",
          "data": {
            "application/javascript": [
              "\n",
              "(function(root) {\n",
              "  function now() {\n",
              "    return new Date();\n",
              "  }\n",
              "\n",
              "  var force = true;\n",
              "\n",
              "  if (typeof root._bokeh_onload_callbacks === \"undefined\" || force === true) {\n",
              "    root._bokeh_onload_callbacks = [];\n",
              "    root._bokeh_is_loading = undefined;\n",
              "  }\n",
              "\n",
              "  var JS_MIME_TYPE = 'application/javascript';\n",
              "  var HTML_MIME_TYPE = 'text/html';\n",
              "  var EXEC_MIME_TYPE = 'application/vnd.bokehjs_exec.v0+json';\n",
              "  var CLASS_NAME = 'output_bokeh rendered_html';\n",
              "\n",
              "  /**\n",
              "   * Render data to the DOM node\n",
              "   */\n",
              "  function render(props, node) {\n",
              "    var script = document.createElement(\"script\");\n",
              "    node.appendChild(script);\n",
              "  }\n",
              "\n",
              "  /**\n",
              "   * Handle when an output is cleared or removed\n",
              "   */\n",
              "  function handleClearOutput(event, handle) {\n",
              "    var cell = handle.cell;\n",
              "\n",
              "    var id = cell.output_area._bokeh_element_id;\n",
              "    var server_id = cell.output_area._bokeh_server_id;\n",
              "    // Clean up Bokeh references\n",
              "    if (id != null && id in Bokeh.index) {\n",
              "      Bokeh.index[id].model.document.clear();\n",
              "      delete Bokeh.index[id];\n",
              "    }\n",
              "\n",
              "    if (server_id !== undefined) {\n",
              "      // Clean up Bokeh references\n",
              "      var cmd = \"from bokeh.io.state import curstate; print(curstate().uuid_to_server['\" + server_id + \"'].get_sessions()[0].document.roots[0]._id)\";\n",
              "      cell.notebook.kernel.execute(cmd, {\n",
              "        iopub: {\n",
              "          output: function(msg) {\n",
              "            var id = msg.content.text.trim();\n",
              "            if (id in Bokeh.index) {\n",
              "              Bokeh.index[id].model.document.clear();\n",
              "              delete Bokeh.index[id];\n",
              "            }\n",
              "          }\n",
              "        }\n",
              "      });\n",
              "      // Destroy server and session\n",
              "      var cmd = \"import bokeh.io.notebook as ion; ion.destroy_server('\" + server_id + \"')\";\n",
              "      cell.notebook.kernel.execute(cmd);\n",
              "    }\n",
              "  }\n",
              "\n",
              "  /**\n",
              "   * Handle when a new output is added\n",
              "   */\n",
              "  function handleAddOutput(event, handle) {\n",
              "    var output_area = handle.output_area;\n",
              "    var output = handle.output;\n",
              "\n",
              "    // limit handleAddOutput to display_data with EXEC_MIME_TYPE content only\n",
              "    if ((output.output_type != \"display_data\") || (!output.data.hasOwnProperty(EXEC_MIME_TYPE))) {\n",
              "      return\n",
              "    }\n",
              "\n",
              "    var toinsert = output_area.element.find(\".\" + CLASS_NAME.split(' ')[0]);\n",
              "\n",
              "    if (output.metadata[EXEC_MIME_TYPE][\"id\"] !== undefined) {\n",
              "      toinsert[toinsert.length - 1].firstChild.textContent = output.data[JS_MIME_TYPE];\n",
              "      // store reference to embed id on output_area\n",
              "      output_area._bokeh_element_id = output.metadata[EXEC_MIME_TYPE][\"id\"];\n",
              "    }\n",
              "    if (output.metadata[EXEC_MIME_TYPE][\"server_id\"] !== undefined) {\n",
              "      var bk_div = document.createElement(\"div\");\n",
              "      bk_div.innerHTML = output.data[HTML_MIME_TYPE];\n",
              "      var script_attrs = bk_div.children[0].attributes;\n",
              "      for (var i = 0; i < script_attrs.length; i++) {\n",
              "        toinsert[toinsert.length - 1].firstChild.setAttribute(script_attrs[i].name, script_attrs[i].value);\n",
              "        toinsert[toinsert.length - 1].firstChild.textContent = bk_div.children[0].textContent\n",
              "      }\n",
              "      // store reference to server id on output_area\n",
              "      output_area._bokeh_server_id = output.metadata[EXEC_MIME_TYPE][\"server_id\"];\n",
              "    }\n",
              "  }\n",
              "\n",
              "  function register_renderer(events, OutputArea) {\n",
              "\n",
              "    function append_mime(data, metadata, element) {\n",
              "      // create a DOM node to render to\n",
              "      var toinsert = this.create_output_subarea(\n",
              "        metadata,\n",
              "        CLASS_NAME,\n",
              "        EXEC_MIME_TYPE\n",
              "      );\n",
              "      this.keyboard_manager.register_events(toinsert);\n",
              "      // Render to node\n",
              "      var props = {data: data, metadata: metadata[EXEC_MIME_TYPE]};\n",
              "      render(props, toinsert[toinsert.length - 1]);\n",
              "      element.append(toinsert);\n",
              "      return toinsert\n",
              "    }\n",
              "\n",
              "    /* Handle when an output is cleared or removed */\n",
              "    events.on('clear_output.CodeCell', handleClearOutput);\n",
              "    events.on('delete.Cell', handleClearOutput);\n",
              "\n",
              "    /* Handle when a new output is added */\n",
              "    events.on('output_added.OutputArea', handleAddOutput);\n",
              "\n",
              "    /**\n",
              "     * Register the mime type and append_mime function with output_area\n",
              "     */\n",
              "    OutputArea.prototype.register_mime_type(EXEC_MIME_TYPE, append_mime, {\n",
              "      /* Is output safe? */\n",
              "      safe: true,\n",
              "      /* Index of renderer in `output_area.display_order` */\n",
              "      index: 0\n",
              "    });\n",
              "  }\n",
              "\n",
              "  // register the mime type if in Jupyter Notebook environment and previously unregistered\n",
              "  if (root.Jupyter !== undefined) {\n",
              "    var events = require('base/js/events');\n",
              "    var OutputArea = require('notebook/js/outputarea').OutputArea;\n",
              "\n",
              "    if (OutputArea.prototype.mime_types().indexOf(EXEC_MIME_TYPE) == -1) {\n",
              "      register_renderer(events, OutputArea);\n",
              "    }\n",
              "  }\n",
              "\n",
              "  \n",
              "  if (typeof (root._bokeh_timeout) === \"undefined\" || force === true) {\n",
              "    root._bokeh_timeout = Date.now() + 5000;\n",
              "    root._bokeh_failed_load = false;\n",
              "  }\n",
              "\n",
              "  var NB_LOAD_WARNING = {'data': {'text/html':\n",
              "     \"<div style='background-color: #fdd'>\\n\"+\n",
              "     \"<p>\\n\"+\n",
              "     \"BokehJS does not appear to have successfully loaded. If loading BokehJS from CDN, this \\n\"+\n",
              "     \"may be due to a slow or bad network connection. Possible fixes:\\n\"+\n",
              "     \"</p>\\n\"+\n",
              "     \"<ul>\\n\"+\n",
              "     \"<li>re-rerun `output_notebook()` to attempt to load from CDN again, or</li>\\n\"+\n",
              "     \"<li>use INLINE resources instead, as so:</li>\\n\"+\n",
              "     \"</ul>\\n\"+\n",
              "     \"<code>\\n\"+\n",
              "     \"from bokeh.resources import INLINE\\n\"+\n",
              "     \"output_notebook(resources=INLINE)\\n\"+\n",
              "     \"</code>\\n\"+\n",
              "     \"</div>\"}};\n",
              "\n",
              "  function display_loaded() {\n",
              "    var el = document.getElementById(null);\n",
              "    if (el != null) {\n",
              "      el.textContent = \"BokehJS is loading...\";\n",
              "    }\n",
              "    if (root.Bokeh !== undefined) {\n",
              "      if (el != null) {\n",
              "        el.textContent = \"BokehJS \" + root.Bokeh.version + \" successfully loaded.\";\n",
              "      }\n",
              "    } else if (Date.now() < root._bokeh_timeout) {\n",
              "      setTimeout(display_loaded, 100)\n",
              "    }\n",
              "  }\n",
              "\n",
              "\n",
              "  function run_callbacks() {\n",
              "    try {\n",
              "      root._bokeh_onload_callbacks.forEach(function(callback) {\n",
              "        if (callback != null)\n",
              "          callback();\n",
              "      });\n",
              "    } finally {\n",
              "      delete root._bokeh_onload_callbacks\n",
              "    }\n",
              "    console.debug(\"Bokeh: all callbacks have finished\");\n",
              "  }\n",
              "\n",
              "  function load_libs(css_urls, js_urls, callback) {\n",
              "    if (css_urls == null) css_urls = [];\n",
              "    if (js_urls == null) js_urls = [];\n",
              "\n",
              "    root._bokeh_onload_callbacks.push(callback);\n",
              "    if (root._bokeh_is_loading > 0) {\n",
              "      console.debug(\"Bokeh: BokehJS is being loaded, scheduling callback at\", now());\n",
              "      return null;\n",
              "    }\n",
              "    if (js_urls == null || js_urls.length === 0) {\n",
              "      run_callbacks();\n",
              "      return null;\n",
              "    }\n",
              "    console.debug(\"Bokeh: BokehJS not loaded, scheduling load and callback at\", now());\n",
              "    root._bokeh_is_loading = css_urls.length + js_urls.length;\n",
              "\n",
              "    function on_load() {\n",
              "      root._bokeh_is_loading--;\n",
              "      if (root._bokeh_is_loading === 0) {\n",
              "        console.debug(\"Bokeh: all BokehJS libraries/stylesheets loaded\");\n",
              "        run_callbacks()\n",
              "      }\n",
              "    }\n",
              "\n",
              "    function on_error() {\n",
              "      console.error(\"failed to load \" + url);\n",
              "    }\n",
              "\n",
              "    for (var i = 0; i < css_urls.length; i++) {\n",
              "      var url = css_urls[i];\n",
              "      const element = document.createElement(\"link\");\n",
              "      element.onload = on_load;\n",
              "      element.onerror = on_error;\n",
              "      element.rel = \"stylesheet\";\n",
              "      element.type = \"text/css\";\n",
              "      element.href = url;\n",
              "      console.debug(\"Bokeh: injecting link tag for BokehJS stylesheet: \", url);\n",
              "      document.body.appendChild(element);\n",
              "    }\n",
              "\n",
              "    const hashes = {\"https://cdn.bokeh.org/bokeh/release/bokeh-2.1.1.min.js\": \"kLr4fYcqcSpbuI95brIH3vnnYCquzzSxHPU6XGQCIkQRGJwhg0StNbj1eegrHs12\", \"https://cdn.bokeh.org/bokeh/release/bokeh-widgets-2.1.1.min.js\": \"xIGPmVtaOm+z0BqfSOMn4lOR6ciex448GIKG4eE61LsAvmGj48XcMQZtKcE/UXZe\", \"https://cdn.bokeh.org/bokeh/release/bokeh-tables-2.1.1.min.js\": \"Dc9u1wF/0zApGIWoBbH77iWEHtdmkuYWG839Uzmv8y8yBLXebjO9ZnERsde5Ln/P\", \"https://cdn.bokeh.org/bokeh/release/bokeh-gl-2.1.1.min.js\": \"cT9JaBz7GiRXdENrJLZNSC6eMNF3nh3fa5fTF51Svp+ukxPdwcU5kGXGPBgDCa2j\"};\n",
              "\n",
              "    for (var i = 0; i < js_urls.length; i++) {\n",
              "      var url = js_urls[i];\n",
              "      var element = document.createElement('script');\n",
              "      element.onload = on_load;\n",
              "      element.onerror = on_error;\n",
              "      element.async = false;\n",
              "      element.src = url;\n",
              "      if (url in hashes) {\n",
              "        element.crossOrigin = \"anonymous\";\n",
              "        element.integrity = \"sha384-\" + hashes[url];\n",
              "      }\n",
              "      console.debug(\"Bokeh: injecting script tag for BokehJS library: \", url);\n",
              "      document.head.appendChild(element);\n",
              "    }\n",
              "  };\n",
              "\n",
              "  function inject_raw_css(css) {\n",
              "    const element = document.createElement(\"style\");\n",
              "    element.appendChild(document.createTextNode(css));\n",
              "    document.body.appendChild(element);\n",
              "  }\n",
              "\n",
              "  \n",
              "  var js_urls = [\"https://cdn.bokeh.org/bokeh/release/bokeh-2.1.1.min.js\", \"https://cdn.bokeh.org/bokeh/release/bokeh-widgets-2.1.1.min.js\", \"https://cdn.bokeh.org/bokeh/release/bokeh-tables-2.1.1.min.js\", \"https://cdn.bokeh.org/bokeh/release/bokeh-gl-2.1.1.min.js\"];\n",
              "  var css_urls = [];\n",
              "  \n",
              "\n",
              "  var inline_js = [\n",
              "    function(Bokeh) {\n",
              "      Bokeh.set_log_level(\"info\");\n",
              "    },\n",
              "    function(Bokeh) {\n",
              "    \n",
              "    \n",
              "    }\n",
              "  ];\n",
              "\n",
              "  function run_inline_js() {\n",
              "    \n",
              "    if (root.Bokeh !== undefined || force === true) {\n",
              "      \n",
              "    for (var i = 0; i < inline_js.length; i++) {\n",
              "      inline_js[i].call(root, root.Bokeh);\n",
              "    }\n",
              "    } else if (Date.now() < root._bokeh_timeout) {\n",
              "      setTimeout(run_inline_js, 100);\n",
              "    } else if (!root._bokeh_failed_load) {\n",
              "      console.log(\"Bokeh: BokehJS failed to load within specified timeout.\");\n",
              "      root._bokeh_failed_load = true;\n",
              "    } else if (force !== true) {\n",
              "      var cell = $(document.getElementById(null)).parents('.cell').data().cell;\n",
              "      cell.output_area.append_execute_result(NB_LOAD_WARNING)\n",
              "    }\n",
              "\n",
              "  }\n",
              "\n",
              "  if (root._bokeh_is_loading === 0) {\n",
              "    console.debug(\"Bokeh: BokehJS loaded, going straight to plotting\");\n",
              "    run_inline_js();\n",
              "  } else {\n",
              "    load_libs(css_urls, js_urls, function() {\n",
              "      console.debug(\"Bokeh: BokehJS plotting callback run at\", now());\n",
              "      run_inline_js();\n",
              "    });\n",
              "  }\n",
              "}(window));"
            ],
            "application/vnd.bokehjs_load.v0+json": "\n(function(root) {\n  function now() {\n    return new Date();\n  }\n\n  var force = true;\n\n  if (typeof root._bokeh_onload_callbacks === \"undefined\" || force === true) {\n    root._bokeh_onload_callbacks = [];\n    root._bokeh_is_loading = undefined;\n  }\n\n  \n\n  \n  if (typeof (root._bokeh_timeout) === \"undefined\" || force === true) {\n    root._bokeh_timeout = Date.now() + 5000;\n    root._bokeh_failed_load = false;\n  }\n\n  var NB_LOAD_WARNING = {'data': {'text/html':\n     \"<div style='background-color: #fdd'>\\n\"+\n     \"<p>\\n\"+\n     \"BokehJS does not appear to have successfully loaded. If loading BokehJS from CDN, this \\n\"+\n     \"may be due to a slow or bad network connection. Possible fixes:\\n\"+\n     \"</p>\\n\"+\n     \"<ul>\\n\"+\n     \"<li>re-rerun `output_notebook()` to attempt to load from CDN again, or</li>\\n\"+\n     \"<li>use INLINE resources instead, as so:</li>\\n\"+\n     \"</ul>\\n\"+\n     \"<code>\\n\"+\n     \"from bokeh.resources import INLINE\\n\"+\n     \"output_notebook(resources=INLINE)\\n\"+\n     \"</code>\\n\"+\n     \"</div>\"}};\n\n  function display_loaded() {\n    var el = document.getElementById(null);\n    if (el != null) {\n      el.textContent = \"BokehJS is loading...\";\n    }\n    if (root.Bokeh !== undefined) {\n      if (el != null) {\n        el.textContent = \"BokehJS \" + root.Bokeh.version + \" successfully loaded.\";\n      }\n    } else if (Date.now() < root._bokeh_timeout) {\n      setTimeout(display_loaded, 100)\n    }\n  }\n\n\n  function run_callbacks() {\n    try {\n      root._bokeh_onload_callbacks.forEach(function(callback) {\n        if (callback != null)\n          callback();\n      });\n    } finally {\n      delete root._bokeh_onload_callbacks\n    }\n    console.debug(\"Bokeh: all callbacks have finished\");\n  }\n\n  function load_libs(css_urls, js_urls, callback) {\n    if (css_urls == null) css_urls = [];\n    if (js_urls == null) js_urls = [];\n\n    root._bokeh_onload_callbacks.push(callback);\n    if (root._bokeh_is_loading > 0) {\n      console.debug(\"Bokeh: BokehJS is being loaded, scheduling callback at\", now());\n      return null;\n    }\n    if (js_urls == null || js_urls.length === 0) {\n      run_callbacks();\n      return null;\n    }\n    console.debug(\"Bokeh: BokehJS not loaded, scheduling load and callback at\", now());\n    root._bokeh_is_loading = css_urls.length + js_urls.length;\n\n    function on_load() {\n      root._bokeh_is_loading--;\n      if (root._bokeh_is_loading === 0) {\n        console.debug(\"Bokeh: all BokehJS libraries/stylesheets loaded\");\n        run_callbacks()\n      }\n    }\n\n    function on_error() {\n      console.error(\"failed to load \" + url);\n    }\n\n    for (var i = 0; i < css_urls.length; i++) {\n      var url = css_urls[i];\n      const element = document.createElement(\"link\");\n      element.onload = on_load;\n      element.onerror = on_error;\n      element.rel = \"stylesheet\";\n      element.type = \"text/css\";\n      element.href = url;\n      console.debug(\"Bokeh: injecting link tag for BokehJS stylesheet: \", url);\n      document.body.appendChild(element);\n    }\n\n    const hashes = {\"https://cdn.bokeh.org/bokeh/release/bokeh-2.1.1.min.js\": \"kLr4fYcqcSpbuI95brIH3vnnYCquzzSxHPU6XGQCIkQRGJwhg0StNbj1eegrHs12\", \"https://cdn.bokeh.org/bokeh/release/bokeh-widgets-2.1.1.min.js\": \"xIGPmVtaOm+z0BqfSOMn4lOR6ciex448GIKG4eE61LsAvmGj48XcMQZtKcE/UXZe\", \"https://cdn.bokeh.org/bokeh/release/bokeh-tables-2.1.1.min.js\": \"Dc9u1wF/0zApGIWoBbH77iWEHtdmkuYWG839Uzmv8y8yBLXebjO9ZnERsde5Ln/P\", \"https://cdn.bokeh.org/bokeh/release/bokeh-gl-2.1.1.min.js\": \"cT9JaBz7GiRXdENrJLZNSC6eMNF3nh3fa5fTF51Svp+ukxPdwcU5kGXGPBgDCa2j\"};\n\n    for (var i = 0; i < js_urls.length; i++) {\n      var url = js_urls[i];\n      var element = document.createElement('script');\n      element.onload = on_load;\n      element.onerror = on_error;\n      element.async = false;\n      element.src = url;\n      if (url in hashes) {\n        element.crossOrigin = \"anonymous\";\n        element.integrity = \"sha384-\" + hashes[url];\n      }\n      console.debug(\"Bokeh: injecting script tag for BokehJS library: \", url);\n      document.head.appendChild(element);\n    }\n  };\n\n  function inject_raw_css(css) {\n    const element = document.createElement(\"style\");\n    element.appendChild(document.createTextNode(css));\n    document.body.appendChild(element);\n  }\n\n  \n  var js_urls = [\"https://cdn.bokeh.org/bokeh/release/bokeh-2.1.1.min.js\", \"https://cdn.bokeh.org/bokeh/release/bokeh-widgets-2.1.1.min.js\", \"https://cdn.bokeh.org/bokeh/release/bokeh-tables-2.1.1.min.js\", \"https://cdn.bokeh.org/bokeh/release/bokeh-gl-2.1.1.min.js\"];\n  var css_urls = [];\n  \n\n  var inline_js = [\n    function(Bokeh) {\n      Bokeh.set_log_level(\"info\");\n    },\n    function(Bokeh) {\n    \n    \n    }\n  ];\n\n  function run_inline_js() {\n    \n    if (root.Bokeh !== undefined || force === true) {\n      \n    for (var i = 0; i < inline_js.length; i++) {\n      inline_js[i].call(root, root.Bokeh);\n    }\n    } else if (Date.now() < root._bokeh_timeout) {\n      setTimeout(run_inline_js, 100);\n    } else if (!root._bokeh_failed_load) {\n      console.log(\"Bokeh: BokehJS failed to load within specified timeout.\");\n      root._bokeh_failed_load = true;\n    } else if (force !== true) {\n      var cell = $(document.getElementById(null)).parents('.cell').data().cell;\n      cell.output_area.append_execute_result(NB_LOAD_WARNING)\n    }\n\n  }\n\n  if (root._bokeh_is_loading === 0) {\n    console.debug(\"Bokeh: BokehJS loaded, going straight to plotting\");\n    run_inline_js();\n  } else {\n    load_libs(css_urls, js_urls, function() {\n      console.debug(\"Bokeh: BokehJS plotting callback run at\", now());\n      run_inline_js();\n    });\n  }\n}(window));"
          },
          "metadata": {
            "tags": []
          }
        },
        {
          "output_type": "display_data",
          "data": {
            "text/html": [
              "\n",
              "\n",
              "\n",
              "\n",
              "\n",
              "\n",
              "  <div class=\"bk-root\" id=\"a8c66bfb-7a89-4adb-98dd-1bee97619307\" data-root-id=\"6595\"></div>\n"
            ]
          },
          "metadata": {
            "tags": []
          }
        },
        {
          "output_type": "display_data",
          "data": {
            "application/javascript": [
              "(function(root) {\n",
              "  function embed_document(root) {\n",
              "    \n",
              "  var docs_json = {\"ad450ebd-c872-480c-a840-db902b6867f5\":{\"roots\":{\"references\":[{\"attributes\":{\"below\":[{\"id\":\"6606\"}],\"center\":[{\"id\":\"6609\"},{\"id\":\"6613\"}],\"left\":[{\"id\":\"6610\"}],\"plot_height\":400,\"plot_width\":400,\"renderers\":[{\"id\":\"6632\"}],\"title\":{\"id\":\"6596\"},\"toolbar\":{\"id\":\"6621\"},\"x_range\":{\"id\":\"6598\"},\"x_scale\":{\"id\":\"6602\"},\"y_range\":{\"id\":\"6600\"},\"y_scale\":{\"id\":\"6604\"}},\"id\":\"6595\",\"subtype\":\"Figure\",\"type\":\"Plot\"},{\"attributes\":{\"axis\":{\"id\":\"6610\"},\"dimension\":1,\"ticker\":null},\"id\":\"6613\",\"type\":\"Grid\"},{\"attributes\":{},\"id\":\"6602\",\"type\":\"LinearScale\"},{\"attributes\":{},\"id\":\"6853\",\"type\":\"BasicTickFormatter\"},{\"attributes\":{},\"id\":\"6600\",\"type\":\"DataRange1d\"},{\"attributes\":{\"callback\":null,\"tooltips\":[[\"Interval\",\"@tofrom\"],[\"Count\",\"@sepal_length\"]]},\"id\":\"6634\",\"type\":\"HoverTool\"},{\"attributes\":{\"formatter\":{\"id\":\"6855\"},\"ticker\":{\"id\":\"6607\"}},\"id\":\"6606\",\"type\":\"LinearAxis\"},{\"attributes\":{},\"id\":\"6619\",\"type\":\"HelpTool\"},{\"attributes\":{\"formatter\":{\"id\":\"6853\"},\"ticker\":{\"id\":\"6611\"}},\"id\":\"6610\",\"type\":\"LinearAxis\"},{\"attributes\":{\"overlay\":{\"id\":\"6620\"}},\"id\":\"6616\",\"type\":\"BoxZoomTool\"},{\"attributes\":{\"bottom\":{\"value\":0},\"fill_alpha\":{\"value\":0.1},\"fill_color\":{\"value\":\"red\"},\"left\":{\"field\":\"left\"},\"line_alpha\":{\"value\":0.1},\"right\":{\"field\":\"right\"},\"top\":{\"field\":\"sepal_length\"}},\"id\":\"6630\",\"type\":\"Quad\"},{\"attributes\":{},\"id\":\"6607\",\"type\":\"BasicTicker\"},{\"attributes\":{},\"id\":\"6604\",\"type\":\"LinearScale\"},{\"attributes\":{\"axis\":{\"id\":\"6606\"},\"ticker\":null},\"id\":\"6609\",\"type\":\"Grid\"},{\"attributes\":{\"source\":{\"id\":\"6594\"}},\"id\":\"6633\",\"type\":\"CDSView\"},{\"attributes\":{},\"id\":\"6618\",\"type\":\"ResetTool\"},{\"attributes\":{\"data\":{\"index\":[0,1,2,3,4,5,6,7,8,9],\"left\":{\"__ndarray__\":\"MzMzMzMzEUCkcD0K16MSQBSuR+F6FBRAhetRuB6FFUD2KFyPwvUWQGZmZmZmZhhA16NwPQrXGUBI4XoUrkcbQLgehetRuBxAKVyPwvUoHkA=\",\"dtype\":\"float64\",\"order\":\"little\",\"shape\":[10]},\"right\":{\"__ndarray__\":\"pHA9CtejEkAUrkfhehQUQIXrUbgehRVA9ihcj8L1FkBmZmZmZmYYQNejcD0K1xlASOF6FK5HG0C4HoXrUbgcQClcj8L1KB5AmpmZmZmZH0A=\",\"dtype\":\"float64\",\"order\":\"little\",\"shape\":[10]},\"sepal_length\":[9,23,14,27,16,26,18,6,5,6],\"tofrom\":[\"4.3 to 4.66\",\"4.66 to 5.02\",\"5.02 to 5.38\",\"5.38 to 5.74\",\"5.74 to 6.1\",\"6.1 to 6.46\",\"6.46 to 6.82\",\"6.82 to 7.18\",\"7.18 to 7.54\",\"7.54 to 7.9\"]},\"selected\":{\"id\":\"6858\"},\"selection_policy\":{\"id\":\"6857\"}},\"id\":\"6594\",\"type\":\"ColumnDataSource\"},{\"attributes\":{},\"id\":\"6858\",\"type\":\"Selection\"},{\"attributes\":{\"active_drag\":\"auto\",\"active_inspect\":\"auto\",\"active_multi\":null,\"active_scroll\":\"auto\",\"active_tap\":\"auto\",\"tools\":[{\"id\":\"6614\"},{\"id\":\"6615\"},{\"id\":\"6616\"},{\"id\":\"6617\"},{\"id\":\"6618\"},{\"id\":\"6619\"},{\"id\":\"6634\"}]},\"id\":\"6621\",\"type\":\"Toolbar\"},{\"attributes\":{\"data_source\":{\"id\":\"6594\"},\"glyph\":{\"id\":\"6629\"},\"hover_glyph\":{\"id\":\"6631\"},\"muted_glyph\":null,\"nonselection_glyph\":{\"id\":\"6630\"},\"selection_glyph\":null,\"view\":{\"id\":\"6633\"}},\"id\":\"6632\",\"type\":\"GlyphRenderer\"},{\"attributes\":{},\"id\":\"6598\",\"type\":\"DataRange1d\"},{\"attributes\":{},\"id\":\"6611\",\"type\":\"BasicTicker\"},{\"attributes\":{\"bottom\":{\"value\":0},\"fill_color\":{\"value\":\"blue\"},\"left\":{\"field\":\"left\"},\"right\":{\"field\":\"right\"},\"top\":{\"field\":\"sepal_length\"}},\"id\":\"6631\",\"type\":\"Quad\"},{\"attributes\":{},\"id\":\"6855\",\"type\":\"BasicTickFormatter\"},{\"attributes\":{\"text\":\"sepal_length\"},\"id\":\"6596\",\"type\":\"Title\"},{\"attributes\":{},\"id\":\"6857\",\"type\":\"UnionRenderers\"},{\"attributes\":{\"bottom\":{\"value\":0},\"fill_alpha\":{\"value\":0.7},\"fill_color\":{\"value\":\"red\"},\"left\":{\"field\":\"left\"},\"right\":{\"field\":\"right\"},\"top\":{\"field\":\"sepal_length\"}},\"id\":\"6629\",\"type\":\"Quad\"},{\"attributes\":{\"bottom_units\":\"screen\",\"fill_alpha\":0.5,\"fill_color\":\"lightgrey\",\"left_units\":\"screen\",\"level\":\"overlay\",\"line_alpha\":1.0,\"line_color\":\"black\",\"line_dash\":[4,4],\"line_width\":2,\"right_units\":\"screen\",\"top_units\":\"screen\"},\"id\":\"6620\",\"type\":\"BoxAnnotation\"},{\"attributes\":{},\"id\":\"6615\",\"type\":\"WheelZoomTool\"},{\"attributes\":{},\"id\":\"6617\",\"type\":\"SaveTool\"},{\"attributes\":{},\"id\":\"6614\",\"type\":\"PanTool\"}],\"root_ids\":[\"6595\"]},\"title\":\"Bokeh Application\",\"version\":\"2.1.1\"}};\n",
              "  var render_items = [{\"docid\":\"ad450ebd-c872-480c-a840-db902b6867f5\",\"root_ids\":[\"6595\"],\"roots\":{\"6595\":\"a8c66bfb-7a89-4adb-98dd-1bee97619307\"}}];\n",
              "  root.Bokeh.embed.embed_items_notebook(docs_json, render_items);\n",
              "\n",
              "  }\n",
              "  if (root.Bokeh !== undefined) {\n",
              "    embed_document(root);\n",
              "  } else {\n",
              "    var attempts = 0;\n",
              "    var timer = setInterval(function(root) {\n",
              "      if (root.Bokeh !== undefined) {\n",
              "        clearInterval(timer);\n",
              "        embed_document(root);\n",
              "      } else {\n",
              "        attempts++;\n",
              "        if (attempts > 100) {\n",
              "          clearInterval(timer);\n",
              "          console.log(\"Bokeh: ERROR: Unable to run BokehJS code because BokehJS library is missing\");\n",
              "        }\n",
              "      }\n",
              "    }, 10, root)\n",
              "  }\n",
              "})(window);"
            ],
            "application/vnd.bokehjs_exec.v0+json": ""
          },
          "metadata": {
            "tags": [],
            "application/vnd.bokehjs_exec.v0+json": {
              "id": "6595"
            }
          }
        },
        {
          "output_type": "display_data",
          "data": {
            "text/html": [
              "\n",
              "\n",
              "\n",
              "\n",
              "\n",
              "\n",
              "  <div class=\"bk-root\" id=\"8535bf69-fa2f-4eec-8ba7-ef4823996389\" data-root-id=\"6909\"></div>\n"
            ]
          },
          "metadata": {
            "tags": []
          }
        },
        {
          "output_type": "display_data",
          "data": {
            "application/javascript": [
              "(function(root) {\n",
              "  function embed_document(root) {\n",
              "    \n",
              "  var docs_json = {\"46764fe2-d1df-40fa-960d-d51fc8840dca\":{\"roots\":{\"references\":[{\"attributes\":{\"below\":[{\"id\":\"6920\"}],\"center\":[{\"id\":\"6923\"},{\"id\":\"6927\"}],\"left\":[{\"id\":\"6924\"}],\"plot_height\":400,\"plot_width\":400,\"renderers\":[{\"id\":\"6946\"}],\"title\":{\"id\":\"6910\"},\"toolbar\":{\"id\":\"6935\"},\"x_range\":{\"id\":\"6912\"},\"x_scale\":{\"id\":\"6916\"},\"y_range\":{\"id\":\"6914\"},\"y_scale\":{\"id\":\"6918\"}},\"id\":\"6909\",\"subtype\":\"Figure\",\"type\":\"Plot\"},{\"attributes\":{\"formatter\":{\"id\":\"7175\"},\"ticker\":{\"id\":\"6925\"}},\"id\":\"6924\",\"type\":\"LinearAxis\"},{\"attributes\":{\"data\":{\"index\":[0,1,2,3,4,5,6,7,8,9],\"left\":{\"__ndarray__\":\"AAAAAAAAAEDsUbgehesBQNejcD0K1wNAw/UoXI/CBUCuR+F6FK4HQJqZmZmZmQlAhutRuB6FC0ByPQrXo3ANQF2PwvUoXA9ApHA9CtejEEA=\",\"dtype\":\"float64\",\"order\":\"little\",\"shape\":[10]},\"right\":{\"__ndarray__\":\"7FG4HoXrAUDXo3A9CtcDQMP1KFyPwgVArkfhehSuB0CamZmZmZkJQIbrUbgehQtAcj0K16NwDUBdj8L1KFwPQKRwPQrXoxBAmpmZmZmZEUA=\",\"dtype\":\"float64\",\"order\":\"little\",\"shape\":[10]},\"sepal_width\":[4,7,22,24,38,31,9,11,2,2],\"tofrom\":[\"2.0 to 2.24\",\"2.24 to 2.48\",\"2.48 to 2.72\",\"2.72 to 2.96\",\"2.96 to 3.2\",\"3.2 to 3.4400000000000004\",\"3.4400000000000004 to 3.6800000000000006\",\"3.6800000000000006 to 3.9200000000000004\",\"3.9200000000000004 to 4.16\",\"4.16 to 4.4\"]},\"selected\":{\"id\":\"7180\"},\"selection_policy\":{\"id\":\"7179\"}},\"id\":\"6908\",\"type\":\"ColumnDataSource\"},{\"attributes\":{\"bottom_units\":\"screen\",\"fill_alpha\":0.5,\"fill_color\":\"lightgrey\",\"left_units\":\"screen\",\"level\":\"overlay\",\"line_alpha\":1.0,\"line_color\":\"black\",\"line_dash\":[4,4],\"line_width\":2,\"right_units\":\"screen\",\"top_units\":\"screen\"},\"id\":\"6934\",\"type\":\"BoxAnnotation\"},{\"attributes\":{\"text\":\"sepal_width\"},\"id\":\"6910\",\"type\":\"Title\"},{\"attributes\":{\"bottom\":{\"value\":0},\"fill_color\":{\"value\":\"blue\"},\"left\":{\"field\":\"left\"},\"right\":{\"field\":\"right\"},\"top\":{\"field\":\"sepal_width\"}},\"id\":\"6945\",\"type\":\"Quad\"},{\"attributes\":{\"overlay\":{\"id\":\"6934\"}},\"id\":\"6930\",\"type\":\"BoxZoomTool\"},{\"attributes\":{},\"id\":\"6921\",\"type\":\"BasicTicker\"},{\"attributes\":{},\"id\":\"6914\",\"type\":\"DataRange1d\"},{\"attributes\":{\"bottom\":{\"value\":0},\"fill_alpha\":{\"value\":0.7},\"fill_color\":{\"value\":\"red\"},\"left\":{\"field\":\"left\"},\"right\":{\"field\":\"right\"},\"top\":{\"field\":\"sepal_width\"}},\"id\":\"6943\",\"type\":\"Quad\"},{\"attributes\":{\"source\":{\"id\":\"6908\"}},\"id\":\"6947\",\"type\":\"CDSView\"},{\"attributes\":{},\"id\":\"7177\",\"type\":\"BasicTickFormatter\"},{\"attributes\":{},\"id\":\"6931\",\"type\":\"SaveTool\"},{\"attributes\":{},\"id\":\"6932\",\"type\":\"ResetTool\"},{\"attributes\":{},\"id\":\"6916\",\"type\":\"LinearScale\"},{\"attributes\":{},\"id\":\"6918\",\"type\":\"LinearScale\"},{\"attributes\":{},\"id\":\"6928\",\"type\":\"PanTool\"},{\"attributes\":{\"active_drag\":\"auto\",\"active_inspect\":\"auto\",\"active_multi\":null,\"active_scroll\":\"auto\",\"active_tap\":\"auto\",\"tools\":[{\"id\":\"6928\"},{\"id\":\"6929\"},{\"id\":\"6930\"},{\"id\":\"6931\"},{\"id\":\"6932\"},{\"id\":\"6933\"},{\"id\":\"6948\"}]},\"id\":\"6935\",\"type\":\"Toolbar\"},{\"attributes\":{},\"id\":\"7180\",\"type\":\"Selection\"},{\"attributes\":{\"bottom\":{\"value\":0},\"fill_alpha\":{\"value\":0.1},\"fill_color\":{\"value\":\"red\"},\"left\":{\"field\":\"left\"},\"line_alpha\":{\"value\":0.1},\"right\":{\"field\":\"right\"},\"top\":{\"field\":\"sepal_width\"}},\"id\":\"6944\",\"type\":\"Quad\"},{\"attributes\":{},\"id\":\"6925\",\"type\":\"BasicTicker\"},{\"attributes\":{\"formatter\":{\"id\":\"7177\"},\"ticker\":{\"id\":\"6921\"}},\"id\":\"6920\",\"type\":\"LinearAxis\"},{\"attributes\":{\"data_source\":{\"id\":\"6908\"},\"glyph\":{\"id\":\"6943\"},\"hover_glyph\":{\"id\":\"6945\"},\"muted_glyph\":null,\"nonselection_glyph\":{\"id\":\"6944\"},\"selection_glyph\":null,\"view\":{\"id\":\"6947\"}},\"id\":\"6946\",\"type\":\"GlyphRenderer\"},{\"attributes\":{},\"id\":\"7175\",\"type\":\"BasicTickFormatter\"},{\"attributes\":{\"axis\":{\"id\":\"6920\"},\"ticker\":null},\"id\":\"6923\",\"type\":\"Grid\"},{\"attributes\":{\"callback\":null,\"tooltips\":[[\"Interval\",\"@tofrom\"],[\"Count\",\"@sepal_width\"]]},\"id\":\"6948\",\"type\":\"HoverTool\"},{\"attributes\":{\"axis\":{\"id\":\"6924\"},\"dimension\":1,\"ticker\":null},\"id\":\"6927\",\"type\":\"Grid\"},{\"attributes\":{},\"id\":\"7179\",\"type\":\"UnionRenderers\"},{\"attributes\":{},\"id\":\"6912\",\"type\":\"DataRange1d\"},{\"attributes\":{},\"id\":\"6933\",\"type\":\"HelpTool\"},{\"attributes\":{},\"id\":\"6929\",\"type\":\"WheelZoomTool\"}],\"root_ids\":[\"6909\"]},\"title\":\"Bokeh Application\",\"version\":\"2.1.1\"}};\n",
              "  var render_items = [{\"docid\":\"46764fe2-d1df-40fa-960d-d51fc8840dca\",\"root_ids\":[\"6909\"],\"roots\":{\"6909\":\"8535bf69-fa2f-4eec-8ba7-ef4823996389\"}}];\n",
              "  root.Bokeh.embed.embed_items_notebook(docs_json, render_items);\n",
              "\n",
              "  }\n",
              "  if (root.Bokeh !== undefined) {\n",
              "    embed_document(root);\n",
              "  } else {\n",
              "    var attempts = 0;\n",
              "    var timer = setInterval(function(root) {\n",
              "      if (root.Bokeh !== undefined) {\n",
              "        clearInterval(timer);\n",
              "        embed_document(root);\n",
              "      } else {\n",
              "        attempts++;\n",
              "        if (attempts > 100) {\n",
              "          clearInterval(timer);\n",
              "          console.log(\"Bokeh: ERROR: Unable to run BokehJS code because BokehJS library is missing\");\n",
              "        }\n",
              "      }\n",
              "    }, 10, root)\n",
              "  }\n",
              "})(window);"
            ],
            "application/vnd.bokehjs_exec.v0+json": ""
          },
          "metadata": {
            "tags": [],
            "application/vnd.bokehjs_exec.v0+json": {
              "id": "6909"
            }
          }
        },
        {
          "output_type": "display_data",
          "data": {
            "text/html": [
              "\n",
              "\n",
              "\n",
              "\n",
              "\n",
              "\n",
              "  <div class=\"bk-root\" id=\"0b6bc651-9276-4c98-8bf7-36afe3222c19\" data-root-id=\"7231\"></div>\n"
            ]
          },
          "metadata": {
            "tags": []
          }
        },
        {
          "output_type": "display_data",
          "data": {
            "application/javascript": [
              "(function(root) {\n",
              "  function embed_document(root) {\n",
              "    \n",
              "  var docs_json = {\"9b9ca257-f758-497b-85b3-c7499510b2e7\":{\"roots\":{\"references\":[{\"attributes\":{\"below\":[{\"id\":\"7242\"}],\"center\":[{\"id\":\"7245\"},{\"id\":\"7249\"}],\"left\":[{\"id\":\"7246\"}],\"plot_height\":400,\"plot_width\":400,\"renderers\":[{\"id\":\"7268\"}],\"title\":{\"id\":\"7232\"},\"toolbar\":{\"id\":\"7257\"},\"x_range\":{\"id\":\"7234\"},\"x_scale\":{\"id\":\"7238\"},\"y_range\":{\"id\":\"7236\"},\"y_scale\":{\"id\":\"7240\"}},\"id\":\"7231\",\"subtype\":\"Figure\",\"type\":\"Plot\"},{\"attributes\":{\"callback\":null,\"tooltips\":[[\"Interval\",\"@tofrom\"],[\"Count\",\"@petal_length\"]]},\"id\":\"7270\",\"type\":\"HoverTool\"},{\"attributes\":{\"bottom_units\":\"screen\",\"fill_alpha\":0.5,\"fill_color\":\"lightgrey\",\"left_units\":\"screen\",\"level\":\"overlay\",\"line_alpha\":1.0,\"line_color\":\"black\",\"line_dash\":[4,4],\"line_width\":2,\"right_units\":\"screen\",\"top_units\":\"screen\"},\"id\":\"7256\",\"type\":\"BoxAnnotation\"},{\"attributes\":{},\"id\":\"7255\",\"type\":\"HelpTool\"},{\"attributes\":{\"source\":{\"id\":\"7230\"}},\"id\":\"7269\",\"type\":\"CDSView\"},{\"attributes\":{},\"id\":\"7251\",\"type\":\"WheelZoomTool\"},{\"attributes\":{},\"id\":\"7247\",\"type\":\"BasicTicker\"},{\"attributes\":{\"bottom\":{\"value\":0},\"fill_alpha\":{\"value\":0.7},\"fill_color\":{\"value\":\"red\"},\"left\":{\"field\":\"left\"},\"right\":{\"field\":\"right\"},\"top\":{\"field\":\"petal_length\"}},\"id\":\"7265\",\"type\":\"Quad\"},{\"attributes\":{},\"id\":\"7234\",\"type\":\"DataRange1d\"},{\"attributes\":{},\"id\":\"7243\",\"type\":\"BasicTicker\"},{\"attributes\":{\"data_source\":{\"id\":\"7230\"},\"glyph\":{\"id\":\"7265\"},\"hover_glyph\":{\"id\":\"7267\"},\"muted_glyph\":null,\"nonselection_glyph\":{\"id\":\"7266\"},\"selection_glyph\":null,\"view\":{\"id\":\"7269\"}},\"id\":\"7268\",\"type\":\"GlyphRenderer\"},{\"attributes\":{},\"id\":\"7236\",\"type\":\"DataRange1d\"},{\"attributes\":{\"formatter\":{\"id\":\"7507\"},\"ticker\":{\"id\":\"7243\"}},\"id\":\"7242\",\"type\":\"LinearAxis\"},{\"attributes\":{\"overlay\":{\"id\":\"7256\"}},\"id\":\"7252\",\"type\":\"BoxZoomTool\"},{\"attributes\":{},\"id\":\"7254\",\"type\":\"ResetTool\"},{\"attributes\":{},\"id\":\"7505\",\"type\":\"BasicTickFormatter\"},{\"attributes\":{},\"id\":\"7507\",\"type\":\"BasicTickFormatter\"},{\"attributes\":{},\"id\":\"7250\",\"type\":\"PanTool\"},{\"attributes\":{},\"id\":\"7240\",\"type\":\"LinearScale\"},{\"attributes\":{},\"id\":\"7509\",\"type\":\"UnionRenderers\"},{\"attributes\":{},\"id\":\"7253\",\"type\":\"SaveTool\"},{\"attributes\":{\"formatter\":{\"id\":\"7505\"},\"ticker\":{\"id\":\"7247\"}},\"id\":\"7246\",\"type\":\"LinearAxis\"},{\"attributes\":{\"text\":\"petal_length\"},\"id\":\"7232\",\"type\":\"Title\"},{\"attributes\":{},\"id\":\"7238\",\"type\":\"LinearScale\"},{\"attributes\":{\"bottom\":{\"value\":0},\"fill_color\":{\"value\":\"blue\"},\"left\":{\"field\":\"left\"},\"right\":{\"field\":\"right\"},\"top\":{\"field\":\"petal_length\"}},\"id\":\"7267\",\"type\":\"Quad\"},{\"attributes\":{},\"id\":\"7510\",\"type\":\"Selection\"},{\"attributes\":{\"bottom\":{\"value\":0},\"fill_alpha\":{\"value\":0.1},\"fill_color\":{\"value\":\"red\"},\"left\":{\"field\":\"left\"},\"line_alpha\":{\"value\":0.1},\"right\":{\"field\":\"right\"},\"top\":{\"field\":\"petal_length\"}},\"id\":\"7266\",\"type\":\"Quad\"},{\"attributes\":{\"axis\":{\"id\":\"7242\"},\"ticker\":null},\"id\":\"7245\",\"type\":\"Grid\"},{\"attributes\":{\"axis\":{\"id\":\"7246\"},\"dimension\":1,\"ticker\":null},\"id\":\"7249\",\"type\":\"Grid\"},{\"attributes\":{\"data\":{\"index\":[0,1,2,3,4,5,6,7,8,9],\"left\":{\"__ndarray__\":\"AAAAAAAA8D9xPQrXo3D5P3E9CtejcAFAKlyPwvUoBkDiehSuR+EKQJqZmZmZmQ9AKlyPwvUoEkCG61G4HoUUQOJ6FK5H4RZAPgrXo3A9GUA=\",\"dtype\":\"float64\",\"order\":\"little\",\"shape\":[10]},\"petal_length\":[37,13,0,3,8,26,29,18,11,5],\"right\":{\"__ndarray__\":\"cT0K16Nw+T9xPQrXo3ABQCpcj8L1KAZA4noUrkfhCkCamZmZmZkPQCpcj8L1KBJAhutRuB6FFEDiehSuR+EWQD4K16NwPRlAmpmZmZmZG0A=\",\"dtype\":\"float64\",\"order\":\"little\",\"shape\":[10]},\"tofrom\":[\"1.0 to 1.59\",\"1.59 to 2.18\",\"2.18 to 2.7700000000000005\",\"2.7700000000000005 to 3.3600000000000003\",\"3.3600000000000003 to 3.95\",\"3.95 to 4.540000000000001\",\"4.540000000000001 to 5.130000000000001\",\"5.130000000000001 to 5.720000000000001\",\"5.720000000000001 to 6.3100000000000005\",\"6.3100000000000005 to 6.9\"]},\"selected\":{\"id\":\"7510\"},\"selection_policy\":{\"id\":\"7509\"}},\"id\":\"7230\",\"type\":\"ColumnDataSource\"},{\"attributes\":{\"active_drag\":\"auto\",\"active_inspect\":\"auto\",\"active_multi\":null,\"active_scroll\":\"auto\",\"active_tap\":\"auto\",\"tools\":[{\"id\":\"7250\"},{\"id\":\"7251\"},{\"id\":\"7252\"},{\"id\":\"7253\"},{\"id\":\"7254\"},{\"id\":\"7255\"},{\"id\":\"7270\"}]},\"id\":\"7257\",\"type\":\"Toolbar\"}],\"root_ids\":[\"7231\"]},\"title\":\"Bokeh Application\",\"version\":\"2.1.1\"}};\n",
              "  var render_items = [{\"docid\":\"9b9ca257-f758-497b-85b3-c7499510b2e7\",\"root_ids\":[\"7231\"],\"roots\":{\"7231\":\"0b6bc651-9276-4c98-8bf7-36afe3222c19\"}}];\n",
              "  root.Bokeh.embed.embed_items_notebook(docs_json, render_items);\n",
              "\n",
              "  }\n",
              "  if (root.Bokeh !== undefined) {\n",
              "    embed_document(root);\n",
              "  } else {\n",
              "    var attempts = 0;\n",
              "    var timer = setInterval(function(root) {\n",
              "      if (root.Bokeh !== undefined) {\n",
              "        clearInterval(timer);\n",
              "        embed_document(root);\n",
              "      } else {\n",
              "        attempts++;\n",
              "        if (attempts > 100) {\n",
              "          clearInterval(timer);\n",
              "          console.log(\"Bokeh: ERROR: Unable to run BokehJS code because BokehJS library is missing\");\n",
              "        }\n",
              "      }\n",
              "    }, 10, root)\n",
              "  }\n",
              "})(window);"
            ],
            "application/vnd.bokehjs_exec.v0+json": ""
          },
          "metadata": {
            "tags": [],
            "application/vnd.bokehjs_exec.v0+json": {
              "id": "7231"
            }
          }
        },
        {
          "output_type": "display_data",
          "data": {
            "text/html": [
              "\n",
              "\n",
              "\n",
              "\n",
              "\n",
              "\n",
              "  <div class=\"bk-root\" id=\"b12cfaec-5285-46fd-b2d5-14ea2c208a79\" data-root-id=\"7561\"></div>\n"
            ]
          },
          "metadata": {
            "tags": []
          }
        },
        {
          "output_type": "display_data",
          "data": {
            "application/javascript": [
              "(function(root) {\n",
              "  function embed_document(root) {\n",
              "    \n",
              "  var docs_json = {\"1962eca7-3dce-4b49-8e6a-36441a8e6faa\":{\"roots\":{\"references\":[{\"attributes\":{\"below\":[{\"id\":\"7572\"}],\"center\":[{\"id\":\"7575\"},{\"id\":\"7579\"}],\"left\":[{\"id\":\"7576\"}],\"plot_height\":400,\"plot_width\":400,\"renderers\":[{\"id\":\"7598\"}],\"title\":{\"id\":\"7562\"},\"toolbar\":{\"id\":\"7587\"},\"x_range\":{\"id\":\"7564\"},\"x_scale\":{\"id\":\"7568\"},\"y_range\":{\"id\":\"7566\"},\"y_scale\":{\"id\":\"7570\"}},\"id\":\"7561\",\"subtype\":\"Figure\",\"type\":\"Plot\"},{\"attributes\":{\"text\":\"petal_width\"},\"id\":\"7562\",\"type\":\"Title\"},{\"attributes\":{\"axis\":{\"id\":\"7576\"},\"dimension\":1,\"ticker\":null},\"id\":\"7579\",\"type\":\"Grid\"},{\"attributes\":{},\"id\":\"7564\",\"type\":\"DataRange1d\"},{\"attributes\":{\"axis\":{\"id\":\"7572\"},\"ticker\":null},\"id\":\"7575\",\"type\":\"Grid\"},{\"attributes\":{},\"id\":\"7584\",\"type\":\"ResetTool\"},{\"attributes\":{},\"id\":\"7847\",\"type\":\"UnionRenderers\"},{\"attributes\":{\"bottom_units\":\"screen\",\"fill_alpha\":0.5,\"fill_color\":\"lightgrey\",\"left_units\":\"screen\",\"level\":\"overlay\",\"line_alpha\":1.0,\"line_color\":\"black\",\"line_dash\":[4,4],\"line_width\":2,\"right_units\":\"screen\",\"top_units\":\"screen\"},\"id\":\"7586\",\"type\":\"BoxAnnotation\"},{\"attributes\":{},\"id\":\"7568\",\"type\":\"LinearScale\"},{\"attributes\":{},\"id\":\"7583\",\"type\":\"SaveTool\"},{\"attributes\":{},\"id\":\"7848\",\"type\":\"Selection\"},{\"attributes\":{\"data\":{\"index\":[0,1,2,3,4,5,6,7,8,9],\"left\":{\"__ndarray__\":\"mpmZmZmZuT/C9Shcj8LVP4/C9Shcj+I/PQrXo3A96j/2KFyPwvXwP83MzMzMzPQ/pHA9Ctej+D97FK5H4Xr8Pylcj8L1KABAFa5H4XoUAkA=\",\"dtype\":\"float64\",\"order\":\"little\",\"shape\":[10]},\"petal_width\":[41,8,1,7,8,33,6,23,9,14],\"right\":{\"__ndarray__\":\"wvUoXI/C1T+PwvUoXI/iPz0K16NwPeo/9ihcj8L18D/NzMzMzMz0P6RwPQrXo/g/exSuR+F6/D8pXI/C9SgAQBWuR+F6FAJAAAAAAAAABEA=\",\"dtype\":\"float64\",\"order\":\"little\",\"shape\":[10]},\"tofrom\":[\"0.1 to 0.33999999999999997\",\"0.33999999999999997 to 0.58\",\"0.58 to 0.82\",\"0.82 to 1.06\",\"1.06 to 1.3\",\"1.3 to 1.54\",\"1.54 to 1.78\",\"1.78 to 2.02\",\"2.02 to 2.2600000000000002\",\"2.2600000000000002 to 2.5\"]},\"selected\":{\"id\":\"7848\"},\"selection_policy\":{\"id\":\"7847\"}},\"id\":\"7560\",\"type\":\"ColumnDataSource\"},{\"attributes\":{\"formatter\":{\"id\":\"7843\"},\"ticker\":{\"id\":\"7577\"}},\"id\":\"7576\",\"type\":\"LinearAxis\"},{\"attributes\":{\"bottom\":{\"value\":0},\"fill_alpha\":{\"value\":0.7},\"fill_color\":{\"value\":\"red\"},\"left\":{\"field\":\"left\"},\"right\":{\"field\":\"right\"},\"top\":{\"field\":\"petal_width\"}},\"id\":\"7595\",\"type\":\"Quad\"},{\"attributes\":{},\"id\":\"7580\",\"type\":\"PanTool\"},{\"attributes\":{\"overlay\":{\"id\":\"7586\"}},\"id\":\"7582\",\"type\":\"BoxZoomTool\"},{\"attributes\":{},\"id\":\"7843\",\"type\":\"BasicTickFormatter\"},{\"attributes\":{},\"id\":\"7845\",\"type\":\"BasicTickFormatter\"},{\"attributes\":{\"active_drag\":\"auto\",\"active_inspect\":\"auto\",\"active_multi\":null,\"active_scroll\":\"auto\",\"active_tap\":\"auto\",\"tools\":[{\"id\":\"7580\"},{\"id\":\"7581\"},{\"id\":\"7582\"},{\"id\":\"7583\"},{\"id\":\"7584\"},{\"id\":\"7585\"},{\"id\":\"7600\"}]},\"id\":\"7587\",\"type\":\"Toolbar\"},{\"attributes\":{\"formatter\":{\"id\":\"7845\"},\"ticker\":{\"id\":\"7573\"}},\"id\":\"7572\",\"type\":\"LinearAxis\"},{\"attributes\":{},\"id\":\"7577\",\"type\":\"BasicTicker\"},{\"attributes\":{},\"id\":\"7570\",\"type\":\"LinearScale\"},{\"attributes\":{\"data_source\":{\"id\":\"7560\"},\"glyph\":{\"id\":\"7595\"},\"hover_glyph\":{\"id\":\"7597\"},\"muted_glyph\":null,\"nonselection_glyph\":{\"id\":\"7596\"},\"selection_glyph\":null,\"view\":{\"id\":\"7599\"}},\"id\":\"7598\",\"type\":\"GlyphRenderer\"},{\"attributes\":{\"callback\":null,\"tooltips\":[[\"Interval\",\"@tofrom\"],[\"Count\",\"@petal_width\"]]},\"id\":\"7600\",\"type\":\"HoverTool\"},{\"attributes\":{\"bottom\":{\"value\":0},\"fill_alpha\":{\"value\":0.1},\"fill_color\":{\"value\":\"red\"},\"left\":{\"field\":\"left\"},\"line_alpha\":{\"value\":0.1},\"right\":{\"field\":\"right\"},\"top\":{\"field\":\"petal_width\"}},\"id\":\"7596\",\"type\":\"Quad\"},{\"attributes\":{},\"id\":\"7581\",\"type\":\"WheelZoomTool\"},{\"attributes\":{},\"id\":\"7566\",\"type\":\"DataRange1d\"},{\"attributes\":{\"source\":{\"id\":\"7560\"}},\"id\":\"7599\",\"type\":\"CDSView\"},{\"attributes\":{\"bottom\":{\"value\":0},\"fill_color\":{\"value\":\"blue\"},\"left\":{\"field\":\"left\"},\"right\":{\"field\":\"right\"},\"top\":{\"field\":\"petal_width\"}},\"id\":\"7597\",\"type\":\"Quad\"},{\"attributes\":{},\"id\":\"7573\",\"type\":\"BasicTicker\"},{\"attributes\":{},\"id\":\"7585\",\"type\":\"HelpTool\"}],\"root_ids\":[\"7561\"]},\"title\":\"Bokeh Application\",\"version\":\"2.1.1\"}};\n",
              "  var render_items = [{\"docid\":\"1962eca7-3dce-4b49-8e6a-36441a8e6faa\",\"root_ids\":[\"7561\"],\"roots\":{\"7561\":\"b12cfaec-5285-46fd-b2d5-14ea2c208a79\"}}];\n",
              "  root.Bokeh.embed.embed_items_notebook(docs_json, render_items);\n",
              "\n",
              "  }\n",
              "  if (root.Bokeh !== undefined) {\n",
              "    embed_document(root);\n",
              "  } else {\n",
              "    var attempts = 0;\n",
              "    var timer = setInterval(function(root) {\n",
              "      if (root.Bokeh !== undefined) {\n",
              "        clearInterval(timer);\n",
              "        embed_document(root);\n",
              "      } else {\n",
              "        attempts++;\n",
              "        if (attempts > 100) {\n",
              "          clearInterval(timer);\n",
              "          console.log(\"Bokeh: ERROR: Unable to run BokehJS code because BokehJS library is missing\");\n",
              "        }\n",
              "      }\n",
              "    }, 10, root)\n",
              "  }\n",
              "})(window);"
            ],
            "application/vnd.bokehjs_exec.v0+json": ""
          },
          "metadata": {
            "tags": [],
            "application/vnd.bokehjs_exec.v0+json": {
              "id": "7561"
            }
          }
        }
      ]
    },
    {
      "cell_type": "code",
      "metadata": {
        "colab": {
          "base_uri": "https://localhost:8080/",
          "height": 406
        },
        "id": "oC8oOguMo8qY",
        "outputId": "e828b4dc-4d50-49c3-d9cd-63b180192316"
      },
      "source": [
        "siris_data=iris_data\r\n",
        "from sklearn import preprocessing\r\n",
        "#for i in range(0,iris_data.shape[1]-1):\r\n",
        "#  column=iris_data.columns[i]\r\n",
        "#  print(preprocessing.scale(iris_data[column]))\r\n",
        "for i in range(0,siris_data.shape[1]-1):\r\n",
        "  column=iris_data.columns[i]\r\n",
        "  siris_data[column]=preprocessing.scale(iris_data[column])\r\n",
        "siris_data"
      ],
      "execution_count": 18,
      "outputs": [
        {
          "output_type": "execute_result",
          "data": {
            "text/html": [
              "<div>\n",
              "<style scoped>\n",
              "    .dataframe tbody tr th:only-of-type {\n",
              "        vertical-align: middle;\n",
              "    }\n",
              "\n",
              "    .dataframe tbody tr th {\n",
              "        vertical-align: top;\n",
              "    }\n",
              "\n",
              "    .dataframe thead th {\n",
              "        text-align: right;\n",
              "    }\n",
              "</style>\n",
              "<table border=\"1\" class=\"dataframe\">\n",
              "  <thead>\n",
              "    <tr style=\"text-align: right;\">\n",
              "      <th></th>\n",
              "      <th>sepal_length</th>\n",
              "      <th>sepal_width</th>\n",
              "      <th>petal_length</th>\n",
              "      <th>petal_width</th>\n",
              "      <th>species</th>\n",
              "    </tr>\n",
              "  </thead>\n",
              "  <tbody>\n",
              "    <tr>\n",
              "      <th>0</th>\n",
              "      <td>-0.900681</td>\n",
              "      <td>1.032057</td>\n",
              "      <td>-1.341272</td>\n",
              "      <td>-1.312977</td>\n",
              "      <td>setosa</td>\n",
              "    </tr>\n",
              "    <tr>\n",
              "      <th>1</th>\n",
              "      <td>-1.143017</td>\n",
              "      <td>-0.124958</td>\n",
              "      <td>-1.341272</td>\n",
              "      <td>-1.312977</td>\n",
              "      <td>setosa</td>\n",
              "    </tr>\n",
              "    <tr>\n",
              "      <th>2</th>\n",
              "      <td>-1.385353</td>\n",
              "      <td>0.337848</td>\n",
              "      <td>-1.398138</td>\n",
              "      <td>-1.312977</td>\n",
              "      <td>setosa</td>\n",
              "    </tr>\n",
              "    <tr>\n",
              "      <th>3</th>\n",
              "      <td>-1.506521</td>\n",
              "      <td>0.106445</td>\n",
              "      <td>-1.284407</td>\n",
              "      <td>-1.312977</td>\n",
              "      <td>setosa</td>\n",
              "    </tr>\n",
              "    <tr>\n",
              "      <th>4</th>\n",
              "      <td>-1.021849</td>\n",
              "      <td>1.263460</td>\n",
              "      <td>-1.341272</td>\n",
              "      <td>-1.312977</td>\n",
              "      <td>setosa</td>\n",
              "    </tr>\n",
              "    <tr>\n",
              "      <th>...</th>\n",
              "      <td>...</td>\n",
              "      <td>...</td>\n",
              "      <td>...</td>\n",
              "      <td>...</td>\n",
              "      <td>...</td>\n",
              "    </tr>\n",
              "    <tr>\n",
              "      <th>145</th>\n",
              "      <td>1.038005</td>\n",
              "      <td>-0.124958</td>\n",
              "      <td>0.819624</td>\n",
              "      <td>1.447956</td>\n",
              "      <td>virginica</td>\n",
              "    </tr>\n",
              "    <tr>\n",
              "      <th>146</th>\n",
              "      <td>0.553333</td>\n",
              "      <td>-1.281972</td>\n",
              "      <td>0.705893</td>\n",
              "      <td>0.922064</td>\n",
              "      <td>virginica</td>\n",
              "    </tr>\n",
              "    <tr>\n",
              "      <th>147</th>\n",
              "      <td>0.795669</td>\n",
              "      <td>-0.124958</td>\n",
              "      <td>0.819624</td>\n",
              "      <td>1.053537</td>\n",
              "      <td>virginica</td>\n",
              "    </tr>\n",
              "    <tr>\n",
              "      <th>148</th>\n",
              "      <td>0.432165</td>\n",
              "      <td>0.800654</td>\n",
              "      <td>0.933356</td>\n",
              "      <td>1.447956</td>\n",
              "      <td>virginica</td>\n",
              "    </tr>\n",
              "    <tr>\n",
              "      <th>149</th>\n",
              "      <td>0.068662</td>\n",
              "      <td>-0.124958</td>\n",
              "      <td>0.762759</td>\n",
              "      <td>0.790591</td>\n",
              "      <td>virginica</td>\n",
              "    </tr>\n",
              "  </tbody>\n",
              "</table>\n",
              "<p>150 rows × 5 columns</p>\n",
              "</div>"
            ],
            "text/plain": [
              "     sepal_length  sepal_width  petal_length  petal_width    species\n",
              "0       -0.900681     1.032057     -1.341272    -1.312977     setosa\n",
              "1       -1.143017    -0.124958     -1.341272    -1.312977     setosa\n",
              "2       -1.385353     0.337848     -1.398138    -1.312977     setosa\n",
              "3       -1.506521     0.106445     -1.284407    -1.312977     setosa\n",
              "4       -1.021849     1.263460     -1.341272    -1.312977     setosa\n",
              "..            ...          ...           ...          ...        ...\n",
              "145      1.038005    -0.124958      0.819624     1.447956  virginica\n",
              "146      0.553333    -1.281972      0.705893     0.922064  virginica\n",
              "147      0.795669    -0.124958      0.819624     1.053537  virginica\n",
              "148      0.432165     0.800654      0.933356     1.447956  virginica\n",
              "149      0.068662    -0.124958      0.762759     0.790591  virginica\n",
              "\n",
              "[150 rows x 5 columns]"
            ]
          },
          "metadata": {
            "tags": []
          },
          "execution_count": 18
        }
      ]
    },
    {
      "cell_type": "code",
      "metadata": {
        "colab": {
          "base_uri": "https://localhost:8080/"
        },
        "id": "MSf272_ilZhv",
        "outputId": "a6fd7067-4cdd-4178-f167-7df1d3982d93"
      },
      "source": [
        "SMean_result1=list()\r\n",
        "from sklearn import preprocessing\r\n",
        "for i in range(0,siris_data.shape[1]-1):\r\n",
        "  column=siris_data.columns[i]\r\n",
        "  SMean_result1.append(round(siris_data[column].mean()))\r\n",
        "print(SMean_result1)"
      ],
      "execution_count": 19,
      "outputs": [
        {
          "output_type": "stream",
          "text": [
            "[0, 0, 0, 0]\n"
          ],
          "name": "stdout"
        }
      ]
    },
    {
      "cell_type": "code",
      "metadata": {
        "colab": {
          "base_uri": "https://localhost:8080/"
        },
        "id": "m940jPHDlZhw",
        "outputId": "4cb3947f-4be4-4a74-a61d-e5d4fa32ee69"
      },
      "source": [
        "SSD_result1=list()\r\n",
        "from sklearn import preprocessing\r\n",
        "for i in range(0,siris_data.shape[1]-1):\r\n",
        "  column=siris_data.columns[i]\r\n",
        "  SSD_result1.append(round(siris_data[column].std()))\r\n",
        "print(SSD_result1)"
      ],
      "execution_count": 20,
      "outputs": [
        {
          "output_type": "stream",
          "text": [
            "[1, 1, 1, 1]\n"
          ],
          "name": "stdout"
        }
      ]
    },
    {
      "cell_type": "code",
      "metadata": {
        "id": "b_j2AyhOlZhx",
        "colab": {
          "base_uri": "https://localhost:8080/",
          "height": 1000
        },
        "outputId": "ff606f75-d529-4022-b51a-649747cc3e8f"
      },
      "source": [
        "plt.figure(figsize = [20, 20]) \r\n",
        "for i in range(0,siris_data.shape[1]-1):\r\n",
        "  column=siris_data.columns[i]\r\n",
        "  plt.subplot(4, 1, i+1)\r\n",
        "  plt.title(column)\r\n",
        " \r\n",
        "  plt.hist(siris_data[column])"
      ],
      "execution_count": 29,
      "outputs": [
        {
          "output_type": "display_data",
          "data": {
            "image/png": "[encoded data removed]",
            "text/plain": [
              "<Figure size 1440x1440 with 4 Axes>"
            ]
          },
          "metadata": {
            "tags": [],
            "needs_background": "light"
          }
        }
      ]
    },
    {
      "cell_type": "code",
      "metadata": {
        "colab": {
          "base_uri": "https://localhost:8080/",
          "height": 1000
        },
        "id": "KAV4-sakggF1",
        "outputId": "ecde0ef3-a700-47c4-fcf9-f1876075d92e"
      },
      "source": [
        "for i in range(0,iris_data.shape[1]-1):\r\n",
        "  column=iris_data.columns[i]\r\n",
        "  plot_hist(iris_data,column)"
      ],
      "execution_count": 22,
      "outputs": [
        {
          "output_type": "display_data",
          "data": {
            "application/javascript": [
              "\n",
              "(function(root) {\n",
              "  function now() {\n",
              "    return new Date();\n",
              "  }\n",
              "\n",
              "  var force = true;\n",
              "\n",
              "  if (typeof root._bokeh_onload_callbacks === \"undefined\" || force === true) {\n",
              "    root._bokeh_onload_callbacks = [];\n",
              "    root._bokeh_is_loading = undefined;\n",
              "  }\n",
              "\n",
              "  var JS_MIME_TYPE = 'application/javascript';\n",
              "  var HTML_MIME_TYPE = 'text/html';\n",
              "  var EXEC_MIME_TYPE = 'application/vnd.bokehjs_exec.v0+json';\n",
              "  var CLASS_NAME = 'output_bokeh rendered_html';\n",
              "\n",
              "  /**\n",
              "   * Render data to the DOM node\n",
              "   */\n",
              "  function render(props, node) {\n",
              "    var script = document.createElement(\"script\");\n",
              "    node.appendChild(script);\n",
              "  }\n",
              "\n",
              "  /**\n",
              "   * Handle when an output is cleared or removed\n",
              "   */\n",
              "  function handleClearOutput(event, handle) {\n",
              "    var cell = handle.cell;\n",
              "\n",
              "    var id = cell.output_area._bokeh_element_id;\n",
              "    var server_id = cell.output_area._bokeh_server_id;\n",
              "    // Clean up Bokeh references\n",
              "    if (id != null && id in Bokeh.index) {\n",
              "      Bokeh.index[id].model.document.clear();\n",
              "      delete Bokeh.index[id];\n",
              "    }\n",
              "\n",
              "    if (server_id !== undefined) {\n",
              "      // Clean up Bokeh references\n",
              "      var cmd = \"from bokeh.io.state import curstate; print(curstate().uuid_to_server['\" + server_id + \"'].get_sessions()[0].document.roots[0]._id)\";\n",
              "      cell.notebook.kernel.execute(cmd, {\n",
              "        iopub: {\n",
              "          output: function(msg) {\n",
              "            var id = msg.content.text.trim();\n",
              "            if (id in Bokeh.index) {\n",
              "              Bokeh.index[id].model.document.clear();\n",
              "              delete Bokeh.index[id];\n",
              "            }\n",
              "          }\n",
              "        }\n",
              "      });\n",
              "      // Destroy server and session\n",
              "      var cmd = \"import bokeh.io.notebook as ion; ion.destroy_server('\" + server_id + \"')\";\n",
              "      cell.notebook.kernel.execute(cmd);\n",
              "    }\n",
              "  }\n",
              "\n",
              "  /**\n",
              "   * Handle when a new output is added\n",
              "   */\n",
              "  function handleAddOutput(event, handle) {\n",
              "    var output_area = handle.output_area;\n",
              "    var output = handle.output;\n",
              "\n",
              "    // limit handleAddOutput to display_data with EXEC_MIME_TYPE content only\n",
              "    if ((output.output_type != \"display_data\") || (!output.data.hasOwnProperty(EXEC_MIME_TYPE))) {\n",
              "      return\n",
              "    }\n",
              "\n",
              "    var toinsert = output_area.element.find(\".\" + CLASS_NAME.split(' ')[0]);\n",
              "\n",
              "    if (output.metadata[EXEC_MIME_TYPE][\"id\"] !== undefined) {\n",
              "      toinsert[toinsert.length - 1].firstChild.textContent = output.data[JS_MIME_TYPE];\n",
              "      // store reference to embed id on output_area\n",
              "      output_area._bokeh_element_id = output.metadata[EXEC_MIME_TYPE][\"id\"];\n",
              "    }\n",
              "    if (output.metadata[EXEC_MIME_TYPE][\"server_id\"] !== undefined) {\n",
              "      var bk_div = document.createElement(\"div\");\n",
              "      bk_div.innerHTML = output.data[HTML_MIME_TYPE];\n",
              "      var script_attrs = bk_div.children[0].attributes;\n",
              "      for (var i = 0; i < script_attrs.length; i++) {\n",
              "        toinsert[toinsert.length - 1].firstChild.setAttribute(script_attrs[i].name, script_attrs[i].value);\n",
              "        toinsert[toinsert.length - 1].firstChild.textContent = bk_div.children[0].textContent\n",
              "      }\n",
              "      // store reference to server id on output_area\n",
              "      output_area._bokeh_server_id = output.metadata[EXEC_MIME_TYPE][\"server_id\"];\n",
              "    }\n",
              "  }\n",
              "\n",
              "  function register_renderer(events, OutputArea) {\n",
              "\n",
              "    function append_mime(data, metadata, element) {\n",
              "      // create a DOM node to render to\n",
              "      var toinsert = this.create_output_subarea(\n",
              "        metadata,\n",
              "        CLASS_NAME,\n",
              "        EXEC_MIME_TYPE\n",
              "      );\n",
              "      this.keyboard_manager.register_events(toinsert);\n",
              "      // Render to node\n",
              "      var props = {data: data, metadata: metadata[EXEC_MIME_TYPE]};\n",
              "      render(props, toinsert[toinsert.length - 1]);\n",
              "      element.append(toinsert);\n",
              "      return toinsert\n",
              "    }\n",
              "\n",
              "    /* Handle when an output is cleared or removed */\n",
              "    events.on('clear_output.CodeCell', handleClearOutput);\n",
              "    events.on('delete.Cell', handleClearOutput);\n",
              "\n",
              "    /* Handle when a new output is added */\n",
              "    events.on('output_added.OutputArea', handleAddOutput);\n",
              "\n",
              "    /**\n",
              "     * Register the mime type and append_mime function with output_area\n",
              "     */\n",
              "    OutputArea.prototype.register_mime_type(EXEC_MIME_TYPE, append_mime, {\n",
              "      /* Is output safe? */\n",
              "      safe: true,\n",
              "      /* Index of renderer in `output_area.display_order` */\n",
              "      index: 0\n",
              "    });\n",
              "  }\n",
              "\n",
              "  // register the mime type if in Jupyter Notebook environment and previously unregistered\n",
              "  if (root.Jupyter !== undefined) {\n",
              "    var events = require('base/js/events');\n",
              "    var OutputArea = require('notebook/js/outputarea').OutputArea;\n",
              "\n",
              "    if (OutputArea.prototype.mime_types().indexOf(EXEC_MIME_TYPE) == -1) {\n",
              "      register_renderer(events, OutputArea);\n",
              "    }\n",
              "  }\n",
              "\n",
              "  \n",
              "  if (typeof (root._bokeh_timeout) === \"undefined\" || force === true) {\n",
              "    root._bokeh_timeout = Date.now() + 5000;\n",
              "    root._bokeh_failed_load = false;\n",
              "  }\n",
              "\n",
              "  var NB_LOAD_WARNING = {'data': {'text/html':\n",
              "     \"<div style='background-color: #fdd'>\\n\"+\n",
              "     \"<p>\\n\"+\n",
              "     \"BokehJS does not appear to have successfully loaded. If loading BokehJS from CDN, this \\n\"+\n",
              "     \"may be due to a slow or bad network connection. Possible fixes:\\n\"+\n",
              "     \"</p>\\n\"+\n",
              "     \"<ul>\\n\"+\n",
              "     \"<li>re-rerun `output_notebook()` to attempt to load from CDN again, or</li>\\n\"+\n",
              "     \"<li>use INLINE resources instead, as so:</li>\\n\"+\n",
              "     \"</ul>\\n\"+\n",
              "     \"<code>\\n\"+\n",
              "     \"from bokeh.resources import INLINE\\n\"+\n",
              "     \"output_notebook(resources=INLINE)\\n\"+\n",
              "     \"</code>\\n\"+\n",
              "     \"</div>\"}};\n",
              "\n",
              "  function display_loaded() {\n",
              "    var el = document.getElementById(null);\n",
              "    if (el != null) {\n",
              "      el.textContent = \"BokehJS is loading...\";\n",
              "    }\n",
              "    if (root.Bokeh !== undefined) {\n",
              "      if (el != null) {\n",
              "        el.textContent = \"BokehJS \" + root.Bokeh.version + \" successfully loaded.\";\n",
              "      }\n",
              "    } else if (Date.now() < root._bokeh_timeout) {\n",
              "      setTimeout(display_loaded, 100)\n",
              "    }\n",
              "  }\n",
              "\n",
              "\n",
              "  function run_callbacks() {\n",
              "    try {\n",
              "      root._bokeh_onload_callbacks.forEach(function(callback) {\n",
              "        if (callback != null)\n",
              "          callback();\n",
              "      });\n",
              "    } finally {\n",
              "      delete root._bokeh_onload_callbacks\n",
              "    }\n",
              "    console.debug(\"Bokeh: all callbacks have finished\");\n",
              "  }\n",
              "\n",
              "  function load_libs(css_urls, js_urls, callback) {\n",
              "    if (css_urls == null) css_urls = [];\n",
              "    if (js_urls == null) js_urls = [];\n",
              "\n",
              "    root._bokeh_onload_callbacks.push(callback);\n",
              "    if (root._bokeh_is_loading > 0) {\n",
              "      console.debug(\"Bokeh: BokehJS is being loaded, scheduling callback at\", now());\n",
              "      return null;\n",
              "    }\n",
              "    if (js_urls == null || js_urls.length === 0) {\n",
              "      run_callbacks();\n",
              "      return null;\n",
              "    }\n",
              "    console.debug(\"Bokeh: BokehJS not loaded, scheduling load and callback at\", now());\n",
              "    root._bokeh_is_loading = css_urls.length + js_urls.length;\n",
              "\n",
              "    function on_load() {\n",
              "      root._bokeh_is_loading--;\n",
              "      if (root._bokeh_is_loading === 0) {\n",
              "        console.debug(\"Bokeh: all BokehJS libraries/stylesheets loaded\");\n",
              "        run_callbacks()\n",
              "      }\n",
              "    }\n",
              "\n",
              "    function on_error() {\n",
              "      console.error(\"failed to load \" + url);\n",
              "    }\n",
              "\n",
              "    for (var i = 0; i < css_urls.length; i++) {\n",
              "      var url = css_urls[i];\n",
              "      const element = document.createElement(\"link\");\n",
              "      element.onload = on_load;\n",
              "      element.onerror = on_error;\n",
              "      element.rel = \"stylesheet\";\n",
              "      element.type = \"text/css\";\n",
              "      element.href = url;\n",
              "      console.debug(\"Bokeh: injecting link tag for BokehJS stylesheet: \", url);\n",
              "      document.body.appendChild(element);\n",
              "    }\n",
              "\n",
              "    const hashes = {\"https://cdn.bokeh.org/bokeh/release/bokeh-2.1.1.min.js\": \"kLr4fYcqcSpbuI95brIH3vnnYCquzzSxHPU6XGQCIkQRGJwhg0StNbj1eegrHs12\", \"https://cdn.bokeh.org/bokeh/release/bokeh-widgets-2.1.1.min.js\": \"xIGPmVtaOm+z0BqfSOMn4lOR6ciex448GIKG4eE61LsAvmGj48XcMQZtKcE/UXZe\", \"https://cdn.bokeh.org/bokeh/release/bokeh-tables-2.1.1.min.js\": \"Dc9u1wF/0zApGIWoBbH77iWEHtdmkuYWG839Uzmv8y8yBLXebjO9ZnERsde5Ln/P\", \"https://cdn.bokeh.org/bokeh/release/bokeh-gl-2.1.1.min.js\": \"cT9JaBz7GiRXdENrJLZNSC6eMNF3nh3fa5fTF51Svp+ukxPdwcU5kGXGPBgDCa2j\"};\n",
              "\n",
              "    for (var i = 0; i < js_urls.length; i++) {\n",
              "      var url = js_urls[i];\n",
              "      var element = document.createElement('script');\n",
              "      element.onload = on_load;\n",
              "      element.onerror = on_error;\n",
              "      element.async = false;\n",
              "      element.src = url;\n",
              "      if (url in hashes) {\n",
              "        element.crossOrigin = \"anonymous\";\n",
              "        element.integrity = \"sha384-\" + hashes[url];\n",
              "      }\n",
              "      console.debug(\"Bokeh: injecting script tag for BokehJS library: \", url);\n",
              "      document.head.appendChild(element);\n",
              "    }\n",
              "  };\n",
              "\n",
              "  function inject_raw_css(css) {\n",
              "    const element = document.createElement(\"style\");\n",
              "    element.appendChild(document.createTextNode(css));\n",
              "    document.body.appendChild(element);\n",
              "  }\n",
              "\n",
              "  \n",
              "  var js_urls = [\"https://cdn.bokeh.org/bokeh/release/bokeh-2.1.1.min.js\", \"https://cdn.bokeh.org/bokeh/release/bokeh-widgets-2.1.1.min.js\", \"https://cdn.bokeh.org/bokeh/release/bokeh-tables-2.1.1.min.js\", \"https://cdn.bokeh.org/bokeh/release/bokeh-gl-2.1.1.min.js\"];\n",
              "  var css_urls = [];\n",
              "  \n",
              "\n",
              "  var inline_js = [\n",
              "    function(Bokeh) {\n",
              "      Bokeh.set_log_level(\"info\");\n",
              "    },\n",
              "    function(Bokeh) {\n",
              "    \n",
              "    \n",
              "    }\n",
              "  ];\n",
              "\n",
              "  function run_inline_js() {\n",
              "    \n",
              "    if (root.Bokeh !== undefined || force === true) {\n",
              "      \n",
              "    for (var i = 0; i < inline_js.length; i++) {\n",
              "      inline_js[i].call(root, root.Bokeh);\n",
              "    }\n",
              "    } else if (Date.now() < root._bokeh_timeout) {\n",
              "      setTimeout(run_inline_js, 100);\n",
              "    } else if (!root._bokeh_failed_load) {\n",
              "      console.log(\"Bokeh: BokehJS failed to load within specified timeout.\");\n",
              "      root._bokeh_failed_load = true;\n",
              "    } else if (force !== true) {\n",
              "      var cell = $(document.getElementById(null)).parents('.cell').data().cell;\n",
              "      cell.output_area.append_execute_result(NB_LOAD_WARNING)\n",
              "    }\n",
              "\n",
              "  }\n",
              "\n",
              "  if (root._bokeh_is_loading === 0) {\n",
              "    console.debug(\"Bokeh: BokehJS loaded, going straight to plotting\");\n",
              "    run_inline_js();\n",
              "  } else {\n",
              "    load_libs(css_urls, js_urls, function() {\n",
              "      console.debug(\"Bokeh: BokehJS plotting callback run at\", now());\n",
              "      run_inline_js();\n",
              "    });\n",
              "  }\n",
              "}(window));"
            ],
            "application/vnd.bokehjs_load.v0+json": "\n(function(root) {\n  function now() {\n    return new Date();\n  }\n\n  var force = true;\n\n  if (typeof root._bokeh_onload_callbacks === \"undefined\" || force === true) {\n    root._bokeh_onload_callbacks = [];\n    root._bokeh_is_loading = undefined;\n  }\n\n  \n\n  \n  if (typeof (root._bokeh_timeout) === \"undefined\" || force === true) {\n    root._bokeh_timeout = Date.now() + 5000;\n    root._bokeh_failed_load = false;\n  }\n\n  var NB_LOAD_WARNING = {'data': {'text/html':\n     \"<div style='background-color: #fdd'>\\n\"+\n     \"<p>\\n\"+\n     \"BokehJS does not appear to have successfully loaded. If loading BokehJS from CDN, this \\n\"+\n     \"may be due to a slow or bad network connection. Possible fixes:\\n\"+\n     \"</p>\\n\"+\n     \"<ul>\\n\"+\n     \"<li>re-rerun `output_notebook()` to attempt to load from CDN again, or</li>\\n\"+\n     \"<li>use INLINE resources instead, as so:</li>\\n\"+\n     \"</ul>\\n\"+\n     \"<code>\\n\"+\n     \"from bokeh.resources import INLINE\\n\"+\n     \"output_notebook(resources=INLINE)\\n\"+\n     \"</code>\\n\"+\n     \"</div>\"}};\n\n  function display_loaded() {\n    var el = document.getElementById(null);\n    if (el != null) {\n      el.textContent = \"BokehJS is loading...\";\n    }\n    if (root.Bokeh !== undefined) {\n      if (el != null) {\n        el.textContent = \"BokehJS \" + root.Bokeh.version + \" successfully loaded.\";\n      }\n    } else if (Date.now() < root._bokeh_timeout) {\n      setTimeout(display_loaded, 100)\n    }\n  }\n\n\n  function run_callbacks() {\n    try {\n      root._bokeh_onload_callbacks.forEach(function(callback) {\n        if (callback != null)\n          callback();\n      });\n    } finally {\n      delete root._bokeh_onload_callbacks\n    }\n    console.debug(\"Bokeh: all callbacks have finished\");\n  }\n\n  function load_libs(css_urls, js_urls, callback) {\n    if (css_urls == null) css_urls = [];\n    if (js_urls == null) js_urls = [];\n\n    root._bokeh_onload_callbacks.push(callback);\n    if (root._bokeh_is_loading > 0) {\n      console.debug(\"Bokeh: BokehJS is being loaded, scheduling callback at\", now());\n      return null;\n    }\n    if (js_urls == null || js_urls.length === 0) {\n      run_callbacks();\n      return null;\n    }\n    console.debug(\"Bokeh: BokehJS not loaded, scheduling load and callback at\", now());\n    root._bokeh_is_loading = css_urls.length + js_urls.length;\n\n    function on_load() {\n      root._bokeh_is_loading--;\n      if (root._bokeh_is_loading === 0) {\n        console.debug(\"Bokeh: all BokehJS libraries/stylesheets loaded\");\n        run_callbacks()\n      }\n    }\n\n    function on_error() {\n      console.error(\"failed to load \" + url);\n    }\n\n    for (var i = 0; i < css_urls.length; i++) {\n      var url = css_urls[i];\n      const element = document.createElement(\"link\");\n      element.onload = on_load;\n      element.onerror = on_error;\n      element.rel = \"stylesheet\";\n      element.type = \"text/css\";\n      element.href = url;\n      console.debug(\"Bokeh: injecting link tag for BokehJS stylesheet: \", url);\n      document.body.appendChild(element);\n    }\n\n    const hashes = {\"https://cdn.bokeh.org/bokeh/release/bokeh-2.1.1.min.js\": \"kLr4fYcqcSpbuI95brIH3vnnYCquzzSxHPU6XGQCIkQRGJwhg0StNbj1eegrHs12\", \"https://cdn.bokeh.org/bokeh/release/bokeh-widgets-2.1.1.min.js\": \"xIGPmVtaOm+z0BqfSOMn4lOR6ciex448GIKG4eE61LsAvmGj48XcMQZtKcE/UXZe\", \"https://cdn.bokeh.org/bokeh/release/bokeh-tables-2.1.1.min.js\": \"Dc9u1wF/0zApGIWoBbH77iWEHtdmkuYWG839Uzmv8y8yBLXebjO9ZnERsde5Ln/P\", \"https://cdn.bokeh.org/bokeh/release/bokeh-gl-2.1.1.min.js\": \"cT9JaBz7GiRXdENrJLZNSC6eMNF3nh3fa5fTF51Svp+ukxPdwcU5kGXGPBgDCa2j\"};\n\n    for (var i = 0; i < js_urls.length; i++) {\n      var url = js_urls[i];\n      var element = document.createElement('script');\n      element.onload = on_load;\n      element.onerror = on_error;\n      element.async = false;\n      element.src = url;\n      if (url in hashes) {\n        element.crossOrigin = \"anonymous\";\n        element.integrity = \"sha384-\" + hashes[url];\n      }\n      console.debug(\"Bokeh: injecting script tag for BokehJS library: \", url);\n      document.head.appendChild(element);\n    }\n  };\n\n  function inject_raw_css(css) {\n    const element = document.createElement(\"style\");\n    element.appendChild(document.createTextNode(css));\n    document.body.appendChild(element);\n  }\n\n  \n  var js_urls = [\"https://cdn.bokeh.org/bokeh/release/bokeh-2.1.1.min.js\", \"https://cdn.bokeh.org/bokeh/release/bokeh-widgets-2.1.1.min.js\", \"https://cdn.bokeh.org/bokeh/release/bokeh-tables-2.1.1.min.js\", \"https://cdn.bokeh.org/bokeh/release/bokeh-gl-2.1.1.min.js\"];\n  var css_urls = [];\n  \n\n  var inline_js = [\n    function(Bokeh) {\n      Bokeh.set_log_level(\"info\");\n    },\n    function(Bokeh) {\n    \n    \n    }\n  ];\n\n  function run_inline_js() {\n    \n    if (root.Bokeh !== undefined || force === true) {\n      \n    for (var i = 0; i < inline_js.length; i++) {\n      inline_js[i].call(root, root.Bokeh);\n    }\n    } else if (Date.now() < root._bokeh_timeout) {\n      setTimeout(run_inline_js, 100);\n    } else if (!root._bokeh_failed_load) {\n      console.log(\"Bokeh: BokehJS failed to load within specified timeout.\");\n      root._bokeh_failed_load = true;\n    } else if (force !== true) {\n      var cell = $(document.getElementById(null)).parents('.cell').data().cell;\n      cell.output_area.append_execute_result(NB_LOAD_WARNING)\n    }\n\n  }\n\n  if (root._bokeh_is_loading === 0) {\n    console.debug(\"Bokeh: BokehJS loaded, going straight to plotting\");\n    run_inline_js();\n  } else {\n    load_libs(css_urls, js_urls, function() {\n      console.debug(\"Bokeh: BokehJS plotting callback run at\", now());\n      run_inline_js();\n    });\n  }\n}(window));"
          },
          "metadata": {
            "tags": []
          }
        },
        {
          "output_type": "display_data",
          "data": {
            "text/html": [
              "\n",
              "\n",
              "\n",
              "\n",
              "\n",
              "\n",
              "  <div class=\"bk-root\" id=\"fbe2d1fe-6082-4fa5-b046-2099122779e5\" data-root-id=\"7899\"></div>\n"
            ]
          },
          "metadata": {
            "tags": []
          }
        },
        {
          "output_type": "display_data",
          "data": {
            "application/javascript": [
              "(function(root) {\n",
              "  function embed_document(root) {\n",
              "    \n",
              "  var docs_json = {\"877c78b3-7238-40e7-9581-de0879eb5941\":{\"roots\":{\"references\":[{\"attributes\":{\"below\":[{\"id\":\"7910\"}],\"center\":[{\"id\":\"7913\"},{\"id\":\"7917\"}],\"left\":[{\"id\":\"7914\"}],\"plot_height\":400,\"plot_width\":400,\"renderers\":[{\"id\":\"7936\"}],\"title\":{\"id\":\"7900\"},\"toolbar\":{\"id\":\"7925\"},\"x_range\":{\"id\":\"7902\"},\"x_scale\":{\"id\":\"7906\"},\"y_range\":{\"id\":\"7904\"},\"y_scale\":{\"id\":\"7908\"}},\"id\":\"7899\",\"subtype\":\"Figure\",\"type\":\"Plot\"},{\"attributes\":{},\"id\":\"7923\",\"type\":\"HelpTool\"},{\"attributes\":{},\"id\":\"7915\",\"type\":\"BasicTicker\"},{\"attributes\":{},\"id\":\"7902\",\"type\":\"DataRange1d\"},{\"attributes\":{\"axis\":{\"id\":\"7910\"},\"ticker\":null},\"id\":\"7913\",\"type\":\"Grid\"},{\"attributes\":{\"bottom\":{\"value\":0},\"fill_color\":{\"value\":\"blue\"},\"left\":{\"field\":\"left\"},\"right\":{\"field\":\"right\"},\"top\":{\"field\":\"sepal_length\"}},\"id\":\"7935\",\"type\":\"Quad\"},{\"attributes\":{\"source\":{\"id\":\"7898\"}},\"id\":\"7937\",\"type\":\"CDSView\"},{\"attributes\":{\"bottom\":{\"value\":0},\"fill_alpha\":{\"value\":0.1},\"fill_color\":{\"value\":\"red\"},\"left\":{\"field\":\"left\"},\"line_alpha\":{\"value\":0.1},\"right\":{\"field\":\"right\"},\"top\":{\"field\":\"sepal_length\"}},\"id\":\"7934\",\"type\":\"Quad\"},{\"attributes\":{\"callback\":null,\"tooltips\":[[\"Interval\",\"@tofrom\"],[\"Count\",\"@sepal_length\"]]},\"id\":\"7938\",\"type\":\"HoverTool\"},{\"attributes\":{},\"id\":\"8191\",\"type\":\"BasicTickFormatter\"},{\"attributes\":{\"overlay\":{\"id\":\"7924\"}},\"id\":\"7920\",\"type\":\"BoxZoomTool\"},{\"attributes\":{\"data_source\":{\"id\":\"7898\"},\"glyph\":{\"id\":\"7933\"},\"hover_glyph\":{\"id\":\"7935\"},\"muted_glyph\":null,\"nonselection_glyph\":{\"id\":\"7934\"},\"selection_glyph\":null,\"view\":{\"id\":\"7937\"}},\"id\":\"7936\",\"type\":\"GlyphRenderer\"},{\"attributes\":{\"bottom_units\":\"screen\",\"fill_alpha\":0.5,\"fill_color\":\"lightgrey\",\"left_units\":\"screen\",\"level\":\"overlay\",\"line_alpha\":1.0,\"line_color\":\"black\",\"line_dash\":[4,4],\"line_width\":2,\"right_units\":\"screen\",\"top_units\":\"screen\"},\"id\":\"7924\",\"type\":\"BoxAnnotation\"},{\"attributes\":{},\"id\":\"7918\",\"type\":\"PanTool\"},{\"attributes\":{},\"id\":\"7922\",\"type\":\"ResetTool\"},{\"attributes\":{\"axis\":{\"id\":\"7914\"},\"dimension\":1,\"ticker\":null},\"id\":\"7917\",\"type\":\"Grid\"},{\"attributes\":{},\"id\":\"7908\",\"type\":\"LinearScale\"},{\"attributes\":{\"text\":\"sepal_length\"},\"id\":\"7900\",\"type\":\"Title\"},{\"attributes\":{},\"id\":\"7906\",\"type\":\"LinearScale\"},{\"attributes\":{\"data\":{\"index\":[0,1,2,3,4,5,6,7,8,9],\"left\":{\"__ndarray__\":\"pagZbZ7r/b8s4+YH7fD2v2g7aEV37O+/drACexT34b8YlnTCxgbAv9TKkDNi59M/XvAt5BPp5z+nvUlXO+/yPx+DfLzs6fk/TKTXEE9yAEA=\",\"dtype\":\"float64\",\"order\":\"little\",\"shape\":[10]},\"right\":{\"__ndarray__\":\"LOPmB+3w9r9oO2hFd+zvv3awAnsU9+G/GJZ0wsYGwL/UypAzYufTP17wLeQT6ec/p71JVzvv8j8fg3y87On5P0yk1xBPcgBACAdxw6fvA0A=\",\"dtype\":\"float64\",\"order\":\"little\",\"shape\":[10]},\"sepal_length\":[9,23,14,27,22,20,18,6,5,6],\"tofrom\":[\"-1.870024133847019 to -1.433819800249874\",\"-1.433819800249874 to -0.9976154666527295\",\"-0.9976154666527295 to -0.5614111330555847\",\"-0.5614111330555847 to -0.12520679945844004\",\"-0.12520679945844004 to 0.31099753413870457\",\"0.31099753413870457 to 0.7472018677358496\",\"0.7472018677358496 to 1.1834062013329942\",\"1.1834062013329942 to 1.6196105349301388\",\"1.6196105349301388 to 2.0558148685272837\",\"2.0558148685272837 to 2.4920192021244283\"]},\"selected\":{\"id\":\"8194\"},\"selection_policy\":{\"id\":\"8193\"}},\"id\":\"7898\",\"type\":\"ColumnDataSource\"},{\"attributes\":{\"bottom\":{\"value\":0},\"fill_alpha\":{\"value\":0.7},\"fill_color\":{\"value\":\"red\"},\"left\":{\"field\":\"left\"},\"right\":{\"field\":\"right\"},\"top\":{\"field\":\"sepal_length\"}},\"id\":\"7933\",\"type\":\"Quad\"},{\"attributes\":{},\"id\":\"7911\",\"type\":\"BasicTicker\"},{\"attributes\":{},\"id\":\"8194\",\"type\":\"Selection\"},{\"attributes\":{},\"id\":\"7904\",\"type\":\"DataRange1d\"},{\"attributes\":{\"formatter\":{\"id\":\"8189\"},\"ticker\":{\"id\":\"7915\"}},\"id\":\"7914\",\"type\":\"LinearAxis\"},{\"attributes\":{\"active_drag\":\"auto\",\"active_inspect\":\"auto\",\"active_multi\":null,\"active_scroll\":\"auto\",\"active_tap\":\"auto\",\"tools\":[{\"id\":\"7918\"},{\"id\":\"7919\"},{\"id\":\"7920\"},{\"id\":\"7921\"},{\"id\":\"7922\"},{\"id\":\"7923\"},{\"id\":\"7938\"}]},\"id\":\"7925\",\"type\":\"Toolbar\"},{\"attributes\":{\"formatter\":{\"id\":\"8191\"},\"ticker\":{\"id\":\"7911\"}},\"id\":\"7910\",\"type\":\"LinearAxis\"},{\"attributes\":{},\"id\":\"7921\",\"type\":\"SaveTool\"},{\"attributes\":{},\"id\":\"8193\",\"type\":\"UnionRenderers\"},{\"attributes\":{},\"id\":\"8189\",\"type\":\"BasicTickFormatter\"},{\"attributes\":{},\"id\":\"7919\",\"type\":\"WheelZoomTool\"}],\"root_ids\":[\"7899\"]},\"title\":\"Bokeh Application\",\"version\":\"2.1.1\"}};\n",
              "  var render_items = [{\"docid\":\"877c78b3-7238-40e7-9581-de0879eb5941\",\"root_ids\":[\"7899\"],\"roots\":{\"7899\":\"fbe2d1fe-6082-4fa5-b046-2099122779e5\"}}];\n",
              "  root.Bokeh.embed.embed_items_notebook(docs_json, render_items);\n",
              "\n",
              "  }\n",
              "  if (root.Bokeh !== undefined) {\n",
              "    embed_document(root);\n",
              "  } else {\n",
              "    var attempts = 0;\n",
              "    var timer = setInterval(function(root) {\n",
              "      if (root.Bokeh !== undefined) {\n",
              "        clearInterval(timer);\n",
              "        embed_document(root);\n",
              "      } else {\n",
              "        attempts++;\n",
              "        if (attempts > 100) {\n",
              "          clearInterval(timer);\n",
              "          console.log(\"Bokeh: ERROR: Unable to run BokehJS code because BokehJS library is missing\");\n",
              "        }\n",
              "      }\n",
              "    }, 10, root)\n",
              "  }\n",
              "})(window);"
            ],
            "application/vnd.bokehjs_exec.v0+json": ""
          },
          "metadata": {
            "tags": [],
            "application/vnd.bokehjs_exec.v0+json": {
              "id": "7899"
            }
          }
        },
        {
          "output_type": "display_data",
          "data": {
            "text/html": [
              "\n",
              "\n",
              "\n",
              "\n",
              "\n",
              "\n",
              "  <div class=\"bk-root\" id=\"753d05fc-d3af-4789-a676-a64d5290d17b\" data-root-id=\"8245\"></div>\n"
            ]
          },
          "metadata": {
            "tags": []
          }
        },
        {
          "output_type": "display_data",
          "data": {
            "application/javascript": [
              "(function(root) {\n",
              "  function embed_document(root) {\n",
              "    \n",
              "  var docs_json = {\"893568d9-71bb-46b6-97f5-d51d9452be54\":{\"roots\":{\"references\":[{\"attributes\":{\"below\":[{\"id\":\"8256\"}],\"center\":[{\"id\":\"8259\"},{\"id\":\"8263\"}],\"left\":[{\"id\":\"8260\"}],\"plot_height\":400,\"plot_width\":400,\"renderers\":[{\"id\":\"8282\"}],\"title\":{\"id\":\"8246\"},\"toolbar\":{\"id\":\"8271\"},\"x_range\":{\"id\":\"8248\"},\"x_scale\":{\"id\":\"8252\"},\"y_range\":{\"id\":\"8250\"},\"y_scale\":{\"id\":\"8254\"}},\"id\":\"8245\",\"subtype\":\"Figure\",\"type\":\"Plot\"},{\"attributes\":{\"data\":{\"index\":[0,1,2,3,4,5,6,7,8,9],\"left\":{\"__ndarray__\":\"voGmvwuDA8BGVS/eTiP+vw+nET2GQPW/sPHnN3u76L8QVbLWp9fLv1COHZlOn9U/mCPKjjiV7D8CwILoZC33Pxw30MQWCABAOA5fFXt5BEA=\",\"dtype\":\"float64\",\"order\":\"little\",\"shape\":[10]},\"right\":{\"__ndarray__\":\"RlUv3k4j/r8PpxE9hkD1v7Dx5zd7u+i/EFWy1qfXy79Qjh2ZTp/VP5gjyo44lew/AsCC6GQt9z8cN9DEFggAQDgOXxV7eQRAUeXtZd/qCEA=\",\"dtype\":\"float64\",\"order\":\"little\",\"shape\":[10]},\"sepal_width\":[4,7,22,24,51,18,9,11,2,2],\"tofrom\":[\"-2.438987252491841 to -1.8836201361749132\",\"-1.8836201361749132 to -1.3282530198579854\",\"-1.3282530198579854 to -0.7728859035410576\",\"-0.7728859035410576 to -0.21751878722412998\",\"-0.21751878722412998 to 0.3378483290927976\",\"0.3378483290927976 to 0.8932154454097256\",\"0.8932154454097256 to 1.4485825617266532\",\"1.4485825617266532 to 2.003949678043581\",\"2.003949678043581 to 2.559316794360509\",\"2.559316794360509 to 3.1146839106774356\"]},\"selected\":{\"id\":\"8548\"},\"selection_policy\":{\"id\":\"8547\"}},\"id\":\"8244\",\"type\":\"ColumnDataSource\"},{\"attributes\":{\"source\":{\"id\":\"8244\"}},\"id\":\"8283\",\"type\":\"CDSView\"},{\"attributes\":{\"axis\":{\"id\":\"8256\"},\"ticker\":null},\"id\":\"8259\",\"type\":\"Grid\"},{\"attributes\":{\"active_drag\":\"auto\",\"active_inspect\":\"auto\",\"active_multi\":null,\"active_scroll\":\"auto\",\"active_tap\":\"auto\",\"tools\":[{\"id\":\"8264\"},{\"id\":\"8265\"},{\"id\":\"8266\"},{\"id\":\"8267\"},{\"id\":\"8268\"},{\"id\":\"8269\"},{\"id\":\"8284\"}]},\"id\":\"8271\",\"type\":\"Toolbar\"},{\"attributes\":{},\"id\":\"8248\",\"type\":\"DataRange1d\"},{\"attributes\":{\"formatter\":{\"id\":\"8543\"},\"ticker\":{\"id\":\"8261\"}},\"id\":\"8260\",\"type\":\"LinearAxis\"},{\"attributes\":{},\"id\":\"8250\",\"type\":\"DataRange1d\"},{\"attributes\":{},\"id\":\"8261\",\"type\":\"BasicTicker\"},{\"attributes\":{},\"id\":\"8545\",\"type\":\"BasicTickFormatter\"},{\"attributes\":{},\"id\":\"8548\",\"type\":\"Selection\"},{\"attributes\":{\"bottom\":{\"value\":0},\"fill_alpha\":{\"value\":0.1},\"fill_color\":{\"value\":\"red\"},\"left\":{\"field\":\"left\"},\"line_alpha\":{\"value\":0.1},\"right\":{\"field\":\"right\"},\"top\":{\"field\":\"sepal_width\"}},\"id\":\"8280\",\"type\":\"Quad\"},{\"attributes\":{\"callback\":null,\"tooltips\":[[\"Interval\",\"@tofrom\"],[\"Count\",\"@sepal_width\"]]},\"id\":\"8284\",\"type\":\"HoverTool\"},{\"attributes\":{},\"id\":\"8267\",\"type\":\"SaveTool\"},{\"attributes\":{\"bottom\":{\"value\":0},\"fill_alpha\":{\"value\":0.7},\"fill_color\":{\"value\":\"red\"},\"left\":{\"field\":\"left\"},\"right\":{\"field\":\"right\"},\"top\":{\"field\":\"sepal_width\"}},\"id\":\"8279\",\"type\":\"Quad\"},{\"attributes\":{},\"id\":\"8543\",\"type\":\"BasicTickFormatter\"},{\"attributes\":{},\"id\":\"8265\",\"type\":\"WheelZoomTool\"},{\"attributes\":{},\"id\":\"8547\",\"type\":\"UnionRenderers\"},{\"attributes\":{},\"id\":\"8264\",\"type\":\"PanTool\"},{\"attributes\":{},\"id\":\"8257\",\"type\":\"BasicTicker\"},{\"attributes\":{\"axis\":{\"id\":\"8260\"},\"dimension\":1,\"ticker\":null},\"id\":\"8263\",\"type\":\"Grid\"},{\"attributes\":{},\"id\":\"8252\",\"type\":\"LinearScale\"},{\"attributes\":{\"bottom\":{\"value\":0},\"fill_color\":{\"value\":\"blue\"},\"left\":{\"field\":\"left\"},\"right\":{\"field\":\"right\"},\"top\":{\"field\":\"sepal_width\"}},\"id\":\"8281\",\"type\":\"Quad\"},{\"attributes\":{\"text\":\"sepal_width\"},\"id\":\"8246\",\"type\":\"Title\"},{\"attributes\":{\"overlay\":{\"id\":\"8270\"}},\"id\":\"8266\",\"type\":\"BoxZoomTool\"},{\"attributes\":{\"formatter\":{\"id\":\"8545\"},\"ticker\":{\"id\":\"8257\"}},\"id\":\"8256\",\"type\":\"LinearAxis\"},{\"attributes\":{},\"id\":\"8269\",\"type\":\"HelpTool\"},{\"attributes\":{\"data_source\":{\"id\":\"8244\"},\"glyph\":{\"id\":\"8279\"},\"hover_glyph\":{\"id\":\"8281\"},\"muted_glyph\":null,\"nonselection_glyph\":{\"id\":\"8280\"},\"selection_glyph\":null,\"view\":{\"id\":\"8283\"}},\"id\":\"8282\",\"type\":\"GlyphRenderer\"},{\"attributes\":{\"bottom_units\":\"screen\",\"fill_alpha\":0.5,\"fill_color\":\"lightgrey\",\"left_units\":\"screen\",\"level\":\"overlay\",\"line_alpha\":1.0,\"line_color\":\"black\",\"line_dash\":[4,4],\"line_width\":2,\"right_units\":\"screen\",\"top_units\":\"screen\"},\"id\":\"8270\",\"type\":\"BoxAnnotation\"},{\"attributes\":{},\"id\":\"8254\",\"type\":\"LinearScale\"},{\"attributes\":{},\"id\":\"8268\",\"type\":\"ResetTool\"}],\"root_ids\":[\"8245\"]},\"title\":\"Bokeh Application\",\"version\":\"2.1.1\"}};\n",
              "  var render_items = [{\"docid\":\"893568d9-71bb-46b6-97f5-d51d9452be54\",\"root_ids\":[\"8245\"],\"roots\":{\"8245\":\"753d05fc-d3af-4789-a676-a64d5290d17b\"}}];\n",
              "  root.Bokeh.embed.embed_items_notebook(docs_json, render_items);\n",
              "\n",
              "  }\n",
              "  if (root.Bokeh !== undefined) {\n",
              "    embed_document(root);\n",
              "  } else {\n",
              "    var attempts = 0;\n",
              "    var timer = setInterval(function(root) {\n",
              "      if (root.Bokeh !== undefined) {\n",
              "        clearInterval(timer);\n",
              "        embed_document(root);\n",
              "      } else {\n",
              "        attempts++;\n",
              "        if (attempts > 100) {\n",
              "          clearInterval(timer);\n",
              "          console.log(\"Bokeh: ERROR: Unable to run BokehJS code because BokehJS library is missing\");\n",
              "        }\n",
              "      }\n",
              "    }, 10, root)\n",
              "  }\n",
              "})(window);"
            ],
            "application/vnd.bokehjs_exec.v0+json": ""
          },
          "metadata": {
            "tags": [],
            "application/vnd.bokehjs_exec.v0+json": {
              "id": "8245"
            }
          }
        },
        {
          "output_type": "display_data",
          "data": {
            "text/html": [
              "\n",
              "\n",
              "\n",
              "\n",
              "\n",
              "\n",
              "  <div class=\"bk-root\" id=\"7b42e6fb-d27a-4a57-9869-746ad33e9d46\" data-root-id=\"8599\"></div>\n"
            ]
          },
          "metadata": {
            "tags": []
          }
        },
        {
          "output_type": "display_data",
          "data": {
            "application/javascript": [
              "(function(root) {\n",
              "  function embed_document(root) {\n",
              "    \n",
              "  var docs_json = {\"cb0199b7-0793-4eac-ba13-34b9d714b208\":{\"roots\":{\"references\":[{\"attributes\":{\"below\":[{\"id\":\"8610\"}],\"center\":[{\"id\":\"8613\"},{\"id\":\"8617\"}],\"left\":[{\"id\":\"8614\"}],\"plot_height\":400,\"plot_width\":400,\"renderers\":[{\"id\":\"8636\"}],\"title\":{\"id\":\"8600\"},\"toolbar\":{\"id\":\"8625\"},\"x_range\":{\"id\":\"8602\"},\"x_scale\":{\"id\":\"8606\"},\"y_range\":{\"id\":\"8604\"},\"y_scale\":{\"id\":\"8608\"}},\"id\":\"8599\",\"subtype\":\"Figure\",\"type\":\"Plot\"},{\"attributes\":{},\"id\":\"8602\",\"type\":\"DataRange1d\"},{\"attributes\":{\"overlay\":{\"id\":\"8624\"}},\"id\":\"8620\",\"type\":\"BoxZoomTool\"},{\"attributes\":{},\"id\":\"8618\",\"type\":\"PanTool\"},{\"attributes\":{},\"id\":\"8910\",\"type\":\"Selection\"},{\"attributes\":{\"axis\":{\"id\":\"8610\"},\"ticker\":null},\"id\":\"8613\",\"type\":\"Grid\"},{\"attributes\":{},\"id\":\"8606\",\"type\":\"LinearScale\"},{\"attributes\":{\"active_drag\":\"auto\",\"active_inspect\":\"auto\",\"active_multi\":null,\"active_scroll\":\"auto\",\"active_tap\":\"auto\",\"tools\":[{\"id\":\"8618\"},{\"id\":\"8619\"},{\"id\":\"8620\"},{\"id\":\"8621\"},{\"id\":\"8622\"},{\"id\":\"8623\"},{\"id\":\"8638\"}]},\"id\":\"8625\",\"type\":\"Toolbar\"},{\"attributes\":{\"formatter\":{\"id\":\"8905\"},\"ticker\":{\"id\":\"8615\"}},\"id\":\"8614\",\"type\":\"LinearAxis\"},{\"attributes\":{\"data\":{\"index\":[0,1,2,3,4,5,6,7,8,9],\"left\":{\"__ndarray__\":\"qf5QGooZ+b+GCVnUTLvzv8cowhwfuuy/gj7SkKT94b/wUIkTqATNv1CwbDiE2rs/nAD7JZZv3D+Wau2eRfToP22qbhVg2PE/j59mW5029z8=\",\"dtype\":\"float64\",\"order\":\"little\",\"shape\":[10]},\"petal_length\":[37,13,0,3,8,26,29,18,11,5],\"right\":{\"__ndarray__\":\"hglZ1Ey787/HKMIcH7rsv4I+0pCk/eG/8FCJE6gEzb9QsGw4hNq7P5wA+yWWb9w/lmrtnkX06D9tqm4VYNjxP4+fZludNvc/s5ReodqU/D8=\",\"dtype\":\"float64\",\"order\":\"little\",\"shape\":[10]},\"tofrom\":[\"-1.5687352207168408 to -1.233227567180252\",\"-1.233227567180252 to -0.8977199136436632\",\"-0.8977199136436632 to -0.5622122601070745\",\"-0.5622122601070745 to -0.22670460657048563\",\"-0.22670460657048563 to 0.10880304696610321\",\"0.10880304696610321 to 0.44431070050269184\",\"0.44431070050269184 to 0.7798183540392809\",\"0.7798183540392809 to 1.1153260075758695\",\"1.1153260075758695 to 1.4508336611124582\",\"1.4508336611124582 to 1.7863413146490472\"]},\"selected\":{\"id\":\"8910\"},\"selection_policy\":{\"id\":\"8909\"}},\"id\":\"8598\",\"type\":\"ColumnDataSource\"},{\"attributes\":{},\"id\":\"8621\",\"type\":\"SaveTool\"},{\"attributes\":{\"bottom\":{\"value\":0},\"fill_alpha\":{\"value\":0.7},\"fill_color\":{\"value\":\"red\"},\"left\":{\"field\":\"left\"},\"right\":{\"field\":\"right\"},\"top\":{\"field\":\"petal_length\"}},\"id\":\"8633\",\"type\":\"Quad\"},{\"attributes\":{\"bottom\":{\"value\":0},\"fill_color\":{\"value\":\"blue\"},\"left\":{\"field\":\"left\"},\"right\":{\"field\":\"right\"},\"top\":{\"field\":\"petal_length\"}},\"id\":\"8635\",\"type\":\"Quad\"},{\"attributes\":{},\"id\":\"8622\",\"type\":\"ResetTool\"},{\"attributes\":{},\"id\":\"8623\",\"type\":\"HelpTool\"},{\"attributes\":{},\"id\":\"8619\",\"type\":\"WheelZoomTool\"},{\"attributes\":{\"bottom_units\":\"screen\",\"fill_alpha\":0.5,\"fill_color\":\"lightgrey\",\"left_units\":\"screen\",\"level\":\"overlay\",\"line_alpha\":1.0,\"line_color\":\"black\",\"line_dash\":[4,4],\"line_width\":2,\"right_units\":\"screen\",\"top_units\":\"screen\"},\"id\":\"8624\",\"type\":\"BoxAnnotation\"},{\"attributes\":{\"text\":\"petal_length\"},\"id\":\"8600\",\"type\":\"Title\"},{\"attributes\":{},\"id\":\"8907\",\"type\":\"BasicTickFormatter\"},{\"attributes\":{\"source\":{\"id\":\"8598\"}},\"id\":\"8637\",\"type\":\"CDSView\"},{\"attributes\":{\"formatter\":{\"id\":\"8907\"},\"ticker\":{\"id\":\"8611\"}},\"id\":\"8610\",\"type\":\"LinearAxis\"},{\"attributes\":{},\"id\":\"8615\",\"type\":\"BasicTicker\"},{\"attributes\":{},\"id\":\"8611\",\"type\":\"BasicTicker\"},{\"attributes\":{\"callback\":null,\"tooltips\":[[\"Interval\",\"@tofrom\"],[\"Count\",\"@petal_length\"]]},\"id\":\"8638\",\"type\":\"HoverTool\"},{\"attributes\":{\"data_source\":{\"id\":\"8598\"},\"glyph\":{\"id\":\"8633\"},\"hover_glyph\":{\"id\":\"8635\"},\"muted_glyph\":null,\"nonselection_glyph\":{\"id\":\"8634\"},\"selection_glyph\":null,\"view\":{\"id\":\"8637\"}},\"id\":\"8636\",\"type\":\"GlyphRenderer\"},{\"attributes\":{},\"id\":\"8608\",\"type\":\"LinearScale\"},{\"attributes\":{\"axis\":{\"id\":\"8614\"},\"dimension\":1,\"ticker\":null},\"id\":\"8617\",\"type\":\"Grid\"},{\"attributes\":{},\"id\":\"8905\",\"type\":\"BasicTickFormatter\"},{\"attributes\":{},\"id\":\"8604\",\"type\":\"DataRange1d\"},{\"attributes\":{},\"id\":\"8909\",\"type\":\"UnionRenderers\"},{\"attributes\":{\"bottom\":{\"value\":0},\"fill_alpha\":{\"value\":0.1},\"fill_color\":{\"value\":\"red\"},\"left\":{\"field\":\"left\"},\"line_alpha\":{\"value\":0.1},\"right\":{\"field\":\"right\"},\"top\":{\"field\":\"petal_length\"}},\"id\":\"8634\",\"type\":\"Quad\"}],\"root_ids\":[\"8599\"]},\"title\":\"Bokeh Application\",\"version\":\"2.1.1\"}};\n",
              "  var render_items = [{\"docid\":\"cb0199b7-0793-4eac-ba13-34b9d714b208\",\"root_ids\":[\"8599\"],\"roots\":{\"8599\":\"7b42e6fb-d27a-4a57-9869-746ad33e9d46\"}}];\n",
              "  root.Bokeh.embed.embed_items_notebook(docs_json, render_items);\n",
              "\n",
              "  }\n",
              "  if (root.Bokeh !== undefined) {\n",
              "    embed_document(root);\n",
              "  } else {\n",
              "    var attempts = 0;\n",
              "    var timer = setInterval(function(root) {\n",
              "      if (root.Bokeh !== undefined) {\n",
              "        clearInterval(timer);\n",
              "        embed_document(root);\n",
              "      } else {\n",
              "        attempts++;\n",
              "        if (attempts > 100) {\n",
              "          clearInterval(timer);\n",
              "          console.log(\"Bokeh: ERROR: Unable to run BokehJS code because BokehJS library is missing\");\n",
              "        }\n",
              "      }\n",
              "    }, 10, root)\n",
              "  }\n",
              "})(window);"
            ],
            "application/vnd.bokehjs_exec.v0+json": ""
          },
          "metadata": {
            "tags": [],
            "application/vnd.bokehjs_exec.v0+json": {
              "id": "8599"
            }
          }
        },
        {
          "output_type": "display_data",
          "data": {
            "text/html": [
              "\n",
              "\n",
              "\n",
              "\n",
              "\n",
              "\n",
              "  <div class=\"bk-root\" id=\"2e363081-64c8-4aa9-a657-007b20c53ff2\" data-root-id=\"8961\"></div>\n"
            ]
          },
          "metadata": {
            "tags": []
          }
        },
        {
          "output_type": "display_data",
          "data": {
            "application/javascript": [
              "(function(root) {\n",
              "  function embed_document(root) {\n",
              "    \n",
              "  var docs_json = {\"03f5b8ff-6bf3-47c0-84ca-674bae979ce1\":{\"roots\":{\"references\":[{\"attributes\":{\"below\":[{\"id\":\"8972\"}],\"center\":[{\"id\":\"8975\"},{\"id\":\"8979\"}],\"left\":[{\"id\":\"8976\"}],\"plot_height\":400,\"plot_width\":400,\"renderers\":[{\"id\":\"8998\"}],\"title\":{\"id\":\"8962\"},\"toolbar\":{\"id\":\"8987\"},\"x_range\":{\"id\":\"8964\"},\"x_scale\":{\"id\":\"8968\"},\"y_range\":{\"id\":\"8966\"},\"y_scale\":{\"id\":\"8970\"}},\"id\":\"8961\",\"subtype\":\"Figure\",\"type\":\"Plot\"},{\"attributes\":{},\"id\":\"8983\",\"type\":\"SaveTool\"},{\"attributes\":{\"callback\":null,\"tooltips\":[[\"Interval\",\"@tofrom\"],[\"Count\",\"@petal_width\"]]},\"id\":\"9000\",\"type\":\"HoverTool\"},{\"attributes\":{},\"id\":\"8984\",\"type\":\"ResetTool\"},{\"attributes\":{},\"id\":\"8973\",\"type\":\"BasicTicker\"},{\"attributes\":{\"active_drag\":\"auto\",\"active_inspect\":\"auto\",\"active_multi\":null,\"active_scroll\":\"auto\",\"active_tap\":\"auto\",\"tools\":[{\"id\":\"8980\"},{\"id\":\"8981\"},{\"id\":\"8982\"},{\"id\":\"8983\"},{\"id\":\"8984\"},{\"id\":\"8985\"},{\"id\":\"9000\"}]},\"id\":\"8987\",\"type\":\"Toolbar\"},{\"attributes\":{},\"id\":\"8981\",\"type\":\"WheelZoomTool\"},{\"attributes\":{\"data_source\":{\"id\":\"8960\"},\"glyph\":{\"id\":\"8995\"},\"hover_glyph\":{\"id\":\"8997\"},\"muted_glyph\":null,\"nonselection_glyph\":{\"id\":\"8996\"},\"selection_glyph\":null,\"view\":{\"id\":\"8999\"}},\"id\":\"8998\",\"type\":\"GlyphRenderer\"},{\"attributes\":{\"formatter\":{\"id\":\"9277\"},\"ticker\":{\"id\":\"8973\"}},\"id\":\"8972\",\"type\":\"LinearAxis\"},{\"attributes\":{},\"id\":\"9275\",\"type\":\"BasicTickFormatter\"},{\"attributes\":{\"data\":{\"index\":[0,1,2,3,4,5,6,7,8,9],\"left\":{\"__ndarray__\":\"q4UoSXcc978SVy25CBDyv/NQZFI0B+q/hOfbZK7c379AWt5J6FXHv4ga+zWMDcE/pEfqWoC43D8GgWtNHXXoPxvvsDb9RvE/sx2sxmtT9j8=\",\"dtype\":\"float64\",\"order\":\"little\",\"shape\":[10]},\"petal_width\":[41,8,1,7,8,33,6,23,9,14],\"right\":{\"__ndarray__\":\"ElctuQgQ8r/zUGRSNAfqv4Tn22Su3N+/QFreSehVx7+IGvs1jA3BP6RH6lqAuNw/BoFrTR116D8b77A2/UbxP7MdrMZrU/Y/TkynVtpf+z8=\",\"dtype\":\"float64\",\"order\":\"little\",\"shape\":[10]},\"tofrom\":[\"-1.4444496972795189 to -1.128914569233022\",\"-1.128914569233022 to -0.8133794411865253\",\"-0.8133794411865253 to -0.4978443131400285\",\"-0.4978443131400285 to -0.18230918509353167\",\"-0.18230918509353167 to 0.1332259429529652\",\"0.1332259429529652 to 0.44876107099946183\",\"0.44876107099946183 to 0.7642961990459589\",\"0.7642961990459589 to 1.0798313270924556\",\"1.0798313270924556 to 1.3953664551389522\",\"1.3953664551389522 to 1.7109015831854495\"]},\"selected\":{\"id\":\"9280\"},\"selection_policy\":{\"id\":\"9279\"}},\"id\":\"8960\",\"type\":\"ColumnDataSource\"},{\"attributes\":{},\"id\":\"8980\",\"type\":\"PanTool\"},{\"attributes\":{},\"id\":\"9280\",\"type\":\"Selection\"},{\"attributes\":{\"axis\":{\"id\":\"8976\"},\"dimension\":1,\"ticker\":null},\"id\":\"8979\",\"type\":\"Grid\"},{\"attributes\":{\"formatter\":{\"id\":\"9275\"},\"ticker\":{\"id\":\"8977\"}},\"id\":\"8976\",\"type\":\"LinearAxis\"},{\"attributes\":{},\"id\":\"8985\",\"type\":\"HelpTool\"},{\"attributes\":{},\"id\":\"9279\",\"type\":\"UnionRenderers\"},{\"attributes\":{},\"id\":\"9277\",\"type\":\"BasicTickFormatter\"},{\"attributes\":{\"bottom_units\":\"screen\",\"fill_alpha\":0.5,\"fill_color\":\"lightgrey\",\"left_units\":\"screen\",\"level\":\"overlay\",\"line_alpha\":1.0,\"line_color\":\"black\",\"line_dash\":[4,4],\"line_width\":2,\"right_units\":\"screen\",\"top_units\":\"screen\"},\"id\":\"8986\",\"type\":\"BoxAnnotation\"},{\"attributes\":{\"overlay\":{\"id\":\"8986\"}},\"id\":\"8982\",\"type\":\"BoxZoomTool\"},{\"attributes\":{},\"id\":\"8966\",\"type\":\"DataRange1d\"},{\"attributes\":{\"axis\":{\"id\":\"8972\"},\"ticker\":null},\"id\":\"8975\",\"type\":\"Grid\"},{\"attributes\":{},\"id\":\"8968\",\"type\":\"LinearScale\"},{\"attributes\":{\"source\":{\"id\":\"8960\"}},\"id\":\"8999\",\"type\":\"CDSView\"},{\"attributes\":{\"bottom\":{\"value\":0},\"fill_alpha\":{\"value\":0.1},\"fill_color\":{\"value\":\"red\"},\"left\":{\"field\":\"left\"},\"line_alpha\":{\"value\":0.1},\"right\":{\"field\":\"right\"},\"top\":{\"field\":\"petal_width\"}},\"id\":\"8996\",\"type\":\"Quad\"},{\"attributes\":{},\"id\":\"8970\",\"type\":\"LinearScale\"},{\"attributes\":{},\"id\":\"8977\",\"type\":\"BasicTicker\"},{\"attributes\":{\"text\":\"petal_width\"},\"id\":\"8962\",\"type\":\"Title\"},{\"attributes\":{\"bottom\":{\"value\":0},\"fill_color\":{\"value\":\"blue\"},\"left\":{\"field\":\"left\"},\"right\":{\"field\":\"right\"},\"top\":{\"field\":\"petal_width\"}},\"id\":\"8997\",\"type\":\"Quad\"},{\"attributes\":{},\"id\":\"8964\",\"type\":\"DataRange1d\"},{\"attributes\":{\"bottom\":{\"value\":0},\"fill_alpha\":{\"value\":0.7},\"fill_color\":{\"value\":\"red\"},\"left\":{\"field\":\"left\"},\"right\":{\"field\":\"right\"},\"top\":{\"field\":\"petal_width\"}},\"id\":\"8995\",\"type\":\"Quad\"}],\"root_ids\":[\"8961\"]},\"title\":\"Bokeh Application\",\"version\":\"2.1.1\"}};\n",
              "  var render_items = [{\"docid\":\"03f5b8ff-6bf3-47c0-84ca-674bae979ce1\",\"root_ids\":[\"8961\"],\"roots\":{\"8961\":\"2e363081-64c8-4aa9-a657-007b20c53ff2\"}}];\n",
              "  root.Bokeh.embed.embed_items_notebook(docs_json, render_items);\n",
              "\n",
              "  }\n",
              "  if (root.Bokeh !== undefined) {\n",
              "    embed_document(root);\n",
              "  } else {\n",
              "    var attempts = 0;\n",
              "    var timer = setInterval(function(root) {\n",
              "      if (root.Bokeh !== undefined) {\n",
              "        clearInterval(timer);\n",
              "        embed_document(root);\n",
              "      } else {\n",
              "        attempts++;\n",
              "        if (attempts > 100) {\n",
              "          clearInterval(timer);\n",
              "          console.log(\"Bokeh: ERROR: Unable to run BokehJS code because BokehJS library is missing\");\n",
              "        }\n",
              "      }\n",
              "    }, 10, root)\n",
              "  }\n",
              "})(window);"
            ],
            "application/vnd.bokehjs_exec.v0+json": ""
          },
          "metadata": {
            "tags": [],
            "application/vnd.bokehjs_exec.v0+json": {
              "id": "8961"
            }
          }
        }
      ]
    },
    {
      "cell_type": "code",
      "metadata": {
        "colab": {
          "base_uri": "https://localhost:8080/"
        },
        "id": "Q7jOkAgc7lrp",
        "outputId": "be95b2b6-7f4b-44f8-e255-85e5b427a785"
      },
      "source": [
        "from sklearn.preprocessing import MinMaxScaler\r\n",
        "niris_data=iris_data\r\n",
        "x = niris_data.iloc[:,:-1].values #returns a numpy array\r\n",
        "min_max_scaler = preprocessing.MinMaxScaler()\r\n",
        "x_scaled = min_max_scaler.fit_transform(x)\r\n",
        "niris_data = pd.DataFrame(x_scaled)\r\n",
        "\r\n",
        "#print(niris_data)\r\n",
        "mmniris_data=iris_data\r\n",
        "\r\n",
        "for i in range(0,siris_data.shape[1]-1):\r\n",
        "  column=siris_data.columns[i]\r\n",
        "  #print(i)\r\n",
        "  #print(column)\r\n",
        "  mmniris_data[column]=niris_data[i]\r\n",
        "print(mmniris_data)"
      ],
      "execution_count": 23,
      "outputs": [
        {
          "output_type": "stream",
          "text": [
            "     sepal_length  sepal_width  petal_length  petal_width    species\n",
            "0        0.222222     0.625000      0.067797     0.041667     setosa\n",
            "1        0.166667     0.416667      0.067797     0.041667     setosa\n",
            "2        0.111111     0.500000      0.050847     0.041667     setosa\n",
            "3        0.083333     0.458333      0.084746     0.041667     setosa\n",
            "4        0.194444     0.666667      0.067797     0.041667     setosa\n",
            "..            ...          ...           ...          ...        ...\n",
            "145      0.666667     0.416667      0.711864     0.916667  virginica\n",
            "146      0.555556     0.208333      0.677966     0.750000  virginica\n",
            "147      0.611111     0.416667      0.711864     0.791667  virginica\n",
            "148      0.527778     0.583333      0.745763     0.916667  virginica\n",
            "149      0.444444     0.416667      0.694915     0.708333  virginica\n",
            "\n",
            "[150 rows x 5 columns]\n"
          ],
          "name": "stdout"
        }
      ]
    },
    {
      "cell_type": "code",
      "metadata": {
        "colab": {
          "base_uri": "https://localhost:8080/"
        },
        "id": "dCqROrKHVMas",
        "outputId": "5a74068c-909c-4b09-e973-e7a8b0535770"
      },
      "source": [
        "from sklearn.preprocessing import MinMaxScaler\r\n",
        "nwine_data=wine_data\r\n",
        "x = nwine_data.iloc[:,:-1].values #returns a numpy array\r\n",
        "min_max_scaler = preprocessing.MinMaxScaler()\r\n",
        "x_scaled = min_max_scaler.fit_transform(x)\r\n",
        "nwine_data = pd.DataFrame(x_scaled)\r\n",
        "\r\n",
        "#print(wine_data)\r\n",
        "mmnwine_data=wine_data\r\n",
        "\r\n",
        "for i in range(0,swine_data.shape[1]-1):\r\n",
        "  column=swine_data.columns[i]\r\n",
        "  #print(i)\r\n",
        "  #print(column)\r\n",
        "  mmnwine_data[column]=nwine_data[i]\r\n",
        "print(mmnwine_data)"
      ],
      "execution_count": 24,
      "outputs": [
        {
          "output_type": "stream",
          "text": [
            "     Wine   Alcohol  Malic.acid  ...       Hue        OD   Proline\n",
            "0     0.0  0.842105    0.191700  ...  0.455285  0.970696  1.013009\n",
            "1     0.0  0.571053    0.205534  ...  0.463415  0.780220  0.965242\n",
            "2     0.0  0.560526    0.320158  ...  0.447154  0.695971  1.395148\n",
            "3     0.0  0.878947    0.239130  ...  0.308943  0.798535  2.334574\n",
            "4     0.0  0.581579    0.365613  ...  0.455285  0.608059 -0.037874\n",
            "..    ...       ...         ...  ...       ...       ...       ...\n",
            "173   1.0  0.705263    0.970356  ...  0.130081  0.172161 -0.021952\n",
            "174   1.0  0.623684    0.626482  ...  0.178862  0.106227  0.009893\n",
            "175   1.0  0.589474    0.699605  ...  0.089431  0.106227  0.280575\n",
            "176   1.0  0.563158    0.365613  ...  0.097561  0.128205  0.296498\n",
            "177   1.0  0.815789    0.664032  ...  0.105691  0.120879 -0.595160\n",
            "\n",
            "[178 rows x 14 columns]\n"
          ],
          "name": "stdout"
        }
      ]
    },
    {
      "cell_type": "code",
      "metadata": {
        "id": "MJDSVZ-zQhgC",
        "colab": {
          "base_uri": "https://localhost:8080/",
          "height": 407
        },
        "outputId": "a1222568-c2a6-4ceb-d96f-f79334dfb41f"
      },
      "source": [
        "iris_data.iloc[:,:-1]"
      ],
      "execution_count": 25,
      "outputs": [
        {
          "output_type": "execute_result",
          "data": {
            "text/html": [
              "<div>\n",
              "<style scoped>\n",
              "    .dataframe tbody tr th:only-of-type {\n",
              "        vertical-align: middle;\n",
              "    }\n",
              "\n",
              "    .dataframe tbody tr th {\n",
              "        vertical-align: top;\n",
              "    }\n",
              "\n",
              "    .dataframe thead th {\n",
              "        text-align: right;\n",
              "    }\n",
              "</style>\n",
              "<table border=\"1\" class=\"dataframe\">\n",
              "  <thead>\n",
              "    <tr style=\"text-align: right;\">\n",
              "      <th></th>\n",
              "      <th>sepal_length</th>\n",
              "      <th>sepal_width</th>\n",
              "      <th>petal_length</th>\n",
              "      <th>petal_width</th>\n",
              "    </tr>\n",
              "  </thead>\n",
              "  <tbody>\n",
              "    <tr>\n",
              "      <th>0</th>\n",
              "      <td>0.222222</td>\n",
              "      <td>0.625000</td>\n",
              "      <td>0.067797</td>\n",
              "      <td>0.041667</td>\n",
              "    </tr>\n",
              "    <tr>\n",
              "      <th>1</th>\n",
              "      <td>0.166667</td>\n",
              "      <td>0.416667</td>\n",
              "      <td>0.067797</td>\n",
              "      <td>0.041667</td>\n",
              "    </tr>\n",
              "    <tr>\n",
              "      <th>2</th>\n",
              "      <td>0.111111</td>\n",
              "      <td>0.500000</td>\n",
              "      <td>0.050847</td>\n",
              "      <td>0.041667</td>\n",
              "    </tr>\n",
              "    <tr>\n",
              "      <th>3</th>\n",
              "      <td>0.083333</td>\n",
              "      <td>0.458333</td>\n",
              "      <td>0.084746</td>\n",
              "      <td>0.041667</td>\n",
              "    </tr>\n",
              "    <tr>\n",
              "      <th>4</th>\n",
              "      <td>0.194444</td>\n",
              "      <td>0.666667</td>\n",
              "      <td>0.067797</td>\n",
              "      <td>0.041667</td>\n",
              "    </tr>\n",
              "    <tr>\n",
              "      <th>...</th>\n",
              "      <td>...</td>\n",
              "      <td>...</td>\n",
              "      <td>...</td>\n",
              "      <td>...</td>\n",
              "    </tr>\n",
              "    <tr>\n",
              "      <th>145</th>\n",
              "      <td>0.666667</td>\n",
              "      <td>0.416667</td>\n",
              "      <td>0.711864</td>\n",
              "      <td>0.916667</td>\n",
              "    </tr>\n",
              "    <tr>\n",
              "      <th>146</th>\n",
              "      <td>0.555556</td>\n",
              "      <td>0.208333</td>\n",
              "      <td>0.677966</td>\n",
              "      <td>0.750000</td>\n",
              "    </tr>\n",
              "    <tr>\n",
              "      <th>147</th>\n",
              "      <td>0.611111</td>\n",
              "      <td>0.416667</td>\n",
              "      <td>0.711864</td>\n",
              "      <td>0.791667</td>\n",
              "    </tr>\n",
              "    <tr>\n",
              "      <th>148</th>\n",
              "      <td>0.527778</td>\n",
              "      <td>0.583333</td>\n",
              "      <td>0.745763</td>\n",
              "      <td>0.916667</td>\n",
              "    </tr>\n",
              "    <tr>\n",
              "      <th>149</th>\n",
              "      <td>0.444444</td>\n",
              "      <td>0.416667</td>\n",
              "      <td>0.694915</td>\n",
              "      <td>0.708333</td>\n",
              "    </tr>\n",
              "  </tbody>\n",
              "</table>\n",
              "<p>150 rows × 4 columns</p>\n",
              "</div>"
            ],
            "text/plain": [
              "     sepal_length  sepal_width  petal_length  petal_width\n",
              "0        0.222222     0.625000      0.067797     0.041667\n",
              "1        0.166667     0.416667      0.067797     0.041667\n",
              "2        0.111111     0.500000      0.050847     0.041667\n",
              "3        0.083333     0.458333      0.084746     0.041667\n",
              "4        0.194444     0.666667      0.067797     0.041667\n",
              "..            ...          ...           ...          ...\n",
              "145      0.666667     0.416667      0.711864     0.916667\n",
              "146      0.555556     0.208333      0.677966     0.750000\n",
              "147      0.611111     0.416667      0.711864     0.791667\n",
              "148      0.527778     0.583333      0.745763     0.916667\n",
              "149      0.444444     0.416667      0.694915     0.708333\n",
              "\n",
              "[150 rows x 4 columns]"
            ]
          },
          "metadata": {
            "tags": []
          },
          "execution_count": 25
        }
      ]
    }
  ]
}