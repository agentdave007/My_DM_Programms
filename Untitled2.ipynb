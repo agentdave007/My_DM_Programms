{
  "nbformat": 4,
  "nbformat_minor": 0,
  "metadata": {
    "colab": {
      "name": "Untitled2.ipynb",
      "provenance": [],
      "collapsed_sections": []
    },
    "kernelspec": {
      "name": "python3",
      "display_name": "Python 3"
    }
  },
  "cells": [
    {
      "cell_type": "markdown",
      "metadata": {
        "id": "xxULhweTU6Bo"
      },
      "source": [
        "1. Consider a 2D list storing student's name along with their marks. Use list comprehension to create another list comprising names of students with  marks greater than 85.\r\n"
      ]
    },
    {
      "cell_type": "code",
      "metadata": {
        "colab": {
          "base_uri": "https://localhost:8080/"
        },
        "id": "_CVcc04DU2eN",
        "outputId": "ef260495-d9ab-4d10-8b76-3bb1deb094f4"
      },
      "source": [
        "student=[['A',84],['B',75],['C',94],['D',85],['E',87],['F',86]]\r\n",
        "distinction=[]\r\n",
        "for x in student:\r\n",
        "  if x[1] > 85:\r\n",
        "    distinction.append(x)\r\n",
        "\r\n",
        "print(distinction)"
      ],
      "execution_count": 47,
      "outputs": [
        {
          "output_type": "stream",
          "text": [
            "[['C', 94], ['E', 87], ['F', 86]]\n"
          ],
          "name": "stdout"
        }
      ]
    },
    {
      "cell_type": "markdown",
      "metadata": {
        "id": "bc3WQdhkVjHW"
      },
      "source": [
        "2. WAP that takes a list of marks as an input from the user and creates a dictionary storing marks and the corresponding frequency as key-value pairs."
      ]
    },
    {
      "cell_type": "code",
      "metadata": {
        "colab": {
          "base_uri": "https://localhost:8080/"
        },
        "id": "bPU2jl8AViXU",
        "outputId": "77c8a9a8-048e-4826-b538-a3b3ad28ea91"
      },
      "source": [
        "marks=[]\r\n",
        "n=int(input('Enter no. of students:'))\r\n",
        "for i in range(0,n):\r\n",
        "  marks.append(float(input('Enter mark of student '+str(i+1)+':')))\r\n",
        "\r\n",
        "storage={}\r\n",
        "\r\n",
        "for i in range(0,n):\r\n",
        "  storage[i]=marks[i]\r\n",
        "\r\n",
        "print(storage)"
      ],
      "execution_count": 70,
      "outputs": [
        {
          "output_type": "stream",
          "text": [
            "Enter no. of students:6\n",
            "Enter mark of student 1:78\n",
            "Enter mark of student 2:87\n",
            "Enter mark of student 3:8\n",
            "Enter mark of student 4:79\n",
            "Enter mark of student 5:97\n",
            "Enter mark of student 6:78\n",
            "{0: 78.0, 1: 87.0, 2: 8.0, 3: 79.0, 4: 97.0, 5: 78.0}\n"
          ],
          "name": "stdout"
        }
      ]
    },
    {
      "cell_type": "markdown",
      "metadata": {
        "id": "61ZZFOLgVkMk"
      },
      "source": [
        "3. WAP that takes a list of names as an input from the user and creates a dictionary storing word-length as key-value pair for each word given in the list."
      ]
    },
    {
      "cell_type": "code",
      "metadata": {
        "colab": {
          "base_uri": "https://localhost:8080/"
        },
        "id": "XYDwESsRVki8",
        "outputId": "fe81c956-15a8-41a7-a4da-938dd5a179e4"
      },
      "source": [
        "name=[]\r\n",
        "n=int(input('Enter name of students:'))\r\n",
        "for i in range(0,n):\r\n",
        "  name.append(input('Enter name of student '+str(i+1)+':'))\r\n",
        "\r\n",
        "storage={}\r\n",
        "\r\n",
        "for i in range(0,n):\r\n",
        "  storage[i]=name[i]\r\n",
        "\r\n",
        "print(storage)\r\n"
      ],
      "execution_count": 71,
      "outputs": [
        {
          "output_type": "stream",
          "text": [
            "Enter name of students:6\n",
            "Enter name of student 1:Rakshit\n",
            "Enter name of student 2:Rahul\n",
            "Enter name of student 3:Prince\n",
            "Enter name of student 4:Pooja\n",
            "Enter name of student 5:Abhishek\n",
            "Enter name of student 6:Nishant\n",
            "{0: 'Rakshit', 1: 'Rahul', 2: 'Prince', 3: 'Pooja', 4: 'Abhishek', 5: 'Nishant'}\n"
          ],
          "name": "stdout"
        }
      ]
    }
  ]
}