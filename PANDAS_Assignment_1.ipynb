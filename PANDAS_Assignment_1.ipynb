{
  "nbformat": 4,
  "nbformat_minor": 0,
  "metadata": {
    "kernelspec": {
      "display_name": "Python 3",
      "language": "python",
      "name": "python3"
    },
    "language_info": {
      "codemirror_mode": {
        "name": "ipython",
        "version": 3
      },
      "file_extension": ".py",
      "mimetype": "text/x-python",
      "name": "python",
      "nbconvert_exporter": "python",
      "pygments_lexer": "ipython3",
      "version": "3.6.5"
    },
    "colab": {
      "name": "PANDAS_Assignment_1.ipynb",
      "provenance": [],
      "collapsed_sections": []
    }
  },
  "cells": [
    {
      "cell_type": "markdown",
      "metadata": {
        "id": "i9t1MrEINqoW"
      },
      "source": [
        "Write a Pandas program to select the rows the score is between 15 and 20 (inclusive).\n",
        "\n",
        "Sample DataFrame:\n",
        "exam_data = {'name': ['Anastasia', 'Dima', 'Katherine', 'James', 'Emily', 'Michael', 'Matthew', 'Laura', 'Kevin', 'Jonas'],\n",
        "'score': [12.5, 9, 16.5, np.nan, 9, 20, 14.5, np.nan, 8, 19],\n",
        "'attempts': [1, 3, 2, 3, 2, 3, 1, 1, 2, 1],\n",
        "'qualify': ['yes', 'no', 'yes', 'no', 'no', 'yes', 'yes', 'no', 'no', 'yes']}\n",
        "labels = ['a', 'b', 'c', 'd', 'e', 'f', 'g', 'h', 'i', 'j']"
      ]
    },
    {
      "cell_type": "code",
      "metadata": {
        "id": "isaTb1a2Nqoo",
        "colab": {
          "base_uri": "https://localhost:8080/"
        },
        "outputId": "e13a2f01-819d-4307-a742-727800389f4d"
      },
      "source": [
        "# your code here\r\n",
        "import pandas as pd\r\n",
        "import numpy as np\r\n",
        "\r\n",
        "exam_data = {'name': ['Anastasia', 'Dima', 'Katherine', 'James', 'Emily', 'Michael', 'Matthew', 'Laura', 'Kevin', 'Jonas'], 'score': [12.5, 9, 16.5, np.nan, 9, 20, 14.5, np.nan, 8, 19], 'attempts': [1, 3, 2, 3, 2, 3, 1, 1, 2, 1], 'qualify': ['yes', 'no', 'yes', 'no', 'no', 'yes', 'yes', 'no', 'no', 'yes']}\r\n",
        "labels = ['a', 'b', 'c', 'd', 'e', 'f', 'g', 'h', 'i', 'j']\r\n",
        "df = pd.DataFrame(exam_data)\r\n",
        "print(df[df.score.between(15, 20)])"
      ],
      "execution_count": null,
      "outputs": [
        {
          "output_type": "stream",
          "text": [
            "        name  score  attempts qualify\n",
            "2  Katherine   16.5         2     yes\n",
            "5    Michael   20.0         3     yes\n",
            "9      Jonas   19.0         1     yes\n"
          ],
          "name": "stdout"
        }
      ]
    },
    {
      "cell_type": "markdown",
      "metadata": {
        "id": "YyBdVGUkNqoq"
      },
      "source": [
        "Write a Pandas program to add a column named \"column1\" in the sixth position of the \"coalpublic2013.xlsx\" excel sheet and fill it with NaN values."
      ]
    },
    {
      "cell_type": "code",
      "metadata": {
        "id": "DQLuPJXqNqor",
        "colab": {
          "base_uri": "https://localhost:8080/"
        },
        "outputId": "71efb4b5-52ef-4c71-a5dd-afe6e8f5f705"
      },
      "source": [
        "# your code here\r\n",
        "import pandas as pd\r\n",
        "import numpy as np\r\n",
        "\r\n",
        "from google.colab import drive\r\n",
        "drive.mount('/content/gdrive') \r\n",
        "\r\n",
        "df = pd.read_excel('/content/gdrive/MyDrive/coalpublic2013.xlsx')\r\n",
        "df.insert(5, \"column1\", np.nan)\r\n",
        "print(df.columns)"
      ],
      "execution_count": null,
      "outputs": [
        {
          "output_type": "stream",
          "text": [
            "Drive already mounted at /content/gdrive; to attempt to forcibly remount, call drive.mount(\"/content/gdrive\", force_remount=True).\n",
            "Index(['Year', 'MSHA ID', 'Mine_Name', 'Production', 'Labor_Hours', 'column1'], dtype='object')\n"
          ],
          "name": "stdout"
        }
      ]
    },
    {
      "cell_type": "code",
      "metadata": {
        "id": "eIlsBu_lNqos"
      },
      "source": [
        "Write a Pandas program to import given excel data (coalpublic2013.xlsx ) into a dataframe and find details where \"Mine Name\" starts with \"P\""
      ],
      "execution_count": null,
      "outputs": []
    },
    {
      "cell_type": "code",
      "metadata": {
        "id": "OK8p7IuGNqot",
        "colab": {
          "base_uri": "https://localhost:8080/"
        },
        "outputId": "25878733-2855-4b22-a1e6-b49a3385439d"
      },
      "source": [
        "# your code here\r\n",
        "import pandas as pd\r\n",
        "import numpy as np\r\n",
        "\r\n",
        "from google.colab import drive\r\n",
        "drive.mount('/content/gdrive') \r\n",
        "\r\n",
        "df = pd.read_excel('/content/gdrive/MyDrive/coalpublic2013.xlsx')\r\n",
        "print(df[df.Mine_Name.str.startswith('P')] )"
      ],
      "execution_count": null,
      "outputs": [
        {
          "output_type": "stream",
          "text": [
            "Drive already mounted at /content/gdrive; to attempt to forcibly remount, call drive.mount(\"/content/gdrive\", force_remount=True).\n",
            "    Year  MSHA ID                      Mine_Name Production Labor_Hours\n",
            "13  2013   103332                  Powhatan Mine   1,40,521       61394\n",
            "18  2013   102976  Piney Woods Preparation Plant          0       14828\n",
            "19  2013   102976  Piney Woods Preparation Plant          0       23193\n",
            "46  2013   103321                 Poplar Springs   1,89,370       76366\n"
          ],
          "name": "stdout"
        }
      ]
    },
    {
      "cell_type": "code",
      "metadata": {
        "id": "gk2RiIeVNqou"
      },
      "source": [
        "Write a Pandas program to import given excel data (employee.xlsx ) into a Pandas dataframe and find a list of employees where hire_date> 01-01-07. "
      ],
      "execution_count": null,
      "outputs": []
    },
    {
      "cell_type": "code",
      "metadata": {
        "id": "ETgtczFbNqov",
        "colab": {
          "base_uri": "https://localhost:8080/",
          "height": 0
        },
        "outputId": "6def2f3e-42db-4468-e006-2b2fc5b3d435"
      },
      "source": [
        "# your code here\r\n",
        "import pandas as pd\r\n",
        "import numpy as np\r\n",
        "\r\n",
        "from google.colab import drive\r\n",
        "drive.mount('/content/gdrive') \r\n",
        "\r\n",
        "df = pd.read_csv('/content/gdrive/MyDrive/employee.csv')\r\n",
        "#print(df[df.hire_date > '2007/01/01'])\r\n",
        "#print(df[df.hire_date > '01/01/2007'])\r\n",
        "df.hire_date=pd.to_datetime(df.hire_date)\r\n",
        "print(df[df['hire_date'] >'2007/01/01'])"
      ],
      "execution_count": 24,
      "outputs": [
        {
          "output_type": "stream",
          "text": [
            "Drive already mounted at /content/gdrive; to attempt to forcibly remount, call drive.mount(\"/content/gdrive\", force_remount=True).\n",
            "    emp_id first_name   last_name  hire_date\n",
            "4      104      Bruce       Ernst 2007-05-21\n",
            "7      107      Diana     Lorentz 2007-02-07\n",
            "13     113       Luis        Popp 2007-12-07\n",
            "19     119      Karen  Colmenares 2007-08-10\n"
          ],
          "name": "stdout"
        }
      ]
    },
    {
      "cell_type": "code",
      "metadata": {
        "id": "udcQrWNzNqov"
      },
      "source": [
        "Find the average mileage of each car making company\n",
        "Expected Output:"
      ],
      "execution_count": null,
      "outputs": []
    },
    {
      "cell_type": "code",
      "metadata": {
        "id": "lx5i-ko4Nqow",
        "colab": {
          "base_uri": "https://localhost:8080/",
          "height": 0
        },
        "outputId": "3e795783-79c5-4729-d97c-603f000b9220"
      },
      "source": [
        "# your code here\r\n",
        "import pandas as pd\r\n",
        "import numpy as np\r\n",
        "\r\n",
        "from google.colab import drive\r\n",
        "drive.mount('/content/gdrive') \r\n",
        "\r\n",
        "df = pd.read_csv('/content/gdrive/MyDrive/Automobile_data.csv')\r\n",
        "#print(df.average-mileage.groupby(by='company')) error??\r\n",
        "#print(df['average-mileage'].groupby(by='company'))\r\n",
        "#print(df['company','average-mileage'])\r\n",
        "#print(df['average-mileage'].mean())\r\n",
        "Average=df.groupby(by='company')\r\n",
        "print(Average['average-mileage'].mean())"
      ],
      "execution_count": 20,
      "outputs": [
        {
          "output_type": "stream",
          "text": [
            "Drive already mounted at /content/gdrive; to attempt to forcibly remount, call drive.mount(\"/content/gdrive\", force_remount=True).\n",
            "company\n",
            "alfa-romero      20.333333\n",
            "audi             20.000000\n",
            "bmw              19.000000\n",
            "chevrolet        41.000000\n",
            "dodge            31.000000\n",
            "honda            26.333333\n",
            "isuzu            33.333333\n",
            "jaguar           14.333333\n",
            "mazda            28.000000\n",
            "mercedes-benz    18.000000\n",
            "mitsubishi       29.500000\n",
            "nissan           31.400000\n",
            "porsche          17.000000\n",
            "toyota           28.714286\n",
            "volkswagen       31.750000\n",
            "volvo            23.000000\n",
            "Name: average-mileage, dtype: float64\n"
          ],
          "name": "stdout"
        }
      ]
    },
    {
      "cell_type": "code",
      "metadata": {
        "id": "pdTEoHBXNqox"
      },
      "source": [
        "Find the most expensive car company name"
      ],
      "execution_count": null,
      "outputs": []
    },
    {
      "cell_type": "code",
      "metadata": {
        "id": "yB00XnzVNqox",
        "colab": {
          "base_uri": "https://localhost:8080/"
        },
        "outputId": "a9a6f545-9db4-4306-8c3c-df333d6066df"
      },
      "source": [
        "# your code here\r\n",
        "import pandas as pd\r\n",
        "import numpy as np\r\n",
        "\r\n",
        "from google.colab import drive\r\n",
        "drive.mount('/content/gdrive') \r\n",
        "\r\n",
        "df = pd.read_csv('/content/gdrive/MyDrive/Automobile_data.csv')\r\n",
        "print(max(df.price))"
      ],
      "execution_count": null,
      "outputs": [
        {
          "output_type": "stream",
          "text": [
            "Drive already mounted at /content/gdrive; to attempt to forcibly remount, call drive.mount(\"/content/gdrive\", force_remount=True).\n",
            "45400.0\n"
          ],
          "name": "stdout"
        }
      ]
    }
  ]
}