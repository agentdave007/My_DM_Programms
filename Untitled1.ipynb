{
 "cells": [
  {
   "cell_type": "markdown",
   "metadata": {
    "id": "a-pJdiFIsgpv"
   },
   "source": [
    "1. WAP that takes a sentence as an input and convert the text in sentence to pig latin.\r\n",
    "Pig-Latin takes the first letter of a word, puts it at the end, and appends ay. The only exception is if the first letter is a vowel, in which case we keep it as it is and append hay to the end.\r\n",
    "    E.g. hello -> ellohay, and image -> imagehay"
   ]
  },
  {
   "cell_type": "code",
   "execution_count": null,
   "metadata": {
    "colab": {
     "base_uri": "https://localhost:8080/"
    },
    "id": "EqUUKRCnseh0",
    "outputId": "fbef53c6-5c4c-437e-a153-69a0ebbb575c"
   },
   "outputs": [
    {
     "name": "stdout",
     "output_type": "stream",
     "text": [
      "imageay\n",
      "ellohay\n"
     ]
    }
   ],
   "source": [
    "def piglatin(sen):\n",
    "  vowel='AEIOUaeiou'\n",
    "  if sen[0] in vowel:\n",
    "    sen=sen+'ay' \n",
    "  else:\n",
    "    sen=sen[1:]+sen[0]+'ay'\n",
    "  print(sen)\n",
    " \n",
    "piglatin('image')\n",
    "piglatin('hello')"
   ]
  },
  {
   "cell_type": "markdown",
   "metadata": {
    "id": "dh24t-C6vvo8"
   },
   "source": [
    "2. WAP that takes a list as an input and returns another list without duplicate values."
   ]
  },
  {
   "cell_type": "code",
   "execution_count": 24,
   "metadata": {
    "colab": {
     "base_uri": "https://localhost:8080/"
    },
    "id": "RiPXiSCYvw-X",
    "outputId": "dbbbb116-773c-40e9-9db1-c6958f2cc7a3"
   },
   "outputs": [
    {
     "name": "stdout",
     "output_type": "stream",
     "text": [
      "['j', 'b', 'c', 'a', 'e']\n"
     ]
    }
   ],
   "source": [
    "def duplicate(l):\n",
    "  for x in range(len(l)-1,0,-1):\n",
    "    if l.count(l[x])!=1:\n",
    "      l.remove(l[x])\n",
    "  print(l)\n",
    "\n",
    "duplicate(['a','j','b','c','e','a','e','e','e','e'])"
   ]
  },
  {
   "cell_type": "markdown",
   "metadata": {
    "id": "QWoiNsklxNKn"
   },
   "source": [
    "3. WAP that takes a list as an input and returns the reversed list"
   ]
  },
  {
   "cell_type": "code",
   "execution_count": 22,
   "metadata": {
    "colab": {
     "base_uri": "https://localhost:8080/"
    },
    "id": "kUXmfmOXtNhA",
    "outputId": "b6c81715-6315-40d1-b2a4-82580f8e7faa"
   },
   "outputs": [
    {
     "name": "stdout",
     "output_type": "stream",
     "text": [
      "['e', 'e', 'e', 'e', 'a', 'e', 'c', 'b', 'j', 'a']\n"
     ]
    }
   ],
   "source": [
    "def reverse(l):\n",
    "  for x in range(len(l)-1,-1,-1):\n",
    "    l.append(l[x])\n",
    "    l.pop(x)\n",
    "  print(l)\n",
    "\n",
    "reverse(['a','j','b','c','e','a','e','e','e','e'])"
   ]
  }
 ],
 "metadata": {
  "colab": {
   "collapsed_sections": [],
   "name": "Untitled1.ipynb",
   "provenance": []
  },
  "kernelspec": {
   "display_name": "Python 3",
   "language": "python",
   "name": "python3"
  },
  "language_info": {
   "codemirror_mode": {
    "name": "ipython",
    "version": 3
   },
   "file_extension": ".py",
   "mimetype": "text/x-python",
   "name": "python",
   "nbconvert_exporter": "python",
   "pygments_lexer": "ipython3",
   "version": "3.8.2"
  }
 },
 "nbformat": 4,
 "nbformat_minor": 4
}
