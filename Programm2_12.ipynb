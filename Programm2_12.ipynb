{
  "nbformat": 4,
  "nbformat_minor": 0,
  "metadata": {
    "colab": {
      "name": "Programm2_12.ipynb",
      "provenance": [],
      "collapsed_sections": []
    },
    "kernelspec": {
      "name": "python3",
      "display_name": "Python 3"
    }
  },
  "cells": [
    {
      "cell_type": "code",
      "metadata": {
        "colab": {
          "base_uri": "https://localhost:8080/"
        },
        "id": "tDlEoj6gtNuG",
        "outputId": "602aefc2-645b-4da4-a468-a0aec6fd8e13"
      },
      "source": [
        "import pandas as pd\r\n",
        "\r\n",
        "from google.colab import drive\r\n",
        "drive.mount('/content/gdrive')"
      ],
      "execution_count": null,
      "outputs": [
        {
          "output_type": "stream",
          "text": [
            "Drive already mounted at /content/gdrive; to attempt to forcibly remount, call drive.mount(\"/content/gdrive\", force_remount=True).\n"
          ],
          "name": "stdout"
        }
      ]
    },
    {
      "cell_type": "markdown",
      "metadata": {
        "id": "OKd1FyNxtiW0"
      },
      "source": [
        "Q2.Perform the following preprocessing tasks on the dirty_iris data set ii."
      ]
    },
    {
      "cell_type": "code",
      "metadata": {
        "colab": {
          "base_uri": "https://localhost:8080/"
        },
        "id": "uSq-goq9wl3l",
        "outputId": "c289d4f1-0867-4964-a152-bac455ad86f1"
      },
      "source": [
        "data=pd.read_csv('/content/gdrive/MyDrive/dirty_iris.csv')\r\n",
        "print(data)"
      ],
      "execution_count": null,
      "outputs": [
        {
          "output_type": "stream",
          "text": [
            "     Sepal.Length  Sepal.Width  Petal.Length  Petal.Width     Species\n",
            "0             6.4          3.2           4.5          1.5  versicolor\n",
            "1             6.3          3.3           6.0          2.5   virginica\n",
            "2             6.2          NaN           5.4          2.3   virginica\n",
            "3             5.0          3.4           1.6          0.4      setosa\n",
            "4             5.7          2.6           3.5          1.0  versicolor\n",
            "..            ...          ...           ...          ...         ...\n",
            "145           6.7          3.1           5.6          2.4   virginica\n",
            "146           5.6          3.0           4.5          1.5  versicolor\n",
            "147           5.2          3.5           1.5          0.2      setosa\n",
            "148           6.4          3.1           NaN          1.8   virginica\n",
            "149           5.8          2.6           4.0          NaN  versicolor\n",
            "\n",
            "[150 rows x 5 columns]\n"
          ],
          "name": "stdout"
        }
      ]
    },
    {
      "cell_type": "markdown",
      "metadata": {
        "id": "yUIikgWNxVrD"
      },
      "source": [
        "i) Calculate the number and percentage of observations that are complete."
      ]
    },
    {
      "cell_type": "code",
      "metadata": {
        "colab": {
          "base_uri": "https://localhost:8080/"
        },
        "id": "mOcpQjZIxVfO",
        "outputId": "d57644c5-a59f-4910-dafe-af6fcb02d5bc"
      },
      "source": [
        "n=len(data.dropna())\r\n",
        "print(\"Number of observations that are completed: \",n)\r\n",
        "print(\"Percentage of observations that are completed: \",n/len(data)*100,\"%\")"
      ],
      "execution_count": null,
      "outputs": [
        {
          "output_type": "stream",
          "text": [
            "Number of observations that are completed:  96\n",
            "Percentage of observations that are completed:  64.0 %\n"
          ],
          "name": "stdout"
        }
      ]
    },
    {
      "cell_type": "markdown",
      "metadata": {
        "id": "qCCrIkxzxhwi"
      },
      "source": [
        "ii) Replace all the special values in data with NA."
      ]
    },
    {
      "cell_type": "code",
      "metadata": {
        "colab": {
          "base_uri": "https://localhost:8080/"
        },
        "id": "CvZ4f48wxh41",
        "outputId": "2aace16e-9396-469f-cba5-85a584e904aa"
      },
      "source": [
        "data.fillna(value=\"NA\",inplace=True)\r\n",
        "print(data)"
      ],
      "execution_count": null,
      "outputs": [
        {
          "output_type": "stream",
          "text": [
            "    Sepal.Length Sepal.Width Petal.Length Petal.Width     Species\n",
            "0            6.4         3.2          4.5         1.5  versicolor\n",
            "1            6.3         3.3            6         2.5   virginica\n",
            "2            6.2          NA          5.4         2.3   virginica\n",
            "3              5         3.4          1.6         0.4      setosa\n",
            "4            5.7         2.6          3.5           1  versicolor\n",
            "..           ...         ...          ...         ...         ...\n",
            "145          6.7         3.1          5.6         2.4   virginica\n",
            "146          5.6           3          4.5         1.5  versicolor\n",
            "147          5.2         3.5          1.5         0.2      setosa\n",
            "148          6.4         3.1           NA         1.8   virginica\n",
            "149          5.8         2.6            4          NA  versicolor\n",
            "\n",
            "[150 rows x 5 columns]\n"
          ],
          "name": "stdout"
        }
      ]
    },
    {
      "cell_type": "markdown",
      "metadata": {
        "id": "2scozMoCxiCT"
      },
      "source": [
        "iii) Define these rules in a separate text file and read them.\r\n",
        "(Use edit file function in R (package edit rules). Use similar function in Python). \r\n",
        "\r\n",
        "Print the resulting constraint object.\r\n",
        "\r\n",
        "–Species should be one of the following values: \r\n",
        "\r\n",
        "setosa,versicolor or virginica. \r\n",
        "\r\n",
        "–All measured numerical properties of an iris should be positive.\r\n",
        "\r\n",
        "–The petal length of an iris is at least 2 times its petal width.\r\n",
        "\r\n",
        "–The sepal length of an iris cannot exceed 30cm.\r\n",
        "\r\n",
        "–The sepals of an iris are longer than its petals.\r\n"
      ]
    },
    {
      "cell_type": "code",
      "metadata": {
        "colab": {
          "base_uri": "https://localhost:8080/"
        },
        "id": "UCBlztSsxiLQ",
        "outputId": "027e974c-fdfc-44d3-ba16-e4ba4b6e7e1a"
      },
      "source": [
        "%cd /content/gdrive/MyDrive\r\n",
        "#!pwd\r\n",
        "import q2ruleset as rs\r\n"
      ],
      "execution_count": null,
      "outputs": [
        {
          "output_type": "stream",
          "text": [
            "/content/gdrive/MyDrive\n"
          ],
          "name": "stdout"
        }
      ]
    },
    {
      "cell_type": "markdown",
      "metadata": {
        "id": "f0qvJ7bsx0oF"
      },
      "source": [
        "iv) Determine how often each rule is broken(violated Edits)."
      ]
    },
    {
      "cell_type": "code",
      "metadata": {
        "colab": {
          "base_uri": "https://localhost:8080/",
          "height": 0
        },
        "id": "x9-wfAFKw1hS",
        "outputId": "b5dd77cf-c16b-4c33-a12b-92c2499f1263"
      },
      "source": [
        "data=pd.read_csv('/content/gdrive/MyDrive/dirty_iris.csv')\r\n",
        "data.dropna(inplace=True)\r\n",
        "result=rs.ruleset(data)\r\n",
        "\r\n",
        "print(\"Number of voilations by iris:\")\r\n",
        "print(len(result)-sum(result))\r\n",
        "result=pd.DataFrame(result)"
      ],
      "execution_count": 46,
      "outputs": [
        {
          "output_type": "stream",
          "text": [
            "Number of voilations by iris:\n",
            "0      0\n",
            "1      0\n",
            "3      0\n",
            "4      0\n",
            "7      0\n",
            "      ..\n",
            "143    0\n",
            "144    0\n",
            "145    0\n",
            "146    0\n",
            "147    0\n",
            "Length: 96, dtype: int64\n"
          ],
          "name": "stdout"
        }
      ]
    },
    {
      "cell_type": "markdown",
      "metadata": {
        "id": "PwMXghsAFXO0"
      },
      "source": [
        "Also summarize and plot the result.\r\n"
      ]
    },
    {
      "cell_type": "code",
      "metadata": {
        "colab": {
          "base_uri": "https://localhost:8080/",
          "height": 0
        },
        "id": "Xlv3vDmrFYQj",
        "outputId": "89a8330e-b7ff-4f84-ba67-f0e4134927ba"
      },
      "source": [
        "print(\"Summmary:\")\r\n",
        "print(result.describe())"
      ],
      "execution_count": 47,
      "outputs": [
        {
          "output_type": "stream",
          "text": [
            "Summmary:\n",
            "         0     1     3     4     7     8    ...   142   143   144   145   146   147\n",
            "count      8     8     8     8     8     8  ...     8     8     8     8     8     8\n",
            "unique     1     1     1     1     1     1  ...     1     1     1     1     1     1\n",
            "top     True  True  True  True  True  True  ...  True  True  True  True  True  True\n",
            "freq       8     8     8     8     8     8  ...     8     8     8     8     8     8\n",
            "\n",
            "[4 rows x 96 columns]\n"
          ],
          "name": "stdout"
        }
      ]
    },
    {
      "cell_type": "code",
      "metadata": {
        "colab": {
          "base_uri": "https://localhost:8080/",
          "height": 326
        },
        "id": "DzzWcAC2EVTF",
        "outputId": "ff80b963-7307-495e-affc-c42e7f29a29f"
      },
      "source": [
        "import matplotlib.pyplot as plt\r\n",
        "plt.figure(figsize = [20, 100])\r\n",
        "result.transpose().head().astype(int).plot(kind='bar')\r\n",
        "plt.title(\"Visualization\")\r\n",
        "plt.xlabel('Rules')\r\n",
        "plt.ylabel('True/False')"
      ],
      "execution_count": 49,
      "outputs": [
        {
          "output_type": "execute_result",
          "data": {
            "text/plain": [
              "Text(0, 0.5, 'True/False')"
            ]
          },
          "metadata": {
            "tags": []
          },
          "execution_count": 49
        },
        {
          "output_type": "display_data",
          "data": {
            "text/plain": [
              "<Figure size 1440x7200 with 0 Axes>"
            ]
          },
          "metadata": {
            "tags": []
          }
        },
        {
          "output_type": "display_data",
          "data": {
            "image/png": "[encoded data removed]",
            "text/plain": [
              "<Figure size 432x288 with 1 Axes>"
            ]
          },
          "metadata": {
            "tags": [],
            "needs_background": "light"
          }
        }
      ]
    },
    {
      "cell_type": "markdown",
      "metadata": {
        "id": "bnM-bNWRx08E"
      },
      "source": [
        "v) Find outliers in sepal length using boxplot and boxplot.stats"
      ]
    },
    {
      "cell_type": "code",
      "metadata": {
        "id": "QVomgnTgx1MM",
        "colab": {
          "base_uri": "https://localhost:8080/",
          "height": 401
        },
        "outputId": "16710d26-2579-4eed-a1a1-90bc21eb854e"
      },
      "source": [
        "import matplotlib.pyplot as plt\r\n",
        "plt.boxplot(data['Sepal.Length'],vert=False)"
      ],
      "execution_count": null,
      "outputs": [
        {
          "output_type": "execute_result",
          "data": {
            "text/plain": [
              "{'boxes': [<matplotlib.lines.Line2D at 0x7f0d6b092b90>],\n",
              " 'caps': [<matplotlib.lines.Line2D at 0x7f0d6b0a7c10>,\n",
              "  <matplotlib.lines.Line2D at 0x7f0d6b0ad190>],\n",
              " 'fliers': [<matplotlib.lines.Line2D at 0x7f0d6b0adc50>],\n",
              " 'means': [],\n",
              " 'medians': [<matplotlib.lines.Line2D at 0x7f0d6b0ad710>],\n",
              " 'whiskers': [<matplotlib.lines.Line2D at 0x7f0d6b0a7190>,\n",
              "  <matplotlib.lines.Line2D at 0x7f0d6b0a76d0>]}"
            ]
          },
          "metadata": {
            "tags": []
          },
          "execution_count": 24
        },
        {
          "output_type": "display_data",
          "data": {
            "image/png": "[encoded data removed]",
            "text/plain": [
              "<Figure size 432x288 with 1 Axes>"
            ]
          },
          "metadata": {
            "tags": [],
            "needs_background": "light"
          }
        }
      ]
    }
  ]
}