{
  "nbformat": 4,
  "nbformat_minor": 0,
  "metadata": {
    "colab": {
      "name": "Untitled4.ipynb",
      "provenance": []
    },
    "kernelspec": {
      "name": "python3",
      "display_name": "Python 3"
    }
  },
  "cells": [
    {
      "cell_type": "code",
      "metadata": {
        "colab": {
          "base_uri": "https://localhost:8080/"
        },
        "id": "oW2oHKlDgX0D",
        "outputId": "458e0b58-bf14-4555-9b9d-34b84884c422"
      },
      "source": [
        "import numpy as np\r\n",
        "np.__version__\r\n"
      ],
      "execution_count": null,
      "outputs": [
        {
          "output_type": "execute_result",
          "data": {
            "application/vnd.google.colaboratory.intrinsic+json": {
              "type": "string"
            },
            "text/plain": [
              "'1.19.5'"
            ]
          },
          "metadata": {
            "tags": []
          },
          "execution_count": 1
        }
      ]
    },
    {
      "cell_type": "markdown",
      "metadata": {
        "id": "65daYTCet7e4"
      },
      "source": [
        "1. Write a NumPy program to convert a given array into a list and then convert it into array again."
      ]
    },
    {
      "cell_type": "code",
      "metadata": {
        "colab": {
          "base_uri": "https://localhost:8080/"
        },
        "id": "v0PGSkqSt-Ts",
        "outputId": "498ad699-0f94-41b5-8bd4-d42f054549dd"
      },
      "source": [
        "import numpy as np\r\n",
        "A=np.arange(0,10)\r\n",
        "print(type(A))\r\n",
        "A=A.tolist()\r\n",
        "print(type(A))\r\n",
        "A=np.array(A)\r\n",
        "print(type(A))"
      ],
      "execution_count": null,
      "outputs": [
        {
          "output_type": "stream",
          "text": [
            "<class 'numpy.ndarray'>\n",
            "<class 'list'>\n",
            "<class 'numpy.ndarray'>\n"
          ],
          "name": "stdout"
        }
      ]
    },
    {
      "cell_type": "markdown",
      "metadata": {
        "id": "WSX9a_dcyijA"
      },
      "source": [
        "2. Create a 5X2 integer array from a range between 100 to 200 such that the difference between each element is 10."
      ]
    },
    {
      "cell_type": "code",
      "metadata": {
        "colab": {
          "base_uri": "https://localhost:8080/"
        },
        "id": "6n1bSYMQyi2R",
        "outputId": "758ace52-ec0d-4023-c4c5-c7b04a89fb5e"
      },
      "source": [
        "import numpy as np\r\n",
        "A=np.arange(100,200,10).reshape(5,2)\r\n",
        "print(A)"
      ],
      "execution_count": null,
      "outputs": [
        {
          "output_type": "stream",
          "text": [
            "[[100 110]\n",
            " [120 130]\n",
            " [140 150]\n",
            " [160 170]\n",
            " [180 190]]\n"
          ],
          "name": "stdout"
        }
      ]
    },
    {
      "cell_type": "markdown",
      "metadata": {
        "id": "ahNXGLGX24-w"
      },
      "source": [
        "3. Add the two 2D NumPy arrays and modify the  resulting array by calculating the square root of each element"
      ]
    },
    {
      "cell_type": "code",
      "metadata": {
        "id": "Qrmq6pQo25Na",
        "colab": {
          "base_uri": "https://localhost:8080/"
        },
        "outputId": "fa8d09f6-b293-46e9-df1c-e2b4b747a776"
      },
      "source": [
        "import numpy as np\r\n",
        "A=np.arange(10,20).reshape(5,2)\r\n",
        "B=np.arange(15,25).reshape(5,2)\r\n",
        "C=A+B\r\n",
        "C=np.sqrt(C)\r\n",
        "print(C)"
      ],
      "execution_count": 2,
      "outputs": [
        {
          "output_type": "stream",
          "text": [
            "[[5.         5.19615242]\n",
            " [5.38516481 5.56776436]\n",
            " [5.74456265 5.91607978]\n",
            " [6.08276253 6.244998  ]\n",
            " [6.40312424 6.55743852]]\n"
          ],
          "name": "stdout"
        }
      ]
    },
    {
      "cell_type": "markdown",
      "metadata": {
        "id": "PiVQpDQUxldN"
      },
      "source": [
        "4. Create an 8X3 integer array from a range between 10 to 34 such that the difference between each element is 1 and then Split the array into four equal-sized sub-arrays."
      ]
    },
    {
      "cell_type": "code",
      "metadata": {
        "colab": {
          "base_uri": "https://localhost:8080/"
        },
        "id": "guLjT5H1xlmb",
        "outputId": "38ca8ddf-7852-4cee-bb6b-f9e3d2f61023"
      },
      "source": [
        "import numpy as np\r\n",
        "A=np.arange(10,34).reshape(8,3)\r\n",
        "A=np.split(A,4)\r\n",
        "print(A)"
      ],
      "execution_count": null,
      "outputs": [
        {
          "output_type": "stream",
          "text": [
            "[array([[10, 11, 12],\n",
            "       [13, 14, 15]]), array([[16, 17, 18],\n",
            "       [19, 20, 21]]), array([[22, 23, 24],\n",
            "       [25, 26, 27]]), array([[28, 29, 30],\n",
            "       [31, 32, 33]])]\n"
          ],
          "name": "stdout"
        }
      ]
    },
    {
      "cell_type": "markdown",
      "metadata": {
        "id": "hig_0vxezzzH"
      },
      "source": [
        "5. Consider the following array:\r\n",
        "sampleArray = numpy.array([[34,43,73],[82,22,12],[53,94,66]])"
      ]
    },
    {
      "cell_type": "markdown",
      "metadata": {
        "id": "gEveqofvAjqk"
      },
      "source": [
        " i. Sort above array by second row"
      ]
    },
    {
      "cell_type": "code",
      "metadata": {
        "colab": {
          "base_uri": "https://localhost:8080/"
        },
        "id": "r-J5giLqzz77",
        "outputId": "a5d9d05e-d0f2-4e01-fa42-e74ed6c28c37"
      },
      "source": [
        "import numpy as np\r\n",
        "sampleArray = np.array([[34,43,73],[82,22,12],[53,94,66]])\r\n",
        "print(sampleArray)\r\n",
        "sorted_array = sampleArray [ :, sampleArray[1].argsort()]\r\n",
        "print(sorted_array)\r\n"
      ],
      "execution_count": null,
      "outputs": [
        {
          "output_type": "stream",
          "text": [
            "[[34 43 73]\n",
            " [82 22 12]\n",
            " [53 94 66]]\n",
            "[[73 43 34]\n",
            " [12 22 82]\n",
            " [66 94 53]]\n",
            "[[82 22 12]\n",
            " [34 43 73]\n",
            " [53 94 66]]\n"
          ],
          "name": "stdout"
        }
      ]
    },
    {
      "cell_type": "markdown",
      "metadata": {
        "id": "LVWSt7_-Ahg2"
      },
      "source": [
        "ii. Sort above array by second column"
      ]
    },
    {
      "cell_type": "code",
      "metadata": {
        "colab": {
          "base_uri": "https://localhost:8080/"
        },
        "id": "4jmjo078Ah8-",
        "outputId": "ca6524b5-5be8-4705-b725-7a9113016674"
      },
      "source": [
        "import numpy as np\r\n",
        "sampleArray = np.array([[34,43,73],[82,22,12],[53,94,66]])\r\n",
        "print(sampleArray)\r\n",
        "sorted_array = sampleArray[np.argsort(sampleArray[:, 1])]\r\n",
        "print(sorted_array)"
      ],
      "execution_count": null,
      "outputs": [
        {
          "output_type": "stream",
          "text": [
            "[[34 43 73]\n",
            " [82 22 12]\n",
            " [53 94 66]]\n",
            "[[82 22 12]\n",
            " [34 43 73]\n",
            " [53 94 66]]\n"
          ],
          "name": "stdout"
        }
      ]
    },
    {
      "cell_type": "markdown",
      "metadata": {
        "id": "uEOwoNKBA3-F"
      },
      "source": [
        "iii. Print max from axis 0 and min from axis 1"
      ]
    },
    {
      "cell_type": "code",
      "metadata": {
        "colab": {
          "base_uri": "https://localhost:8080/"
        },
        "id": "fPMoAXTVA5Lc",
        "outputId": "a8a07d34-ddc3-439c-99b2-5184d464dcec"
      },
      "source": [
        "import numpy as np\r\n",
        "sampleArray = np.array([[34,43,73],[82,22,12],[53,94,66]])\r\n",
        "print(sampleArray)\r\n",
        "print(sampleArray.max(axis=0))\r\n",
        "print(sampleArray.min(axis=1))"
      ],
      "execution_count": null,
      "outputs": [
        {
          "output_type": "stream",
          "text": [
            "[[34 43 73]\n",
            " [82 22 12]\n",
            " [53 94 66]]\n",
            "[82 94 73]\n",
            "[34 12 53]\n"
          ],
          "name": "stdout"
        }
      ]
    },
    {
      "cell_type": "markdown",
      "metadata": {
        "id": "zyTQRT6WA57I"
      },
      "source": [
        "iv. Delete col 2 and insert new Column numpy.array([[10,10,10]]) in its place"
      ]
    },
    {
      "cell_type": "code",
      "metadata": {
        "colab": {
          "base_uri": "https://localhost:8080/"
        },
        "id": "flvr7hIQA6H0",
        "outputId": "7b237d70-16cf-453f-e3bb-8010e4a5c513"
      },
      "source": [
        "import numpy as np\r\n",
        "sampleArray = np.array([[34,43,73],[82,22,12],[53,94,66]])\r\n",
        "sampleArray=np.delete(sampleArray,obj=1,axis=1)\r\n",
        "sampleArray = np.insert(sampleArray, 1, [[10, 10, 10]],axis=1)\r\n",
        "print(sampleArray)"
      ],
      "execution_count": null,
      "outputs": [
        {
          "output_type": "stream",
          "text": [
            "[[34 10 73]\n",
            " [82 10 12]\n",
            " [53 10 66]]\n"
          ],
          "name": "stdout"
        }
      ]
    },
    {
      "cell_type": "markdown",
      "metadata": {
        "id": "fej_wm5z097m"
      },
      "source": [
        "6. Remove all the elements from an array that exist in another array."
      ]
    },
    {
      "cell_type": "code",
      "metadata": {
        "colab": {
          "base_uri": "https://localhost:8080/"
        },
        "id": "cUTBmxi90-KN",
        "outputId": "f4ea0457-0a4f-467b-e6b0-c1d892d9998f"
      },
      "source": [
        "import numpy as np\r\n",
        "A=np.arange(10,20)\r\n",
        "B=np.arange(1,15)\r\n",
        "#A=[i for i in A if i not in B]\r\n",
        "np.setdiff1d(A,B)\r\n",
        "print(A)"
      ],
      "execution_count": 5,
      "outputs": [
        {
          "output_type": "stream",
          "text": [
            "[10 11 12 13 14 15 16 17 18 19]\n"
          ],
          "name": "stdout"
        }
      ]
    },
    {
      "cell_type": "markdown",
      "metadata": {
        "id": "YXRvBnvu8ncO"
      },
      "source": [
        "7. Swap two columns in a 2d NumPy array."
      ]
    },
    {
      "cell_type": "code",
      "metadata": {
        "colab": {
          "base_uri": "https://localhost:8080/"
        },
        "id": "cnksI8xs8nmh",
        "outputId": "e29a4fd8-4022-49b8-a024-2f4cf5261b4b"
      },
      "source": [
        "import numpy as np\r\n",
        "sampleArray = np.array([[34,43,73],[82,22,12],[53,94,66]])\r\n",
        "#sampleArray[:,0],sampleArray[:,1] = sampleArray[:,1],sampleArray[:,0]\r\n",
        "sampleArray[:,[0, 1]] = sampleArray[:,[1, 0]]\r\n",
        "print(sampleArray)"
      ],
      "execution_count": null,
      "outputs": [
        {
          "output_type": "stream",
          "text": [
            "[[43 34 73]\n",
            " [22 82 12]\n",
            " [94 53 66]]\n"
          ],
          "name": "stdout"
        }
      ]
    },
    {
      "cell_type": "markdown",
      "metadata": {
        "id": "aCcb50EC8pqd"
      },
      "source": [
        "8. Swap two rows in a 2d NumPy array."
      ]
    },
    {
      "cell_type": "code",
      "metadata": {
        "colab": {
          "base_uri": "https://localhost:8080/"
        },
        "id": "cgvXYA5I8p5r",
        "outputId": "1318f635-b436-45b1-8345-c2ed0c18e38c"
      },
      "source": [
        "import numpy as np\r\n",
        "sampleArray = np.array([[34,43,73],[82,22,12],[53,94,66]])\r\n",
        "sampleArray[[0, 1],:] = sampleArray[[1, 0],:]\r\n",
        "print(sampleArray)"
      ],
      "execution_count": null,
      "outputs": [
        {
          "output_type": "stream",
          "text": [
            "[[82 22 12]\n",
            " [34 43 73]\n",
            " [53 94 66]]\n"
          ],
          "name": "stdout"
        }
      ]
    },
    {
      "cell_type": "markdown",
      "metadata": {
        "id": "slOlcv6L8vXI"
      },
      "source": [
        "9. Reverse the order of rows of a 2D array"
      ]
    },
    {
      "cell_type": "code",
      "metadata": {
        "colab": {
          "base_uri": "https://localhost:8080/"
        },
        "id": "Ta5A8Q4H8vka",
        "outputId": "6f6067d6-a81c-45a5-87d0-d8ce8e3ab92e"
      },
      "source": [
        "import numpy as np\r\n",
        "sampleArray = np.array([[34,43,73],[82,22,12],[53,94,66]])\r\n",
        "#sampleArray[:,:] = sampleArray[::-1,:]\r\n",
        "sampleArray[:] = sampleArray[::-1]\r\n",
        "print(sampleArray)"
      ],
      "execution_count": 9,
      "outputs": [
        {
          "output_type": "stream",
          "text": [
            "[[53 94 66]\n",
            " [82 22 12]\n",
            " [34 43 73]]\n"
          ],
          "name": "stdout"
        }
      ]
    },
    {
      "cell_type": "markdown",
      "metadata": {
        "id": "vU5_2q0j82hN"
      },
      "source": [
        "10. Reverse the order of columns of a 2D array"
      ]
    },
    {
      "cell_type": "code",
      "metadata": {
        "id": "Gzuo04o-82vN",
        "colab": {
          "base_uri": "https://localhost:8080/"
        },
        "outputId": "ce3b69d5-b147-490f-98e0-15b10008c82c"
      },
      "source": [
        "import numpy as np\r\n",
        "sampleArray = np.array([[34,43,73],[82,22,12],[53,94,66]])\r\n",
        "sampleArray[:,:] = sampleArray[:,::-1]\r\n",
        "print(sampleArray)"
      ],
      "execution_count": null,
      "outputs": [
        {
          "output_type": "stream",
          "text": [
            "[[73 43 34]\n",
            " [12 22 82]\n",
            " [66 94 53]]\n"
          ],
          "name": "stdout"
        }
      ]
    },
    {
      "cell_type": "markdown",
      "metadata": {
        "id": "9RdlIBAX87Y3"
      },
      "source": [
        "11. Retrieve common items between two python NumPy arrays?"
      ]
    },
    {
      "cell_type": "code",
      "metadata": {
        "id": "LGtXFDBz87of",
        "colab": {
          "base_uri": "https://localhost:8080/"
        },
        "outputId": "834dbb4b-f3c5-456e-916b-3f984e2d684c"
      },
      "source": [
        "import numpy as np\r\n",
        "A=np.arange(10,20)\r\n",
        "B=np.arange(1,15)\r\n",
        "print(np.intersect1d(A, B))"
      ],
      "execution_count": null,
      "outputs": [
        {
          "output_type": "stream",
          "text": [
            "[10 11 12 13 14]\n"
          ],
          "name": "stdout"
        }
      ]
    },
    {
      "cell_type": "markdown",
      "metadata": {
        "id": "VFH0FoRv8-9E"
      },
      "source": [
        "12. Retrive indices where elements of two arrays match"
      ]
    },
    {
      "cell_type": "code",
      "metadata": {
        "id": "MLaM3urd8_KT",
        "colab": {
          "base_uri": "https://localhost:8080/"
        },
        "outputId": "bee175a9-4d0e-478b-e205-43223250e9b4"
      },
      "source": [
        "import numpy as np\r\n",
        "A=np.array([1,2,3,4,5,6,7,8])\r\n",
        "B=np.array([1,1,2,3,5,6,9,8])\r\n",
        "\r\n",
        "print(np.where(A == B))"
      ],
      "execution_count": 15,
      "outputs": [
        {
          "output_type": "stream",
          "text": [
            "(array([0, 4, 5, 7]),)\n"
          ],
          "name": "stdout"
        }
      ]
    },
    {
      "cell_type": "markdown",
      "metadata": {
        "id": "AsozRacX9D40"
      },
      "source": [
        "13. Get all items between 5 and 10 from an array."
      ]
    },
    {
      "cell_type": "code",
      "metadata": {
        "id": "Ua6SsMGx9EI5",
        "colab": {
          "base_uri": "https://localhost:8080/"
        },
        "outputId": "22cd9df3-f239-49d6-ba10-7af2932c45eb"
      },
      "source": [
        "import numpy as np\r\n",
        "A=np.arange(1,20)\r\n",
        "\r\n",
        "print(np.where((A>5) & (A<10)))\r\n",
        "#print(np.where(np.logical_and(A>5, A<10)))"
      ],
      "execution_count": 19,
      "outputs": [
        {
          "output_type": "stream",
          "text": [
            "(array([5, 6, 7, 8]),)\n"
          ],
          "name": "stdout"
        }
      ]
    },
    {
      "cell_type": "markdown",
      "metadata": {
        "id": "tr8xgnXT9IS1"
      },
      "source": [
        "14. For a 1D array with numeric values, find minimum, maximum, mean, median, standard deviation, 5th and 95th percentile, unique values, count of unique values, and the most frequent value."
      ]
    },
    {
      "cell_type": "code",
      "metadata": {
        "id": "-jwlHdym9Icn",
        "colab": {
          "base_uri": "https://localhost:8080/"
        },
        "outputId": "40716a82-047d-4aa9-9698-29ed7535760c"
      },
      "source": [
        "import numpy as np\r\n",
        "import statistics\r\n",
        "A=np.arange(10,20)\r\n",
        "A = np.concatenate((A, np.arange(1,15),[10]))\r\n",
        "A=np.sort(A)\r\n",
        "print(np.amin(A))\r\n",
        "print(np.amax(A))\r\n",
        "print(np.mean(A))\r\n",
        "print(np.median(A))\r\n",
        "print(np.std(A))\r\n",
        "print(np.percentile(A,5))\r\n",
        "print(np.percentile(A,95))\r\n",
        "print(np.unique(A))\r\n",
        "print(len(np.unique(A)))\r\n",
        "print(statistics.mode(A))"
      ],
      "execution_count": null,
      "outputs": [
        {
          "output_type": "stream",
          "text": [
            "1\n",
            "19\n",
            "10.4\n",
            "11.0\n",
            "4.882622246293481\n",
            "2.2\n",
            "17.799999999999997\n",
            "[ 1  2  3  4  5  6  7  8  9 10 11 12 13 14 15 16 17 18 19]\n",
            "19\n",
            "10\n"
          ],
          "name": "stdout"
        }
      ]
    },
    {
      "cell_type": "markdown",
      "metadata": {
        "id": "Jinlw4rh9MTo"
      },
      "source": [
        "15. Write a NumPy program to create a 10x10 matrix, in which all the elements on the borders should be equal to 1, and rest others should be 0."
      ]
    },
    {
      "cell_type": "code",
      "metadata": {
        "id": "oFCLBkid9MkM",
        "colab": {
          "base_uri": "https://localhost:8080/"
        },
        "outputId": "5a903816-0b6a-4cdc-ef49-60f632852e86"
      },
      "source": [
        "import numpy as np\r\n",
        "A = np.ones((10, 10))\r\n",
        "A[1:-1, 1:-1] = 0\r\n",
        "print(x)"
      ],
      "execution_count": null,
      "outputs": [
        {
          "output_type": "stream",
          "text": [
            "[[1. 1. 1. 1. 1. 1. 1. 1. 1. 1.]\n",
            " [1. 0. 0. 0. 0. 0. 0. 0. 0. 1.]\n",
            " [1. 0. 0. 0. 0. 0. 0. 0. 0. 1.]\n",
            " [1. 0. 0. 0. 0. 0. 0. 0. 0. 1.]\n",
            " [1. 0. 0. 0. 0. 0. 0. 0. 0. 1.]\n",
            " [1. 0. 0. 0. 0. 0. 0. 0. 0. 1.]\n",
            " [1. 0. 0. 0. 0. 0. 0. 0. 0. 1.]\n",
            " [1. 0. 0. 0. 0. 0. 0. 0. 0. 1.]\n",
            " [1. 0. 0. 0. 0. 0. 0. 0. 0. 1.]\n",
            " [1. 1. 1. 1. 1. 1. 1. 1. 1. 1.]]\n"
          ],
          "name": "stdout"
        }
      ]
    },
    {
      "cell_type": "markdown",
      "metadata": {
        "id": "ld0qmfZ89bJ6"
      },
      "source": [
        "16. Write a NumPy program to create a 5x5 zero matrix with elements on the main diagonal equal to 1, 2, 3, 4, 5"
      ]
    },
    {
      "cell_type": "code",
      "metadata": {
        "id": "wlVMlFuZ9bYV",
        "colab": {
          "base_uri": "https://localhost:8080/"
        },
        "outputId": "5d7c30e1-965a-4903-9e58-a98e6c28aca1"
      },
      "source": [
        "import numpy as np\r\n",
        "#A = np.eye(5)\r\n",
        "A=np.diagflat([1,2,3,4,5])\r\n",
        "print(A)"
      ],
      "execution_count": null,
      "outputs": [
        {
          "output_type": "stream",
          "text": [
            "[[1 0 0 0 0]\n",
            " [0 2 0 0 0]\n",
            " [0 0 3 0 0]\n",
            " [0 0 0 4 0]\n",
            " [0 0 0 0 5]]\n"
          ],
          "name": "stdout"
        }
      ]
    },
    {
      "cell_type": "markdown",
      "metadata": {
        "id": "51VYGFvr9dMs"
      },
      "source": [
        "17. Count the number of elements in a numpy array which are greater than 10. Further, multiply all such elements with value 10. "
      ]
    },
    {
      "cell_type": "code",
      "metadata": {
        "id": "0aIe2MOB9dci",
        "colab": {
          "base_uri": "https://localhost:8080/"
        },
        "outputId": "50c03153-6cdc-4919-b906-53997b14e28c"
      },
      "source": [
        "import numpy as np\r\n",
        "A=np.arange(10,20)\r\n",
        "A = np.concatenate((A, np.arange(1,15),[10]))\r\n",
        "print(np.count_nonzero(A>10))\r\n",
        "A[np.nonzero(A>10)]=A[np.nonzero(A>10)]*10\r\n",
        "print(A)"
      ],
      "execution_count": null,
      "outputs": [
        {
          "output_type": "stream",
          "text": [
            "13\n",
            "[ 10 110 120 130 140 150 160 170 180 190   1   2   3   4   5   6   7   8\n",
            "   9  10 110 120 130 140  10]\n"
          ],
          "name": "stdout"
        }
      ]
    }
  ]
}